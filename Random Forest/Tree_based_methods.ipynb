{
  "nbformat": 4,
  "nbformat_minor": 0,
  "metadata": {
    "colab": {
      "name": "Copy of B1.1.8 Tree-based methods student sheet_old.ipynb",
      "provenance": [],
      "collapsed_sections": []
    },
    "kernelspec": {
      "name": "python3",
      "display_name": "Python 3"
    }
  },
  "cells": [
    {
      "cell_type": "markdown",
      "metadata": {
        "id": "Iaa3JpskeOZ0"
      },
      "source": [
        "# Tree-based Methods\n",
        "We are going to see in this practice how to build different models (simple tree, random forest...) for a classification problem. \n",
        "\n",
        "For this practice we are using \"adult\" dataset that we extracted from [UCI Machine Learning Repository](https://archive.ics.uci.edu/ml/index.php) of open source datasets. This site provides a lot of datasets which can be very useful to build simple models on real data as we are going to do during this practice.\n",
        "\n",
        "\n"
      ]
    },
    {
      "cell_type": "markdown",
      "metadata": {
        "id": "YB6MUWrt2EuW"
      },
      "source": [
        "## Importing data \n",
        "\n",
        "The prediction task we have is to determine if a person makes more than 50K a year based on multiple feature variables: age, educational level, workclass, sex, race...\n",
        "\n",
        "We have provided the list of column names below. \n",
        "\n",
        "**1- Import train and test datasets from the urls:**\n",
        "\n",
        "train_set:  https://archive.ics.uci.edu/ml/machine-learning-databases/adult/adult.data\n",
        "\n",
        "test_set: https://archive.ics.uci.edu/ml/machine-learning-databases/adult/adult.test\n",
        "\n",
        "Make sure you give the column names provided in the list *names*\n"
      ]
    },
    {
      "cell_type": "code",
      "metadata": {
        "id": "UAWLRn0-eNp7"
      },
      "source": [
        "import pandas as pd\n",
        "column_names = [\"age\", \"workclass\",\"fnlwgt\", \"education\",\"education-num\", \"marital-status\", \"occupation\", \"relationship\",\n",
        "         \"race\",\"sex\", \"capital-gain\", \"capital-loss\",\"hours-per-week\",\"native-country\",\"income\"]\n",
        "train_data = pd.read_csv(\"https://archive.ics.uci.edu/ml/machine-learning-databases/adult/adult.data\", names = column_names)\n",
        "test_data = pd.read_csv(\"https://archive.ics.uci.edu/ml/machine-learning-databases/adult/adult.test\", names = column_names)\n"
      ],
      "execution_count": 2,
      "outputs": []
    },
    {
      "cell_type": "markdown",
      "metadata": {
        "id": "ukMYqHXNkUwq"
      },
      "source": [
        "## Data preprocessing\n",
        "\n",
        "Take a look at you at the two datasets. What do you notice on the test data ? Make the necessary changes. "
      ]
    },
    {
      "cell_type": "code",
      "metadata": {
        "id": "zJz69w1clEsA",
        "colab": {
          "base_uri": "https://localhost:8080/",
          "height": 306
        },
        "outputId": "82548f40-fb49-49c2-c160-99b447a48180"
      },
      "source": [
        "# train dataset\n",
        "train_data.head()"
      ],
      "execution_count": 3,
      "outputs": [
        {
          "output_type": "execute_result",
          "data": {
            "text/html": [
              "<div>\n",
              "<style scoped>\n",
              "    .dataframe tbody tr th:only-of-type {\n",
              "        vertical-align: middle;\n",
              "    }\n",
              "\n",
              "    .dataframe tbody tr th {\n",
              "        vertical-align: top;\n",
              "    }\n",
              "\n",
              "    .dataframe thead th {\n",
              "        text-align: right;\n",
              "    }\n",
              "</style>\n",
              "<table border=\"1\" class=\"dataframe\">\n",
              "  <thead>\n",
              "    <tr style=\"text-align: right;\">\n",
              "      <th></th>\n",
              "      <th>age</th>\n",
              "      <th>workclass</th>\n",
              "      <th>fnlwgt</th>\n",
              "      <th>education</th>\n",
              "      <th>education-num</th>\n",
              "      <th>marital-status</th>\n",
              "      <th>occupation</th>\n",
              "      <th>relationship</th>\n",
              "      <th>race</th>\n",
              "      <th>sex</th>\n",
              "      <th>capital-gain</th>\n",
              "      <th>capital-loss</th>\n",
              "      <th>hours-per-week</th>\n",
              "      <th>native-country</th>\n",
              "      <th>income</th>\n",
              "    </tr>\n",
              "  </thead>\n",
              "  <tbody>\n",
              "    <tr>\n",
              "      <th>0</th>\n",
              "      <td>39</td>\n",
              "      <td>State-gov</td>\n",
              "      <td>77516</td>\n",
              "      <td>Bachelors</td>\n",
              "      <td>13</td>\n",
              "      <td>Never-married</td>\n",
              "      <td>Adm-clerical</td>\n",
              "      <td>Not-in-family</td>\n",
              "      <td>White</td>\n",
              "      <td>Male</td>\n",
              "      <td>2174</td>\n",
              "      <td>0</td>\n",
              "      <td>40</td>\n",
              "      <td>United-States</td>\n",
              "      <td>&lt;=50K</td>\n",
              "    </tr>\n",
              "    <tr>\n",
              "      <th>1</th>\n",
              "      <td>50</td>\n",
              "      <td>Self-emp-not-inc</td>\n",
              "      <td>83311</td>\n",
              "      <td>Bachelors</td>\n",
              "      <td>13</td>\n",
              "      <td>Married-civ-spouse</td>\n",
              "      <td>Exec-managerial</td>\n",
              "      <td>Husband</td>\n",
              "      <td>White</td>\n",
              "      <td>Male</td>\n",
              "      <td>0</td>\n",
              "      <td>0</td>\n",
              "      <td>13</td>\n",
              "      <td>United-States</td>\n",
              "      <td>&lt;=50K</td>\n",
              "    </tr>\n",
              "    <tr>\n",
              "      <th>2</th>\n",
              "      <td>38</td>\n",
              "      <td>Private</td>\n",
              "      <td>215646</td>\n",
              "      <td>HS-grad</td>\n",
              "      <td>9</td>\n",
              "      <td>Divorced</td>\n",
              "      <td>Handlers-cleaners</td>\n",
              "      <td>Not-in-family</td>\n",
              "      <td>White</td>\n",
              "      <td>Male</td>\n",
              "      <td>0</td>\n",
              "      <td>0</td>\n",
              "      <td>40</td>\n",
              "      <td>United-States</td>\n",
              "      <td>&lt;=50K</td>\n",
              "    </tr>\n",
              "    <tr>\n",
              "      <th>3</th>\n",
              "      <td>53</td>\n",
              "      <td>Private</td>\n",
              "      <td>234721</td>\n",
              "      <td>11th</td>\n",
              "      <td>7</td>\n",
              "      <td>Married-civ-spouse</td>\n",
              "      <td>Handlers-cleaners</td>\n",
              "      <td>Husband</td>\n",
              "      <td>Black</td>\n",
              "      <td>Male</td>\n",
              "      <td>0</td>\n",
              "      <td>0</td>\n",
              "      <td>40</td>\n",
              "      <td>United-States</td>\n",
              "      <td>&lt;=50K</td>\n",
              "    </tr>\n",
              "    <tr>\n",
              "      <th>4</th>\n",
              "      <td>28</td>\n",
              "      <td>Private</td>\n",
              "      <td>338409</td>\n",
              "      <td>Bachelors</td>\n",
              "      <td>13</td>\n",
              "      <td>Married-civ-spouse</td>\n",
              "      <td>Prof-specialty</td>\n",
              "      <td>Wife</td>\n",
              "      <td>Black</td>\n",
              "      <td>Female</td>\n",
              "      <td>0</td>\n",
              "      <td>0</td>\n",
              "      <td>40</td>\n",
              "      <td>Cuba</td>\n",
              "      <td>&lt;=50K</td>\n",
              "    </tr>\n",
              "  </tbody>\n",
              "</table>\n",
              "</div>"
            ],
            "text/plain": [
              "   age          workclass  fnlwgt  ... hours-per-week  native-country  income\n",
              "0   39          State-gov   77516  ...             40   United-States   <=50K\n",
              "1   50   Self-emp-not-inc   83311  ...             13   United-States   <=50K\n",
              "2   38            Private  215646  ...             40   United-States   <=50K\n",
              "3   53            Private  234721  ...             40   United-States   <=50K\n",
              "4   28            Private  338409  ...             40            Cuba   <=50K\n",
              "\n",
              "[5 rows x 15 columns]"
            ]
          },
          "metadata": {
            "tags": []
          },
          "execution_count": 3
        }
      ]
    },
    {
      "cell_type": "code",
      "metadata": {
        "id": "cth7Jel2lLAX",
        "colab": {
          "base_uri": "https://localhost:8080/",
          "height": 306
        },
        "outputId": "12835e1e-a582-4c52-c210-466bfae19ee9"
      },
      "source": [
        "# test dataset\n",
        "test_data.head()"
      ],
      "execution_count": 4,
      "outputs": [
        {
          "output_type": "execute_result",
          "data": {
            "text/html": [
              "<div>\n",
              "<style scoped>\n",
              "    .dataframe tbody tr th:only-of-type {\n",
              "        vertical-align: middle;\n",
              "    }\n",
              "\n",
              "    .dataframe tbody tr th {\n",
              "        vertical-align: top;\n",
              "    }\n",
              "\n",
              "    .dataframe thead th {\n",
              "        text-align: right;\n",
              "    }\n",
              "</style>\n",
              "<table border=\"1\" class=\"dataframe\">\n",
              "  <thead>\n",
              "    <tr style=\"text-align: right;\">\n",
              "      <th></th>\n",
              "      <th>age</th>\n",
              "      <th>workclass</th>\n",
              "      <th>fnlwgt</th>\n",
              "      <th>education</th>\n",
              "      <th>education-num</th>\n",
              "      <th>marital-status</th>\n",
              "      <th>occupation</th>\n",
              "      <th>relationship</th>\n",
              "      <th>race</th>\n",
              "      <th>sex</th>\n",
              "      <th>capital-gain</th>\n",
              "      <th>capital-loss</th>\n",
              "      <th>hours-per-week</th>\n",
              "      <th>native-country</th>\n",
              "      <th>income</th>\n",
              "    </tr>\n",
              "  </thead>\n",
              "  <tbody>\n",
              "    <tr>\n",
              "      <th>0</th>\n",
              "      <td>|1x3 Cross validator</td>\n",
              "      <td>NaN</td>\n",
              "      <td>NaN</td>\n",
              "      <td>NaN</td>\n",
              "      <td>NaN</td>\n",
              "      <td>NaN</td>\n",
              "      <td>NaN</td>\n",
              "      <td>NaN</td>\n",
              "      <td>NaN</td>\n",
              "      <td>NaN</td>\n",
              "      <td>NaN</td>\n",
              "      <td>NaN</td>\n",
              "      <td>NaN</td>\n",
              "      <td>NaN</td>\n",
              "      <td>NaN</td>\n",
              "    </tr>\n",
              "    <tr>\n",
              "      <th>1</th>\n",
              "      <td>25</td>\n",
              "      <td>Private</td>\n",
              "      <td>226802.0</td>\n",
              "      <td>11th</td>\n",
              "      <td>7.0</td>\n",
              "      <td>Never-married</td>\n",
              "      <td>Machine-op-inspct</td>\n",
              "      <td>Own-child</td>\n",
              "      <td>Black</td>\n",
              "      <td>Male</td>\n",
              "      <td>0.0</td>\n",
              "      <td>0.0</td>\n",
              "      <td>40.0</td>\n",
              "      <td>United-States</td>\n",
              "      <td>&lt;=50K.</td>\n",
              "    </tr>\n",
              "    <tr>\n",
              "      <th>2</th>\n",
              "      <td>38</td>\n",
              "      <td>Private</td>\n",
              "      <td>89814.0</td>\n",
              "      <td>HS-grad</td>\n",
              "      <td>9.0</td>\n",
              "      <td>Married-civ-spouse</td>\n",
              "      <td>Farming-fishing</td>\n",
              "      <td>Husband</td>\n",
              "      <td>White</td>\n",
              "      <td>Male</td>\n",
              "      <td>0.0</td>\n",
              "      <td>0.0</td>\n",
              "      <td>50.0</td>\n",
              "      <td>United-States</td>\n",
              "      <td>&lt;=50K.</td>\n",
              "    </tr>\n",
              "    <tr>\n",
              "      <th>3</th>\n",
              "      <td>28</td>\n",
              "      <td>Local-gov</td>\n",
              "      <td>336951.0</td>\n",
              "      <td>Assoc-acdm</td>\n",
              "      <td>12.0</td>\n",
              "      <td>Married-civ-spouse</td>\n",
              "      <td>Protective-serv</td>\n",
              "      <td>Husband</td>\n",
              "      <td>White</td>\n",
              "      <td>Male</td>\n",
              "      <td>0.0</td>\n",
              "      <td>0.0</td>\n",
              "      <td>40.0</td>\n",
              "      <td>United-States</td>\n",
              "      <td>&gt;50K.</td>\n",
              "    </tr>\n",
              "    <tr>\n",
              "      <th>4</th>\n",
              "      <td>44</td>\n",
              "      <td>Private</td>\n",
              "      <td>160323.0</td>\n",
              "      <td>Some-college</td>\n",
              "      <td>10.0</td>\n",
              "      <td>Married-civ-spouse</td>\n",
              "      <td>Machine-op-inspct</td>\n",
              "      <td>Husband</td>\n",
              "      <td>Black</td>\n",
              "      <td>Male</td>\n",
              "      <td>7688.0</td>\n",
              "      <td>0.0</td>\n",
              "      <td>40.0</td>\n",
              "      <td>United-States</td>\n",
              "      <td>&gt;50K.</td>\n",
              "    </tr>\n",
              "  </tbody>\n",
              "</table>\n",
              "</div>"
            ],
            "text/plain": [
              "                    age   workclass  ...  native-country   income\n",
              "0  |1x3 Cross validator         NaN  ...             NaN      NaN\n",
              "1                    25     Private  ...   United-States   <=50K.\n",
              "2                    38     Private  ...   United-States   <=50K.\n",
              "3                    28   Local-gov  ...   United-States    >50K.\n",
              "4                    44     Private  ...   United-States    >50K.\n",
              "\n",
              "[5 rows x 15 columns]"
            ]
          },
          "metadata": {
            "tags": []
          },
          "execution_count": 4
        }
      ]
    },
    {
      "cell_type": "code",
      "metadata": {
        "id": "4ikIOFMElezC",
        "colab": {
          "base_uri": "https://localhost:8080/",
          "height": 306
        },
        "outputId": "0f5d88fe-be63-4756-f73e-e90c7d7ae475"
      },
      "source": [
        "# make changes \n",
        "test_data = test_data.drop(0,0) # test_data.drop(index=0,inplace=True)\n",
        "test_data.head()"
      ],
      "execution_count": 5,
      "outputs": [
        {
          "output_type": "execute_result",
          "data": {
            "text/html": [
              "<div>\n",
              "<style scoped>\n",
              "    .dataframe tbody tr th:only-of-type {\n",
              "        vertical-align: middle;\n",
              "    }\n",
              "\n",
              "    .dataframe tbody tr th {\n",
              "        vertical-align: top;\n",
              "    }\n",
              "\n",
              "    .dataframe thead th {\n",
              "        text-align: right;\n",
              "    }\n",
              "</style>\n",
              "<table border=\"1\" class=\"dataframe\">\n",
              "  <thead>\n",
              "    <tr style=\"text-align: right;\">\n",
              "      <th></th>\n",
              "      <th>age</th>\n",
              "      <th>workclass</th>\n",
              "      <th>fnlwgt</th>\n",
              "      <th>education</th>\n",
              "      <th>education-num</th>\n",
              "      <th>marital-status</th>\n",
              "      <th>occupation</th>\n",
              "      <th>relationship</th>\n",
              "      <th>race</th>\n",
              "      <th>sex</th>\n",
              "      <th>capital-gain</th>\n",
              "      <th>capital-loss</th>\n",
              "      <th>hours-per-week</th>\n",
              "      <th>native-country</th>\n",
              "      <th>income</th>\n",
              "    </tr>\n",
              "  </thead>\n",
              "  <tbody>\n",
              "    <tr>\n",
              "      <th>1</th>\n",
              "      <td>25</td>\n",
              "      <td>Private</td>\n",
              "      <td>226802.0</td>\n",
              "      <td>11th</td>\n",
              "      <td>7.0</td>\n",
              "      <td>Never-married</td>\n",
              "      <td>Machine-op-inspct</td>\n",
              "      <td>Own-child</td>\n",
              "      <td>Black</td>\n",
              "      <td>Male</td>\n",
              "      <td>0.0</td>\n",
              "      <td>0.0</td>\n",
              "      <td>40.0</td>\n",
              "      <td>United-States</td>\n",
              "      <td>&lt;=50K.</td>\n",
              "    </tr>\n",
              "    <tr>\n",
              "      <th>2</th>\n",
              "      <td>38</td>\n",
              "      <td>Private</td>\n",
              "      <td>89814.0</td>\n",
              "      <td>HS-grad</td>\n",
              "      <td>9.0</td>\n",
              "      <td>Married-civ-spouse</td>\n",
              "      <td>Farming-fishing</td>\n",
              "      <td>Husband</td>\n",
              "      <td>White</td>\n",
              "      <td>Male</td>\n",
              "      <td>0.0</td>\n",
              "      <td>0.0</td>\n",
              "      <td>50.0</td>\n",
              "      <td>United-States</td>\n",
              "      <td>&lt;=50K.</td>\n",
              "    </tr>\n",
              "    <tr>\n",
              "      <th>3</th>\n",
              "      <td>28</td>\n",
              "      <td>Local-gov</td>\n",
              "      <td>336951.0</td>\n",
              "      <td>Assoc-acdm</td>\n",
              "      <td>12.0</td>\n",
              "      <td>Married-civ-spouse</td>\n",
              "      <td>Protective-serv</td>\n",
              "      <td>Husband</td>\n",
              "      <td>White</td>\n",
              "      <td>Male</td>\n",
              "      <td>0.0</td>\n",
              "      <td>0.0</td>\n",
              "      <td>40.0</td>\n",
              "      <td>United-States</td>\n",
              "      <td>&gt;50K.</td>\n",
              "    </tr>\n",
              "    <tr>\n",
              "      <th>4</th>\n",
              "      <td>44</td>\n",
              "      <td>Private</td>\n",
              "      <td>160323.0</td>\n",
              "      <td>Some-college</td>\n",
              "      <td>10.0</td>\n",
              "      <td>Married-civ-spouse</td>\n",
              "      <td>Machine-op-inspct</td>\n",
              "      <td>Husband</td>\n",
              "      <td>Black</td>\n",
              "      <td>Male</td>\n",
              "      <td>7688.0</td>\n",
              "      <td>0.0</td>\n",
              "      <td>40.0</td>\n",
              "      <td>United-States</td>\n",
              "      <td>&gt;50K.</td>\n",
              "    </tr>\n",
              "    <tr>\n",
              "      <th>5</th>\n",
              "      <td>18</td>\n",
              "      <td>?</td>\n",
              "      <td>103497.0</td>\n",
              "      <td>Some-college</td>\n",
              "      <td>10.0</td>\n",
              "      <td>Never-married</td>\n",
              "      <td>?</td>\n",
              "      <td>Own-child</td>\n",
              "      <td>White</td>\n",
              "      <td>Female</td>\n",
              "      <td>0.0</td>\n",
              "      <td>0.0</td>\n",
              "      <td>30.0</td>\n",
              "      <td>United-States</td>\n",
              "      <td>&lt;=50K.</td>\n",
              "    </tr>\n",
              "  </tbody>\n",
              "</table>\n",
              "</div>"
            ],
            "text/plain": [
              "  age   workclass    fnlwgt  ... hours-per-week  native-country   income\n",
              "1  25     Private  226802.0  ...           40.0   United-States   <=50K.\n",
              "2  38     Private   89814.0  ...           50.0   United-States   <=50K.\n",
              "3  28   Local-gov  336951.0  ...           40.0   United-States    >50K.\n",
              "4  44     Private  160323.0  ...           40.0   United-States    >50K.\n",
              "5  18           ?  103497.0  ...           30.0   United-States   <=50K.\n",
              "\n",
              "[5 rows x 15 columns]"
            ]
          },
          "metadata": {
            "tags": []
          },
          "execution_count": 5
        }
      ]
    },
    {
      "cell_type": "markdown",
      "metadata": {
        "id": "kBIjGEw7py9W"
      },
      "source": [
        "**3-The variable to be learned is \"income\". \n",
        "Get all its the possible values from training and test datasets.** \n",
        "Tip: use the function unique\n"
      ]
    },
    {
      "cell_type": "code",
      "metadata": {
        "id": "qJNTNhdusUG8",
        "colab": {
          "base_uri": "https://localhost:8080/"
        },
        "outputId": "973e1847-3fd0-4b33-f01e-bfe53ff01c36"
      },
      "source": [
        "print(train_data[\"income\"].unique())\n",
        "print(test_data[\"income\"].unique())"
      ],
      "execution_count": 6,
      "outputs": [
        {
          "output_type": "stream",
          "text": [
            "[' <=50K' ' >50K']\n",
            "[' <=50K.' ' >50K.']\n"
          ],
          "name": "stdout"
        }
      ]
    },
    {
      "cell_type": "markdown",
      "metadata": {
        "id": "A1XaiyVgssBv"
      },
      "source": [
        "We will now transform the \"income\" variable to a binary one: 1 if  the income is <=50K and 0 otherwise. \n",
        "\n",
        "**4-Write a function binarize() that does the transformation for one string and then apply it to the whole dataset.** \n"
      ]
    },
    {
      "cell_type": "code",
      "metadata": {
        "id": "AgAE82PUtuBy",
        "colab": {
          "base_uri": "https://localhost:8080/"
        },
        "outputId": "3f61f2cd-9a33-4eda-c79f-656100c6c5c4"
      },
      "source": [
        "def binarize(income):\n",
        "    if income ==\" <=50K.\" or income ==\" <=50K\": \n",
        "      return 1\n",
        "    elif income ==\" >50K.\" or income == \" >50K\" :\n",
        "      return 0\n",
        "    else: \n",
        "      return income\n",
        "train_data[\"income\"] = train_data[\"income\"].apply(binarize)\n",
        "test_data[\"income\"] = test_data[\"income\"].apply(binarize)\n",
        "print(train_data[\"income\"])\n",
        "print(test_data[\"income\"])"
      ],
      "execution_count": 7,
      "outputs": [
        {
          "output_type": "stream",
          "text": [
            "0        1\n",
            "1        1\n",
            "2        1\n",
            "3        1\n",
            "4        1\n",
            "        ..\n",
            "32556    1\n",
            "32557    0\n",
            "32558    1\n",
            "32559    1\n",
            "32560    0\n",
            "Name: income, Length: 32561, dtype: int64\n",
            "1        1\n",
            "2        1\n",
            "3        0\n",
            "4        0\n",
            "5        1\n",
            "        ..\n",
            "16277    1\n",
            "16278    1\n",
            "16279    1\n",
            "16280    1\n",
            "16281    0\n",
            "Name: income, Length: 16281, dtype: int64\n"
          ],
          "name": "stdout"
        }
      ]
    },
    {
      "cell_type": "markdown",
      "metadata": {
        "id": "-h5i2aDSuoFl"
      },
      "source": [
        "**5-Remove columns with names \"fnlwgt\", \"education\" training and test datasets. We remove them because education is redundant with \"education-num\"\tand \"fnlwgt\" is not relevant for out model.**"
      ]
    },
    {
      "cell_type": "code",
      "metadata": {
        "id": "0zBPUgpJvK8k"
      },
      "source": [
        "train_data = train_data.drop(columns=[\"fnlwgt\",\"education\"])\n",
        "test_data = test_data.drop(columns =[\"fnlwgt\",\"education\"])"
      ],
      "execution_count": 8,
      "outputs": []
    },
    {
      "cell_type": "code",
      "metadata": {
        "id": "X3gxXVitvXaZ",
        "colab": {
          "base_uri": "https://localhost:8080/",
          "height": 289
        },
        "outputId": "c605b63f-8891-4395-a917-4707f20ab5c6"
      },
      "source": [
        "# check that columns have been removed correctly in train dataset\r\n",
        "train_data.head()"
      ],
      "execution_count": 9,
      "outputs": [
        {
          "output_type": "execute_result",
          "data": {
            "text/html": [
              "<div>\n",
              "<style scoped>\n",
              "    .dataframe tbody tr th:only-of-type {\n",
              "        vertical-align: middle;\n",
              "    }\n",
              "\n",
              "    .dataframe tbody tr th {\n",
              "        vertical-align: top;\n",
              "    }\n",
              "\n",
              "    .dataframe thead th {\n",
              "        text-align: right;\n",
              "    }\n",
              "</style>\n",
              "<table border=\"1\" class=\"dataframe\">\n",
              "  <thead>\n",
              "    <tr style=\"text-align: right;\">\n",
              "      <th></th>\n",
              "      <th>age</th>\n",
              "      <th>workclass</th>\n",
              "      <th>education-num</th>\n",
              "      <th>marital-status</th>\n",
              "      <th>occupation</th>\n",
              "      <th>relationship</th>\n",
              "      <th>race</th>\n",
              "      <th>sex</th>\n",
              "      <th>capital-gain</th>\n",
              "      <th>capital-loss</th>\n",
              "      <th>hours-per-week</th>\n",
              "      <th>native-country</th>\n",
              "      <th>income</th>\n",
              "    </tr>\n",
              "  </thead>\n",
              "  <tbody>\n",
              "    <tr>\n",
              "      <th>0</th>\n",
              "      <td>39</td>\n",
              "      <td>State-gov</td>\n",
              "      <td>13</td>\n",
              "      <td>Never-married</td>\n",
              "      <td>Adm-clerical</td>\n",
              "      <td>Not-in-family</td>\n",
              "      <td>White</td>\n",
              "      <td>Male</td>\n",
              "      <td>2174</td>\n",
              "      <td>0</td>\n",
              "      <td>40</td>\n",
              "      <td>United-States</td>\n",
              "      <td>1</td>\n",
              "    </tr>\n",
              "    <tr>\n",
              "      <th>1</th>\n",
              "      <td>50</td>\n",
              "      <td>Self-emp-not-inc</td>\n",
              "      <td>13</td>\n",
              "      <td>Married-civ-spouse</td>\n",
              "      <td>Exec-managerial</td>\n",
              "      <td>Husband</td>\n",
              "      <td>White</td>\n",
              "      <td>Male</td>\n",
              "      <td>0</td>\n",
              "      <td>0</td>\n",
              "      <td>13</td>\n",
              "      <td>United-States</td>\n",
              "      <td>1</td>\n",
              "    </tr>\n",
              "    <tr>\n",
              "      <th>2</th>\n",
              "      <td>38</td>\n",
              "      <td>Private</td>\n",
              "      <td>9</td>\n",
              "      <td>Divorced</td>\n",
              "      <td>Handlers-cleaners</td>\n",
              "      <td>Not-in-family</td>\n",
              "      <td>White</td>\n",
              "      <td>Male</td>\n",
              "      <td>0</td>\n",
              "      <td>0</td>\n",
              "      <td>40</td>\n",
              "      <td>United-States</td>\n",
              "      <td>1</td>\n",
              "    </tr>\n",
              "    <tr>\n",
              "      <th>3</th>\n",
              "      <td>53</td>\n",
              "      <td>Private</td>\n",
              "      <td>7</td>\n",
              "      <td>Married-civ-spouse</td>\n",
              "      <td>Handlers-cleaners</td>\n",
              "      <td>Husband</td>\n",
              "      <td>Black</td>\n",
              "      <td>Male</td>\n",
              "      <td>0</td>\n",
              "      <td>0</td>\n",
              "      <td>40</td>\n",
              "      <td>United-States</td>\n",
              "      <td>1</td>\n",
              "    </tr>\n",
              "    <tr>\n",
              "      <th>4</th>\n",
              "      <td>28</td>\n",
              "      <td>Private</td>\n",
              "      <td>13</td>\n",
              "      <td>Married-civ-spouse</td>\n",
              "      <td>Prof-specialty</td>\n",
              "      <td>Wife</td>\n",
              "      <td>Black</td>\n",
              "      <td>Female</td>\n",
              "      <td>0</td>\n",
              "      <td>0</td>\n",
              "      <td>40</td>\n",
              "      <td>Cuba</td>\n",
              "      <td>1</td>\n",
              "    </tr>\n",
              "  </tbody>\n",
              "</table>\n",
              "</div>"
            ],
            "text/plain": [
              "   age          workclass  ...  native-country income\n",
              "0   39          State-gov  ...   United-States      1\n",
              "1   50   Self-emp-not-inc  ...   United-States      1\n",
              "2   38            Private  ...   United-States      1\n",
              "3   53            Private  ...   United-States      1\n",
              "4   28            Private  ...            Cuba      1\n",
              "\n",
              "[5 rows x 13 columns]"
            ]
          },
          "metadata": {
            "tags": []
          },
          "execution_count": 9
        }
      ]
    },
    {
      "cell_type": "code",
      "metadata": {
        "id": "AidOeQzpvvCa",
        "colab": {
          "base_uri": "https://localhost:8080/",
          "height": 289
        },
        "outputId": "343959c9-03cb-4250-fbf4-d7c88cc6975b"
      },
      "source": [
        "# and test dataset\r\n",
        "test_data.head()"
      ],
      "execution_count": 10,
      "outputs": [
        {
          "output_type": "execute_result",
          "data": {
            "text/html": [
              "<div>\n",
              "<style scoped>\n",
              "    .dataframe tbody tr th:only-of-type {\n",
              "        vertical-align: middle;\n",
              "    }\n",
              "\n",
              "    .dataframe tbody tr th {\n",
              "        vertical-align: top;\n",
              "    }\n",
              "\n",
              "    .dataframe thead th {\n",
              "        text-align: right;\n",
              "    }\n",
              "</style>\n",
              "<table border=\"1\" class=\"dataframe\">\n",
              "  <thead>\n",
              "    <tr style=\"text-align: right;\">\n",
              "      <th></th>\n",
              "      <th>age</th>\n",
              "      <th>workclass</th>\n",
              "      <th>education-num</th>\n",
              "      <th>marital-status</th>\n",
              "      <th>occupation</th>\n",
              "      <th>relationship</th>\n",
              "      <th>race</th>\n",
              "      <th>sex</th>\n",
              "      <th>capital-gain</th>\n",
              "      <th>capital-loss</th>\n",
              "      <th>hours-per-week</th>\n",
              "      <th>native-country</th>\n",
              "      <th>income</th>\n",
              "    </tr>\n",
              "  </thead>\n",
              "  <tbody>\n",
              "    <tr>\n",
              "      <th>1</th>\n",
              "      <td>25</td>\n",
              "      <td>Private</td>\n",
              "      <td>7.0</td>\n",
              "      <td>Never-married</td>\n",
              "      <td>Machine-op-inspct</td>\n",
              "      <td>Own-child</td>\n",
              "      <td>Black</td>\n",
              "      <td>Male</td>\n",
              "      <td>0.0</td>\n",
              "      <td>0.0</td>\n",
              "      <td>40.0</td>\n",
              "      <td>United-States</td>\n",
              "      <td>1</td>\n",
              "    </tr>\n",
              "    <tr>\n",
              "      <th>2</th>\n",
              "      <td>38</td>\n",
              "      <td>Private</td>\n",
              "      <td>9.0</td>\n",
              "      <td>Married-civ-spouse</td>\n",
              "      <td>Farming-fishing</td>\n",
              "      <td>Husband</td>\n",
              "      <td>White</td>\n",
              "      <td>Male</td>\n",
              "      <td>0.0</td>\n",
              "      <td>0.0</td>\n",
              "      <td>50.0</td>\n",
              "      <td>United-States</td>\n",
              "      <td>1</td>\n",
              "    </tr>\n",
              "    <tr>\n",
              "      <th>3</th>\n",
              "      <td>28</td>\n",
              "      <td>Local-gov</td>\n",
              "      <td>12.0</td>\n",
              "      <td>Married-civ-spouse</td>\n",
              "      <td>Protective-serv</td>\n",
              "      <td>Husband</td>\n",
              "      <td>White</td>\n",
              "      <td>Male</td>\n",
              "      <td>0.0</td>\n",
              "      <td>0.0</td>\n",
              "      <td>40.0</td>\n",
              "      <td>United-States</td>\n",
              "      <td>0</td>\n",
              "    </tr>\n",
              "    <tr>\n",
              "      <th>4</th>\n",
              "      <td>44</td>\n",
              "      <td>Private</td>\n",
              "      <td>10.0</td>\n",
              "      <td>Married-civ-spouse</td>\n",
              "      <td>Machine-op-inspct</td>\n",
              "      <td>Husband</td>\n",
              "      <td>Black</td>\n",
              "      <td>Male</td>\n",
              "      <td>7688.0</td>\n",
              "      <td>0.0</td>\n",
              "      <td>40.0</td>\n",
              "      <td>United-States</td>\n",
              "      <td>0</td>\n",
              "    </tr>\n",
              "    <tr>\n",
              "      <th>5</th>\n",
              "      <td>18</td>\n",
              "      <td>?</td>\n",
              "      <td>10.0</td>\n",
              "      <td>Never-married</td>\n",
              "      <td>?</td>\n",
              "      <td>Own-child</td>\n",
              "      <td>White</td>\n",
              "      <td>Female</td>\n",
              "      <td>0.0</td>\n",
              "      <td>0.0</td>\n",
              "      <td>30.0</td>\n",
              "      <td>United-States</td>\n",
              "      <td>1</td>\n",
              "    </tr>\n",
              "  </tbody>\n",
              "</table>\n",
              "</div>"
            ],
            "text/plain": [
              "  age   workclass  education-num  ... hours-per-week  native-country income\n",
              "1  25     Private            7.0  ...           40.0   United-States      1\n",
              "2  38     Private            9.0  ...           50.0   United-States      1\n",
              "3  28   Local-gov           12.0  ...           40.0   United-States      0\n",
              "4  44     Private           10.0  ...           40.0   United-States      0\n",
              "5  18           ?           10.0  ...           30.0   United-States      1\n",
              "\n",
              "[5 rows x 13 columns]"
            ]
          },
          "metadata": {
            "tags": []
          },
          "execution_count": 10
        }
      ]
    },
    {
      "cell_type": "markdown",
      "metadata": {
        "id": "rhV7Y_gBxdp9"
      },
      "source": [
        "We will continue processing of the data: \n",
        "\n",
        "**6-Check missing values in the data by counting values of each column (use function count() or describe())**"
      ]
    },
    {
      "cell_type": "code",
      "metadata": {
        "id": "6HfpMWivxqcv",
        "colab": {
          "base_uri": "https://localhost:8080/"
        },
        "outputId": "5a3bd403-896f-4ed2-f8e8-52670784a0dd"
      },
      "source": [
        "print(train_data.describe())\n",
        "print(test_data.describe())"
      ],
      "execution_count": 11,
      "outputs": [
        {
          "output_type": "stream",
          "text": [
            "                age  education-num  ...  hours-per-week        income\n",
            "count  32561.000000   32561.000000  ...    32561.000000  32561.000000\n",
            "mean      38.581647      10.080679  ...       40.437456      0.759190\n",
            "std       13.640433       2.572720  ...       12.347429      0.427581\n",
            "min       17.000000       1.000000  ...        1.000000      0.000000\n",
            "25%       28.000000       9.000000  ...       40.000000      1.000000\n",
            "50%       37.000000      10.000000  ...       40.000000      1.000000\n",
            "75%       48.000000      12.000000  ...       45.000000      1.000000\n",
            "max       90.000000      16.000000  ...       99.000000      1.000000\n",
            "\n",
            "[8 rows x 6 columns]\n",
            "       education-num  capital-gain  capital-loss  hours-per-week        income\n",
            "count   16281.000000  16281.000000  16281.000000    16281.000000  16281.000000\n",
            "mean       10.072907   1081.905104     87.899269       40.392236      0.763774\n",
            "std         2.567545   7583.935968    403.105286       12.479332      0.424776\n",
            "min         1.000000      0.000000      0.000000        1.000000      0.000000\n",
            "25%         9.000000      0.000000      0.000000       40.000000      1.000000\n",
            "50%        10.000000      0.000000      0.000000       40.000000      1.000000\n",
            "75%        12.000000      0.000000      0.000000       45.000000      1.000000\n",
            "max        16.000000  99999.000000   3770.000000       99.000000      1.000000\n"
          ],
          "name": "stdout"
        }
      ]
    },
    {
      "cell_type": "markdown",
      "metadata": {
        "id": "Dc1CfXpSGX-r"
      },
      "source": [
        "We also notice that the column age, which supposed to be numeric, is not numeric since it does not appear in describe() of test_data. \n",
        "\n",
        "**7-Change type of this column to integer in test_data.**"
      ]
    },
    {
      "cell_type": "code",
      "metadata": {
        "id": "-Yexydn6Gq3E"
      },
      "source": [
        "test_data[\"age\"] = test_data[\"age\"].astype(int) "
      ],
      "execution_count": 12,
      "outputs": []
    },
    {
      "cell_type": "markdown",
      "metadata": {
        "id": "akirGcE4vxxs"
      },
      "source": [
        "We have finished data cleaning we can move to prepare data for the model.\n",
        "\n",
        "**8- Split train dataset into x_train  and y_train where y_train contains the income and x_train all the other columns.** "
      ]
    },
    {
      "cell_type": "code",
      "metadata": {
        "id": "1kxG2nlfyPDb",
        "colab": {
          "base_uri": "https://localhost:8080/",
          "height": 204
        },
        "outputId": "9381f166-deed-445c-c5b3-6dfab601dad5"
      },
      "source": [
        "x_train = train_data.drop(columns = [\"income\"])\n",
        "x_train.head()"
      ],
      "execution_count": 13,
      "outputs": [
        {
          "output_type": "execute_result",
          "data": {
            "text/html": [
              "<div>\n",
              "<style scoped>\n",
              "    .dataframe tbody tr th:only-of-type {\n",
              "        vertical-align: middle;\n",
              "    }\n",
              "\n",
              "    .dataframe tbody tr th {\n",
              "        vertical-align: top;\n",
              "    }\n",
              "\n",
              "    .dataframe thead th {\n",
              "        text-align: right;\n",
              "    }\n",
              "</style>\n",
              "<table border=\"1\" class=\"dataframe\">\n",
              "  <thead>\n",
              "    <tr style=\"text-align: right;\">\n",
              "      <th></th>\n",
              "      <th>age</th>\n",
              "      <th>workclass</th>\n",
              "      <th>education-num</th>\n",
              "      <th>marital-status</th>\n",
              "      <th>occupation</th>\n",
              "      <th>relationship</th>\n",
              "      <th>race</th>\n",
              "      <th>sex</th>\n",
              "      <th>capital-gain</th>\n",
              "      <th>capital-loss</th>\n",
              "      <th>hours-per-week</th>\n",
              "      <th>native-country</th>\n",
              "    </tr>\n",
              "  </thead>\n",
              "  <tbody>\n",
              "    <tr>\n",
              "      <th>0</th>\n",
              "      <td>39</td>\n",
              "      <td>State-gov</td>\n",
              "      <td>13</td>\n",
              "      <td>Never-married</td>\n",
              "      <td>Adm-clerical</td>\n",
              "      <td>Not-in-family</td>\n",
              "      <td>White</td>\n",
              "      <td>Male</td>\n",
              "      <td>2174</td>\n",
              "      <td>0</td>\n",
              "      <td>40</td>\n",
              "      <td>United-States</td>\n",
              "    </tr>\n",
              "    <tr>\n",
              "      <th>1</th>\n",
              "      <td>50</td>\n",
              "      <td>Self-emp-not-inc</td>\n",
              "      <td>13</td>\n",
              "      <td>Married-civ-spouse</td>\n",
              "      <td>Exec-managerial</td>\n",
              "      <td>Husband</td>\n",
              "      <td>White</td>\n",
              "      <td>Male</td>\n",
              "      <td>0</td>\n",
              "      <td>0</td>\n",
              "      <td>13</td>\n",
              "      <td>United-States</td>\n",
              "    </tr>\n",
              "    <tr>\n",
              "      <th>2</th>\n",
              "      <td>38</td>\n",
              "      <td>Private</td>\n",
              "      <td>9</td>\n",
              "      <td>Divorced</td>\n",
              "      <td>Handlers-cleaners</td>\n",
              "      <td>Not-in-family</td>\n",
              "      <td>White</td>\n",
              "      <td>Male</td>\n",
              "      <td>0</td>\n",
              "      <td>0</td>\n",
              "      <td>40</td>\n",
              "      <td>United-States</td>\n",
              "    </tr>\n",
              "    <tr>\n",
              "      <th>3</th>\n",
              "      <td>53</td>\n",
              "      <td>Private</td>\n",
              "      <td>7</td>\n",
              "      <td>Married-civ-spouse</td>\n",
              "      <td>Handlers-cleaners</td>\n",
              "      <td>Husband</td>\n",
              "      <td>Black</td>\n",
              "      <td>Male</td>\n",
              "      <td>0</td>\n",
              "      <td>0</td>\n",
              "      <td>40</td>\n",
              "      <td>United-States</td>\n",
              "    </tr>\n",
              "    <tr>\n",
              "      <th>4</th>\n",
              "      <td>28</td>\n",
              "      <td>Private</td>\n",
              "      <td>13</td>\n",
              "      <td>Married-civ-spouse</td>\n",
              "      <td>Prof-specialty</td>\n",
              "      <td>Wife</td>\n",
              "      <td>Black</td>\n",
              "      <td>Female</td>\n",
              "      <td>0</td>\n",
              "      <td>0</td>\n",
              "      <td>40</td>\n",
              "      <td>Cuba</td>\n",
              "    </tr>\n",
              "  </tbody>\n",
              "</table>\n",
              "</div>"
            ],
            "text/plain": [
              "   age          workclass  ...  hours-per-week  native-country\n",
              "0   39          State-gov  ...              40   United-States\n",
              "1   50   Self-emp-not-inc  ...              13   United-States\n",
              "2   38            Private  ...              40   United-States\n",
              "3   53            Private  ...              40   United-States\n",
              "4   28            Private  ...              40            Cuba\n",
              "\n",
              "[5 rows x 12 columns]"
            ]
          },
          "metadata": {
            "tags": []
          },
          "execution_count": 13
        }
      ]
    },
    {
      "cell_type": "code",
      "metadata": {
        "id": "wPIXEWbcy-FW",
        "colab": {
          "base_uri": "https://localhost:8080/"
        },
        "outputId": "41335b05-c561-4ff7-846c-bd3f9ff10245"
      },
      "source": [
        "y_train = train_data[\"income\"]\n",
        "y_train.head()"
      ],
      "execution_count": 14,
      "outputs": [
        {
          "output_type": "execute_result",
          "data": {
            "text/plain": [
              "0    1\n",
              "1    1\n",
              "2    1\n",
              "3    1\n",
              "4    1\n",
              "Name: income, dtype: int64"
            ]
          },
          "metadata": {
            "tags": []
          },
          "execution_count": 14
        }
      ]
    },
    {
      "cell_type": "markdown",
      "metadata": {
        "id": "xcTwQD4E4AZS"
      },
      "source": [
        "**9-Do the same thing to the test data.**"
      ]
    },
    {
      "cell_type": "code",
      "metadata": {
        "id": "1ZM18YlJ4FVM"
      },
      "source": [
        "x_test = test_data.drop(columns = [\"income\"])\n",
        "y_test = test_data[\"income\"]\n"
      ],
      "execution_count": 15,
      "outputs": []
    },
    {
      "cell_type": "markdown",
      "metadata": {
        "id": "57P7NAdEzHYT"
      },
      "source": [
        "**10-Try to build a a simple tree using  DecisionTreeClassifier from sklearn.tree and fit it on training data.**\n",
        "\n",
        "\n"
      ]
    },
    {
      "cell_type": "code",
      "metadata": {
        "id": "uACgW3CQzYo6"
      },
      "source": [
        "from sklearn.tree import DecisionTreeClassifier\n",
        "clf = DecisionTreeClassifier()"
      ],
      "execution_count": 16,
      "outputs": []
    },
    {
      "cell_type": "markdown",
      "metadata": {
        "id": "feMSVDMqzeQ9"
      },
      "source": [
        "**11-What is the issue you have encounetered?**\n",
        "\n",
        "\n",
        "\n"
      ]
    },
    {
      "cell_type": "markdown",
      "metadata": {
        "id": "I-0bXHQGHw6w"
      },
      "source": [
        "We are going to test two types of encoders: \n",
        "\n",
        "Label encoder: counts the number (n) of categories we have and then encodes each one of the different possible values with a number between 0 and n-1. \n",
        "This encoder only replaces the original with the encoded data. So the dimension of the data is not changed. \n",
        "\n",
        "Example: \n",
        "\n",
        "We will apply a label encoder!to a list: [\"a\", \"b\", \"b\", \"a\", \"c\"]"
      ]
    },
    {
      "cell_type": "code",
      "metadata": {
        "id": "9CLlB8oAz_9U",
        "colab": {
          "base_uri": "https://localhost:8080/"
        },
        "outputId": "6058d53a-a8df-42a1-c73d-9a18943871ea"
      },
      "source": [
        "from sklearn.preprocessing import LabelEncoder \n",
        "le = LabelEncoder()\n",
        "l = [\"a\", \"b\", \"b\", \"a\", \"c\" ]\n",
        "# We first fit the model to recognize the classes \n",
        "le.fit(l)\n",
        "print(\"The classes are:\", le.classes_)\n",
        "# After fitting the encoder we use it to transform the data \n",
        "le.transform(l)"
      ],
      "execution_count": 17,
      "outputs": [
        {
          "output_type": "stream",
          "text": [
            "The classes are: ['a' 'b' 'c']\n"
          ],
          "name": "stdout"
        },
        {
          "output_type": "execute_result",
          "data": {
            "text/plain": [
              "array([0, 1, 1, 0, 2])"
            ]
          },
          "metadata": {
            "tags": []
          },
          "execution_count": 17
        }
      ]
    },
    {
      "cell_type": "markdown",
      "metadata": {
        "id": "AeZ1JuKAWfpO"
      },
      "source": [
        "A second famous encoder is One Hot encoder: \n",
        "\n",
        "For a givern categorical column every possible value results in a new column. Then, for each row, we put 1 in the column with the name of the category value we have and 0 in the others. \n",
        "\n",
        "We generally have 2 choices to proceed with this type of encoding: \n",
        "\n",
        "*   OneHotEncoder from sklearn.preprocessing\n",
        "*   get_dummies() function from pandas\n",
        "\n",
        "Using the first option creates additional complications when we have both categorical and non categorical variables in our dataset, which is the case here. That's why it is prefereable to use get_dummies. \n",
        "\n",
        "\n",
        "Example: \n",
        "\n",
        "We will apply One Hot encoder to the same list:  [\"a\", \"b\", \"b\", \"a\", \"c\" ]"
      ]
    },
    {
      "cell_type": "code",
      "metadata": {
        "id": "gZpbgj71ZGT2",
        "colab": {
          "base_uri": "https://localhost:8080/",
          "height": 204
        },
        "outputId": "7bcc777c-7560-4313-e361-220594ef6405"
      },
      "source": [
        "import pandas as pd\n",
        "l = [\"a\", \"b\", \"b\", \"a\", \"c\" ]\n",
        "pd.get_dummies(l)"
      ],
      "execution_count": 18,
      "outputs": [
        {
          "output_type": "execute_result",
          "data": {
            "text/html": [
              "<div>\n",
              "<style scoped>\n",
              "    .dataframe tbody tr th:only-of-type {\n",
              "        vertical-align: middle;\n",
              "    }\n",
              "\n",
              "    .dataframe tbody tr th {\n",
              "        vertical-align: top;\n",
              "    }\n",
              "\n",
              "    .dataframe thead th {\n",
              "        text-align: right;\n",
              "    }\n",
              "</style>\n",
              "<table border=\"1\" class=\"dataframe\">\n",
              "  <thead>\n",
              "    <tr style=\"text-align: right;\">\n",
              "      <th></th>\n",
              "      <th>a</th>\n",
              "      <th>b</th>\n",
              "      <th>c</th>\n",
              "    </tr>\n",
              "  </thead>\n",
              "  <tbody>\n",
              "    <tr>\n",
              "      <th>0</th>\n",
              "      <td>1</td>\n",
              "      <td>0</td>\n",
              "      <td>0</td>\n",
              "    </tr>\n",
              "    <tr>\n",
              "      <th>1</th>\n",
              "      <td>0</td>\n",
              "      <td>1</td>\n",
              "      <td>0</td>\n",
              "    </tr>\n",
              "    <tr>\n",
              "      <th>2</th>\n",
              "      <td>0</td>\n",
              "      <td>1</td>\n",
              "      <td>0</td>\n",
              "    </tr>\n",
              "    <tr>\n",
              "      <th>3</th>\n",
              "      <td>1</td>\n",
              "      <td>0</td>\n",
              "      <td>0</td>\n",
              "    </tr>\n",
              "    <tr>\n",
              "      <th>4</th>\n",
              "      <td>0</td>\n",
              "      <td>0</td>\n",
              "      <td>1</td>\n",
              "    </tr>\n",
              "  </tbody>\n",
              "</table>\n",
              "</div>"
            ],
            "text/plain": [
              "   a  b  c\n",
              "0  1  0  0\n",
              "1  0  1  0\n",
              "2  0  1  0\n",
              "3  1  0  0\n",
              "4  0  0  1"
            ]
          },
          "metadata": {
            "tags": []
          },
          "execution_count": 18
        }
      ]
    },
    {
      "cell_type": "markdown",
      "metadata": {
        "id": "SIlLJdo7qM6n"
      },
      "source": [
        "For the information there is also the get_dummies() function from pandas library that provides one hot encoding. It is slightly different in handling some cases, that's why we prefer to use the first method."
      ]
    },
    {
      "cell_type": "markdown",
      "metadata": {
        "id": "sGcJBakH5QTJ"
      },
      "source": [
        "## Building model\n",
        "\n",
        "We have seen that we have to encode the data before training the model.  \n",
        "We will define 2 models: one with label encoding and another with one hot encoding.\n",
        "\n",
        "### Using label encoding\n",
        "\n",
        "Encode train and test data.\n",
        "\n",
        "First we will combine train and data to fit the encoder (otherwise we would have problems transforming fata because of eventual unrecognized categories) \n",
        " \n",
        "\n",
        "**12-Concatenate training and test data and make sure there are no problems.**"
      ]
    },
    {
      "cell_type": "code",
      "metadata": {
        "id": "8GN1CgXZbXg8",
        "colab": {
          "base_uri": "https://localhost:8080/",
          "height": 204
        },
        "outputId": "e406ef4b-69d8-4076-ca29-2ff187ffb46e"
      },
      "source": [
        "from sklearn.preprocessing import LabelEncoder\n",
        "le = LabelEncoder()\n",
        "combined_data = pd.concat([x_train, x_test]).reset_index(drop =True)\n",
        "combined_data.head()\n",
        "len(combined_data)\n",
        "combined_data.head()"
      ],
      "execution_count": 19,
      "outputs": [
        {
          "output_type": "execute_result",
          "data": {
            "text/html": [
              "<div>\n",
              "<style scoped>\n",
              "    .dataframe tbody tr th:only-of-type {\n",
              "        vertical-align: middle;\n",
              "    }\n",
              "\n",
              "    .dataframe tbody tr th {\n",
              "        vertical-align: top;\n",
              "    }\n",
              "\n",
              "    .dataframe thead th {\n",
              "        text-align: right;\n",
              "    }\n",
              "</style>\n",
              "<table border=\"1\" class=\"dataframe\">\n",
              "  <thead>\n",
              "    <tr style=\"text-align: right;\">\n",
              "      <th></th>\n",
              "      <th>age</th>\n",
              "      <th>workclass</th>\n",
              "      <th>education-num</th>\n",
              "      <th>marital-status</th>\n",
              "      <th>occupation</th>\n",
              "      <th>relationship</th>\n",
              "      <th>race</th>\n",
              "      <th>sex</th>\n",
              "      <th>capital-gain</th>\n",
              "      <th>capital-loss</th>\n",
              "      <th>hours-per-week</th>\n",
              "      <th>native-country</th>\n",
              "    </tr>\n",
              "  </thead>\n",
              "  <tbody>\n",
              "    <tr>\n",
              "      <th>0</th>\n",
              "      <td>39</td>\n",
              "      <td>State-gov</td>\n",
              "      <td>13.0</td>\n",
              "      <td>Never-married</td>\n",
              "      <td>Adm-clerical</td>\n",
              "      <td>Not-in-family</td>\n",
              "      <td>White</td>\n",
              "      <td>Male</td>\n",
              "      <td>2174.0</td>\n",
              "      <td>0.0</td>\n",
              "      <td>40.0</td>\n",
              "      <td>United-States</td>\n",
              "    </tr>\n",
              "    <tr>\n",
              "      <th>1</th>\n",
              "      <td>50</td>\n",
              "      <td>Self-emp-not-inc</td>\n",
              "      <td>13.0</td>\n",
              "      <td>Married-civ-spouse</td>\n",
              "      <td>Exec-managerial</td>\n",
              "      <td>Husband</td>\n",
              "      <td>White</td>\n",
              "      <td>Male</td>\n",
              "      <td>0.0</td>\n",
              "      <td>0.0</td>\n",
              "      <td>13.0</td>\n",
              "      <td>United-States</td>\n",
              "    </tr>\n",
              "    <tr>\n",
              "      <th>2</th>\n",
              "      <td>38</td>\n",
              "      <td>Private</td>\n",
              "      <td>9.0</td>\n",
              "      <td>Divorced</td>\n",
              "      <td>Handlers-cleaners</td>\n",
              "      <td>Not-in-family</td>\n",
              "      <td>White</td>\n",
              "      <td>Male</td>\n",
              "      <td>0.0</td>\n",
              "      <td>0.0</td>\n",
              "      <td>40.0</td>\n",
              "      <td>United-States</td>\n",
              "    </tr>\n",
              "    <tr>\n",
              "      <th>3</th>\n",
              "      <td>53</td>\n",
              "      <td>Private</td>\n",
              "      <td>7.0</td>\n",
              "      <td>Married-civ-spouse</td>\n",
              "      <td>Handlers-cleaners</td>\n",
              "      <td>Husband</td>\n",
              "      <td>Black</td>\n",
              "      <td>Male</td>\n",
              "      <td>0.0</td>\n",
              "      <td>0.0</td>\n",
              "      <td>40.0</td>\n",
              "      <td>United-States</td>\n",
              "    </tr>\n",
              "    <tr>\n",
              "      <th>4</th>\n",
              "      <td>28</td>\n",
              "      <td>Private</td>\n",
              "      <td>13.0</td>\n",
              "      <td>Married-civ-spouse</td>\n",
              "      <td>Prof-specialty</td>\n",
              "      <td>Wife</td>\n",
              "      <td>Black</td>\n",
              "      <td>Female</td>\n",
              "      <td>0.0</td>\n",
              "      <td>0.0</td>\n",
              "      <td>40.0</td>\n",
              "      <td>Cuba</td>\n",
              "    </tr>\n",
              "  </tbody>\n",
              "</table>\n",
              "</div>"
            ],
            "text/plain": [
              "   age          workclass  ...  hours-per-week  native-country\n",
              "0   39          State-gov  ...            40.0   United-States\n",
              "1   50   Self-emp-not-inc  ...            13.0   United-States\n",
              "2   38            Private  ...            40.0   United-States\n",
              "3   53            Private  ...            40.0   United-States\n",
              "4   28            Private  ...            40.0            Cuba\n",
              "\n",
              "[5 rows x 12 columns]"
            ]
          },
          "metadata": {
            "tags": []
          },
          "execution_count": 19
        }
      ]
    },
    {
      "cell_type": "markdown",
      "metadata": {
        "id": "PS9hh9HyIXuV"
      },
      "source": [
        "**13- Apply label encoding to combined data.** \n",
        "\n",
        "To avoid having to encode each column independently, dataframe.apply() as indicated after."
      ]
    },
    {
      "cell_type": "code",
      "metadata": {
        "id": "_I8bxINQIqzC",
        "colab": {
          "base_uri": "https://localhost:8080/",
          "height": 204
        },
        "outputId": "c4aa7221-ac06-42ca-d0c6-02140cf3d237"
      },
      "source": [
        "encoded_combined_data = combined_data.apply(le.fit_transform)\n",
        "encoded_combined_data.head()\n"
      ],
      "execution_count": 20,
      "outputs": [
        {
          "output_type": "execute_result",
          "data": {
            "text/html": [
              "<div>\n",
              "<style scoped>\n",
              "    .dataframe tbody tr th:only-of-type {\n",
              "        vertical-align: middle;\n",
              "    }\n",
              "\n",
              "    .dataframe tbody tr th {\n",
              "        vertical-align: top;\n",
              "    }\n",
              "\n",
              "    .dataframe thead th {\n",
              "        text-align: right;\n",
              "    }\n",
              "</style>\n",
              "<table border=\"1\" class=\"dataframe\">\n",
              "  <thead>\n",
              "    <tr style=\"text-align: right;\">\n",
              "      <th></th>\n",
              "      <th>age</th>\n",
              "      <th>workclass</th>\n",
              "      <th>education-num</th>\n",
              "      <th>marital-status</th>\n",
              "      <th>occupation</th>\n",
              "      <th>relationship</th>\n",
              "      <th>race</th>\n",
              "      <th>sex</th>\n",
              "      <th>capital-gain</th>\n",
              "      <th>capital-loss</th>\n",
              "      <th>hours-per-week</th>\n",
              "      <th>native-country</th>\n",
              "    </tr>\n",
              "  </thead>\n",
              "  <tbody>\n",
              "    <tr>\n",
              "      <th>0</th>\n",
              "      <td>22</td>\n",
              "      <td>7</td>\n",
              "      <td>12</td>\n",
              "      <td>4</td>\n",
              "      <td>1</td>\n",
              "      <td>1</td>\n",
              "      <td>4</td>\n",
              "      <td>1</td>\n",
              "      <td>27</td>\n",
              "      <td>0</td>\n",
              "      <td>39</td>\n",
              "      <td>39</td>\n",
              "    </tr>\n",
              "    <tr>\n",
              "      <th>1</th>\n",
              "      <td>33</td>\n",
              "      <td>6</td>\n",
              "      <td>12</td>\n",
              "      <td>2</td>\n",
              "      <td>4</td>\n",
              "      <td>0</td>\n",
              "      <td>4</td>\n",
              "      <td>1</td>\n",
              "      <td>0</td>\n",
              "      <td>0</td>\n",
              "      <td>12</td>\n",
              "      <td>39</td>\n",
              "    </tr>\n",
              "    <tr>\n",
              "      <th>2</th>\n",
              "      <td>21</td>\n",
              "      <td>4</td>\n",
              "      <td>8</td>\n",
              "      <td>0</td>\n",
              "      <td>6</td>\n",
              "      <td>1</td>\n",
              "      <td>4</td>\n",
              "      <td>1</td>\n",
              "      <td>0</td>\n",
              "      <td>0</td>\n",
              "      <td>39</td>\n",
              "      <td>39</td>\n",
              "    </tr>\n",
              "    <tr>\n",
              "      <th>3</th>\n",
              "      <td>36</td>\n",
              "      <td>4</td>\n",
              "      <td>6</td>\n",
              "      <td>2</td>\n",
              "      <td>6</td>\n",
              "      <td>0</td>\n",
              "      <td>2</td>\n",
              "      <td>1</td>\n",
              "      <td>0</td>\n",
              "      <td>0</td>\n",
              "      <td>39</td>\n",
              "      <td>39</td>\n",
              "    </tr>\n",
              "    <tr>\n",
              "      <th>4</th>\n",
              "      <td>11</td>\n",
              "      <td>4</td>\n",
              "      <td>12</td>\n",
              "      <td>2</td>\n",
              "      <td>10</td>\n",
              "      <td>5</td>\n",
              "      <td>2</td>\n",
              "      <td>0</td>\n",
              "      <td>0</td>\n",
              "      <td>0</td>\n",
              "      <td>39</td>\n",
              "      <td>5</td>\n",
              "    </tr>\n",
              "  </tbody>\n",
              "</table>\n",
              "</div>"
            ],
            "text/plain": [
              "   age  workclass  education-num  ...  capital-loss  hours-per-week  native-country\n",
              "0   22          7             12  ...             0              39              39\n",
              "1   33          6             12  ...             0              12              39\n",
              "2   21          4              8  ...             0              39              39\n",
              "3   36          4              6  ...             0              39              39\n",
              "4   11          4             12  ...             0              39               5\n",
              "\n",
              "[5 rows x 12 columns]"
            ]
          },
          "metadata": {
            "tags": []
          },
          "execution_count": 20
        }
      ]
    },
    {
      "cell_type": "markdown",
      "metadata": {
        "id": "upS3rB5jJCKl"
      },
      "source": [
        "**14- Split the data again using training and test size from train_data and test_data.**"
      ]
    },
    {
      "cell_type": "code",
      "metadata": {
        "id": "uA72GzM8JCqv"
      },
      "source": [
        "train_size = x_train.shape[0]\n",
        "test_size = x_test.shape[0]\n",
        "encoded_x_train = encoded_combined_data[:train_size]\n",
        "encoded_x_test = encoded_combined_data[train_size:train_size+test_size]"
      ],
      "execution_count": 21,
      "outputs": []
    },
    {
      "cell_type": "code",
      "metadata": {
        "colab": {
          "base_uri": "https://localhost:8080/",
          "height": 204
        },
        "id": "2A6V4C8zXrYj",
        "outputId": "495faefd-4b49-451b-b84e-3d996be39abd"
      },
      "source": [
        "x_train.head()"
      ],
      "execution_count": 57,
      "outputs": [
        {
          "output_type": "execute_result",
          "data": {
            "text/html": [
              "<div>\n",
              "<style scoped>\n",
              "    .dataframe tbody tr th:only-of-type {\n",
              "        vertical-align: middle;\n",
              "    }\n",
              "\n",
              "    .dataframe tbody tr th {\n",
              "        vertical-align: top;\n",
              "    }\n",
              "\n",
              "    .dataframe thead th {\n",
              "        text-align: right;\n",
              "    }\n",
              "</style>\n",
              "<table border=\"1\" class=\"dataframe\">\n",
              "  <thead>\n",
              "    <tr style=\"text-align: right;\">\n",
              "      <th></th>\n",
              "      <th>age</th>\n",
              "      <th>workclass</th>\n",
              "      <th>education-num</th>\n",
              "      <th>marital-status</th>\n",
              "      <th>occupation</th>\n",
              "      <th>relationship</th>\n",
              "      <th>race</th>\n",
              "      <th>sex</th>\n",
              "      <th>capital-gain</th>\n",
              "      <th>capital-loss</th>\n",
              "      <th>hours-per-week</th>\n",
              "      <th>native-country</th>\n",
              "    </tr>\n",
              "  </thead>\n",
              "  <tbody>\n",
              "    <tr>\n",
              "      <th>0</th>\n",
              "      <td>39</td>\n",
              "      <td>State-gov</td>\n",
              "      <td>13</td>\n",
              "      <td>Never-married</td>\n",
              "      <td>Adm-clerical</td>\n",
              "      <td>Not-in-family</td>\n",
              "      <td>White</td>\n",
              "      <td>Male</td>\n",
              "      <td>2174</td>\n",
              "      <td>0</td>\n",
              "      <td>40</td>\n",
              "      <td>United-States</td>\n",
              "    </tr>\n",
              "    <tr>\n",
              "      <th>1</th>\n",
              "      <td>50</td>\n",
              "      <td>Self-emp-not-inc</td>\n",
              "      <td>13</td>\n",
              "      <td>Married-civ-spouse</td>\n",
              "      <td>Exec-managerial</td>\n",
              "      <td>Husband</td>\n",
              "      <td>White</td>\n",
              "      <td>Male</td>\n",
              "      <td>0</td>\n",
              "      <td>0</td>\n",
              "      <td>13</td>\n",
              "      <td>United-States</td>\n",
              "    </tr>\n",
              "    <tr>\n",
              "      <th>2</th>\n",
              "      <td>38</td>\n",
              "      <td>Private</td>\n",
              "      <td>9</td>\n",
              "      <td>Divorced</td>\n",
              "      <td>Handlers-cleaners</td>\n",
              "      <td>Not-in-family</td>\n",
              "      <td>White</td>\n",
              "      <td>Male</td>\n",
              "      <td>0</td>\n",
              "      <td>0</td>\n",
              "      <td>40</td>\n",
              "      <td>United-States</td>\n",
              "    </tr>\n",
              "    <tr>\n",
              "      <th>3</th>\n",
              "      <td>53</td>\n",
              "      <td>Private</td>\n",
              "      <td>7</td>\n",
              "      <td>Married-civ-spouse</td>\n",
              "      <td>Handlers-cleaners</td>\n",
              "      <td>Husband</td>\n",
              "      <td>Black</td>\n",
              "      <td>Male</td>\n",
              "      <td>0</td>\n",
              "      <td>0</td>\n",
              "      <td>40</td>\n",
              "      <td>United-States</td>\n",
              "    </tr>\n",
              "    <tr>\n",
              "      <th>4</th>\n",
              "      <td>28</td>\n",
              "      <td>Private</td>\n",
              "      <td>13</td>\n",
              "      <td>Married-civ-spouse</td>\n",
              "      <td>Prof-specialty</td>\n",
              "      <td>Wife</td>\n",
              "      <td>Black</td>\n",
              "      <td>Female</td>\n",
              "      <td>0</td>\n",
              "      <td>0</td>\n",
              "      <td>40</td>\n",
              "      <td>Cuba</td>\n",
              "    </tr>\n",
              "  </tbody>\n",
              "</table>\n",
              "</div>"
            ],
            "text/plain": [
              "   age          workclass  ...  hours-per-week  native-country\n",
              "0   39          State-gov  ...              40   United-States\n",
              "1   50   Self-emp-not-inc  ...              13   United-States\n",
              "2   38            Private  ...              40   United-States\n",
              "3   53            Private  ...              40   United-States\n",
              "4   28            Private  ...              40            Cuba\n",
              "\n",
              "[5 rows x 12 columns]"
            ]
          },
          "metadata": {
            "tags": []
          },
          "execution_count": 57
        }
      ]
    },
    {
      "cell_type": "code",
      "metadata": {
        "id": "ZW6tXYWyXuXu"
      },
      "source": [
        ""
      ],
      "execution_count": null,
      "outputs": []
    },
    {
      "cell_type": "markdown",
      "metadata": {
        "id": "57h4CKQR8u1y"
      },
      "source": [
        "Now we can finally train our model.\n",
        "First we won't use any of the parameters. \n",
        "\n",
        "**15-Fit model using DecisionTreeClassifier function with default parameter values.**"
      ]
    },
    {
      "cell_type": "code",
      "metadata": {
        "id": "LSUNtZUYSWVx"
      },
      "source": [
        "from sklearn.tree import DecisionTreeClassifier\n",
        "\n",
        "model = clf.fit(encoded_x_train,y_train)"
      ],
      "execution_count": 22,
      "outputs": []
    },
    {
      "cell_type": "markdown",
      "metadata": {
        "id": "KAuPPtnR9Uhk"
      },
      "source": [
        "**16- Use the fitted model to predict training data and check accuracy.** \n"
      ]
    },
    {
      "cell_type": "code",
      "metadata": {
        "id": "p6CILpQh9l19",
        "colab": {
          "base_uri": "https://localhost:8080/"
        },
        "outputId": "f07938a8-856c-448a-e29d-7e1cda3ad5b0"
      },
      "source": [
        "from sklearn.metrics import accuracy_score\n",
        "y_train_pred = model.predict(encoded_x_train)\n",
        "print(\"Training accuracy is:\", accuracy_score(y_train,y_train_pred))"
      ],
      "execution_count": 23,
      "outputs": [
        {
          "output_type": "stream",
          "text": [
            "Training accuracy is: 0.976413500813857\n"
          ],
          "name": "stdout"
        }
      ]
    },
    {
      "cell_type": "markdown",
      "metadata": {
        "id": "Mx0uBQIT_CpL"
      },
      "source": [
        "Our algorithm has an excellent accuracy on training data. \n",
        "\n",
        "**17-Predict now test data and compute accuracy. Compare training accuracy and test accuracy. What is the conclusion we can make ?** \n"
      ]
    },
    {
      "cell_type": "code",
      "metadata": {
        "id": "1NanWvlj_VnQ",
        "colab": {
          "base_uri": "https://localhost:8080/"
        },
        "outputId": "c08c27a5-00a2-4a9f-d1d8-8fa337406f27"
      },
      "source": [
        "y_test_pred = model.predict(encoded_x_test)\n",
        "print(\"Test accuracy is:\", accuracy_score(y_test,y_test_pred))"
      ],
      "execution_count": 24,
      "outputs": [
        {
          "output_type": "stream",
          "text": [
            "Test accuracy is: 0.8118051716725017\n"
          ],
          "name": "stdout"
        }
      ]
    },
    {
      "cell_type": "markdown",
      "metadata": {
        "id": "rvJJkTbVXqdX"
      },
      "source": [
        "### Using One Hot Encoder\n",
        "\n",
        "Now we are going to do the same steps  but using one hot encoding. As we have said before we prefer to use get_dummies function. \n",
        "\n",
        "**18- Encode data using One Hot Encoding and split data to test and train**\n"
      ]
    },
    {
      "cell_type": "code",
      "metadata": {
        "id": "hkOJuN_qHZF2",
        "colab": {
          "base_uri": "https://localhost:8080/",
          "height": 204
        },
        "outputId": "c0b31c8a-38c4-4305-cb92-9a1ff70f5a6b"
      },
      "source": [
        "ncoded_combined_data = pd.get_dummies(combined_data)\n",
        "# split the data to again to train and test\n",
        "encoded_x_train = encoded_combined_data[:train_size]\n",
        "encoded_x_test = encoded_combined_data[train_size:train_size+test_size]\n",
        "encoded_combined_data.shape\n",
        "encoded_combined_data.head()"
      ],
      "execution_count": 25,
      "outputs": [
        {
          "output_type": "execute_result",
          "data": {
            "text/html": [
              "<div>\n",
              "<style scoped>\n",
              "    .dataframe tbody tr th:only-of-type {\n",
              "        vertical-align: middle;\n",
              "    }\n",
              "\n",
              "    .dataframe tbody tr th {\n",
              "        vertical-align: top;\n",
              "    }\n",
              "\n",
              "    .dataframe thead th {\n",
              "        text-align: right;\n",
              "    }\n",
              "</style>\n",
              "<table border=\"1\" class=\"dataframe\">\n",
              "  <thead>\n",
              "    <tr style=\"text-align: right;\">\n",
              "      <th></th>\n",
              "      <th>age</th>\n",
              "      <th>workclass</th>\n",
              "      <th>education-num</th>\n",
              "      <th>marital-status</th>\n",
              "      <th>occupation</th>\n",
              "      <th>relationship</th>\n",
              "      <th>race</th>\n",
              "      <th>sex</th>\n",
              "      <th>capital-gain</th>\n",
              "      <th>capital-loss</th>\n",
              "      <th>hours-per-week</th>\n",
              "      <th>native-country</th>\n",
              "    </tr>\n",
              "  </thead>\n",
              "  <tbody>\n",
              "    <tr>\n",
              "      <th>0</th>\n",
              "      <td>22</td>\n",
              "      <td>7</td>\n",
              "      <td>12</td>\n",
              "      <td>4</td>\n",
              "      <td>1</td>\n",
              "      <td>1</td>\n",
              "      <td>4</td>\n",
              "      <td>1</td>\n",
              "      <td>27</td>\n",
              "      <td>0</td>\n",
              "      <td>39</td>\n",
              "      <td>39</td>\n",
              "    </tr>\n",
              "    <tr>\n",
              "      <th>1</th>\n",
              "      <td>33</td>\n",
              "      <td>6</td>\n",
              "      <td>12</td>\n",
              "      <td>2</td>\n",
              "      <td>4</td>\n",
              "      <td>0</td>\n",
              "      <td>4</td>\n",
              "      <td>1</td>\n",
              "      <td>0</td>\n",
              "      <td>0</td>\n",
              "      <td>12</td>\n",
              "      <td>39</td>\n",
              "    </tr>\n",
              "    <tr>\n",
              "      <th>2</th>\n",
              "      <td>21</td>\n",
              "      <td>4</td>\n",
              "      <td>8</td>\n",
              "      <td>0</td>\n",
              "      <td>6</td>\n",
              "      <td>1</td>\n",
              "      <td>4</td>\n",
              "      <td>1</td>\n",
              "      <td>0</td>\n",
              "      <td>0</td>\n",
              "      <td>39</td>\n",
              "      <td>39</td>\n",
              "    </tr>\n",
              "    <tr>\n",
              "      <th>3</th>\n",
              "      <td>36</td>\n",
              "      <td>4</td>\n",
              "      <td>6</td>\n",
              "      <td>2</td>\n",
              "      <td>6</td>\n",
              "      <td>0</td>\n",
              "      <td>2</td>\n",
              "      <td>1</td>\n",
              "      <td>0</td>\n",
              "      <td>0</td>\n",
              "      <td>39</td>\n",
              "      <td>39</td>\n",
              "    </tr>\n",
              "    <tr>\n",
              "      <th>4</th>\n",
              "      <td>11</td>\n",
              "      <td>4</td>\n",
              "      <td>12</td>\n",
              "      <td>2</td>\n",
              "      <td>10</td>\n",
              "      <td>5</td>\n",
              "      <td>2</td>\n",
              "      <td>0</td>\n",
              "      <td>0</td>\n",
              "      <td>0</td>\n",
              "      <td>39</td>\n",
              "      <td>5</td>\n",
              "    </tr>\n",
              "  </tbody>\n",
              "</table>\n",
              "</div>"
            ],
            "text/plain": [
              "   age  workclass  education-num  ...  capital-loss  hours-per-week  native-country\n",
              "0   22          7             12  ...             0              39              39\n",
              "1   33          6             12  ...             0              12              39\n",
              "2   21          4              8  ...             0              39              39\n",
              "3   36          4              6  ...             0              39              39\n",
              "4   11          4             12  ...             0              39               5\n",
              "\n",
              "[5 rows x 12 columns]"
            ]
          },
          "metadata": {
            "tags": []
          },
          "execution_count": 25
        }
      ]
    },
    {
      "cell_type": "markdown",
      "metadata": {
        "id": "t4ueLDeIZE4K"
      },
      "source": [
        "**19- Fit a new model on encoded data.**"
      ]
    },
    {
      "cell_type": "code",
      "metadata": {
        "id": "zi0ki70JYZnp",
        "colab": {
          "base_uri": "https://localhost:8080/"
        },
        "outputId": "85329d17-1ac5-41a2-8ec0-b4f43d77941a"
      },
      "source": [
        "model_2 = DecisionTreeClassifier(random_state=0)\n",
        "model_2.fit(encoded_x_train,y_train)"
      ],
      "execution_count": 26,
      "outputs": [
        {
          "output_type": "execute_result",
          "data": {
            "text/plain": [
              "DecisionTreeClassifier(ccp_alpha=0.0, class_weight=None, criterion='gini',\n",
              "                       max_depth=None, max_features=None, max_leaf_nodes=None,\n",
              "                       min_impurity_decrease=0.0, min_impurity_split=None,\n",
              "                       min_samples_leaf=1, min_samples_split=2,\n",
              "                       min_weight_fraction_leaf=0.0, presort='deprecated',\n",
              "                       random_state=0, splitter='best')"
            ]
          },
          "metadata": {
            "tags": []
          },
          "execution_count": 26
        }
      ]
    },
    {
      "cell_type": "markdown",
      "metadata": {
        "id": "ipR3O6VlLvZ4"
      },
      "source": [
        "**20- Predict train and test labels using the new model and compute accuracy score each time. Comment on results.**\n"
      ]
    },
    {
      "cell_type": "code",
      "metadata": {
        "id": "E6E3tvvIBS4g",
        "colab": {
          "base_uri": "https://localhost:8080/"
        },
        "outputId": "a9db7394-a527-410b-f1d8-09d45e13c711"
      },
      "source": [
        "# Predicting training labels\n",
        "y_train_pred = model_2.predict(encoded_x_train)\n",
        "print(\"Training accuracy is:\", accuracy_score(y_train,y_train_pred))\n",
        "# Predicting test labels\n",
        "y_test_pred = model_2.predict(encoded_x_test)\n",
        "print(\"Test accuracy is:\", accuracy_score(y_test,y_test_pred))\n"
      ],
      "execution_count": 27,
      "outputs": [
        {
          "output_type": "stream",
          "text": [
            "Training accuracy is: 0.976413500813857\n",
            "Test accuracy is: 0.8127264910017812\n"
          ],
          "name": "stdout"
        }
      ]
    },
    {
      "cell_type": "markdown",
      "metadata": {
        "id": "71wrhSU4eFyU"
      },
      "source": [
        "In both encoding methods, we have high training accuracies with significantly lower test accuracies. This means we have some overfitting on our data. \n"
      ]
    },
    {
      "cell_type": "markdown",
      "metadata": {
        "id": "HbJhYm2LE0iU"
      },
      "source": [
        "How do we normally reduce overfitting in case of Decision Tree methods ?\n",
        "\n",
        "The most common way to reduce a tree is by pruning it. However, there is no built-in method that implement s cost complexity pruning for example, so unless if we want to properly define a pruning method we need to do changes that are slightly beyond the objective of this practice. \n",
        "\n",
        "Instead we have a simple alternative which is quite simple: when declaring the model with *DecisionTreeClassifier* function we can add an optional parameter *min_impurity_decrease*. This parameter controls the minimum decrease in criterion to perform a split. This means that if the best split in a given node provides a decrease inferior to this value, we will not allow the split to happen, and the node becomes a leaf node."
      ]
    },
    {
      "cell_type": "markdown",
      "metadata": {
        "id": "YCEIFw1kJzt5"
      },
      "source": [
        "### Improving model\n",
        "\n",
        "**21- Define a function which takes a *min_impurity_decrease* value, trains using this value and returns training and test accuracy scores in a form of a list of 2 values. Test the function with some values.**"
      ]
    },
    {
      "cell_type": "code",
      "metadata": {
        "id": "Duf_f-UGeGDA",
        "colab": {
          "base_uri": "https://localhost:8080/"
        },
        "outputId": "ee2a4ce9-7f22-482d-b909-3096dcc9ac33"
      },
      "source": [
        "def train_pruned_tree(min_decrease):\n",
        "    model_2 = DecisionTreeClassifier(random_state=1, min_impurity_decrease = min_decrease )\n",
        "    model_2.fit(encoded_x_train,y_train)\n",
        "    y_train_pred = model_2.predict(encoded_x_train)\n",
        "    train_accuracy = accuracy_score(y_train,y_train_pred)\n",
        "    y_test_pred = model_2.predict(encoded_x_test)\n",
        "    test_accuracy = accuracy_score(y_test,y_test_pred)  \n",
        "    return ([train_accuracy, test_accuracy])\n",
        "train_pruned_tree(0.01)"
      ],
      "execution_count": 28,
      "outputs": [
        {
          "output_type": "execute_result",
          "data": {
            "text/plain": [
              "[0.8398083596941126, 0.8391376451077943]"
            ]
          },
          "metadata": {
            "tags": []
          },
          "execution_count": 28
        }
      ]
    },
    {
      "cell_type": "markdown",
      "metadata": {
        "id": "IU0c5NRSK7jY"
      },
      "source": [
        "**22- Train multiple models using varying values of *min_decrease* in the function and plot two lines: one for training accuracy scores and another for test accuracy scores.**\n",
        "Use logarithmic scale for *min_decrease*."
      ]
    },
    {
      "cell_type": "code",
      "metadata": {
        "id": "HmQKfCa4j7d9",
        "colab": {
          "base_uri": "https://localhost:8080/",
          "height": 297
        },
        "outputId": "df57ca10-6585-421e-97c3-7e937bad7a71"
      },
      "source": [
        "import numpy as np\n",
        "import matplotlib.pyplot as plt \n",
        "min_decrease_list = 10**(np.array(range(20,-70,-1))/10)\n",
        "a = [train_pruned_tree(min_decrease) for min_decrease in min_decrease_list]\n",
        "b = np.array(a)\n",
        "train_accuracies, test_accuracies = b[:,0],b[:,1]\n",
        "plt.plot(np.log10(min_decrease_list),train_accuracies, ) \n",
        "plt.plot(np.log10(min_decrease_list),test_accuracies )\n",
        "# plt.xscale('log')\n",
        "plt.legend([\"Train\",\"Test\"])\n",
        "plt.xlabel(\"Logarithmic scale of min_decrease\")\n",
        "plt.ylabel(\"Accuracy scores\")\n"
      ],
      "execution_count": 29,
      "outputs": [
        {
          "output_type": "execute_result",
          "data": {
            "text/plain": [
              "Text(0, 0.5, 'Accuracy scores')"
            ]
          },
          "metadata": {
            "tags": []
          },
          "execution_count": 29
        },
        {
          "output_type": "display_data",
          "data": {
            "image/png": "[encoded data removed]",
            "text/plain": [
              "<Figure size 432x288 with 1 Axes>"
            ]
          },
          "metadata": {
            "tags": [],
            "needs_background": "light"
          }
        }
      ]
    },
    {
      "cell_type": "markdown",
      "metadata": {
        "id": "jhkx5bWKRefy"
      },
      "source": [
        " **23- Comment on the results you get and choose an optimal value for *min_decrease*.** \n",
        "\n"
      ]
    },
    {
      "cell_type": "markdown",
      "metadata": {
        "id": "o5gLvhMLVj0c"
      },
      "source": [
        "To complete"
      ]
    },
    {
      "cell_type": "markdown",
      "metadata": {
        "id": "wwAWIDGTWKYf"
      },
      "source": [
        "### Random Forest model\n",
        "\n",
        "We have seen how to improve a simple Decision Tree using varying parameters of the model. However, this is not the most common way to get improve tree based models. A more common method is to use Random Forests. The only reason we might not want random forest is to keep interpretability guaranteed by a single tree.\n",
        "\n",
        "In the same way as before, we will build a Random Forest model. \n",
        "\n",
        "We won't change default parameters in the first place. \n",
        "\n",
        "**24- Train a Random Forest on the data and get training and accuracy scores. Comment on the results.** \n",
        "\n"
      ]
    },
    {
      "cell_type": "code",
      "metadata": {
        "id": "UzF3SnQDNxJO",
        "colab": {
          "base_uri": "https://localhost:8080/"
        },
        "outputId": "2702de0c-1ddc-488a-d80a-00f0ed88c436"
      },
      "source": [
        "from sklearn.ensemble import RandomForestClassifier\n",
        "\n",
        "\n",
        "model_3 = RandomForestClassifier(random_state=0)\n",
        "model_3.fit(encoded_x_train,y_train)\n",
        "\n",
        "y_train_pred = model_3.predict(encoded_x_train)\n",
        "print(\"Training accuracy is:\", accuracy_score(y_train,y_train_pred))\n",
        "\n",
        "y_test_pred = model_3.predict(encoded_x_test)\n",
        "print(\"Test accuracy is:\", accuracy_score(y_test,y_test_pred))"
      ],
      "execution_count": 30,
      "outputs": [
        {
          "output_type": "stream",
          "text": [
            "Training accuracy is: 0.976413500813857\n",
            "Test accuracy is: 0.8519746944290891\n"
          ],
          "name": "stdout"
        }
      ]
    },
    {
      "cell_type": "markdown",
      "metadata": {
        "id": "60VHnfaVXoHr"
      },
      "source": [
        "### Improving model\n",
        "\n"
      ]
    },
    {
      "cell_type": "markdown",
      "metadata": {
        "id": "BfM7JRrdYI3K"
      },
      "source": [
        "There are multiple parameters we can change to improve our Random Forest model. But if we vary all hyperparameters, it might take a very long time to find the optimal combination, thsus we are only going use 3 of them:\n",
        "\n",
        "*   *min_impurity_decrease*: same as before\n",
        "*   *n_estimators*: number of trees in our Random Forest\n",
        "*   *max_features*: number of features we use in each iteration of the Random Forest algorithm (cf. lecture)\n",
        "\n",
        "For  *min_impurity_decrease* we will use the same optimal value as before (it appears it is also optimal here) 0.00001.\n",
        "\n",
        "**25-Implement a Random Forest model using this value.**"
      ]
    },
    {
      "cell_type": "code",
      "metadata": {
        "id": "Y_YEdvWhX6Wq",
        "colab": {
          "base_uri": "https://localhost:8080/"
        },
        "outputId": "af572916-9284-4c25-df4c-5b578f4cd03e"
      },
      "source": [
        "model_3 = RandomForestClassifier(random_state=0, min_impurity_decrease=0.00001)\n",
        "model_3.fit(encoded_x_train,y_train)\n",
        "\n",
        "y_train_pred = model_3.predict(encoded_x_train)\n",
        "print(\"Training accuracy is:\", accuracy_score(y_train,y_train_pred))\n",
        "\n",
        "y_test_pred = model_3.predict(encoded_x_test)\n",
        "print(\"Test accuracy is:\", accuracy_score(y_test,y_test_pred))"
      ],
      "execution_count": 31,
      "outputs": [
        {
          "output_type": "stream",
          "text": [
            "Training accuracy is: 0.9277356346549553\n",
            "Test accuracy is: 0.863091947669062\n"
          ],
          "name": "stdout"
        }
      ]
    },
    {
      "cell_type": "markdown",
      "metadata": {
        "id": "YnuAhOUbcbzk"
      },
      "source": [
        "To find the best combination of hyperarameters we have chosen to change, we are going simply train the model on different combinations and we pick the best combination.\n",
        "\n",
        "**26- Define possible combinations of n_estimators and max_features and use.**\n",
        "\n",
        "Tip: what might be useful is to define a function that a takes a  combination as an input then fits the model and gives accuracy scores as output."
      ]
    },
    {
      "cell_type": "code",
      "metadata": {
        "id": "dYdUcr0NbLGY",
        "colab": {
          "base_uri": "https://localhost:8080/"
        },
        "outputId": "eb12b94f-de66-4d60-c0d7-87131b98dab8"
      },
      "source": [
        "#we define the function just like train_pruned_tree function\n",
        "from tqdm import tqdm\n",
        "\n",
        "def train_for_comb(n_estimators, max_features):\n",
        "    model_2 = RandomForestClassifier(random_state=1, min_impurity_decrease\n",
        "                                     = 0.0001, n_estimators= n_estimators,\n",
        "                                     max_features= max_features )\n",
        "    model_2.fit(encoded_x_train,y_train)\n",
        "    y_train_pred = model_2.predict(encoded_x_train)\n",
        "    train_accuracy = accuracy_score(y_train,y_train_pred)\n",
        "    y_test_pred = model_2.predict(encoded_x_test)\n",
        "    test_accuracy = accuracy_score(y_test,y_test_pred)  \n",
        "    return ([train_accuracy, test_accuracy])\n",
        " \n",
        "n_estimators_list = [50,100,200,300,500]\n",
        "max_features_list = [int(i) for i in np.linspace(1,encoded_x_train.shape[1], 10)]\n",
        "\n",
        "# dictionary where we are going to store accuracy scores for each combination   \n",
        "accuracy_dic ={}\n",
        "\n",
        "# loop to compute all accuracies\n",
        "for n_estimators in tqdm(n_estimators_list):\n",
        "    for max_features in tqdm(max_features_list):\n",
        "        x = train_for_comb(n_estimators, max_features)\n",
        "        accuracy_dic[(n_estimators, max_features)]= x\n",
        "        "
      ],
      "execution_count": 32,
      "outputs": [
        {
          "output_type": "stream",
          "text": [
            "  0%|          | 0/5 [00:00<?, ?it/s]\n",
            "  0%|          | 0/10 [00:00<?, ?it/s]\u001b[A\n",
            " 10%|█         | 1/10 [00:00<00:06,  1.32it/s]\u001b[A\n",
            " 20%|██        | 2/10 [00:01<00:06,  1.21it/s]\u001b[A\n",
            " 30%|███       | 3/10 [00:02<00:06,  1.06it/s]\u001b[A\n",
            " 40%|████      | 4/10 [00:04<00:06,  1.10s/it]\u001b[A\n",
            " 50%|█████     | 5/10 [00:06<00:06,  1.27s/it]\u001b[A\n",
            " 60%|██████    | 6/10 [00:08<00:06,  1.51s/it]\u001b[A\n",
            " 70%|███████   | 7/10 [00:10<00:05,  1.76s/it]\u001b[A\n",
            " 80%|████████  | 8/10 [00:13<00:03,  1.99s/it]\u001b[A\n",
            " 90%|█████████ | 9/10 [00:15<00:02,  2.24s/it]\u001b[A\n",
            "100%|██████████| 10/10 [00:19<00:00,  1.91s/it]\n",
            " 20%|██        | 1/5 [00:19<01:16, 19.09s/it]\n",
            "  0%|          | 0/10 [00:00<?, ?it/s]\u001b[A\n",
            " 10%|█         | 1/10 [00:01<00:13,  1.47s/it]\u001b[A\n",
            " 20%|██        | 2/10 [00:03<00:12,  1.60s/it]\u001b[A\n",
            " 30%|███       | 3/10 [00:05<00:12,  1.85s/it]\u001b[A\n",
            " 40%|████      | 4/10 [00:08<00:12,  2.14s/it]\u001b[A\n",
            " 50%|█████     | 5/10 [00:11<00:12,  2.47s/it]\u001b[A\n",
            " 60%|██████    | 6/10 [00:16<00:11,  2.99s/it]\u001b[A\n",
            " 70%|███████   | 7/10 [00:20<00:10,  3.45s/it]\u001b[A\n",
            " 80%|████████  | 8/10 [00:25<00:07,  3.92s/it]\u001b[A\n",
            " 90%|█████████ | 9/10 [00:31<00:04,  4.41s/it]\u001b[A\n",
            "100%|██████████| 10/10 [00:37<00:00,  3.76s/it]\n",
            " 40%|████      | 2/5 [00:56<01:13, 24.64s/it]\n",
            "  0%|          | 0/10 [00:00<?, ?it/s]\u001b[A\n",
            " 10%|█         | 1/10 [00:02<00:26,  2.91s/it]\u001b[A\n",
            " 20%|██        | 2/10 [00:06<00:25,  3.19s/it]\u001b[A\n",
            " 30%|███       | 3/10 [00:11<00:25,  3.67s/it]\u001b[A\n",
            " 40%|████      | 4/10 [00:17<00:25,  4.28s/it]\u001b[A\n",
            " 50%|█████     | 5/10 [00:23<00:24,  4.95s/it]\u001b[A\n",
            " 60%|██████    | 6/10 [00:32<00:23,  5.98s/it]\u001b[A\n",
            " 70%|███████   | 7/10 [00:41<00:20,  6.91s/it]\u001b[A\n",
            " 80%|████████  | 8/10 [00:51<00:15,  7.91s/it]\u001b[A\n",
            " 90%|█████████ | 9/10 [01:02<00:08,  8.83s/it]\u001b[A\n",
            "100%|██████████| 10/10 [01:15<00:00,  7.53s/it]\n",
            " 60%|██████    | 3/5 [02:11<01:19, 39.84s/it]\n",
            "  0%|          | 0/10 [00:00<?, ?it/s]\u001b[A\n",
            " 10%|█         | 1/10 [00:04<00:39,  4.39s/it]\u001b[A\n",
            " 20%|██        | 2/10 [00:10<00:38,  4.79s/it]\u001b[A\n",
            " 30%|███       | 3/10 [00:17<00:38,  5.51s/it]\u001b[A\n",
            " 40%|████      | 4/10 [00:25<00:38,  6.45s/it]\u001b[A\n",
            " 50%|█████     | 5/10 [00:35<00:37,  7.42s/it]\u001b[A\n",
            " 60%|██████    | 6/10 [00:47<00:35,  8.84s/it]\u001b[A\n",
            " 70%|███████   | 7/10 [01:01<00:30, 10.31s/it]\u001b[A\n",
            " 80%|████████  | 8/10 [01:16<00:23, 11.76s/it]\u001b[A\n",
            " 90%|█████████ | 9/10 [01:33<00:13, 13.13s/it]\u001b[A\n",
            "100%|██████████| 10/10 [01:51<00:00, 11.20s/it]\n",
            " 80%|████████  | 4/5 [04:03<01:01, 61.48s/it]\n",
            "  0%|          | 0/10 [00:00<?, ?it/s]\u001b[A\n",
            " 10%|█         | 1/10 [00:07<01:06,  7.35s/it]\u001b[A\n",
            " 20%|██        | 2/10 [00:16<01:04,  8.03s/it]\u001b[A\n",
            " 30%|███       | 3/10 [00:28<01:04,  9.21s/it]\u001b[A\n",
            " 40%|████      | 4/10 [00:43<01:04, 10.77s/it]\u001b[A\n",
            " 50%|█████     | 5/10 [01:00<01:02, 12.59s/it]\u001b[A\n",
            " 60%|██████    | 6/10 [01:20<00:59, 14.95s/it]\u001b[A\n",
            " 70%|███████   | 7/10 [01:43<00:51, 17.33s/it]\u001b[A\n",
            " 80%|████████  | 8/10 [02:08<00:39, 19.75s/it]\u001b[A\n",
            " 90%|█████████ | 9/10 [02:35<00:21, 21.94s/it]\u001b[A\n",
            "100%|██████████| 10/10 [03:07<00:00, 18.75s/it]\n",
            "100%|██████████| 5/5 [07:11<00:00, 86.29s/it]\n"
          ],
          "name": "stderr"
        }
      ]
    },
    {
      "cell_type": "code",
      "metadata": {
        "colab": {
          "base_uri": "https://localhost:8080/"
        },
        "id": "XM4ecUtQzfXm",
        "outputId": "bc34bdd1-7891-4ab3-8736-fe732b0d284c"
      },
      "source": [
        "curr_max = 0\r\n",
        "for i,j in accuracy_dic:\r\n",
        "  (train, test) = accuracy_dic[(i,j)]\r\n",
        "  if min(train, test) > curr_max:\r\n",
        "    curr_max = min(train, test)\r\n",
        "print(curr_max)    "
      ],
      "execution_count": 33,
      "outputs": [
        {
          "output_type": "stream",
          "text": [
            "0.865978748234138\n"
          ],
          "name": "stdout"
        }
      ]
    },
    {
      "cell_type": "code",
      "metadata": {
        "id": "De6_JV9Uzfmn"
      },
      "source": [
        ""
      ],
      "execution_count": null,
      "outputs": []
    },
    {
      "cell_type": "markdown",
      "metadata": {
        "id": "GTNdPRVySoES"
      },
      "source": [
        "*Optional*\n",
        "\n",
        "**27- Instead of manually looking for the best we can look for the best split. Use GridSearchCV to find it.** \n",
        "\n",
        "For help, consult [documentation](https://scikit-learn.org/stable/modules/generated/sklearn.model_selection.GridSearchCV.html#sklearn.model_selection.GridSearchCV). \n"
      ]
    },
    {
      "cell_type": "code",
      "metadata": {
        "id": "tGgsSs9efWOr",
        "colab": {
          "base_uri": "https://localhost:8080/"
        },
        "outputId": "91fa2640-1d4a-4516-bd20-7e7c7900c682"
      },
      "source": [
        "from sklearn.model_selection import GridSearchCV\n",
        "\n",
        "# use label encoded data \n",
        "\n",
        "from sklearn.model_selection import GridSearchCV\n",
        "\n",
        "n_estimators = [int(i) for i in np.linspace(50,300,3 )]\n",
        "total_features = encoded_x_train.shape[1]\n",
        "max_features =[int(i) for i in np.linspace(1,total_features, 10)]\n",
        "tuned_parameters = {\n",
        "                    'n_estimators': n_estimators,\n",
        "                    'max_features': max_features}\n",
        "from sklearn.model_selection import GridSearchCV\n",
        "\n",
        "rf = RandomForestClassifier()\n",
        "grid_search = GridSearchCV(estimator=rf, param_grid=tuned_parameters, scoring =\"accuracy\")\n",
        "grid_search.fit(encoded_x_train, y_train)\n",
        "\n",
        "print(\"The best combination: \", grid_search.best_params_)\n",
        "\n",
        "y_test_pred = grid_search.predict(encoded_x_test)\n",
        "print(\"Test accuracy is:\", accuracy_score(y_test,y_test_pred))\n",
        "\n"
      ],
      "execution_count": 34,
      "outputs": [
        {
          "output_type": "stream",
          "text": [
            "The best combination:  {'max_features': 4, 'n_estimators': 300}\n",
            "Test accuracy is: 0.8493335790184878\n"
          ],
          "name": "stdout"
        }
      ]
    }
  ]
}