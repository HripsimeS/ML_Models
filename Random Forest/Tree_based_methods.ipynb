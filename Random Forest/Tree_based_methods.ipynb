{
  "nbformat": 4,
  "nbformat_minor": 0,
  "metadata": {
    "colab": {
      "name": "B1.1.8 Tree-based methods teacher sheet_old.ipynb",
      "provenance": [],
      "collapsed_sections": []
    },
    "kernelspec": {
      "name": "python3",
      "display_name": "Python 3"
    },
    "accelerator": "GPU"
  },
  "cells": [
    {
      "cell_type": "markdown",
      "metadata": {
        "id": "Iaa3JpskeOZ0"
      },
      "source": [
        "# Tree-based Methods\n",
        "We are going to see in this practice how to build different models (simple tree, Random Forest...) for a classification problem. \n",
        "\n",
        "For this practice we are using \"adult\" dataset that we extracted from [UCI Machine Learning Repository](https://archive.ics.uci.edu/ml/index.php) of open source datasets. This site provides a lot of datasets which can be very useful to build simple models on real data as we are going to do during this practice.\n",
        "\n",
        "\n"
      ]
    },
    {
      "cell_type": "markdown",
      "metadata": {
        "id": "YB6MUWrt2EuW"
      },
      "source": [
        "## Importing data \n",
        "\n",
        "The prediction task we have is to determine if a person makes more than 50K a year based on multiple feature variables: age, educational level, workclass, sex, race...\n",
        "\n",
        "We have provided the list of column names below. \n",
        "\n",
        "**1- Import train and test datasets from the urls:**\n",
        "\n",
        "train_set:  https://archive.ics.uci.edu/ml/machine-learning-databases/adult/adult.data\n",
        "\n",
        "test_set: https://archive.ics.uci.edu/ml/machine-learning-databases/adult/adult.test\n",
        "\n",
        "Make sure you give the column names provided in the list *names*\n"
      ]
    },
    {
      "cell_type": "code",
      "metadata": {
        "id": "UAWLRn0-eNp7"
      },
      "source": [
        "import pandas as pd\n",
        "\n",
        "column_names = [\"age\", \"workclass\",\"fnlwgt\", \"education\",\"education-num\", \"marital-status\", \"occupation\", \"relationship\",\n",
        "         \"race\",\"sex\", \"capital-gain\", \"capital-loss\",\"hours-per-week\",\"native-country\",\"income\"]\n",
        "\n",
        "train_data = pd.read_csv(\"https://archive.ics.uci.edu/ml/machine-learning-databases/adult/adult.data\", names = column_names)\n",
        "test_data = pd.read_csv(\"https://archive.ics.uci.edu/ml/machine-learning-databases/adult/adult.test\", names = column_names)\n"
      ],
      "execution_count": null,
      "outputs": []
    },
    {
      "cell_type": "markdown",
      "metadata": {
        "id": "ukMYqHXNkUwq"
      },
      "source": [
        "## Data preprocessing\n",
        "\n",
        "**2-Take a look at you at the two datasets. What do you notice on the test data? Make the necessary changes.** "
      ]
    },
    {
      "cell_type": "code",
      "metadata": {
        "id": "zJz69w1clEsA",
        "colab": {
          "base_uri": "https://localhost:8080/",
          "height": 194
        },
        "outputId": "7da66d6a-b307-4a47-b19b-4ceac570e92a"
      },
      "source": [
        "# train dataset\n",
        "train_data.head()"
      ],
      "execution_count": null,
      "outputs": [
        {
          "output_type": "execute_result",
          "data": {
            "text/html": [
              "<div>\n",
              "<style scoped>\n",
              "    .dataframe tbody tr th:only-of-type {\n",
              "        vertical-align: middle;\n",
              "    }\n",
              "\n",
              "    .dataframe tbody tr th {\n",
              "        vertical-align: top;\n",
              "    }\n",
              "\n",
              "    .dataframe thead th {\n",
              "        text-align: right;\n",
              "    }\n",
              "</style>\n",
              "<table border=\"1\" class=\"dataframe\">\n",
              "  <thead>\n",
              "    <tr style=\"text-align: right;\">\n",
              "      <th></th>\n",
              "      <th>age</th>\n",
              "      <th>workclass</th>\n",
              "      <th>fnlwgt</th>\n",
              "      <th>education</th>\n",
              "      <th>education-num</th>\n",
              "      <th>marital-status</th>\n",
              "      <th>occupation</th>\n",
              "      <th>relationship</th>\n",
              "      <th>race</th>\n",
              "      <th>sex</th>\n",
              "      <th>capital-gain</th>\n",
              "      <th>capital-loss</th>\n",
              "      <th>hours-per-week</th>\n",
              "      <th>native-country</th>\n",
              "      <th>income</th>\n",
              "    </tr>\n",
              "  </thead>\n",
              "  <tbody>\n",
              "    <tr>\n",
              "      <th>0</th>\n",
              "      <td>39</td>\n",
              "      <td>State-gov</td>\n",
              "      <td>77516</td>\n",
              "      <td>Bachelors</td>\n",
              "      <td>13</td>\n",
              "      <td>Never-married</td>\n",
              "      <td>Adm-clerical</td>\n",
              "      <td>Not-in-family</td>\n",
              "      <td>White</td>\n",
              "      <td>Male</td>\n",
              "      <td>2174</td>\n",
              "      <td>0</td>\n",
              "      <td>40</td>\n",
              "      <td>United-States</td>\n",
              "      <td>&lt;=50K</td>\n",
              "    </tr>\n",
              "    <tr>\n",
              "      <th>1</th>\n",
              "      <td>50</td>\n",
              "      <td>Self-emp-not-inc</td>\n",
              "      <td>83311</td>\n",
              "      <td>Bachelors</td>\n",
              "      <td>13</td>\n",
              "      <td>Married-civ-spouse</td>\n",
              "      <td>Exec-managerial</td>\n",
              "      <td>Husband</td>\n",
              "      <td>White</td>\n",
              "      <td>Male</td>\n",
              "      <td>0</td>\n",
              "      <td>0</td>\n",
              "      <td>13</td>\n",
              "      <td>United-States</td>\n",
              "      <td>&lt;=50K</td>\n",
              "    </tr>\n",
              "    <tr>\n",
              "      <th>2</th>\n",
              "      <td>38</td>\n",
              "      <td>Private</td>\n",
              "      <td>215646</td>\n",
              "      <td>HS-grad</td>\n",
              "      <td>9</td>\n",
              "      <td>Divorced</td>\n",
              "      <td>Handlers-cleaners</td>\n",
              "      <td>Not-in-family</td>\n",
              "      <td>White</td>\n",
              "      <td>Male</td>\n",
              "      <td>0</td>\n",
              "      <td>0</td>\n",
              "      <td>40</td>\n",
              "      <td>United-States</td>\n",
              "      <td>&lt;=50K</td>\n",
              "    </tr>\n",
              "    <tr>\n",
              "      <th>3</th>\n",
              "      <td>53</td>\n",
              "      <td>Private</td>\n",
              "      <td>234721</td>\n",
              "      <td>11th</td>\n",
              "      <td>7</td>\n",
              "      <td>Married-civ-spouse</td>\n",
              "      <td>Handlers-cleaners</td>\n",
              "      <td>Husband</td>\n",
              "      <td>Black</td>\n",
              "      <td>Male</td>\n",
              "      <td>0</td>\n",
              "      <td>0</td>\n",
              "      <td>40</td>\n",
              "      <td>United-States</td>\n",
              "      <td>&lt;=50K</td>\n",
              "    </tr>\n",
              "    <tr>\n",
              "      <th>4</th>\n",
              "      <td>28</td>\n",
              "      <td>Private</td>\n",
              "      <td>338409</td>\n",
              "      <td>Bachelors</td>\n",
              "      <td>13</td>\n",
              "      <td>Married-civ-spouse</td>\n",
              "      <td>Prof-specialty</td>\n",
              "      <td>Wife</td>\n",
              "      <td>Black</td>\n",
              "      <td>Female</td>\n",
              "      <td>0</td>\n",
              "      <td>0</td>\n",
              "      <td>40</td>\n",
              "      <td>Cuba</td>\n",
              "      <td>&lt;=50K</td>\n",
              "    </tr>\n",
              "  </tbody>\n",
              "</table>\n",
              "</div>"
            ],
            "text/plain": [
              "   age          workclass  fnlwgt  ... hours-per-week  native-country  income\n",
              "0   39          State-gov   77516  ...             40   United-States   <=50K\n",
              "1   50   Self-emp-not-inc   83311  ...             13   United-States   <=50K\n",
              "2   38            Private  215646  ...             40   United-States   <=50K\n",
              "3   53            Private  234721  ...             40   United-States   <=50K\n",
              "4   28            Private  338409  ...             40            Cuba   <=50K\n",
              "\n",
              "[5 rows x 15 columns]"
            ]
          },
          "metadata": {
            "tags": []
          },
          "execution_count": 2
        }
      ]
    },
    {
      "cell_type": "code",
      "metadata": {
        "id": "cth7Jel2lLAX",
        "colab": {
          "base_uri": "https://localhost:8080/",
          "height": 194
        },
        "outputId": "3bf1e346-8153-42c6-9e1a-1091739b37a0"
      },
      "source": [
        "# test dataset\n",
        "test_data.head()"
      ],
      "execution_count": null,
      "outputs": [
        {
          "output_type": "execute_result",
          "data": {
            "text/html": [
              "<div>\n",
              "<style scoped>\n",
              "    .dataframe tbody tr th:only-of-type {\n",
              "        vertical-align: middle;\n",
              "    }\n",
              "\n",
              "    .dataframe tbody tr th {\n",
              "        vertical-align: top;\n",
              "    }\n",
              "\n",
              "    .dataframe thead th {\n",
              "        text-align: right;\n",
              "    }\n",
              "</style>\n",
              "<table border=\"1\" class=\"dataframe\">\n",
              "  <thead>\n",
              "    <tr style=\"text-align: right;\">\n",
              "      <th></th>\n",
              "      <th>age</th>\n",
              "      <th>workclass</th>\n",
              "      <th>fnlwgt</th>\n",
              "      <th>education</th>\n",
              "      <th>education-num</th>\n",
              "      <th>marital-status</th>\n",
              "      <th>occupation</th>\n",
              "      <th>relationship</th>\n",
              "      <th>race</th>\n",
              "      <th>sex</th>\n",
              "      <th>capital-gain</th>\n",
              "      <th>capital-loss</th>\n",
              "      <th>hours-per-week</th>\n",
              "      <th>native-country</th>\n",
              "      <th>income</th>\n",
              "    </tr>\n",
              "  </thead>\n",
              "  <tbody>\n",
              "    <tr>\n",
              "      <th>0</th>\n",
              "      <td>|1x3 Cross validator</td>\n",
              "      <td>NaN</td>\n",
              "      <td>NaN</td>\n",
              "      <td>NaN</td>\n",
              "      <td>NaN</td>\n",
              "      <td>NaN</td>\n",
              "      <td>NaN</td>\n",
              "      <td>NaN</td>\n",
              "      <td>NaN</td>\n",
              "      <td>NaN</td>\n",
              "      <td>NaN</td>\n",
              "      <td>NaN</td>\n",
              "      <td>NaN</td>\n",
              "      <td>NaN</td>\n",
              "      <td>NaN</td>\n",
              "    </tr>\n",
              "    <tr>\n",
              "      <th>1</th>\n",
              "      <td>25</td>\n",
              "      <td>Private</td>\n",
              "      <td>226802.0</td>\n",
              "      <td>11th</td>\n",
              "      <td>7.0</td>\n",
              "      <td>Never-married</td>\n",
              "      <td>Machine-op-inspct</td>\n",
              "      <td>Own-child</td>\n",
              "      <td>Black</td>\n",
              "      <td>Male</td>\n",
              "      <td>0.0</td>\n",
              "      <td>0.0</td>\n",
              "      <td>40.0</td>\n",
              "      <td>United-States</td>\n",
              "      <td>&lt;=50K.</td>\n",
              "    </tr>\n",
              "    <tr>\n",
              "      <th>2</th>\n",
              "      <td>38</td>\n",
              "      <td>Private</td>\n",
              "      <td>89814.0</td>\n",
              "      <td>HS-grad</td>\n",
              "      <td>9.0</td>\n",
              "      <td>Married-civ-spouse</td>\n",
              "      <td>Farming-fishing</td>\n",
              "      <td>Husband</td>\n",
              "      <td>White</td>\n",
              "      <td>Male</td>\n",
              "      <td>0.0</td>\n",
              "      <td>0.0</td>\n",
              "      <td>50.0</td>\n",
              "      <td>United-States</td>\n",
              "      <td>&lt;=50K.</td>\n",
              "    </tr>\n",
              "    <tr>\n",
              "      <th>3</th>\n",
              "      <td>28</td>\n",
              "      <td>Local-gov</td>\n",
              "      <td>336951.0</td>\n",
              "      <td>Assoc-acdm</td>\n",
              "      <td>12.0</td>\n",
              "      <td>Married-civ-spouse</td>\n",
              "      <td>Protective-serv</td>\n",
              "      <td>Husband</td>\n",
              "      <td>White</td>\n",
              "      <td>Male</td>\n",
              "      <td>0.0</td>\n",
              "      <td>0.0</td>\n",
              "      <td>40.0</td>\n",
              "      <td>United-States</td>\n",
              "      <td>&gt;50K.</td>\n",
              "    </tr>\n",
              "    <tr>\n",
              "      <th>4</th>\n",
              "      <td>44</td>\n",
              "      <td>Private</td>\n",
              "      <td>160323.0</td>\n",
              "      <td>Some-college</td>\n",
              "      <td>10.0</td>\n",
              "      <td>Married-civ-spouse</td>\n",
              "      <td>Machine-op-inspct</td>\n",
              "      <td>Husband</td>\n",
              "      <td>Black</td>\n",
              "      <td>Male</td>\n",
              "      <td>7688.0</td>\n",
              "      <td>0.0</td>\n",
              "      <td>40.0</td>\n",
              "      <td>United-States</td>\n",
              "      <td>&gt;50K.</td>\n",
              "    </tr>\n",
              "  </tbody>\n",
              "</table>\n",
              "</div>"
            ],
            "text/plain": [
              "                    age   workclass  ...  native-country   income\n",
              "0  |1x3 Cross validator         NaN  ...             NaN      NaN\n",
              "1                    25     Private  ...   United-States   <=50K.\n",
              "2                    38     Private  ...   United-States   <=50K.\n",
              "3                    28   Local-gov  ...   United-States    >50K.\n",
              "4                    44     Private  ...   United-States    >50K.\n",
              "\n",
              "[5 rows x 15 columns]"
            ]
          },
          "metadata": {
            "tags": []
          },
          "execution_count": 3
        }
      ]
    },
    {
      "cell_type": "code",
      "metadata": {
        "id": "4ikIOFMElezC",
        "colab": {
          "base_uri": "https://localhost:8080/",
          "height": 194
        },
        "outputId": "7339a7b2-d662-46bb-a2f0-dff09d43dbf4"
      },
      "source": [
        "# make changes \n",
        "test_data = test_data.drop(0,0) # test_data.drop(index=0,inplace=True)\n",
        "\n",
        "test_data.head()"
      ],
      "execution_count": null,
      "outputs": [
        {
          "output_type": "execute_result",
          "data": {
            "text/html": [
              "<div>\n",
              "<style scoped>\n",
              "    .dataframe tbody tr th:only-of-type {\n",
              "        vertical-align: middle;\n",
              "    }\n",
              "\n",
              "    .dataframe tbody tr th {\n",
              "        vertical-align: top;\n",
              "    }\n",
              "\n",
              "    .dataframe thead th {\n",
              "        text-align: right;\n",
              "    }\n",
              "</style>\n",
              "<table border=\"1\" class=\"dataframe\">\n",
              "  <thead>\n",
              "    <tr style=\"text-align: right;\">\n",
              "      <th></th>\n",
              "      <th>age</th>\n",
              "      <th>workclass</th>\n",
              "      <th>fnlwgt</th>\n",
              "      <th>education</th>\n",
              "      <th>education-num</th>\n",
              "      <th>marital-status</th>\n",
              "      <th>occupation</th>\n",
              "      <th>relationship</th>\n",
              "      <th>race</th>\n",
              "      <th>sex</th>\n",
              "      <th>capital-gain</th>\n",
              "      <th>capital-loss</th>\n",
              "      <th>hours-per-week</th>\n",
              "      <th>native-country</th>\n",
              "      <th>income</th>\n",
              "    </tr>\n",
              "  </thead>\n",
              "  <tbody>\n",
              "    <tr>\n",
              "      <th>1</th>\n",
              "      <td>25</td>\n",
              "      <td>Private</td>\n",
              "      <td>226802.0</td>\n",
              "      <td>11th</td>\n",
              "      <td>7.0</td>\n",
              "      <td>Never-married</td>\n",
              "      <td>Machine-op-inspct</td>\n",
              "      <td>Own-child</td>\n",
              "      <td>Black</td>\n",
              "      <td>Male</td>\n",
              "      <td>0.0</td>\n",
              "      <td>0.0</td>\n",
              "      <td>40.0</td>\n",
              "      <td>United-States</td>\n",
              "      <td>&lt;=50K.</td>\n",
              "    </tr>\n",
              "    <tr>\n",
              "      <th>2</th>\n",
              "      <td>38</td>\n",
              "      <td>Private</td>\n",
              "      <td>89814.0</td>\n",
              "      <td>HS-grad</td>\n",
              "      <td>9.0</td>\n",
              "      <td>Married-civ-spouse</td>\n",
              "      <td>Farming-fishing</td>\n",
              "      <td>Husband</td>\n",
              "      <td>White</td>\n",
              "      <td>Male</td>\n",
              "      <td>0.0</td>\n",
              "      <td>0.0</td>\n",
              "      <td>50.0</td>\n",
              "      <td>United-States</td>\n",
              "      <td>&lt;=50K.</td>\n",
              "    </tr>\n",
              "    <tr>\n",
              "      <th>3</th>\n",
              "      <td>28</td>\n",
              "      <td>Local-gov</td>\n",
              "      <td>336951.0</td>\n",
              "      <td>Assoc-acdm</td>\n",
              "      <td>12.0</td>\n",
              "      <td>Married-civ-spouse</td>\n",
              "      <td>Protective-serv</td>\n",
              "      <td>Husband</td>\n",
              "      <td>White</td>\n",
              "      <td>Male</td>\n",
              "      <td>0.0</td>\n",
              "      <td>0.0</td>\n",
              "      <td>40.0</td>\n",
              "      <td>United-States</td>\n",
              "      <td>&gt;50K.</td>\n",
              "    </tr>\n",
              "    <tr>\n",
              "      <th>4</th>\n",
              "      <td>44</td>\n",
              "      <td>Private</td>\n",
              "      <td>160323.0</td>\n",
              "      <td>Some-college</td>\n",
              "      <td>10.0</td>\n",
              "      <td>Married-civ-spouse</td>\n",
              "      <td>Machine-op-inspct</td>\n",
              "      <td>Husband</td>\n",
              "      <td>Black</td>\n",
              "      <td>Male</td>\n",
              "      <td>7688.0</td>\n",
              "      <td>0.0</td>\n",
              "      <td>40.0</td>\n",
              "      <td>United-States</td>\n",
              "      <td>&gt;50K.</td>\n",
              "    </tr>\n",
              "    <tr>\n",
              "      <th>5</th>\n",
              "      <td>18</td>\n",
              "      <td>?</td>\n",
              "      <td>103497.0</td>\n",
              "      <td>Some-college</td>\n",
              "      <td>10.0</td>\n",
              "      <td>Never-married</td>\n",
              "      <td>?</td>\n",
              "      <td>Own-child</td>\n",
              "      <td>White</td>\n",
              "      <td>Female</td>\n",
              "      <td>0.0</td>\n",
              "      <td>0.0</td>\n",
              "      <td>30.0</td>\n",
              "      <td>United-States</td>\n",
              "      <td>&lt;=50K.</td>\n",
              "    </tr>\n",
              "  </tbody>\n",
              "</table>\n",
              "</div>"
            ],
            "text/plain": [
              "  age   workclass    fnlwgt  ... hours-per-week  native-country   income\n",
              "1  25     Private  226802.0  ...           40.0   United-States   <=50K.\n",
              "2  38     Private   89814.0  ...           50.0   United-States   <=50K.\n",
              "3  28   Local-gov  336951.0  ...           40.0   United-States    >50K.\n",
              "4  44     Private  160323.0  ...           40.0   United-States    >50K.\n",
              "5  18           ?  103497.0  ...           30.0   United-States   <=50K.\n",
              "\n",
              "[5 rows x 15 columns]"
            ]
          },
          "metadata": {
            "tags": []
          },
          "execution_count": 4
        }
      ]
    },
    {
      "cell_type": "markdown",
      "metadata": {
        "id": "kBIjGEw7py9W"
      },
      "source": [
        "**3-The variable to be learned is \"income\". \n",
        "Get all its the possible values from training and test datasets.** \n",
        "Tip: use the function unique\n"
      ]
    },
    {
      "cell_type": "code",
      "metadata": {
        "id": "qJNTNhdusUG8",
        "colab": {
          "base_uri": "https://localhost:8080/"
        },
        "outputId": "b883c05a-91a9-46fa-c3c3-6d55b955809f"
      },
      "source": [
        "print(train_data[\"income\"].unique())\n",
        "print(test_data[\"income\"].unique())"
      ],
      "execution_count": null,
      "outputs": [
        {
          "output_type": "stream",
          "text": [
            "[' <=50K' ' >50K']\n",
            "[' <=50K.' ' >50K.']\n"
          ],
          "name": "stdout"
        }
      ]
    },
    {
      "cell_type": "markdown",
      "metadata": {
        "id": "A1XaiyVgssBv"
      },
      "source": [
        "We will now transform the \"income\" variable to a binary one: 1 if  the income is <=50K and 0 otherwise. \n",
        "\n",
        "**4-Write a function binarize() that does the transformation for one string and then apply it to the whole dataset.** \n"
      ]
    },
    {
      "cell_type": "code",
      "metadata": {
        "id": "AgAE82PUtuBy",
        "colab": {
          "base_uri": "https://localhost:8080/"
        },
        "outputId": "1704dc0b-b6b2-42b3-c01e-b104f15a087d"
      },
      "source": [
        "def binarize(income):\n",
        "    if income ==\" <=50K.\" or income ==\" <=50K\":  # \"<=50K\" in income\n",
        "      return 1\n",
        "    elif income ==\" >50K.\" or income == \" >50K\" :\n",
        "      return 0\n",
        "    else: \n",
        "      return income\n",
        "    \n",
        "train_data[\"income\"] = train_data[\"income\"].apply(binarize)\n",
        "test_data[\"income\"] = test_data[\"income\"].apply(binarize)\n",
        "\n",
        "print(train_data[\"income\"])\n",
        "print(test_data[\"income\"])"
      ],
      "execution_count": null,
      "outputs": [
        {
          "output_type": "stream",
          "text": [
            "0        1\n",
            "1        1\n",
            "2        1\n",
            "3        1\n",
            "4        1\n",
            "        ..\n",
            "32556    1\n",
            "32557    0\n",
            "32558    1\n",
            "32559    1\n",
            "32560    0\n",
            "Name: income, Length: 32561, dtype: int64\n",
            "1        1\n",
            "2        1\n",
            "3        0\n",
            "4        0\n",
            "5        1\n",
            "        ..\n",
            "16277    1\n",
            "16278    1\n",
            "16279    1\n",
            "16280    1\n",
            "16281    0\n",
            "Name: income, Length: 16281, dtype: int64\n"
          ],
          "name": "stdout"
        }
      ]
    },
    {
      "cell_type": "markdown",
      "metadata": {
        "id": "-h5i2aDSuoFl"
      },
      "source": [
        "**5-Remove columns with names \"fnlwgt\", \"education\" training and test datasets. We remove them because education is redundant with \"education-num\"\tand \"fnlwgt\" is not relevant for out model.**"
      ]
    },
    {
      "cell_type": "code",
      "metadata": {
        "id": "0zBPUgpJvK8k"
      },
      "source": [
        "train_data = train_data.drop(columns=[\"fnlwgt\",\"education\"])\n",
        "test_data = test_data.drop(columns =[\"fnlwgt\",\"education\"])\n"
      ],
      "execution_count": null,
      "outputs": []
    },
    {
      "cell_type": "code",
      "metadata": {
        "id": "X3gxXVitvXaZ",
        "colab": {
          "base_uri": "https://localhost:8080/"
        },
        "outputId": "25464df4-bbd5-4b2a-f500-ca9fd0b0f6b0"
      },
      "source": [
        "# check that columns have been removed correctly in train dataset\n",
        "train_data.head()\n",
        "train_data[\"age\"][1:len(train_data)]"
      ],
      "execution_count": null,
      "outputs": [
        {
          "output_type": "execute_result",
          "data": {
            "text/plain": [
              "1        50\n",
              "2        38\n",
              "3        53\n",
              "4        28\n",
              "5        37\n",
              "         ..\n",
              "32556    27\n",
              "32557    40\n",
              "32558    58\n",
              "32559    22\n",
              "32560    52\n",
              "Name: age, Length: 32560, dtype: int64"
            ]
          },
          "metadata": {
            "tags": []
          },
          "execution_count": 8
        }
      ]
    },
    {
      "cell_type": "code",
      "metadata": {
        "id": "AidOeQzpvvCa",
        "colab": {
          "base_uri": "https://localhost:8080/",
          "height": 194
        },
        "outputId": "8784775e-5de5-4823-8b1a-6fd0653d6464"
      },
      "source": [
        "# and test dataset\n",
        "test_data.head()"
      ],
      "execution_count": null,
      "outputs": [
        {
          "output_type": "execute_result",
          "data": {
            "text/html": [
              "<div>\n",
              "<style scoped>\n",
              "    .dataframe tbody tr th:only-of-type {\n",
              "        vertical-align: middle;\n",
              "    }\n",
              "\n",
              "    .dataframe tbody tr th {\n",
              "        vertical-align: top;\n",
              "    }\n",
              "\n",
              "    .dataframe thead th {\n",
              "        text-align: right;\n",
              "    }\n",
              "</style>\n",
              "<table border=\"1\" class=\"dataframe\">\n",
              "  <thead>\n",
              "    <tr style=\"text-align: right;\">\n",
              "      <th></th>\n",
              "      <th>age</th>\n",
              "      <th>workclass</th>\n",
              "      <th>education-num</th>\n",
              "      <th>marital-status</th>\n",
              "      <th>occupation</th>\n",
              "      <th>relationship</th>\n",
              "      <th>race</th>\n",
              "      <th>sex</th>\n",
              "      <th>capital-gain</th>\n",
              "      <th>capital-loss</th>\n",
              "      <th>hours-per-week</th>\n",
              "      <th>native-country</th>\n",
              "      <th>income</th>\n",
              "    </tr>\n",
              "  </thead>\n",
              "  <tbody>\n",
              "    <tr>\n",
              "      <th>1</th>\n",
              "      <td>25</td>\n",
              "      <td>Private</td>\n",
              "      <td>7.0</td>\n",
              "      <td>Never-married</td>\n",
              "      <td>Machine-op-inspct</td>\n",
              "      <td>Own-child</td>\n",
              "      <td>Black</td>\n",
              "      <td>Male</td>\n",
              "      <td>0.0</td>\n",
              "      <td>0.0</td>\n",
              "      <td>40.0</td>\n",
              "      <td>United-States</td>\n",
              "      <td>1</td>\n",
              "    </tr>\n",
              "    <tr>\n",
              "      <th>2</th>\n",
              "      <td>38</td>\n",
              "      <td>Private</td>\n",
              "      <td>9.0</td>\n",
              "      <td>Married-civ-spouse</td>\n",
              "      <td>Farming-fishing</td>\n",
              "      <td>Husband</td>\n",
              "      <td>White</td>\n",
              "      <td>Male</td>\n",
              "      <td>0.0</td>\n",
              "      <td>0.0</td>\n",
              "      <td>50.0</td>\n",
              "      <td>United-States</td>\n",
              "      <td>1</td>\n",
              "    </tr>\n",
              "    <tr>\n",
              "      <th>3</th>\n",
              "      <td>28</td>\n",
              "      <td>Local-gov</td>\n",
              "      <td>12.0</td>\n",
              "      <td>Married-civ-spouse</td>\n",
              "      <td>Protective-serv</td>\n",
              "      <td>Husband</td>\n",
              "      <td>White</td>\n",
              "      <td>Male</td>\n",
              "      <td>0.0</td>\n",
              "      <td>0.0</td>\n",
              "      <td>40.0</td>\n",
              "      <td>United-States</td>\n",
              "      <td>0</td>\n",
              "    </tr>\n",
              "    <tr>\n",
              "      <th>4</th>\n",
              "      <td>44</td>\n",
              "      <td>Private</td>\n",
              "      <td>10.0</td>\n",
              "      <td>Married-civ-spouse</td>\n",
              "      <td>Machine-op-inspct</td>\n",
              "      <td>Husband</td>\n",
              "      <td>Black</td>\n",
              "      <td>Male</td>\n",
              "      <td>7688.0</td>\n",
              "      <td>0.0</td>\n",
              "      <td>40.0</td>\n",
              "      <td>United-States</td>\n",
              "      <td>0</td>\n",
              "    </tr>\n",
              "    <tr>\n",
              "      <th>5</th>\n",
              "      <td>18</td>\n",
              "      <td>?</td>\n",
              "      <td>10.0</td>\n",
              "      <td>Never-married</td>\n",
              "      <td>?</td>\n",
              "      <td>Own-child</td>\n",
              "      <td>White</td>\n",
              "      <td>Female</td>\n",
              "      <td>0.0</td>\n",
              "      <td>0.0</td>\n",
              "      <td>30.0</td>\n",
              "      <td>United-States</td>\n",
              "      <td>1</td>\n",
              "    </tr>\n",
              "  </tbody>\n",
              "</table>\n",
              "</div>"
            ],
            "text/plain": [
              "  age   workclass  education-num  ... hours-per-week  native-country income\n",
              "1  25     Private            7.0  ...           40.0   United-States      1\n",
              "2  38     Private            9.0  ...           50.0   United-States      1\n",
              "3  28   Local-gov           12.0  ...           40.0   United-States      0\n",
              "4  44     Private           10.0  ...           40.0   United-States      0\n",
              "5  18           ?           10.0  ...           30.0   United-States      1\n",
              "\n",
              "[5 rows x 13 columns]"
            ]
          },
          "metadata": {
            "tags": []
          },
          "execution_count": 9
        }
      ]
    },
    {
      "cell_type": "markdown",
      "metadata": {
        "id": "rhV7Y_gBxdp9"
      },
      "source": [
        "We will continue processing of the data: \n",
        "\n",
        "**6-Check missing values in the data by counting values of each column (use function count() or describe()).**"
      ]
    },
    {
      "cell_type": "code",
      "metadata": {
        "id": "6HfpMWivxqcv",
        "colab": {
          "base_uri": "https://localhost:8080/"
        },
        "outputId": "5c2670ca-95f1-4e7e-e755-7d2067131531"
      },
      "source": [
        "print(train_data.describe())\n",
        "print(test_data.describe())"
      ],
      "execution_count": null,
      "outputs": [
        {
          "output_type": "stream",
          "text": [
            "                age  education-num  ...  hours-per-week        income\n",
            "count  32561.000000   32561.000000  ...    32561.000000  32561.000000\n",
            "mean      38.581647      10.080679  ...       40.437456      0.759190\n",
            "std       13.640433       2.572720  ...       12.347429      0.427581\n",
            "min       17.000000       1.000000  ...        1.000000      0.000000\n",
            "25%       28.000000       9.000000  ...       40.000000      1.000000\n",
            "50%       37.000000      10.000000  ...       40.000000      1.000000\n",
            "75%       48.000000      12.000000  ...       45.000000      1.000000\n",
            "max       90.000000      16.000000  ...       99.000000      1.000000\n",
            "\n",
            "[8 rows x 6 columns]\n",
            "       education-num  capital-gain  capital-loss  hours-per-week        income\n",
            "count   16281.000000  16281.000000  16281.000000    16281.000000  16281.000000\n",
            "mean       10.072907   1081.905104     87.899269       40.392236      0.763774\n",
            "std         2.567545   7583.935968    403.105286       12.479332      0.424776\n",
            "min         1.000000      0.000000      0.000000        1.000000      0.000000\n",
            "25%         9.000000      0.000000      0.000000       40.000000      1.000000\n",
            "50%        10.000000      0.000000      0.000000       40.000000      1.000000\n",
            "75%        12.000000      0.000000      0.000000       45.000000      1.000000\n",
            "max        16.000000  99999.000000   3770.000000       99.000000      1.000000\n"
          ],
          "name": "stdout"
        }
      ]
    },
    {
      "cell_type": "markdown",
      "metadata": {
        "id": "Dc1CfXpSGX-r"
      },
      "source": [
        "We also notice that the column age, which supposed to be numeric, is not numeric since it does not appear in describe() of test_data. \n",
        "\n",
        "**7-What do you notice about the \"age\" column in test dataset? Change its type? Make the necessary changes.**"
      ]
    },
    {
      "cell_type": "code",
      "metadata": {
        "id": "-Yexydn6Gq3E"
      },
      "source": [
        "test_data[\"age\"] = test_data[\"age\"].astype(int) "
      ],
      "execution_count": null,
      "outputs": []
    },
    {
      "cell_type": "markdown",
      "metadata": {
        "id": "akirGcE4vxxs"
      },
      "source": [
        "We have finished data cleaning we can move to prepare data for the model.\n",
        "\n",
        "**8- Split train dataset into x_train  and y_train where y_train contains the income and x_train all the other columns.** "
      ]
    },
    {
      "cell_type": "code",
      "metadata": {
        "id": "1kxG2nlfyPDb",
        "colab": {
          "base_uri": "https://localhost:8080/",
          "height": 194
        },
        "outputId": "8c40bf4f-bbf5-4b72-f848-34a43ad4c0ff"
      },
      "source": [
        "x_train = train_data.drop(columns = [\"income\"])\n",
        "x_train.head()"
      ],
      "execution_count": null,
      "outputs": [
        {
          "output_type": "execute_result",
          "data": {
            "text/html": [
              "<div>\n",
              "<style scoped>\n",
              "    .dataframe tbody tr th:only-of-type {\n",
              "        vertical-align: middle;\n",
              "    }\n",
              "\n",
              "    .dataframe tbody tr th {\n",
              "        vertical-align: top;\n",
              "    }\n",
              "\n",
              "    .dataframe thead th {\n",
              "        text-align: right;\n",
              "    }\n",
              "</style>\n",
              "<table border=\"1\" class=\"dataframe\">\n",
              "  <thead>\n",
              "    <tr style=\"text-align: right;\">\n",
              "      <th></th>\n",
              "      <th>age</th>\n",
              "      <th>workclass</th>\n",
              "      <th>education-num</th>\n",
              "      <th>marital-status</th>\n",
              "      <th>occupation</th>\n",
              "      <th>relationship</th>\n",
              "      <th>race</th>\n",
              "      <th>sex</th>\n",
              "      <th>capital-gain</th>\n",
              "      <th>capital-loss</th>\n",
              "      <th>hours-per-week</th>\n",
              "      <th>native-country</th>\n",
              "    </tr>\n",
              "  </thead>\n",
              "  <tbody>\n",
              "    <tr>\n",
              "      <th>0</th>\n",
              "      <td>39</td>\n",
              "      <td>State-gov</td>\n",
              "      <td>13</td>\n",
              "      <td>Never-married</td>\n",
              "      <td>Adm-clerical</td>\n",
              "      <td>Not-in-family</td>\n",
              "      <td>White</td>\n",
              "      <td>Male</td>\n",
              "      <td>2174</td>\n",
              "      <td>0</td>\n",
              "      <td>40</td>\n",
              "      <td>United-States</td>\n",
              "    </tr>\n",
              "    <tr>\n",
              "      <th>1</th>\n",
              "      <td>50</td>\n",
              "      <td>Self-emp-not-inc</td>\n",
              "      <td>13</td>\n",
              "      <td>Married-civ-spouse</td>\n",
              "      <td>Exec-managerial</td>\n",
              "      <td>Husband</td>\n",
              "      <td>White</td>\n",
              "      <td>Male</td>\n",
              "      <td>0</td>\n",
              "      <td>0</td>\n",
              "      <td>13</td>\n",
              "      <td>United-States</td>\n",
              "    </tr>\n",
              "    <tr>\n",
              "      <th>2</th>\n",
              "      <td>38</td>\n",
              "      <td>Private</td>\n",
              "      <td>9</td>\n",
              "      <td>Divorced</td>\n",
              "      <td>Handlers-cleaners</td>\n",
              "      <td>Not-in-family</td>\n",
              "      <td>White</td>\n",
              "      <td>Male</td>\n",
              "      <td>0</td>\n",
              "      <td>0</td>\n",
              "      <td>40</td>\n",
              "      <td>United-States</td>\n",
              "    </tr>\n",
              "    <tr>\n",
              "      <th>3</th>\n",
              "      <td>53</td>\n",
              "      <td>Private</td>\n",
              "      <td>7</td>\n",
              "      <td>Married-civ-spouse</td>\n",
              "      <td>Handlers-cleaners</td>\n",
              "      <td>Husband</td>\n",
              "      <td>Black</td>\n",
              "      <td>Male</td>\n",
              "      <td>0</td>\n",
              "      <td>0</td>\n",
              "      <td>40</td>\n",
              "      <td>United-States</td>\n",
              "    </tr>\n",
              "    <tr>\n",
              "      <th>4</th>\n",
              "      <td>28</td>\n",
              "      <td>Private</td>\n",
              "      <td>13</td>\n",
              "      <td>Married-civ-spouse</td>\n",
              "      <td>Prof-specialty</td>\n",
              "      <td>Wife</td>\n",
              "      <td>Black</td>\n",
              "      <td>Female</td>\n",
              "      <td>0</td>\n",
              "      <td>0</td>\n",
              "      <td>40</td>\n",
              "      <td>Cuba</td>\n",
              "    </tr>\n",
              "  </tbody>\n",
              "</table>\n",
              "</div>"
            ],
            "text/plain": [
              "   age          workclass  ...  hours-per-week  native-country\n",
              "0   39          State-gov  ...              40   United-States\n",
              "1   50   Self-emp-not-inc  ...              13   United-States\n",
              "2   38            Private  ...              40   United-States\n",
              "3   53            Private  ...              40   United-States\n",
              "4   28            Private  ...              40            Cuba\n",
              "\n",
              "[5 rows x 12 columns]"
            ]
          },
          "metadata": {
            "tags": []
          },
          "execution_count": 12
        }
      ]
    },
    {
      "cell_type": "code",
      "metadata": {
        "id": "wPIXEWbcy-FW",
        "colab": {
          "base_uri": "https://localhost:8080/"
        },
        "outputId": "9d85c90c-33bb-4043-91f6-a6d4c2e89690"
      },
      "source": [
        "y_train = train_data[\"income\"]\n",
        "y_train.head()"
      ],
      "execution_count": null,
      "outputs": [
        {
          "output_type": "execute_result",
          "data": {
            "text/plain": [
              "0    1\n",
              "1    1\n",
              "2    1\n",
              "3    1\n",
              "4    1\n",
              "Name: income, dtype: int64"
            ]
          },
          "metadata": {
            "tags": []
          },
          "execution_count": 13
        }
      ]
    },
    {
      "cell_type": "markdown",
      "metadata": {
        "id": "xcTwQD4E4AZS"
      },
      "source": [
        "**9- Do the same thing to the test data.**"
      ]
    },
    {
      "cell_type": "code",
      "metadata": {
        "id": "1ZM18YlJ4FVM"
      },
      "source": [
        "x_test = test_data.drop(columns = [\"income\"])\n",
        "y_test = test_data[\"income\"]\n"
      ],
      "execution_count": null,
      "outputs": []
    },
    {
      "cell_type": "markdown",
      "metadata": {
        "id": "57P7NAdEzHYT"
      },
      "source": [
        "**10- Try to build a a simple tree using  DecisionTreeClassifier from sklearn.tree and fit it on training data.**\n",
        "\n",
        "\n"
      ]
    },
    {
      "cell_type": "code",
      "metadata": {
        "id": "uACgW3CQzYo6"
      },
      "source": [
        "#from sklearn.tree import DecisionTreeClassifier\n",
        "#clf = DecisionTreeClassifier(random_state=0)\n",
        "#clf.fit(x_train,y_train)"
      ],
      "execution_count": null,
      "outputs": []
    },
    {
      "cell_type": "markdown",
      "metadata": {
        "id": "feMSVDMqzeQ9"
      },
      "source": [
        "**11-What is the issue you have encounetered?**\n",
        "\n",
        "\n",
        "\n"
      ]
    },
    {
      "cell_type": "markdown",
      "metadata": {
        "id": "I-0bXHQGHw6w"
      },
      "source": [
        "We are going to test two types of encoders: \n",
        "\n",
        "Label encoder: counts the number ($n$) of categories we have and then encodes each one of the different possible values with a number between $0$ and $n-1$. \n",
        "This encoder only replaces the original with the encoded data. So the dimension of the data is not changed. \n",
        "\n",
        "Example: \n",
        "\n",
        "We will apply a label encoder!to a list: [\"a\", \"b\", \"b\", \"a\", \"c\"]"
      ]
    },
    {
      "cell_type": "code",
      "metadata": {
        "id": "9CLlB8oAz_9U",
        "colab": {
          "base_uri": "https://localhost:8080/"
        },
        "outputId": "038bc169-f7a5-495c-bcba-cba1ba27adeb"
      },
      "source": [
        "from sklearn.preprocessing import LabelEncoder \n",
        "le = LabelEncoder()\n",
        "l = [\"a\", \"b\", \"b\", \"a\", \"c\" ]\n",
        "# We first fit the model to recognize the classes \n",
        "le.fit(l)\n",
        "print(\"The classes are:\", le.classes_)\n",
        "# After fitting the encoder we use it to transform the data \n",
        "le.transform(l)"
      ],
      "execution_count": null,
      "outputs": [
        {
          "output_type": "stream",
          "text": [
            "The classes are: ['a' 'b' 'c']\n"
          ],
          "name": "stdout"
        },
        {
          "output_type": "execute_result",
          "data": {
            "text/plain": [
              "array([0, 1, 1, 0, 2])"
            ]
          },
          "metadata": {
            "tags": []
          },
          "execution_count": 16
        }
      ]
    },
    {
      "cell_type": "markdown",
      "metadata": {
        "id": "AeZ1JuKAWfpO"
      },
      "source": [
        "A second famous encoder is One Hot encoder: \n",
        "\n",
        "For a givern categorical column every possible value results in a new column. Then, for each row, we put 1 in the column with the name of the category value we have and 0 in the others. \n",
        "\n",
        "We generally have 2 choices to proceed with this type of encoding: \n",
        "\n",
        "*   OneHotEncoder from sklearn.preprocessing\n",
        "*   get_dummies() function from pandas\n",
        "\n",
        "Using the first option creates additional complications when we have both categorical and non categorical variables in our dataset, which is the case here. That's why it is prefereable to use get_dummies. \n",
        "\n",
        "\n",
        "Example: \n",
        "\n",
        "We will apply One Hot encoder to the same list:  [\"a\", \"b\", \"b\", \"a\", \"c\" ]"
      ]
    },
    {
      "cell_type": "code",
      "metadata": {
        "id": "gZpbgj71ZGT2",
        "colab": {
          "base_uri": "https://localhost:8080/",
          "height": 194
        },
        "outputId": "95c36b00-e602-4a51-d042-2070349cfd42"
      },
      "source": [
        "l = [\"a\", \"b\", \"b\", \"a\", \"c\" ]\n",
        "pd.get_dummies(l)"
      ],
      "execution_count": null,
      "outputs": [
        {
          "output_type": "execute_result",
          "data": {
            "text/html": [
              "<div>\n",
              "<style scoped>\n",
              "    .dataframe tbody tr th:only-of-type {\n",
              "        vertical-align: middle;\n",
              "    }\n",
              "\n",
              "    .dataframe tbody tr th {\n",
              "        vertical-align: top;\n",
              "    }\n",
              "\n",
              "    .dataframe thead th {\n",
              "        text-align: right;\n",
              "    }\n",
              "</style>\n",
              "<table border=\"1\" class=\"dataframe\">\n",
              "  <thead>\n",
              "    <tr style=\"text-align: right;\">\n",
              "      <th></th>\n",
              "      <th>a</th>\n",
              "      <th>b</th>\n",
              "      <th>c</th>\n",
              "    </tr>\n",
              "  </thead>\n",
              "  <tbody>\n",
              "    <tr>\n",
              "      <th>0</th>\n",
              "      <td>1</td>\n",
              "      <td>0</td>\n",
              "      <td>0</td>\n",
              "    </tr>\n",
              "    <tr>\n",
              "      <th>1</th>\n",
              "      <td>0</td>\n",
              "      <td>1</td>\n",
              "      <td>0</td>\n",
              "    </tr>\n",
              "    <tr>\n",
              "      <th>2</th>\n",
              "      <td>0</td>\n",
              "      <td>1</td>\n",
              "      <td>0</td>\n",
              "    </tr>\n",
              "    <tr>\n",
              "      <th>3</th>\n",
              "      <td>1</td>\n",
              "      <td>0</td>\n",
              "      <td>0</td>\n",
              "    </tr>\n",
              "    <tr>\n",
              "      <th>4</th>\n",
              "      <td>0</td>\n",
              "      <td>0</td>\n",
              "      <td>1</td>\n",
              "    </tr>\n",
              "  </tbody>\n",
              "</table>\n",
              "</div>"
            ],
            "text/plain": [
              "   a  b  c\n",
              "0  1  0  0\n",
              "1  0  1  0\n",
              "2  0  1  0\n",
              "3  1  0  0\n",
              "4  0  0  1"
            ]
          },
          "metadata": {
            "tags": []
          },
          "execution_count": 17
        }
      ]
    },
    {
      "cell_type": "markdown",
      "metadata": {
        "id": "SIlLJdo7qM6n"
      },
      "source": [
        "For the information there is also the get_dummies() function from pandas library that provides one hot encoding. It is slightly different in handling some cases, that's why we prefer to use the first method.\n",
        "\n"
      ]
    },
    {
      "cell_type": "markdown",
      "metadata": {
        "id": "sGcJBakH5QTJ"
      },
      "source": [
        "## Building model\n",
        "\n",
        "We have seen that we have to encode the data before training the model.  \n",
        "We will define 2 models: one with label encoding and another with one hot encoding.\n",
        "\n",
        "### Using label encoding\n",
        "\n",
        "Encode train and test data.\n",
        "\n",
        "First we will combine train and data to fit the encoder (otherwise we would have problems transforming fata because of eventual unrecognized categories) \n",
        " \n",
        "\n",
        "**12-Concatenate training and test data and make sure there are no problems.**"
      ]
    },
    {
      "cell_type": "code",
      "metadata": {
        "id": "8GN1CgXZbXg8",
        "colab": {
          "base_uri": "https://localhost:8080/"
        },
        "outputId": "85bb933f-f3c0-413f-8f68-4d431b7fd871"
      },
      "source": [
        "from sklearn.preprocessing import LabelEncoder\n",
        "\n",
        "\n",
        "le = LabelEncoder()\n",
        "combined_data = pd.concat([x_train, x_test]).reset_index(drop =True)\n",
        "combined_data.head()\n",
        "\n",
        "len(combined_data)\n"
      ],
      "execution_count": null,
      "outputs": [
        {
          "output_type": "execute_result",
          "data": {
            "text/plain": [
              "48842"
            ]
          },
          "metadata": {
            "tags": []
          },
          "execution_count": 18
        }
      ]
    },
    {
      "cell_type": "code",
      "metadata": {
        "id": "_ZK4h04h-guK",
        "colab": {
          "base_uri": "https://localhost:8080/",
          "height": 194
        },
        "outputId": "271efdbc-3452-42b8-c78d-ba54788f3cd8"
      },
      "source": [
        "combined_data.head()"
      ],
      "execution_count": null,
      "outputs": [
        {
          "output_type": "execute_result",
          "data": {
            "text/html": [
              "<div>\n",
              "<style scoped>\n",
              "    .dataframe tbody tr th:only-of-type {\n",
              "        vertical-align: middle;\n",
              "    }\n",
              "\n",
              "    .dataframe tbody tr th {\n",
              "        vertical-align: top;\n",
              "    }\n",
              "\n",
              "    .dataframe thead th {\n",
              "        text-align: right;\n",
              "    }\n",
              "</style>\n",
              "<table border=\"1\" class=\"dataframe\">\n",
              "  <thead>\n",
              "    <tr style=\"text-align: right;\">\n",
              "      <th></th>\n",
              "      <th>age</th>\n",
              "      <th>workclass</th>\n",
              "      <th>education-num</th>\n",
              "      <th>marital-status</th>\n",
              "      <th>occupation</th>\n",
              "      <th>relationship</th>\n",
              "      <th>race</th>\n",
              "      <th>sex</th>\n",
              "      <th>capital-gain</th>\n",
              "      <th>capital-loss</th>\n",
              "      <th>hours-per-week</th>\n",
              "      <th>native-country</th>\n",
              "    </tr>\n",
              "  </thead>\n",
              "  <tbody>\n",
              "    <tr>\n",
              "      <th>0</th>\n",
              "      <td>39</td>\n",
              "      <td>State-gov</td>\n",
              "      <td>13.0</td>\n",
              "      <td>Never-married</td>\n",
              "      <td>Adm-clerical</td>\n",
              "      <td>Not-in-family</td>\n",
              "      <td>White</td>\n",
              "      <td>Male</td>\n",
              "      <td>2174.0</td>\n",
              "      <td>0.0</td>\n",
              "      <td>40.0</td>\n",
              "      <td>United-States</td>\n",
              "    </tr>\n",
              "    <tr>\n",
              "      <th>1</th>\n",
              "      <td>50</td>\n",
              "      <td>Self-emp-not-inc</td>\n",
              "      <td>13.0</td>\n",
              "      <td>Married-civ-spouse</td>\n",
              "      <td>Exec-managerial</td>\n",
              "      <td>Husband</td>\n",
              "      <td>White</td>\n",
              "      <td>Male</td>\n",
              "      <td>0.0</td>\n",
              "      <td>0.0</td>\n",
              "      <td>13.0</td>\n",
              "      <td>United-States</td>\n",
              "    </tr>\n",
              "    <tr>\n",
              "      <th>2</th>\n",
              "      <td>38</td>\n",
              "      <td>Private</td>\n",
              "      <td>9.0</td>\n",
              "      <td>Divorced</td>\n",
              "      <td>Handlers-cleaners</td>\n",
              "      <td>Not-in-family</td>\n",
              "      <td>White</td>\n",
              "      <td>Male</td>\n",
              "      <td>0.0</td>\n",
              "      <td>0.0</td>\n",
              "      <td>40.0</td>\n",
              "      <td>United-States</td>\n",
              "    </tr>\n",
              "    <tr>\n",
              "      <th>3</th>\n",
              "      <td>53</td>\n",
              "      <td>Private</td>\n",
              "      <td>7.0</td>\n",
              "      <td>Married-civ-spouse</td>\n",
              "      <td>Handlers-cleaners</td>\n",
              "      <td>Husband</td>\n",
              "      <td>Black</td>\n",
              "      <td>Male</td>\n",
              "      <td>0.0</td>\n",
              "      <td>0.0</td>\n",
              "      <td>40.0</td>\n",
              "      <td>United-States</td>\n",
              "    </tr>\n",
              "    <tr>\n",
              "      <th>4</th>\n",
              "      <td>28</td>\n",
              "      <td>Private</td>\n",
              "      <td>13.0</td>\n",
              "      <td>Married-civ-spouse</td>\n",
              "      <td>Prof-specialty</td>\n",
              "      <td>Wife</td>\n",
              "      <td>Black</td>\n",
              "      <td>Female</td>\n",
              "      <td>0.0</td>\n",
              "      <td>0.0</td>\n",
              "      <td>40.0</td>\n",
              "      <td>Cuba</td>\n",
              "    </tr>\n",
              "  </tbody>\n",
              "</table>\n",
              "</div>"
            ],
            "text/plain": [
              "   age          workclass  ...  hours-per-week  native-country\n",
              "0   39          State-gov  ...            40.0   United-States\n",
              "1   50   Self-emp-not-inc  ...            13.0   United-States\n",
              "2   38            Private  ...            40.0   United-States\n",
              "3   53            Private  ...            40.0   United-States\n",
              "4   28            Private  ...            40.0            Cuba\n",
              "\n",
              "[5 rows x 12 columns]"
            ]
          },
          "metadata": {
            "tags": []
          },
          "execution_count": 19
        }
      ]
    },
    {
      "cell_type": "markdown",
      "metadata": {
        "id": "PS9hh9HyIXuV"
      },
      "source": [
        "**13- Apply label encoding to combined data.** \n",
        "\n",
        "To avoid having to encode each column independently, dataframe.apply() as indicated after."
      ]
    },
    {
      "cell_type": "code",
      "metadata": {
        "id": "_I8bxINQIqzC",
        "colab": {
          "base_uri": "https://localhost:8080/",
          "height": 194
        },
        "outputId": "9f3556c3-69f5-4ed1-dc26-e3eef5799ba0"
      },
      "source": [
        "encoded_combined_data = combined_data.apply(le.fit_transform)\n",
        "encoded_combined_data.head()"
      ],
      "execution_count": null,
      "outputs": [
        {
          "output_type": "execute_result",
          "data": {
            "text/html": [
              "<div>\n",
              "<style scoped>\n",
              "    .dataframe tbody tr th:only-of-type {\n",
              "        vertical-align: middle;\n",
              "    }\n",
              "\n",
              "    .dataframe tbody tr th {\n",
              "        vertical-align: top;\n",
              "    }\n",
              "\n",
              "    .dataframe thead th {\n",
              "        text-align: right;\n",
              "    }\n",
              "</style>\n",
              "<table border=\"1\" class=\"dataframe\">\n",
              "  <thead>\n",
              "    <tr style=\"text-align: right;\">\n",
              "      <th></th>\n",
              "      <th>age</th>\n",
              "      <th>workclass</th>\n",
              "      <th>education-num</th>\n",
              "      <th>marital-status</th>\n",
              "      <th>occupation</th>\n",
              "      <th>relationship</th>\n",
              "      <th>race</th>\n",
              "      <th>sex</th>\n",
              "      <th>capital-gain</th>\n",
              "      <th>capital-loss</th>\n",
              "      <th>hours-per-week</th>\n",
              "      <th>native-country</th>\n",
              "    </tr>\n",
              "  </thead>\n",
              "  <tbody>\n",
              "    <tr>\n",
              "      <th>0</th>\n",
              "      <td>22</td>\n",
              "      <td>7</td>\n",
              "      <td>12</td>\n",
              "      <td>4</td>\n",
              "      <td>1</td>\n",
              "      <td>1</td>\n",
              "      <td>4</td>\n",
              "      <td>1</td>\n",
              "      <td>27</td>\n",
              "      <td>0</td>\n",
              "      <td>39</td>\n",
              "      <td>39</td>\n",
              "    </tr>\n",
              "    <tr>\n",
              "      <th>1</th>\n",
              "      <td>33</td>\n",
              "      <td>6</td>\n",
              "      <td>12</td>\n",
              "      <td>2</td>\n",
              "      <td>4</td>\n",
              "      <td>0</td>\n",
              "      <td>4</td>\n",
              "      <td>1</td>\n",
              "      <td>0</td>\n",
              "      <td>0</td>\n",
              "      <td>12</td>\n",
              "      <td>39</td>\n",
              "    </tr>\n",
              "    <tr>\n",
              "      <th>2</th>\n",
              "      <td>21</td>\n",
              "      <td>4</td>\n",
              "      <td>8</td>\n",
              "      <td>0</td>\n",
              "      <td>6</td>\n",
              "      <td>1</td>\n",
              "      <td>4</td>\n",
              "      <td>1</td>\n",
              "      <td>0</td>\n",
              "      <td>0</td>\n",
              "      <td>39</td>\n",
              "      <td>39</td>\n",
              "    </tr>\n",
              "    <tr>\n",
              "      <th>3</th>\n",
              "      <td>36</td>\n",
              "      <td>4</td>\n",
              "      <td>6</td>\n",
              "      <td>2</td>\n",
              "      <td>6</td>\n",
              "      <td>0</td>\n",
              "      <td>2</td>\n",
              "      <td>1</td>\n",
              "      <td>0</td>\n",
              "      <td>0</td>\n",
              "      <td>39</td>\n",
              "      <td>39</td>\n",
              "    </tr>\n",
              "    <tr>\n",
              "      <th>4</th>\n",
              "      <td>11</td>\n",
              "      <td>4</td>\n",
              "      <td>12</td>\n",
              "      <td>2</td>\n",
              "      <td>10</td>\n",
              "      <td>5</td>\n",
              "      <td>2</td>\n",
              "      <td>0</td>\n",
              "      <td>0</td>\n",
              "      <td>0</td>\n",
              "      <td>39</td>\n",
              "      <td>5</td>\n",
              "    </tr>\n",
              "  </tbody>\n",
              "</table>\n",
              "</div>"
            ],
            "text/plain": [
              "   age  workclass  education-num  ...  capital-loss  hours-per-week  native-country\n",
              "0   22          7             12  ...             0              39              39\n",
              "1   33          6             12  ...             0              12              39\n",
              "2   21          4              8  ...             0              39              39\n",
              "3   36          4              6  ...             0              39              39\n",
              "4   11          4             12  ...             0              39               5\n",
              "\n",
              "[5 rows x 12 columns]"
            ]
          },
          "metadata": {
            "tags": []
          },
          "execution_count": 20
        }
      ]
    },
    {
      "cell_type": "code",
      "metadata": {
        "id": "24s4-77z-Vha",
        "colab": {
          "base_uri": "https://localhost:8080/",
          "height": 194
        },
        "outputId": "847d39d8-6696-4304-9e77-31096194900a"
      },
      "source": [
        "#alternative way to encode data\n",
        "\n",
        "def labelEncoder(col):\n",
        "  le = LabelEncoder()\n",
        "  le.fit(col)\n",
        "  return le.transform(col)\n",
        "encoded_combined_data = combined_data.apply(lambda x:labelEncoder(x))\n",
        "encoded_combined_data.head()"
      ],
      "execution_count": null,
      "outputs": [
        {
          "output_type": "execute_result",
          "data": {
            "text/html": [
              "<div>\n",
              "<style scoped>\n",
              "    .dataframe tbody tr th:only-of-type {\n",
              "        vertical-align: middle;\n",
              "    }\n",
              "\n",
              "    .dataframe tbody tr th {\n",
              "        vertical-align: top;\n",
              "    }\n",
              "\n",
              "    .dataframe thead th {\n",
              "        text-align: right;\n",
              "    }\n",
              "</style>\n",
              "<table border=\"1\" class=\"dataframe\">\n",
              "  <thead>\n",
              "    <tr style=\"text-align: right;\">\n",
              "      <th></th>\n",
              "      <th>age</th>\n",
              "      <th>workclass</th>\n",
              "      <th>education-num</th>\n",
              "      <th>marital-status</th>\n",
              "      <th>occupation</th>\n",
              "      <th>relationship</th>\n",
              "      <th>race</th>\n",
              "      <th>sex</th>\n",
              "      <th>capital-gain</th>\n",
              "      <th>capital-loss</th>\n",
              "      <th>hours-per-week</th>\n",
              "      <th>native-country</th>\n",
              "    </tr>\n",
              "  </thead>\n",
              "  <tbody>\n",
              "    <tr>\n",
              "      <th>0</th>\n",
              "      <td>22</td>\n",
              "      <td>7</td>\n",
              "      <td>12</td>\n",
              "      <td>4</td>\n",
              "      <td>1</td>\n",
              "      <td>1</td>\n",
              "      <td>4</td>\n",
              "      <td>1</td>\n",
              "      <td>27</td>\n",
              "      <td>0</td>\n",
              "      <td>39</td>\n",
              "      <td>39</td>\n",
              "    </tr>\n",
              "    <tr>\n",
              "      <th>1</th>\n",
              "      <td>33</td>\n",
              "      <td>6</td>\n",
              "      <td>12</td>\n",
              "      <td>2</td>\n",
              "      <td>4</td>\n",
              "      <td>0</td>\n",
              "      <td>4</td>\n",
              "      <td>1</td>\n",
              "      <td>0</td>\n",
              "      <td>0</td>\n",
              "      <td>12</td>\n",
              "      <td>39</td>\n",
              "    </tr>\n",
              "    <tr>\n",
              "      <th>2</th>\n",
              "      <td>21</td>\n",
              "      <td>4</td>\n",
              "      <td>8</td>\n",
              "      <td>0</td>\n",
              "      <td>6</td>\n",
              "      <td>1</td>\n",
              "      <td>4</td>\n",
              "      <td>1</td>\n",
              "      <td>0</td>\n",
              "      <td>0</td>\n",
              "      <td>39</td>\n",
              "      <td>39</td>\n",
              "    </tr>\n",
              "    <tr>\n",
              "      <th>3</th>\n",
              "      <td>36</td>\n",
              "      <td>4</td>\n",
              "      <td>6</td>\n",
              "      <td>2</td>\n",
              "      <td>6</td>\n",
              "      <td>0</td>\n",
              "      <td>2</td>\n",
              "      <td>1</td>\n",
              "      <td>0</td>\n",
              "      <td>0</td>\n",
              "      <td>39</td>\n",
              "      <td>39</td>\n",
              "    </tr>\n",
              "    <tr>\n",
              "      <th>4</th>\n",
              "      <td>11</td>\n",
              "      <td>4</td>\n",
              "      <td>12</td>\n",
              "      <td>2</td>\n",
              "      <td>10</td>\n",
              "      <td>5</td>\n",
              "      <td>2</td>\n",
              "      <td>0</td>\n",
              "      <td>0</td>\n",
              "      <td>0</td>\n",
              "      <td>39</td>\n",
              "      <td>5</td>\n",
              "    </tr>\n",
              "  </tbody>\n",
              "</table>\n",
              "</div>"
            ],
            "text/plain": [
              "   age  workclass  education-num  ...  capital-loss  hours-per-week  native-country\n",
              "0   22          7             12  ...             0              39              39\n",
              "1   33          6             12  ...             0              12              39\n",
              "2   21          4              8  ...             0              39              39\n",
              "3   36          4              6  ...             0              39              39\n",
              "4   11          4             12  ...             0              39               5\n",
              "\n",
              "[5 rows x 12 columns]"
            ]
          },
          "metadata": {
            "tags": []
          },
          "execution_count": 21
        }
      ]
    },
    {
      "cell_type": "code",
      "metadata": {
        "id": "MefzEH0l67id",
        "colab": {
          "base_uri": "https://localhost:8080/",
          "height": 340
        },
        "outputId": "b1a00fc5-8c3e-4b38-b6c6-805992f2181a"
      },
      "source": [
        "encoded_combined_data = combined_data.copy()\n",
        "encoded_combined_data[\"workclass\"] = labelEncoder(combined_data[\"workclass\"])\n",
        "encoded_combined_data[\"marital-status\"] = labelEncoder(combined_data[\"marital-status\"])\n",
        "encoded_combined_data[\"occupation\"] = labelEncoder(combined_data[\"occupation\"])\n",
        "encoded_combined_data[\"relationship\"] = labelEncoder(combined_data[\"relationship\"])\n",
        "encoded_combined_data[\"sex\"] = labelEncoder(combined_data[\"sex\"])\n",
        "encoded_combined_data[\"race\"] = labelEncoder(combined_data[\"race\"])\n",
        "encoded_combined_data[\"native-country\"] = labelEncoder(combined_data[\"native-country\"])\n",
        "encoded_combined_data.head(10)"
      ],
      "execution_count": null,
      "outputs": [
        {
          "output_type": "execute_result",
          "data": {
            "text/html": [
              "<div>\n",
              "<style scoped>\n",
              "    .dataframe tbody tr th:only-of-type {\n",
              "        vertical-align: middle;\n",
              "    }\n",
              "\n",
              "    .dataframe tbody tr th {\n",
              "        vertical-align: top;\n",
              "    }\n",
              "\n",
              "    .dataframe thead th {\n",
              "        text-align: right;\n",
              "    }\n",
              "</style>\n",
              "<table border=\"1\" class=\"dataframe\">\n",
              "  <thead>\n",
              "    <tr style=\"text-align: right;\">\n",
              "      <th></th>\n",
              "      <th>age</th>\n",
              "      <th>workclass</th>\n",
              "      <th>education-num</th>\n",
              "      <th>marital-status</th>\n",
              "      <th>occupation</th>\n",
              "      <th>relationship</th>\n",
              "      <th>race</th>\n",
              "      <th>sex</th>\n",
              "      <th>capital-gain</th>\n",
              "      <th>capital-loss</th>\n",
              "      <th>hours-per-week</th>\n",
              "      <th>native-country</th>\n",
              "    </tr>\n",
              "  </thead>\n",
              "  <tbody>\n",
              "    <tr>\n",
              "      <th>0</th>\n",
              "      <td>39</td>\n",
              "      <td>7</td>\n",
              "      <td>13.0</td>\n",
              "      <td>4</td>\n",
              "      <td>1</td>\n",
              "      <td>1</td>\n",
              "      <td>4</td>\n",
              "      <td>1</td>\n",
              "      <td>2174.0</td>\n",
              "      <td>0.0</td>\n",
              "      <td>40.0</td>\n",
              "      <td>39</td>\n",
              "    </tr>\n",
              "    <tr>\n",
              "      <th>1</th>\n",
              "      <td>50</td>\n",
              "      <td>6</td>\n",
              "      <td>13.0</td>\n",
              "      <td>2</td>\n",
              "      <td>4</td>\n",
              "      <td>0</td>\n",
              "      <td>4</td>\n",
              "      <td>1</td>\n",
              "      <td>0.0</td>\n",
              "      <td>0.0</td>\n",
              "      <td>13.0</td>\n",
              "      <td>39</td>\n",
              "    </tr>\n",
              "    <tr>\n",
              "      <th>2</th>\n",
              "      <td>38</td>\n",
              "      <td>4</td>\n",
              "      <td>9.0</td>\n",
              "      <td>0</td>\n",
              "      <td>6</td>\n",
              "      <td>1</td>\n",
              "      <td>4</td>\n",
              "      <td>1</td>\n",
              "      <td>0.0</td>\n",
              "      <td>0.0</td>\n",
              "      <td>40.0</td>\n",
              "      <td>39</td>\n",
              "    </tr>\n",
              "    <tr>\n",
              "      <th>3</th>\n",
              "      <td>53</td>\n",
              "      <td>4</td>\n",
              "      <td>7.0</td>\n",
              "      <td>2</td>\n",
              "      <td>6</td>\n",
              "      <td>0</td>\n",
              "      <td>2</td>\n",
              "      <td>1</td>\n",
              "      <td>0.0</td>\n",
              "      <td>0.0</td>\n",
              "      <td>40.0</td>\n",
              "      <td>39</td>\n",
              "    </tr>\n",
              "    <tr>\n",
              "      <th>4</th>\n",
              "      <td>28</td>\n",
              "      <td>4</td>\n",
              "      <td>13.0</td>\n",
              "      <td>2</td>\n",
              "      <td>10</td>\n",
              "      <td>5</td>\n",
              "      <td>2</td>\n",
              "      <td>0</td>\n",
              "      <td>0.0</td>\n",
              "      <td>0.0</td>\n",
              "      <td>40.0</td>\n",
              "      <td>5</td>\n",
              "    </tr>\n",
              "    <tr>\n",
              "      <th>5</th>\n",
              "      <td>37</td>\n",
              "      <td>4</td>\n",
              "      <td>14.0</td>\n",
              "      <td>2</td>\n",
              "      <td>4</td>\n",
              "      <td>5</td>\n",
              "      <td>4</td>\n",
              "      <td>0</td>\n",
              "      <td>0.0</td>\n",
              "      <td>0.0</td>\n",
              "      <td>40.0</td>\n",
              "      <td>39</td>\n",
              "    </tr>\n",
              "    <tr>\n",
              "      <th>6</th>\n",
              "      <td>49</td>\n",
              "      <td>4</td>\n",
              "      <td>5.0</td>\n",
              "      <td>3</td>\n",
              "      <td>8</td>\n",
              "      <td>1</td>\n",
              "      <td>2</td>\n",
              "      <td>0</td>\n",
              "      <td>0.0</td>\n",
              "      <td>0.0</td>\n",
              "      <td>16.0</td>\n",
              "      <td>23</td>\n",
              "    </tr>\n",
              "    <tr>\n",
              "      <th>7</th>\n",
              "      <td>52</td>\n",
              "      <td>6</td>\n",
              "      <td>9.0</td>\n",
              "      <td>2</td>\n",
              "      <td>4</td>\n",
              "      <td>0</td>\n",
              "      <td>4</td>\n",
              "      <td>1</td>\n",
              "      <td>0.0</td>\n",
              "      <td>0.0</td>\n",
              "      <td>45.0</td>\n",
              "      <td>39</td>\n",
              "    </tr>\n",
              "    <tr>\n",
              "      <th>8</th>\n",
              "      <td>31</td>\n",
              "      <td>4</td>\n",
              "      <td>14.0</td>\n",
              "      <td>4</td>\n",
              "      <td>10</td>\n",
              "      <td>1</td>\n",
              "      <td>4</td>\n",
              "      <td>0</td>\n",
              "      <td>14084.0</td>\n",
              "      <td>0.0</td>\n",
              "      <td>50.0</td>\n",
              "      <td>39</td>\n",
              "    </tr>\n",
              "    <tr>\n",
              "      <th>9</th>\n",
              "      <td>42</td>\n",
              "      <td>4</td>\n",
              "      <td>13.0</td>\n",
              "      <td>2</td>\n",
              "      <td>4</td>\n",
              "      <td>0</td>\n",
              "      <td>4</td>\n",
              "      <td>1</td>\n",
              "      <td>5178.0</td>\n",
              "      <td>0.0</td>\n",
              "      <td>40.0</td>\n",
              "      <td>39</td>\n",
              "    </tr>\n",
              "  </tbody>\n",
              "</table>\n",
              "</div>"
            ],
            "text/plain": [
              "   age  workclass  education-num  ...  capital-loss  hours-per-week  native-country\n",
              "0   39          7           13.0  ...           0.0            40.0              39\n",
              "1   50          6           13.0  ...           0.0            13.0              39\n",
              "2   38          4            9.0  ...           0.0            40.0              39\n",
              "3   53          4            7.0  ...           0.0            40.0              39\n",
              "4   28          4           13.0  ...           0.0            40.0               5\n",
              "5   37          4           14.0  ...           0.0            40.0              39\n",
              "6   49          4            5.0  ...           0.0            16.0              23\n",
              "7   52          6            9.0  ...           0.0            45.0              39\n",
              "8   31          4           14.0  ...           0.0            50.0              39\n",
              "9   42          4           13.0  ...           0.0            40.0              39\n",
              "\n",
              "[10 rows x 12 columns]"
            ]
          },
          "metadata": {
            "tags": []
          },
          "execution_count": 22
        }
      ]
    },
    {
      "cell_type": "markdown",
      "metadata": {
        "id": "upS3rB5jJCKl"
      },
      "source": [
        "**14- Split the data again using training and test size from train_data and test_data.**"
      ]
    },
    {
      "cell_type": "code",
      "metadata": {
        "id": "uA72GzM8JCqv"
      },
      "source": [
        "train_size = x_train.shape[0]\n",
        "test_size = x_test.shape[0]\n",
        " \n",
        "encoded_x_train = encoded_combined_data[:train_size]\n",
        "encoded_x_test = encoded_combined_data[train_size:train_size+test_size]"
      ],
      "execution_count": null,
      "outputs": []
    },
    {
      "cell_type": "code",
      "metadata": {
        "id": "I8qgDcV0rSSQ",
        "colab": {
          "base_uri": "https://localhost:8080/",
          "height": 194
        },
        "outputId": "64d72ef3-f732-46ad-8f90-36458c2c3ba7"
      },
      "source": [
        "encoded_x_train.head()"
      ],
      "execution_count": null,
      "outputs": [
        {
          "output_type": "execute_result",
          "data": {
            "text/html": [
              "<div>\n",
              "<style scoped>\n",
              "    .dataframe tbody tr th:only-of-type {\n",
              "        vertical-align: middle;\n",
              "    }\n",
              "\n",
              "    .dataframe tbody tr th {\n",
              "        vertical-align: top;\n",
              "    }\n",
              "\n",
              "    .dataframe thead th {\n",
              "        text-align: right;\n",
              "    }\n",
              "</style>\n",
              "<table border=\"1\" class=\"dataframe\">\n",
              "  <thead>\n",
              "    <tr style=\"text-align: right;\">\n",
              "      <th></th>\n",
              "      <th>age</th>\n",
              "      <th>workclass</th>\n",
              "      <th>education-num</th>\n",
              "      <th>marital-status</th>\n",
              "      <th>occupation</th>\n",
              "      <th>relationship</th>\n",
              "      <th>race</th>\n",
              "      <th>sex</th>\n",
              "      <th>capital-gain</th>\n",
              "      <th>capital-loss</th>\n",
              "      <th>hours-per-week</th>\n",
              "      <th>native-country</th>\n",
              "    </tr>\n",
              "  </thead>\n",
              "  <tbody>\n",
              "    <tr>\n",
              "      <th>0</th>\n",
              "      <td>39</td>\n",
              "      <td>7</td>\n",
              "      <td>13.0</td>\n",
              "      <td>4</td>\n",
              "      <td>1</td>\n",
              "      <td>1</td>\n",
              "      <td>4</td>\n",
              "      <td>1</td>\n",
              "      <td>2174.0</td>\n",
              "      <td>0.0</td>\n",
              "      <td>40.0</td>\n",
              "      <td>39</td>\n",
              "    </tr>\n",
              "    <tr>\n",
              "      <th>1</th>\n",
              "      <td>50</td>\n",
              "      <td>6</td>\n",
              "      <td>13.0</td>\n",
              "      <td>2</td>\n",
              "      <td>4</td>\n",
              "      <td>0</td>\n",
              "      <td>4</td>\n",
              "      <td>1</td>\n",
              "      <td>0.0</td>\n",
              "      <td>0.0</td>\n",
              "      <td>13.0</td>\n",
              "      <td>39</td>\n",
              "    </tr>\n",
              "    <tr>\n",
              "      <th>2</th>\n",
              "      <td>38</td>\n",
              "      <td>4</td>\n",
              "      <td>9.0</td>\n",
              "      <td>0</td>\n",
              "      <td>6</td>\n",
              "      <td>1</td>\n",
              "      <td>4</td>\n",
              "      <td>1</td>\n",
              "      <td>0.0</td>\n",
              "      <td>0.0</td>\n",
              "      <td>40.0</td>\n",
              "      <td>39</td>\n",
              "    </tr>\n",
              "    <tr>\n",
              "      <th>3</th>\n",
              "      <td>53</td>\n",
              "      <td>4</td>\n",
              "      <td>7.0</td>\n",
              "      <td>2</td>\n",
              "      <td>6</td>\n",
              "      <td>0</td>\n",
              "      <td>2</td>\n",
              "      <td>1</td>\n",
              "      <td>0.0</td>\n",
              "      <td>0.0</td>\n",
              "      <td>40.0</td>\n",
              "      <td>39</td>\n",
              "    </tr>\n",
              "    <tr>\n",
              "      <th>4</th>\n",
              "      <td>28</td>\n",
              "      <td>4</td>\n",
              "      <td>13.0</td>\n",
              "      <td>2</td>\n",
              "      <td>10</td>\n",
              "      <td>5</td>\n",
              "      <td>2</td>\n",
              "      <td>0</td>\n",
              "      <td>0.0</td>\n",
              "      <td>0.0</td>\n",
              "      <td>40.0</td>\n",
              "      <td>5</td>\n",
              "    </tr>\n",
              "  </tbody>\n",
              "</table>\n",
              "</div>"
            ],
            "text/plain": [
              "   age  workclass  education-num  ...  capital-loss  hours-per-week  native-country\n",
              "0   39          7           13.0  ...           0.0            40.0              39\n",
              "1   50          6           13.0  ...           0.0            13.0              39\n",
              "2   38          4            9.0  ...           0.0            40.0              39\n",
              "3   53          4            7.0  ...           0.0            40.0              39\n",
              "4   28          4           13.0  ...           0.0            40.0               5\n",
              "\n",
              "[5 rows x 12 columns]"
            ]
          },
          "metadata": {
            "tags": []
          },
          "execution_count": 24
        }
      ]
    },
    {
      "cell_type": "markdown",
      "metadata": {
        "id": "57h4CKQR8u1y"
      },
      "source": [
        "Now we can finally train our model.\n",
        "First we won't use any of the parameters. \n",
        "\n",
        "**15-Fit model using DecisionTreeClassifier function with default parameter values.**"
      ]
    },
    {
      "cell_type": "code",
      "metadata": {
        "id": "LSUNtZUYSWVx",
        "colab": {
          "base_uri": "https://localhost:8080/"
        },
        "outputId": "6410fab9-630d-4320-ae74-38f9978a0561"
      },
      "source": [
        "from sklearn.tree import DecisionTreeClassifier\n",
        "\n",
        "model = DecisionTreeClassifier()\n",
        "model.fit(encoded_x_train, y_train)"
      ],
      "execution_count": null,
      "outputs": [
        {
          "output_type": "execute_result",
          "data": {
            "text/plain": [
              "DecisionTreeClassifier(ccp_alpha=0.0, class_weight=None, criterion='gini',\n",
              "                       max_depth=None, max_features=None, max_leaf_nodes=None,\n",
              "                       min_impurity_decrease=0.0, min_impurity_split=None,\n",
              "                       min_samples_leaf=1, min_samples_split=2,\n",
              "                       min_weight_fraction_leaf=0.0, presort='deprecated',\n",
              "                       random_state=None, splitter='best')"
            ]
          },
          "metadata": {
            "tags": []
          },
          "execution_count": 25
        }
      ]
    },
    {
      "cell_type": "code",
      "metadata": {
        "id": "y9D73KvdrzMB",
        "colab": {
          "base_uri": "https://localhost:8080/"
        },
        "outputId": "cb4d4365-e953-4aaf-8949-ef6671c8bbde"
      },
      "source": [
        "y_test[0:20]"
      ],
      "execution_count": null,
      "outputs": [
        {
          "output_type": "execute_result",
          "data": {
            "text/plain": [
              "1     1\n",
              "2     1\n",
              "3     0\n",
              "4     0\n",
              "5     1\n",
              "6     1\n",
              "7     1\n",
              "8     0\n",
              "9     1\n",
              "10    1\n",
              "11    0\n",
              "12    1\n",
              "13    1\n",
              "14    1\n",
              "15    0\n",
              "16    0\n",
              "17    1\n",
              "18    1\n",
              "19    1\n",
              "20    0\n",
              "Name: income, dtype: int64"
            ]
          },
          "metadata": {
            "tags": []
          },
          "execution_count": 26
        }
      ]
    },
    {
      "cell_type": "markdown",
      "metadata": {
        "id": "KAuPPtnR9Uhk"
      },
      "source": [
        "**16- Use the fitted model to predict training data and check accuracy.** \n"
      ]
    },
    {
      "cell_type": "code",
      "metadata": {
        "id": "p6CILpQh9l19",
        "colab": {
          "base_uri": "https://localhost:8080/"
        },
        "outputId": "eeeb6c12-5f0f-499a-b796-3f87ec63a2c2"
      },
      "source": [
        "from sklearn.metrics import accuracy_score\n",
        "\n",
        "y_train_pred = model.predict(encoded_x_train)\n",
        "print(\"Training accuracy is:\", accuracy_score(y_train,y_train_pred))"
      ],
      "execution_count": null,
      "outputs": [
        {
          "output_type": "stream",
          "text": [
            "Training accuracy is: 0.976413500813857\n"
          ],
          "name": "stdout"
        }
      ]
    },
    {
      "cell_type": "markdown",
      "metadata": {
        "id": "Mx0uBQIT_CpL"
      },
      "source": [
        "Our algorithm has an excellent accuracy on training data. \n",
        "\n",
        "**17-Predict now test data and compute accuracy. Compare training accuracy and test accuracy. What is the conclusion we can make ?** \n"
      ]
    },
    {
      "cell_type": "code",
      "metadata": {
        "id": "1NanWvlj_VnQ",
        "colab": {
          "base_uri": "https://localhost:8080/"
        },
        "outputId": "b7ca286e-c9ec-4c31-cc08-44f8c8cb8311"
      },
      "source": [
        "y_test_pred = model.predict(encoded_x_test)\n",
        "print(\"Test accuracy is:\", accuracy_score(y_test,y_test_pred))"
      ],
      "execution_count": null,
      "outputs": [
        {
          "output_type": "stream",
          "text": [
            "Test accuracy is: 0.8126650697131625\n"
          ],
          "name": "stdout"
        }
      ]
    },
    {
      "cell_type": "markdown",
      "metadata": {
        "id": "rvJJkTbVXqdX"
      },
      "source": [
        "### Using One Hot Encoder\n",
        "\n",
        "Now we are going to do the same steps  but using one hot encoding. \n",
        "There is one problem with One Hot Encoder as it is defined in sklearn.processing. That's why we prefer to use the function  \n",
        "\n",
        "**18- Encode data using One Hot Encoding and split data to test and train**\n"
      ]
    },
    {
      "cell_type": "code",
      "metadata": {
        "id": "hkOJuN_qHZF2",
        "colab": {
          "base_uri": "https://localhost:8080/",
          "height": 311
        },
        "outputId": "009b9ca3-30cc-42df-c85c-c9b786d11624"
      },
      "source": [
        "encoded_combined_data = pd.get_dummies(combined_data)\n",
        "# split the data to again to train and test\n",
        "encoded_x_train = encoded_combined_data[:train_size]\n",
        "encoded_x_test = encoded_combined_data[train_size:train_size+test_size]\n",
        "encoded_combined_data.shape\n",
        "encoded_combined_data.head()"
      ],
      "execution_count": null,
      "outputs": [
        {
          "output_type": "execute_result",
          "data": {
            "text/html": [
              "<div>\n",
              "<style scoped>\n",
              "    .dataframe tbody tr th:only-of-type {\n",
              "        vertical-align: middle;\n",
              "    }\n",
              "\n",
              "    .dataframe tbody tr th {\n",
              "        vertical-align: top;\n",
              "    }\n",
              "\n",
              "    .dataframe thead th {\n",
              "        text-align: right;\n",
              "    }\n",
              "</style>\n",
              "<table border=\"1\" class=\"dataframe\">\n",
              "  <thead>\n",
              "    <tr style=\"text-align: right;\">\n",
              "      <th></th>\n",
              "      <th>age</th>\n",
              "      <th>education-num</th>\n",
              "      <th>capital-gain</th>\n",
              "      <th>capital-loss</th>\n",
              "      <th>hours-per-week</th>\n",
              "      <th>workclass_ ?</th>\n",
              "      <th>workclass_ Federal-gov</th>\n",
              "      <th>workclass_ Local-gov</th>\n",
              "      <th>workclass_ Never-worked</th>\n",
              "      <th>workclass_ Private</th>\n",
              "      <th>workclass_ Self-emp-inc</th>\n",
              "      <th>workclass_ Self-emp-not-inc</th>\n",
              "      <th>workclass_ State-gov</th>\n",
              "      <th>workclass_ Without-pay</th>\n",
              "      <th>marital-status_ Divorced</th>\n",
              "      <th>marital-status_ Married-AF-spouse</th>\n",
              "      <th>marital-status_ Married-civ-spouse</th>\n",
              "      <th>marital-status_ Married-spouse-absent</th>\n",
              "      <th>marital-status_ Never-married</th>\n",
              "      <th>marital-status_ Separated</th>\n",
              "      <th>marital-status_ Widowed</th>\n",
              "      <th>occupation_ ?</th>\n",
              "      <th>occupation_ Adm-clerical</th>\n",
              "      <th>occupation_ Armed-Forces</th>\n",
              "      <th>occupation_ Craft-repair</th>\n",
              "      <th>occupation_ Exec-managerial</th>\n",
              "      <th>occupation_ Farming-fishing</th>\n",
              "      <th>occupation_ Handlers-cleaners</th>\n",
              "      <th>occupation_ Machine-op-inspct</th>\n",
              "      <th>occupation_ Other-service</th>\n",
              "      <th>occupation_ Priv-house-serv</th>\n",
              "      <th>occupation_ Prof-specialty</th>\n",
              "      <th>occupation_ Protective-serv</th>\n",
              "      <th>occupation_ Sales</th>\n",
              "      <th>occupation_ Tech-support</th>\n",
              "      <th>occupation_ Transport-moving</th>\n",
              "      <th>relationship_ Husband</th>\n",
              "      <th>relationship_ Not-in-family</th>\n",
              "      <th>relationship_ Other-relative</th>\n",
              "      <th>relationship_ Own-child</th>\n",
              "      <th>...</th>\n",
              "      <th>native-country_ Canada</th>\n",
              "      <th>native-country_ China</th>\n",
              "      <th>native-country_ Columbia</th>\n",
              "      <th>native-country_ Cuba</th>\n",
              "      <th>native-country_ Dominican-Republic</th>\n",
              "      <th>native-country_ Ecuador</th>\n",
              "      <th>native-country_ El-Salvador</th>\n",
              "      <th>native-country_ England</th>\n",
              "      <th>native-country_ France</th>\n",
              "      <th>native-country_ Germany</th>\n",
              "      <th>native-country_ Greece</th>\n",
              "      <th>native-country_ Guatemala</th>\n",
              "      <th>native-country_ Haiti</th>\n",
              "      <th>native-country_ Holand-Netherlands</th>\n",
              "      <th>native-country_ Honduras</th>\n",
              "      <th>native-country_ Hong</th>\n",
              "      <th>native-country_ Hungary</th>\n",
              "      <th>native-country_ India</th>\n",
              "      <th>native-country_ Iran</th>\n",
              "      <th>native-country_ Ireland</th>\n",
              "      <th>native-country_ Italy</th>\n",
              "      <th>native-country_ Jamaica</th>\n",
              "      <th>native-country_ Japan</th>\n",
              "      <th>native-country_ Laos</th>\n",
              "      <th>native-country_ Mexico</th>\n",
              "      <th>native-country_ Nicaragua</th>\n",
              "      <th>native-country_ Outlying-US(Guam-USVI-etc)</th>\n",
              "      <th>native-country_ Peru</th>\n",
              "      <th>native-country_ Philippines</th>\n",
              "      <th>native-country_ Poland</th>\n",
              "      <th>native-country_ Portugal</th>\n",
              "      <th>native-country_ Puerto-Rico</th>\n",
              "      <th>native-country_ Scotland</th>\n",
              "      <th>native-country_ South</th>\n",
              "      <th>native-country_ Taiwan</th>\n",
              "      <th>native-country_ Thailand</th>\n",
              "      <th>native-country_ Trinadad&amp;Tobago</th>\n",
              "      <th>native-country_ United-States</th>\n",
              "      <th>native-country_ Vietnam</th>\n",
              "      <th>native-country_ Yugoslavia</th>\n",
              "    </tr>\n",
              "  </thead>\n",
              "  <tbody>\n",
              "    <tr>\n",
              "      <th>0</th>\n",
              "      <td>39</td>\n",
              "      <td>13.0</td>\n",
              "      <td>2174.0</td>\n",
              "      <td>0.0</td>\n",
              "      <td>40.0</td>\n",
              "      <td>0</td>\n",
              "      <td>0</td>\n",
              "      <td>0</td>\n",
              "      <td>0</td>\n",
              "      <td>0</td>\n",
              "      <td>0</td>\n",
              "      <td>0</td>\n",
              "      <td>1</td>\n",
              "      <td>0</td>\n",
              "      <td>0</td>\n",
              "      <td>0</td>\n",
              "      <td>0</td>\n",
              "      <td>0</td>\n",
              "      <td>1</td>\n",
              "      <td>0</td>\n",
              "      <td>0</td>\n",
              "      <td>0</td>\n",
              "      <td>1</td>\n",
              "      <td>0</td>\n",
              "      <td>0</td>\n",
              "      <td>0</td>\n",
              "      <td>0</td>\n",
              "      <td>0</td>\n",
              "      <td>0</td>\n",
              "      <td>0</td>\n",
              "      <td>0</td>\n",
              "      <td>0</td>\n",
              "      <td>0</td>\n",
              "      <td>0</td>\n",
              "      <td>0</td>\n",
              "      <td>0</td>\n",
              "      <td>0</td>\n",
              "      <td>1</td>\n",
              "      <td>0</td>\n",
              "      <td>0</td>\n",
              "      <td>...</td>\n",
              "      <td>0</td>\n",
              "      <td>0</td>\n",
              "      <td>0</td>\n",
              "      <td>0</td>\n",
              "      <td>0</td>\n",
              "      <td>0</td>\n",
              "      <td>0</td>\n",
              "      <td>0</td>\n",
              "      <td>0</td>\n",
              "      <td>0</td>\n",
              "      <td>0</td>\n",
              "      <td>0</td>\n",
              "      <td>0</td>\n",
              "      <td>0</td>\n",
              "      <td>0</td>\n",
              "      <td>0</td>\n",
              "      <td>0</td>\n",
              "      <td>0</td>\n",
              "      <td>0</td>\n",
              "      <td>0</td>\n",
              "      <td>0</td>\n",
              "      <td>0</td>\n",
              "      <td>0</td>\n",
              "      <td>0</td>\n",
              "      <td>0</td>\n",
              "      <td>0</td>\n",
              "      <td>0</td>\n",
              "      <td>0</td>\n",
              "      <td>0</td>\n",
              "      <td>0</td>\n",
              "      <td>0</td>\n",
              "      <td>0</td>\n",
              "      <td>0</td>\n",
              "      <td>0</td>\n",
              "      <td>0</td>\n",
              "      <td>0</td>\n",
              "      <td>0</td>\n",
              "      <td>1</td>\n",
              "      <td>0</td>\n",
              "      <td>0</td>\n",
              "    </tr>\n",
              "    <tr>\n",
              "      <th>1</th>\n",
              "      <td>50</td>\n",
              "      <td>13.0</td>\n",
              "      <td>0.0</td>\n",
              "      <td>0.0</td>\n",
              "      <td>13.0</td>\n",
              "      <td>0</td>\n",
              "      <td>0</td>\n",
              "      <td>0</td>\n",
              "      <td>0</td>\n",
              "      <td>0</td>\n",
              "      <td>0</td>\n",
              "      <td>1</td>\n",
              "      <td>0</td>\n",
              "      <td>0</td>\n",
              "      <td>0</td>\n",
              "      <td>0</td>\n",
              "      <td>1</td>\n",
              "      <td>0</td>\n",
              "      <td>0</td>\n",
              "      <td>0</td>\n",
              "      <td>0</td>\n",
              "      <td>0</td>\n",
              "      <td>0</td>\n",
              "      <td>0</td>\n",
              "      <td>0</td>\n",
              "      <td>1</td>\n",
              "      <td>0</td>\n",
              "      <td>0</td>\n",
              "      <td>0</td>\n",
              "      <td>0</td>\n",
              "      <td>0</td>\n",
              "      <td>0</td>\n",
              "      <td>0</td>\n",
              "      <td>0</td>\n",
              "      <td>0</td>\n",
              "      <td>0</td>\n",
              "      <td>1</td>\n",
              "      <td>0</td>\n",
              "      <td>0</td>\n",
              "      <td>0</td>\n",
              "      <td>...</td>\n",
              "      <td>0</td>\n",
              "      <td>0</td>\n",
              "      <td>0</td>\n",
              "      <td>0</td>\n",
              "      <td>0</td>\n",
              "      <td>0</td>\n",
              "      <td>0</td>\n",
              "      <td>0</td>\n",
              "      <td>0</td>\n",
              "      <td>0</td>\n",
              "      <td>0</td>\n",
              "      <td>0</td>\n",
              "      <td>0</td>\n",
              "      <td>0</td>\n",
              "      <td>0</td>\n",
              "      <td>0</td>\n",
              "      <td>0</td>\n",
              "      <td>0</td>\n",
              "      <td>0</td>\n",
              "      <td>0</td>\n",
              "      <td>0</td>\n",
              "      <td>0</td>\n",
              "      <td>0</td>\n",
              "      <td>0</td>\n",
              "      <td>0</td>\n",
              "      <td>0</td>\n",
              "      <td>0</td>\n",
              "      <td>0</td>\n",
              "      <td>0</td>\n",
              "      <td>0</td>\n",
              "      <td>0</td>\n",
              "      <td>0</td>\n",
              "      <td>0</td>\n",
              "      <td>0</td>\n",
              "      <td>0</td>\n",
              "      <td>0</td>\n",
              "      <td>0</td>\n",
              "      <td>1</td>\n",
              "      <td>0</td>\n",
              "      <td>0</td>\n",
              "    </tr>\n",
              "    <tr>\n",
              "      <th>2</th>\n",
              "      <td>38</td>\n",
              "      <td>9.0</td>\n",
              "      <td>0.0</td>\n",
              "      <td>0.0</td>\n",
              "      <td>40.0</td>\n",
              "      <td>0</td>\n",
              "      <td>0</td>\n",
              "      <td>0</td>\n",
              "      <td>0</td>\n",
              "      <td>1</td>\n",
              "      <td>0</td>\n",
              "      <td>0</td>\n",
              "      <td>0</td>\n",
              "      <td>0</td>\n",
              "      <td>1</td>\n",
              "      <td>0</td>\n",
              "      <td>0</td>\n",
              "      <td>0</td>\n",
              "      <td>0</td>\n",
              "      <td>0</td>\n",
              "      <td>0</td>\n",
              "      <td>0</td>\n",
              "      <td>0</td>\n",
              "      <td>0</td>\n",
              "      <td>0</td>\n",
              "      <td>0</td>\n",
              "      <td>0</td>\n",
              "      <td>1</td>\n",
              "      <td>0</td>\n",
              "      <td>0</td>\n",
              "      <td>0</td>\n",
              "      <td>0</td>\n",
              "      <td>0</td>\n",
              "      <td>0</td>\n",
              "      <td>0</td>\n",
              "      <td>0</td>\n",
              "      <td>0</td>\n",
              "      <td>1</td>\n",
              "      <td>0</td>\n",
              "      <td>0</td>\n",
              "      <td>...</td>\n",
              "      <td>0</td>\n",
              "      <td>0</td>\n",
              "      <td>0</td>\n",
              "      <td>0</td>\n",
              "      <td>0</td>\n",
              "      <td>0</td>\n",
              "      <td>0</td>\n",
              "      <td>0</td>\n",
              "      <td>0</td>\n",
              "      <td>0</td>\n",
              "      <td>0</td>\n",
              "      <td>0</td>\n",
              "      <td>0</td>\n",
              "      <td>0</td>\n",
              "      <td>0</td>\n",
              "      <td>0</td>\n",
              "      <td>0</td>\n",
              "      <td>0</td>\n",
              "      <td>0</td>\n",
              "      <td>0</td>\n",
              "      <td>0</td>\n",
              "      <td>0</td>\n",
              "      <td>0</td>\n",
              "      <td>0</td>\n",
              "      <td>0</td>\n",
              "      <td>0</td>\n",
              "      <td>0</td>\n",
              "      <td>0</td>\n",
              "      <td>0</td>\n",
              "      <td>0</td>\n",
              "      <td>0</td>\n",
              "      <td>0</td>\n",
              "      <td>0</td>\n",
              "      <td>0</td>\n",
              "      <td>0</td>\n",
              "      <td>0</td>\n",
              "      <td>0</td>\n",
              "      <td>1</td>\n",
              "      <td>0</td>\n",
              "      <td>0</td>\n",
              "    </tr>\n",
              "    <tr>\n",
              "      <th>3</th>\n",
              "      <td>53</td>\n",
              "      <td>7.0</td>\n",
              "      <td>0.0</td>\n",
              "      <td>0.0</td>\n",
              "      <td>40.0</td>\n",
              "      <td>0</td>\n",
              "      <td>0</td>\n",
              "      <td>0</td>\n",
              "      <td>0</td>\n",
              "      <td>1</td>\n",
              "      <td>0</td>\n",
              "      <td>0</td>\n",
              "      <td>0</td>\n",
              "      <td>0</td>\n",
              "      <td>0</td>\n",
              "      <td>0</td>\n",
              "      <td>1</td>\n",
              "      <td>0</td>\n",
              "      <td>0</td>\n",
              "      <td>0</td>\n",
              "      <td>0</td>\n",
              "      <td>0</td>\n",
              "      <td>0</td>\n",
              "      <td>0</td>\n",
              "      <td>0</td>\n",
              "      <td>0</td>\n",
              "      <td>0</td>\n",
              "      <td>1</td>\n",
              "      <td>0</td>\n",
              "      <td>0</td>\n",
              "      <td>0</td>\n",
              "      <td>0</td>\n",
              "      <td>0</td>\n",
              "      <td>0</td>\n",
              "      <td>0</td>\n",
              "      <td>0</td>\n",
              "      <td>1</td>\n",
              "      <td>0</td>\n",
              "      <td>0</td>\n",
              "      <td>0</td>\n",
              "      <td>...</td>\n",
              "      <td>0</td>\n",
              "      <td>0</td>\n",
              "      <td>0</td>\n",
              "      <td>0</td>\n",
              "      <td>0</td>\n",
              "      <td>0</td>\n",
              "      <td>0</td>\n",
              "      <td>0</td>\n",
              "      <td>0</td>\n",
              "      <td>0</td>\n",
              "      <td>0</td>\n",
              "      <td>0</td>\n",
              "      <td>0</td>\n",
              "      <td>0</td>\n",
              "      <td>0</td>\n",
              "      <td>0</td>\n",
              "      <td>0</td>\n",
              "      <td>0</td>\n",
              "      <td>0</td>\n",
              "      <td>0</td>\n",
              "      <td>0</td>\n",
              "      <td>0</td>\n",
              "      <td>0</td>\n",
              "      <td>0</td>\n",
              "      <td>0</td>\n",
              "      <td>0</td>\n",
              "      <td>0</td>\n",
              "      <td>0</td>\n",
              "      <td>0</td>\n",
              "      <td>0</td>\n",
              "      <td>0</td>\n",
              "      <td>0</td>\n",
              "      <td>0</td>\n",
              "      <td>0</td>\n",
              "      <td>0</td>\n",
              "      <td>0</td>\n",
              "      <td>0</td>\n",
              "      <td>1</td>\n",
              "      <td>0</td>\n",
              "      <td>0</td>\n",
              "    </tr>\n",
              "    <tr>\n",
              "      <th>4</th>\n",
              "      <td>28</td>\n",
              "      <td>13.0</td>\n",
              "      <td>0.0</td>\n",
              "      <td>0.0</td>\n",
              "      <td>40.0</td>\n",
              "      <td>0</td>\n",
              "      <td>0</td>\n",
              "      <td>0</td>\n",
              "      <td>0</td>\n",
              "      <td>1</td>\n",
              "      <td>0</td>\n",
              "      <td>0</td>\n",
              "      <td>0</td>\n",
              "      <td>0</td>\n",
              "      <td>0</td>\n",
              "      <td>0</td>\n",
              "      <td>1</td>\n",
              "      <td>0</td>\n",
              "      <td>0</td>\n",
              "      <td>0</td>\n",
              "      <td>0</td>\n",
              "      <td>0</td>\n",
              "      <td>0</td>\n",
              "      <td>0</td>\n",
              "      <td>0</td>\n",
              "      <td>0</td>\n",
              "      <td>0</td>\n",
              "      <td>0</td>\n",
              "      <td>0</td>\n",
              "      <td>0</td>\n",
              "      <td>0</td>\n",
              "      <td>1</td>\n",
              "      <td>0</td>\n",
              "      <td>0</td>\n",
              "      <td>0</td>\n",
              "      <td>0</td>\n",
              "      <td>0</td>\n",
              "      <td>0</td>\n",
              "      <td>0</td>\n",
              "      <td>0</td>\n",
              "      <td>...</td>\n",
              "      <td>0</td>\n",
              "      <td>0</td>\n",
              "      <td>0</td>\n",
              "      <td>1</td>\n",
              "      <td>0</td>\n",
              "      <td>0</td>\n",
              "      <td>0</td>\n",
              "      <td>0</td>\n",
              "      <td>0</td>\n",
              "      <td>0</td>\n",
              "      <td>0</td>\n",
              "      <td>0</td>\n",
              "      <td>0</td>\n",
              "      <td>0</td>\n",
              "      <td>0</td>\n",
              "      <td>0</td>\n",
              "      <td>0</td>\n",
              "      <td>0</td>\n",
              "      <td>0</td>\n",
              "      <td>0</td>\n",
              "      <td>0</td>\n",
              "      <td>0</td>\n",
              "      <td>0</td>\n",
              "      <td>0</td>\n",
              "      <td>0</td>\n",
              "      <td>0</td>\n",
              "      <td>0</td>\n",
              "      <td>0</td>\n",
              "      <td>0</td>\n",
              "      <td>0</td>\n",
              "      <td>0</td>\n",
              "      <td>0</td>\n",
              "      <td>0</td>\n",
              "      <td>0</td>\n",
              "      <td>0</td>\n",
              "      <td>0</td>\n",
              "      <td>0</td>\n",
              "      <td>0</td>\n",
              "      <td>0</td>\n",
              "      <td>0</td>\n",
              "    </tr>\n",
              "  </tbody>\n",
              "</table>\n",
              "<p>5 rows × 91 columns</p>\n",
              "</div>"
            ],
            "text/plain": [
              "   age  education-num  ...  native-country_ Vietnam  native-country_ Yugoslavia\n",
              "0   39           13.0  ...                        0                           0\n",
              "1   50           13.0  ...                        0                           0\n",
              "2   38            9.0  ...                        0                           0\n",
              "3   53            7.0  ...                        0                           0\n",
              "4   28           13.0  ...                        0                           0\n",
              "\n",
              "[5 rows x 91 columns]"
            ]
          },
          "metadata": {
            "tags": []
          },
          "execution_count": 29
        }
      ]
    },
    {
      "cell_type": "markdown",
      "metadata": {
        "id": "t4ueLDeIZE4K"
      },
      "source": [
        "**19- Fit a new model on encoded data.**"
      ]
    },
    {
      "cell_type": "code",
      "metadata": {
        "id": "zi0ki70JYZnp",
        "colab": {
          "base_uri": "https://localhost:8080/"
        },
        "outputId": "ac4e308a-749c-48c2-ec2a-76292e03c8b7"
      },
      "source": [
        "model_2 = DecisionTreeClassifier(random_state=0)\n",
        "model_2.fit(encoded_x_train,y_train)\n"
      ],
      "execution_count": null,
      "outputs": [
        {
          "output_type": "execute_result",
          "data": {
            "text/plain": [
              "DecisionTreeClassifier(ccp_alpha=0.0, class_weight=None, criterion='gini',\n",
              "                       max_depth=None, max_features=None, max_leaf_nodes=None,\n",
              "                       min_impurity_decrease=0.0, min_impurity_split=None,\n",
              "                       min_samples_leaf=1, min_samples_split=2,\n",
              "                       min_weight_fraction_leaf=0.0, presort='deprecated',\n",
              "                       random_state=0, splitter='best')"
            ]
          },
          "metadata": {
            "tags": []
          },
          "execution_count": 30
        }
      ]
    },
    {
      "cell_type": "markdown",
      "metadata": {
        "id": "ipR3O6VlLvZ4"
      },
      "source": [
        "**20- Predict train and test labels using the new model and compute accuracy score each time. Comment on results.**\n"
      ]
    },
    {
      "cell_type": "code",
      "metadata": {
        "id": "E6E3tvvIBS4g",
        "colab": {
          "base_uri": "https://localhost:8080/"
        },
        "outputId": "ab06138e-9a61-4296-c36a-af576537a693"
      },
      "source": [
        "# Predicting training labels\n",
        "y_train_pred = model_2.predict(encoded_x_train)\n",
        "print(\"Training accuracy is:\", accuracy_score(y_train,y_train_pred))\n",
        "\n",
        "# Predicting test labels\n",
        "y_test_pred = model_2.predict(encoded_x_test)\n",
        "print(\"Test accuracy is:\", accuracy_score(y_test,y_test_pred))"
      ],
      "execution_count": null,
      "outputs": [
        {
          "output_type": "stream",
          "text": [
            "Training accuracy is: 0.976413500813857\n",
            "Test accuracy is: 0.816964559916467\n"
          ],
          "name": "stdout"
        }
      ]
    },
    {
      "cell_type": "markdown",
      "metadata": {
        "id": "71wrhSU4eFyU"
      },
      "source": [
        "In both encoding methods, we have high training accuracies with significantly lower test accuracies. This means we have some overfitting on our data. \n",
        "\n"
      ]
    },
    {
      "cell_type": "markdown",
      "metadata": {
        "id": "HbJhYm2LE0iU"
      },
      "source": [
        "How do we normally reduce overfitting in case of Decision Tree methods ?\n",
        "\n",
        "The most common way to reduce a tree is by pruning it. However, there is no built-in method that implement s cost complexity pruning for example, so unless if we want to properly define a pruning method we need to do changes that are slightly beyond the objective of this practice. \n",
        "\n",
        "Instead we have a simple alternative which is quite simple: when declaring the model with *DecisionTreeClassifier* function we can add an optional parameter *min_impurity_decrease*. This parameter controls the minimum decrease in criterion to perform a split. This means that if the best split in a given node provides a decrease inferior to this value, we will not allow the split to happen, and the node becomes a leaf node."
      ]
    },
    {
      "cell_type": "markdown",
      "metadata": {
        "id": "YCEIFw1kJzt5"
      },
      "source": [
        "### Improving model\n",
        "\n",
        "**21- Define a function which takes a *min_impurity_decrease* value, trains using this value and returns training and test accuracy scores in a form of a list of 2 values. Test the function with some values.**"
      ]
    },
    {
      "cell_type": "code",
      "metadata": {
        "id": "Duf_f-UGeGDA",
        "colab": {
          "base_uri": "https://localhost:8080/"
        },
        "outputId": "d4d3e91c-8017-4f53-a265-92e5780f966d"
      },
      "source": [
        "def train_pruned_tree(min_decrease):\n",
        "    model_2 = DecisionTreeClassifier(random_state=1, min_impurity_decrease = min_decrease )\n",
        "    model_2.fit(encoded_x_train,y_train)\n",
        "    y_train_pred = model_2.predict(encoded_x_train)\n",
        "    train_accuracy = accuracy_score(y_train,y_train_pred)\n",
        "    y_test_pred = model_2.predict(encoded_x_test)\n",
        "    test_accuracy = accuracy_score(y_test,y_test_pred)  \n",
        "    return ([train_accuracy, test_accuracy])\n",
        "\n",
        "\n",
        "train_pruned_tree(0.01)"
      ],
      "execution_count": null,
      "outputs": [
        {
          "output_type": "execute_result",
          "data": {
            "text/plain": [
              "[0.843770154479285, 0.8447884036607088]"
            ]
          },
          "metadata": {
            "tags": []
          },
          "execution_count": 32
        }
      ]
    },
    {
      "cell_type": "markdown",
      "metadata": {
        "id": "IU0c5NRSK7jY"
      },
      "source": [
        "**22- Train multiple models using varying values of *min_decrease* in the function and plot two lines: one for training accuracy scores and another for test accuracy scores.**\n",
        "Use logarithmic scale for *min_decrease*."
      ]
    },
    {
      "cell_type": "code",
      "metadata": {
        "id": "HmQKfCa4j7d9",
        "colab": {
          "base_uri": "https://localhost:8080/",
          "height": 298
        },
        "outputId": "cb3c6d31-9e12-4647-b73e-e6d98c36d24b"
      },
      "source": [
        "import numpy as np\n",
        "import matplotlib.pyplot as plt \n",
        "\n",
        "min_decrease_list = 10**(np.array(range(20,-70,-1))/10)\n",
        "a = [train_pruned_tree(min_decrease) for min_decrease in min_decrease_list]\n",
        "b = np.array(a)\n",
        "train_accuracies, test_accuracies = b[:,0],b[:,1]\n",
        "plt.plot(np.log10(min_decrease_list),train_accuracies, ) \n",
        "plt.plot(np.log10(min_decrease_list),test_accuracies )\n",
        "# plt.xscale('log')\n",
        "plt.legend([\"Train\",\"Test\"])\n",
        "plt.xlabel(\"Logarithmic scale of min_decrease\")\n",
        "plt.ylabel(\"Accuracy scores\")\n"
      ],
      "execution_count": null,
      "outputs": [
        {
          "output_type": "execute_result",
          "data": {
            "text/plain": [
              "Text(0, 0.5, 'Accuracy scores')"
            ]
          },
          "metadata": {
            "tags": []
          },
          "execution_count": 33
        },
        {
          "output_type": "display_data",
          "data": {
            "image/png": "[encoded data removed]",
            "text/plain": [
              "<Figure size 432x288 with 1 Axes>"
            ]
          },
          "metadata": {
            "tags": [],
            "needs_background": "light"
          }
        }
      ]
    },
    {
      "cell_type": "code",
      "metadata": {
        "id": "SWPwZ2HMn2P4"
      },
      "source": [
        "20, 19, 18, ...., 0, -1, -2, ..., -69\r\n",
        "2, 1.9, 1.8, ...., ..... 0, ..., -6.8, -6.9\r\n",
        "10**2, 2**1.9, ....                    10**(-6.9)\r\n",
        "\r\n",
        "\r\n",
        "0, 0.0001, .... 0.9999, 1"
      ],
      "execution_count": null,
      "outputs": []
    },
    {
      "cell_type": "code",
      "metadata": {
        "id": "HexaxPD-mYrx"
      },
      "source": [
        "min_decrease_list"
      ],
      "execution_count": null,
      "outputs": []
    },
    {
      "cell_type": "code",
      "metadata": {
        "id": "YA_avNV7kUnu"
      },
      "source": [
        ""
      ],
      "execution_count": null,
      "outputs": []
    },
    {
      "cell_type": "markdown",
      "metadata": {
        "id": "jhkx5bWKRefy"
      },
      "source": [
        " **23- Comment on the results you get and choose an optimal value for *min_decrease*.** \n",
        "\n"
      ]
    },
    {
      "cell_type": "markdown",
      "metadata": {
        "id": "o5gLvhMLVj0c"
      },
      "source": [
        "We have quite the same training accuracy with slightly better test accuracy compared to a single tree without parameter tuning. "
      ]
    },
    {
      "cell_type": "markdown",
      "metadata": {
        "id": "wwAWIDGTWKYf"
      },
      "source": [
        "### Random Forest model\n",
        "\n",
        "We have seen how to improve a simple Decision Tree using varying parameters of the model. However, this is not the most common way to get improve tree based models. A more common method is to use Random Forests. The only reason we might not want random forest is to keep interpretability guaranteed by a single tree.\n",
        "\n",
        "In the same way as before, we will build a Random Forest model. \n",
        "\n",
        "We won't change default parameters in the first place. \n",
        "\n",
        "**24- Train a Random Forest on the data and get training and accuracy scores. Comment on the results.** \n",
        "\n"
      ]
    },
    {
      "cell_type": "code",
      "metadata": {
        "id": "UzF3SnQDNxJO",
        "colab": {
          "base_uri": "https://localhost:8080/"
        },
        "outputId": "b69ec484-decf-4903-ea47-befe3e0edd08"
      },
      "source": [
        "from sklearn.ensemble import RandomForestClassifier\n",
        "\n",
        "\n",
        "model_3 = RandomForestClassifier(random_state=0)\n",
        "model_3.fit(encoded_x_train,y_train)\n",
        "\n",
        "y_train_pred = model_3.predict(encoded_x_train)\n",
        "print(\"Training accuracy is:\", accuracy_score(y_train,y_train_pred))\n",
        "\n",
        "y_test_pred = model_3.predict(encoded_x_test)\n",
        "print(\"Test accuracy is:\", accuracy_score(y_test,y_test_pred))"
      ],
      "execution_count": null,
      "outputs": [
        {
          "output_type": "stream",
          "text": [
            "Training accuracy is: 0.976413500813857\n",
            "Test accuracy is: 0.8480437319574965\n"
          ],
          "name": "stdout"
        }
      ]
    },
    {
      "cell_type": "markdown",
      "metadata": {
        "id": "60VHnfaVXoHr"
      },
      "source": [
        "### Improving model\n",
        "\n"
      ]
    },
    {
      "cell_type": "markdown",
      "metadata": {
        "id": "BfM7JRrdYI3K"
      },
      "source": [
        "There are multiple parameters we can change to improve our Random Forest model. But if we vary all hyperparameters, it might take a very long time to find the optimal combination, thsus we are only going use 3 of them:\n",
        "\n",
        "*   *min_impurity_decrease*: same as before\n",
        "*   *n_estimators*: number of trees in our Random Forest\n",
        "*   *max_features*: number of features we use in each iteration of the Random Forest algorithm (cf. lecture)\n",
        "\n",
        "For  *min_impurity_decrease* we will use the same optimal value as before (it appears it is also optimal here) 0.00001.\n",
        "\n",
        "**25-Implement a Random Forest model using this value.**"
      ]
    },
    {
      "cell_type": "code",
      "metadata": {
        "id": "Y_YEdvWhX6Wq",
        "colab": {
          "base_uri": "https://localhost:8080/"
        },
        "outputId": "4c84ef68-68cf-4b8e-cb82-b89ce13797fd"
      },
      "source": [
        "model_3 = RandomForestClassifier(random_state=0, min_impurity_decrease=0.00001)\n",
        "model_3.fit(encoded_x_train,y_train)\n",
        "\n",
        "y_train_pred = model_3.predict(encoded_x_train)\n",
        "print(\"Training accuracy is:\", accuracy_score(y_train,y_train_pred))\n",
        "\n",
        "y_test_pred = model_3.predict(encoded_x_test)\n",
        "print(\"Test accuracy is:\", accuracy_score(y_test,y_test_pred))"
      ],
      "execution_count": null,
      "outputs": [
        {
          "output_type": "stream",
          "text": [
            "Training accuracy is: 0.8956727373237923\n",
            "Test accuracy is: 0.8662244333886125\n"
          ],
          "name": "stdout"
        }
      ]
    },
    {
      "cell_type": "markdown",
      "metadata": {
        "id": "YnuAhOUbcbzk"
      },
      "source": [
        "To find the best combination of hyperarameters we have chosen to change, we are going simply train the model on different combinations and we pick the best combination.\n",
        "\n",
        "**26- Define possible combinations of n_estimators and max_features, train a model per possible combinations, compute accuracies and finally the best combination.**\n",
        "\n",
        "Values of n_estimators (i.e. number of trees) can be any number>=1 but typical values are inferior to 500. \n",
        "For max_features t should necessarily be inferior to the total number of features.\n",
        "\n",
        "Tip: what might be useful is to define a function that a takes a  combination as an input then fits the model and gives accuracy scores as output."
      ]
    },
    {
      "cell_type": "code",
      "metadata": {
        "id": "dYdUcr0NbLGY",
        "colab": {
          "base_uri": "https://localhost:8080/"
        },
        "outputId": "5c6fdfc2-38f3-4da0-e2d6-472ab7a3812f"
      },
      "source": [
        "# we define the function just like train_pruned_tree function\n",
        "from tqdm import tqdm\n",
        "\n",
        "def train_for_comb(n_estimators, max_features):\n",
        "    model_2 = RandomForestClassifier(random_state=1, min_impurity_decrease\n",
        "                                     = 0.0001, n_estimators= n_estimators,\n",
        "                                     max_features= max_features )\n",
        "    model_2.fit(encoded_x_train,y_train)\n",
        "    y_train_pred = model_2.predict(encoded_x_train)\n",
        "    train_accuracy = accuracy_score(y_train,y_train_pred)\n",
        "    y_test_pred = model_2.predict(encoded_x_test)\n",
        "    test_accuracy = accuracy_score(y_test,y_test_pred)  \n",
        "    return ([train_accuracy, test_accuracy])\n",
        " \n",
        "n_estimators_list = [50,100,200,300,500]\n",
        "max_features_list = [int(i) for i in np.linspace(1,encoded_x_train.shape[1], 10)]\n",
        "\n",
        "# dictionary where we are going to store accuracy scores for each combination   \n",
        "accuracy_dic ={}\n",
        "\n",
        "# loop to compute all accuracies\n",
        "for n_estimators in tqdm(n_estimators_list):\n",
        "    for max_features in tqdm(max_features_list):\n",
        "        x = train_for_comb(n_estimators, max_features)\n",
        "        accuracy_dic[(n_estimators, max_features)]= x\n",
        "        "
      ],
      "execution_count": null,
      "outputs": [
        {
          "output_type": "stream",
          "text": [
            "  0%|          | 0/5 [00:00<?, ?it/s]\n",
            "  0%|          | 0/10 [00:00<?, ?it/s]\u001b[A\n",
            " 10%|█         | 1/10 [00:00<00:03,  2.99it/s]\u001b[A\n",
            " 20%|██        | 2/10 [00:01<00:04,  1.93it/s]\u001b[A\n",
            " 30%|███       | 3/10 [00:02<00:05,  1.26it/s]\u001b[A\n",
            " 40%|████      | 4/10 [00:04<00:06,  1.14s/it]\u001b[A\n",
            " 50%|█████     | 5/10 [00:07<00:07,  1.55s/it]\u001b[A\n",
            " 60%|██████    | 6/10 [00:10<00:07,  1.98s/it]\u001b[A\n",
            " 70%|███████   | 7/10 [00:13<00:07,  2.44s/it]\u001b[A\n",
            " 80%|████████  | 8/10 [00:17<00:05,  2.92s/it]\u001b[A\n",
            " 90%|█████████ | 9/10 [00:22<00:03,  3.42s/it]\u001b[A\n",
            "100%|██████████| 10/10 [00:27<00:00,  2.74s/it]\n",
            " 20%|██        | 1/5 [00:27<01:49, 27.43s/it]\n",
            "  0%|          | 0/10 [00:00<?, ?it/s]\u001b[A\n",
            " 10%|█         | 1/10 [00:00<00:05,  1.59it/s]\u001b[A\n",
            " 20%|██        | 2/10 [00:02<00:07,  1.00it/s]\u001b[A\n",
            " 30%|███       | 3/10 [00:05<00:10,  1.56s/it]\u001b[A\n",
            " 40%|████      | 4/10 [00:09<00:13,  2.26s/it]\u001b[A\n",
            " 50%|█████     | 5/10 [00:14<00:15,  3.05s/it]\u001b[A\n",
            " 60%|██████    | 6/10 [00:19<00:15,  3.89s/it]\u001b[A\n",
            " 70%|███████   | 7/10 [00:26<00:14,  4.82s/it]\u001b[A\n",
            " 80%|████████  | 8/10 [00:34<00:11,  5.77s/it]\u001b[A\n",
            " 90%|█████████ | 9/10 [00:43<00:06,  6.72s/it]\u001b[A\n",
            "100%|██████████| 10/10 [00:54<00:00,  5.40s/it]\n",
            " 40%|████      | 2/5 [01:21<01:46, 35.40s/it]\n",
            "  0%|          | 0/10 [00:00<?, ?it/s]\u001b[A\n",
            " 10%|█         | 1/10 [00:01<00:10,  1.19s/it]\u001b[A\n",
            " 20%|██        | 2/10 [00:04<00:15,  1.90s/it]\u001b[A\n",
            " 30%|███       | 3/10 [00:10<00:21,  3.01s/it]\u001b[A\n",
            " 40%|████      | 4/10 [00:18<00:26,  4.40s/it]\u001b[A\n",
            " 50%|█████     | 5/10 [00:27<00:29,  5.99s/it]\u001b[A\n",
            " 60%|██████    | 6/10 [00:39<00:30,  7.70s/it]\u001b[A\n",
            " 70%|███████   | 7/10 [00:53<00:28,  9.50s/it]\u001b[A\n",
            " 80%|████████  | 8/10 [01:08<00:22, 11.38s/it]\u001b[A\n",
            " 90%|█████████ | 9/10 [01:26<00:13, 13.34s/it]\u001b[A\n",
            "100%|██████████| 10/10 [01:46<00:00, 10.67s/it]\n",
            " 60%|██████    | 3/5 [03:08<01:53, 56.78s/it]\n",
            "  0%|          | 0/10 [00:00<?, ?it/s]\u001b[A\n",
            " 10%|█         | 1/10 [00:01<00:15,  1.76s/it]\u001b[A\n",
            " 20%|██        | 2/10 [00:07<00:22,  2.87s/it]\u001b[A\n",
            " 30%|███       | 3/10 [00:15<00:31,  4.52s/it]\u001b[A\n",
            " 40%|████      | 4/10 [00:27<00:39,  6.59s/it]\u001b[A\n",
            " 50%|█████     | 5/10 [00:41<00:44,  8.92s/it]\u001b[A\n",
            " 60%|██████    | 6/10 [00:58<00:45, 11.47s/it]\u001b[A\n",
            " 70%|███████   | 7/10 [01:19<00:42, 14.17s/it]\u001b[A\n",
            " 80%|████████  | 8/10 [01:43<00:34, 17.06s/it]\u001b[A\n",
            " 90%|█████████ | 9/10 [02:09<00:19, 19.91s/it]\u001b[A\n",
            "100%|██████████| 10/10 [02:39<00:00, 15.97s/it]\n",
            " 80%|████████  | 4/5 [05:47<01:27, 87.65s/it]\n",
            "  0%|          | 0/10 [00:00<?, ?it/s]\u001b[A\n",
            " 10%|█         | 1/10 [00:02<00:25,  2.87s/it]\u001b[A\n",
            " 20%|██        | 2/10 [00:11<00:37,  4.69s/it]\u001b[A\n",
            " 30%|███       | 3/10 [00:25<00:52,  7.44s/it]\u001b[A\n",
            " 40%|████      | 4/10 [00:44<01:05, 10.85s/it]\u001b[A\n",
            " 50%|█████     | 5/10 [01:08<01:13, 14.74s/it]\u001b[A\n",
            " 60%|██████    | 6/10 [01:37<01:16, 19.04s/it]\u001b[A\n",
            " 70%|███████   | 7/10 [02:11<01:10, 23.47s/it]\u001b[A\n",
            " 80%|████████  | 8/10 [02:50<00:56, 28.17s/it]\u001b[A\n",
            " 90%|█████████ | 9/10 [03:34<00:32, 32.96s/it]\u001b[A\n",
            "100%|██████████| 10/10 [04:24<00:00, 26.41s/it]\n",
            "100%|██████████| 5/5 [10:11<00:00, 122.37s/it]\n"
          ],
          "name": "stderr"
        }
      ]
    },
    {
      "cell_type": "code",
      "metadata": {
        "id": "rEBkiZZZahmQ"
      },
      "source": [
        "curr_max = 0\n",
        "for i,j in accuracy_dic:\n",
        "  (train, test) = accuracy_dic[(i,j)]\n",
        "  if min(train, test) > curr_max:\n",
        "    curr_max = min(train, test)"
      ],
      "execution_count": null,
      "outputs": []
    },
    {
      "cell_type": "code",
      "metadata": {
        "colab": {
          "base_uri": "https://localhost:8080/"
        },
        "id": "YdpWpwgNr-Vx",
        "outputId": "b541a5a8-ff7c-4834-f95e-a107cfeb7a30"
      },
      "source": [
        "print(curr_max)"
      ],
      "execution_count": null,
      "outputs": [
        {
          "output_type": "stream",
          "text": [
            "0.8689883913764511\n"
          ],
          "name": "stdout"
        }
      ]
    },
    {
      "cell_type": "markdown",
      "metadata": {
        "id": "GTNdPRVySoES"
      },
      "source": [
        "*Optional*\n",
        "\n",
        "**27- Instead of manually looking for the best we can look for the best split. Use GridSearchCV to find it.** \n",
        "\n",
        "For help, consult [documentation](https://scikit-learn.org/stable/modules/generated/sklearn.model_selection.GridSearchCV.html#sklearn.model_selection.GridSearchCV). \n"
      ]
    },
    {
      "cell_type": "code",
      "metadata": {
        "colab": {
          "base_uri": "https://localhost:8080/"
        },
        "id": "VnNr_tfWtA5Y",
        "outputId": "09a7fdc3-8ff9-474d-de92-cb139b75c8a4"
      },
      "source": [
        "total_features"
      ],
      "execution_count": null,
      "outputs": [
        {
          "output_type": "execute_result",
          "data": {
            "text/plain": [
              "91"
            ]
          },
          "metadata": {
            "tags": []
          },
          "execution_count": 42
        }
      ]
    },
    {
      "cell_type": "code",
      "metadata": {
        "id": "tGgsSs9efWOr"
      },
      "source": [
        "# use label encoded data\n",
        "\n",
        "from sklearn.model_selection import GridSearchCV\n",
        "\n",
        "n_estimators = [int(i) for i in np.linspace(50,300,3 )]\n",
        "total_features = encoded_x_train.shape[1]\n",
        "max_features =[int(i) for i in np.linspace(1,total_features, 10)]\n",
        "tuned_parameters = {\n",
        "                    'n_estimators': n_estimators,\n",
        "                    'max_features': max_features}\n",
        "from sklearn.model_selection import GridSearchCV\n",
        "\n",
        "rf = RandomForestClassifier()\n",
        "grid_search = GridSearchCV(estimator=rf, param_grid=tuned_parameters, scoring =\"accuracy\")\n",
        "grid_search.fit(encoded_x_train, y_train)\n",
        "\n",
        "print(\"The best combination: \", grid_search.best_params_)\n",
        "\n",
        "y_test_pred = grid_search.predict(encoded_x_test)\n",
        "print(\"Test accuracy is:\", accuracy_score(y_test,y_test_pred))"
      ],
      "execution_count": null,
      "outputs": []
    },
    {
      "cell_type": "code",
      "metadata": {
        "id": "GQliB8zqqXeY"
      },
      "source": [
        ""
      ],
      "execution_count": null,
      "outputs": []
    }
  ]
}