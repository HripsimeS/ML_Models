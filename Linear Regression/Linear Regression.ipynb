{
  "nbformat": 4,
  "nbformat_minor": 0,
  "metadata": {
    "colab": {
      "name": "B1.1.2 -Linear_Regression_Teacher_Sheet.ipynb",
      "provenance": []
    },
    "kernelspec": {
      "display_name": "Python 3",
      "language": "python",
      "name": "python3"
    },
    "language_info": {
      "codemirror_mode": {
        "name": "ipython",
        "version": 3
      },
      "file_extension": ".py",
      "mimetype": "text/x-python",
      "name": "python",
      "nbconvert_exporter": "python",
      "pygments_lexer": "ipython3",
      "version": "3.7.3"
    }
  },
  "cells": [
    {
      "cell_type": "markdown",
      "metadata": {
        "id": "OOGE584Y-6j7"
      },
      "source": [
        "<h1 align=center><font size=5>Linear Regression</font></h1>"
      ]
    },
    {
      "cell_type": "markdown",
      "metadata": {
        "id": "ARyHHoq--6j9"
      },
      "source": [
        "## Table of contents\n",
        "\n",
        "\n",
        "- [Linear regression](#LR)\n",
        "    - [Data example](#LR_data)\n",
        "    - [Linear regression with analytical solution](#LR_analytical)\n",
        "    - [Linear regression with gradient descent](#LR_gradient_desc)\n",
        "    - [Linear regression with scikit-learn](#LR_scikitlearn)\n",
        "- [Polynomial regression](#poly_reg)\n",
        "    - [Data example](#poly_data)\n",
        "    - [Regression with polynomial features transformation](#reg_poly)\n",
        "    - [Underfitting vs Overfitting](#under_over_fitting)\n",
        "- [Summary](#summary)"
      ]
    },
    {
      "cell_type": "markdown",
      "metadata": {
        "id": "n9p9Z9Za-6j-"
      },
      "source": [
        "## Linear regression <a id='LR'></a>\n",
        "\n",
        "### Data example <a id=\"data\"></a>"
      ]
    },
    {
      "cell_type": "code",
      "metadata": {
        "id": "EpNgNeDn-6j_",
        "colab": {
          "base_uri": "https://localhost:8080/",
          "height": 283
        },
        "outputId": "e65c2957-1a17-412d-99d7-5c7fb77a1c4e"
      },
      "source": [
        "import numpy as np\n",
        "import matplotlib.pyplot as plt\n",
        "%matplotlib inline\n",
        "\n",
        "N = 100 # Number of data samples\n",
        "\n",
        "x = np.random.rand(N, 1)\n",
        "y = 10 + 30 * x + np.random.randn(N, 1)\n",
        "\n",
        "plt.plot(x, y, \"b.\")\n",
        "plt.xlabel(\"$x$\", fontsize=14)\n",
        "plt.ylabel(\"$y$\", rotation=0, fontsize=14)\n",
        "plt.show()"
      ],
      "execution_count": null,
      "outputs": [
        {
          "output_type": "display_data",
          "data": {
            "image/png": "[encoded data removed]",
            "text/plain": [
              "<Figure size 432x288 with 1 Axes>"
            ]
          },
          "metadata": {
            "tags": [],
            "needs_background": "light"
          }
        }
      ]
    },
    {
      "cell_type": "markdown",
      "metadata": {
        "id": "_Ku_VgSm-6kD"
      },
      "source": [
        "### Linear regression with analytical solution <a id=\"LR_analytical\"></a>\n",
        "\n",
        "In this part, we practice how to solve the linear regression problem using analytical solution that we learned in the lesson. Please follow the following steps:"
      ]
    },
    {
      "cell_type": "markdown",
      "metadata": {
        "id": "Zo3dx9DkOLwO"
      },
      "source": [
        "&#x270d; We want to compute the gradient $\\Delta_\\theta(J) $ of the loss :\r\n",
        "$$\r\n",
        "J(\\theta) = 1/n\\sum||X\\theta - Y||^2\r\n",
        "$$\r\n",
        "The goal is to find $\\theta^*$ so that $\\Delta_{\\theta}J = 0$. Then, using the analogy with a derivative, we will be able to conclude that $\\theta^*$ is a minimum of $\\Delta_{\\theta}J$.\r\n",
        "<i>Expected result : $\\theta^* = (X^TX)^{-1}(X^TY)$</i>"
      ]
    },
    {
      "cell_type": "markdown",
      "metadata": {
        "id": "pl3Hri3SOPHF"
      },
      "source": [
        "$$\r\n",
        "\\text{1. Check that }nJ(\\theta) = (X\\theta-Y)^T(X\\theta-Y) \\\\\r\n",
        "\\text{2. Expand the product and show that }\r\n",
        "nJ(\\theta) = \\theta^TX^TX\\theta -Y^TX\\theta-\\theta^TX^T Y + Y^TY\\\\\r\n",
        "\\text{We can show using 2. that}\\\\\r\n",
        "\\Delta_\\theta J = 2\\theta^TX^TX - 2Y^TX \\\\\r\n",
        "\\text{3. On $\\theta^*$, we have }\r\n",
        "\\Delta_\\theta J(\\theta^*) = 0.\r\n",
        "\\text{Write } \\theta^* \\text{ in function of X and Y}\r\n",
        "$$\r\n",
        "\r\n",
        "When using the gradient decent for optimization\r\n",
        "$$\r\n",
        "\\Delta J = \\frac{2}{n} (X\\theta -Y)^TX\r\n",
        "$$\r\n"
      ]
    },
    {
      "cell_type": "markdown",
      "metadata": {
        "id": "4D9CwtCd-6kE"
      },
      "source": [
        "&#x270d; Compute the model parameters based on what you learned in the lesson. Note that, in order to compute inverse of a matrix, you can use the inv() function from Numpy's linear algebra module (i.e., np.linalg)."
      ]
    },
    {
      "cell_type": "code",
      "metadata": {
        "id": "C3DSMVYu-6kF",
        "colab": {
          "base_uri": "https://localhost:8080/"
        },
        "outputId": "f126d0f7-ecd2-44b6-88b4-95e1db6df12d"
      },
      "source": [
        "def get_best_param(x, y):  \n",
        "    X = np.hstack((np.ones((N, 1)), x))\n",
        "    X_transpose = X.T   \n",
        "    best_params = np.linalg.inv(X_transpose.dot(X)).dot(X_transpose.dot(y)) \n",
        "    return best_params  \n",
        "\n",
        "theta_best = get_best_param(x, y)\n",
        "print('Estimated parameters:\\n', theta_best)"
      ],
      "execution_count": null,
      "outputs": [
        {
          "output_type": "stream",
          "text": [
            "Estimated parameters:\n",
            " [[ 9.93546682]\n",
            " [30.19246613]]\n"
          ],
          "name": "stdout"
        }
      ]
    },
    {
      "cell_type": "markdown",
      "metadata": {
        "id": "bEBxgq8p-6kJ"
      },
      "source": [
        "&#x270d; Plot the data and the fitted line"
      ]
    },
    {
      "cell_type": "code",
      "metadata": {
        "id": "TPF52_Qh-6kK",
        "colab": {
          "base_uri": "https://localhost:8080/",
          "height": 283
        },
        "outputId": "f8e10058-064f-49f1-c36c-06a901183886"
      },
      "source": [
        "X = np.hstack((np.ones((N, 1)), x)) \n",
        "y_pred = X.dot(theta_best)\n",
        "\n",
        "plt.plot(x, y, 'b.', label = 'Actual')\n",
        "plt.plot(x, y_pred, 'r-', label = 'Predicted')\n",
        "plt.xlabel('x', fontsize = 14)\n",
        "plt.ylabel('y', rotation = 0, fontsize = 14)\n",
        "plt.legend(loc='upper left')\n",
        "plt.show()"
      ],
      "execution_count": null,
      "outputs": [
        {
          "output_type": "display_data",
          "data": {
            "image/png": "[encoded data removed]",
            "text/plain": [
              "<Figure size 432x288 with 1 Axes>"
            ]
          },
          "metadata": {
            "tags": [],
            "needs_background": "light"
          }
        }
      ]
    },
    {
      "cell_type": "markdown",
      "metadata": {
        "id": "wIl950C9-6kM"
      },
      "source": [
        "&#x270d; Use the best parameter theta to make predictions over new data."
      ]
    },
    {
      "cell_type": "code",
      "metadata": {
        "id": "wz7PYWWL-6kN",
        "colab": {
          "base_uri": "https://localhost:8080/"
        },
        "outputId": "1d594e81-1062-4910-c8dd-2dbcb52790a3"
      },
      "source": [
        "x_new = np.array([[0.1], [0.7]])\n",
        "X_new = np.c_[np.ones((2, 1)), x_new] \n",
        "\n",
        "y_pred = X_new.dot(theta_best)\n",
        "y_pred"
      ],
      "execution_count": null,
      "outputs": [
        {
          "output_type": "execute_result",
          "data": {
            "text/plain": [
              "array([[12.95471343],\n",
              "       [31.07019311]])"
            ]
          },
          "metadata": {
            "tags": []
          },
          "execution_count": 5
        }
      ]
    },
    {
      "cell_type": "markdown",
      "metadata": {
        "id": "4CywOAA0-6kP"
      },
      "source": [
        "&#x270d; Plot the new data according to the prediction"
      ]
    },
    {
      "cell_type": "code",
      "metadata": {
        "id": "7khYWLSC-6kQ",
        "colab": {
          "base_uri": "https://localhost:8080/",
          "height": 283
        },
        "outputId": "237b9227-1607-4394-872d-b0f008422538"
      },
      "source": [
        "plt.plot(x_new, y_pred, \"ro\", label = 'Predicted')\n",
        "plt.plot(x, y, \"b.\", label = 'Actual')\n",
        "plt.xlabel('x', fontsize = 14)\n",
        "plt.ylabel('y', rotation = 0, fontsize = 14)\n",
        "plt.legend(loc='upper left')\n",
        "plt.show()"
      ],
      "execution_count": null,
      "outputs": [
        {
          "output_type": "display_data",
          "data": {
            "image/png": "[encoded data removed]",
            "text/plain": [
              "<Figure size 432x288 with 1 Axes>"
            ]
          },
          "metadata": {
            "tags": [],
            "needs_background": "light"
          }
        }
      ]
    },
    {
      "cell_type": "markdown",
      "metadata": {
        "id": "CXU6_l5c-6kS"
      },
      "source": [
        "### Linear regression with gradient descent <a id=\"LR_gradient_desc\"></a>\n",
        "\n",
        "Gradient Descent is a very generic optimization algorithm capable of finding optimal solutions to a wide range of problems. The general idea of Gradient Descent is to tweak parameters iteratively in order to minimize a cost function."
      ]
    },
    {
      "cell_type": "markdown",
      "metadata": {
        "id": "Nn7wlEKb-6kT"
      },
      "source": [
        "&#x270d; Implement the gradient descent algorithm in order to estimate the parameter theta and display it."
      ]
    },
    {
      "cell_type": "code",
      "metadata": {
        "id": "eN1nOXyy-6kU",
        "colab": {
          "base_uri": "https://localhost:8080/",
          "height": 67
        },
        "outputId": "3c9a2335-1475-4c64-b9ee-559ff901ddae"
      },
      "source": [
        "eta = 0.005 # Set learning rate\n",
        "n_iterations = 500000 # Set number of iterations\n",
        "theta = np.random.randn(2,1) # Initialize theta\n",
        "\n",
        "X = np.hstack((np.ones((N, 1)), x)) \n",
        "\n",
        "for iteration in range(n_iterations):\n",
        "    \n",
        "    gradients = 2/N * X.T.dot(X.dot(theta) - y)\n",
        "    \n",
        "    theta = theta - eta * gradients\n",
        "    \n",
        "print('Estimated theta\\n', theta)"
      ],
      "execution_count": null,
      "outputs": [
        {
          "output_type": "stream",
          "text": [
            "Estimated theta\n",
            " [[10.1689916 ]\n",
            " [29.60322324]]\n"
          ],
          "name": "stdout"
        }
      ]
    },
    {
      "cell_type": "markdown",
      "metadata": {
        "id": "Q17yqM1p-6kX"
      },
      "source": [
        "&#x270d; Plot the cost function versus training iterations"
      ]
    },
    {
      "cell_type": "code",
      "metadata": {
        "id": "XNi0NAJI-6kY",
        "colab": {
          "base_uri": "https://localhost:8080/",
          "height": 336
        },
        "outputId": "8c92cad3-2a6c-4fe4-caf7-f4dab00d49e6"
      },
      "source": [
        "eta = 0.75 # Set learning rate\n",
        "n_iterations = 500 # Set number of iterations\n",
        "theta = np.random.randn(2,1) # Initialize theta\n",
        "\n",
        "J = []\n",
        "for iteration in range(n_iterations):\n",
        "    \n",
        "    y_pred = X.dot(theta)\n",
        "    J.append(sum((y - X.dot(theta))**2)/len(y))\n",
        "    \n",
        "    gradients = 2/N * X.T.dot(X.dot(theta) - y)\n",
        "\n",
        "    theta = theta - eta * gradients\n",
        "    \n",
        "print('Estimated theta\\n', theta)\n",
        "\n",
        "plt.plot(J[200:])\n",
        "plt.xlabel('Iterations', fontsize = 14)\n",
        "plt.ylabel('J', rotation = 0, fontsize = 14)\n",
        "plt.show()"
      ],
      "execution_count": null,
      "outputs": [
        {
          "output_type": "stream",
          "text": [
            "Estimated theta\n",
            " [[ 9.92275383]\n",
            " [30.18500202]]\n"
          ],
          "name": "stdout"
        },
        {
          "output_type": "display_data",
          "data": {
            "image/png": "[encoded data removed]",
            "text/plain": [
              "<Figure size 432x288 with 1 Axes>"
            ]
          },
          "metadata": {
            "tags": [],
            "needs_background": "light"
          }
        }
      ]
    },
    {
      "cell_type": "markdown",
      "metadata": {
        "id": "rjKUArkHx2Rh"
      },
      "source": [
        "&#x270d; Measure performance of the linear regression model using the following metrics:\n",
        "\n",
        "1. Mean Absolute Error (MAE)\n",
        "$$\n",
        "\\text{MAE} = \\frac{1}{N} \\sum_{n=1}^{N} {\\left|{y_n - \\hat{y}_n}\\right|}\n",
        "$$"
      ]
    },
    {
      "cell_type": "code",
      "metadata": {
        "id": "TDqMnKkcx2Rh",
        "outputId": "bffe6ad5-56aa-4a19-d591-6e955051fcf2"
      },
      "source": [
        "mae_sum = 0\n",
        "for Xn, yn in zip(X, y):\n",
        "    y_pred = Xn.dot(theta)\n",
        "    mae_sum += abs(yn - y_pred)\n",
        "mae = mae_sum/len(y)\n",
        "print('MAE:', mae)"
      ],
      "execution_count": null,
      "outputs": [
        {
          "output_type": "stream",
          "text": [
            "MAE: [0.82964148]\n"
          ],
          "name": "stdout"
        }
      ]
    },
    {
      "cell_type": "markdown",
      "metadata": {
        "id": "Qpx5EbZ9x2Rk"
      },
      "source": [
        "2. Mean Square Error (MSE)\n",
        "$$\n",
        "\\text{MSE} = \\frac{1}{N} \\sum_{n=1}^{N} {\\left({y_n - \\hat{y}_n}\\right)^2}\n",
        "$$"
      ]
    },
    {
      "cell_type": "code",
      "metadata": {
        "id": "sZcRByccx2Rk",
        "outputId": "9d4d381d-2c62-4f71-85c5-d5a17164c44f"
      },
      "source": [
        "mse_sum = 0\n",
        "for Xn, yn in zip(X, y):\n",
        "    y_pred = Xn.dot(theta)\n",
        "    mse_sum += (yn - y_pred)**2\n",
        "mse = mse_sum/len(y)\n",
        "print('MSE:', mse)"
      ],
      "execution_count": null,
      "outputs": [
        {
          "output_type": "stream",
          "text": [
            "MSE: [1.08811502]\n"
          ],
          "name": "stdout"
        }
      ]
    },
    {
      "cell_type": "markdown",
      "metadata": {
        "id": "HsAzpBQSx2Ro"
      },
      "source": [
        "3. Mean Absolute Percentage Error (MAPE)\n",
        "$$\n",
        "\\text{MAPE} = \\frac{100\\%}{N} \\sum_{n=1}^{N} {\\left|\\frac{y_n - \\hat{y}_n}{y_n}\\right|}\n",
        "$$"
      ]
    },
    {
      "cell_type": "code",
      "metadata": {
        "id": "TneFrUzDx2Rp",
        "outputId": "8effdb7d-a14a-48cc-bfbe-545a9128118b"
      },
      "source": [
        "mape_sum = 0\n",
        "for Xn, yn in zip(X, y):\n",
        "    y_pred = Xn.dot(theta)\n",
        "    mape_sum += abs((yn - y_pred)/yn)\n",
        "mape = mape_sum*100/len(y)\n",
        "print('MAPE:', mape)"
      ],
      "execution_count": null,
      "outputs": [
        {
          "output_type": "stream",
          "text": [
            "MAPE: [3.66211821]\n"
          ],
          "name": "stdout"
        }
      ]
    },
    {
      "cell_type": "markdown",
      "metadata": {
        "id": "rkT7Z5SVx2Rr"
      },
      "source": [
        "4. Mean Percentage Error (MPE)\n",
        "$$\n",
        "\\text{MAPE} = \\frac{100\\%}{N} \\sum_{n=1}^{N} {\\left(\\frac{y_n - \\hat{y}_n}{y_n}\\right)}\n",
        "$$"
      ]
    },
    {
      "cell_type": "code",
      "metadata": {
        "id": "K1ySPBtvx2Rs",
        "outputId": "98166d82-1255-4f85-9c85-b4e5af18a722"
      },
      "source": [
        "mpe_sum = 0\n",
        "for Xn, yn in zip(X, y):\n",
        "    y_pred = Xn.dot(theta)\n",
        "    mpe_sum += (yn - y_pred)/yn\n",
        "mpe = mpe_sum*100/len(y)\n",
        "print('MPE:', mpe)"
      ],
      "execution_count": null,
      "outputs": [
        {
          "output_type": "stream",
          "text": [
            "MPE: [-0.41395438]\n"
          ],
          "name": "stdout"
        }
      ]
    },
    {
      "cell_type": "markdown",
      "metadata": {
        "id": "rsMW5em-x2Rv"
      },
      "source": [
        "5. R squared\n",
        "$$\n",
        "R^2 = 1 - \\frac{\\sum_{n=1}^{N} {\\left({y_n - \\hat{y}_n}\\right)^2}}{\\sum_{n=1}^{N} {\\left({y_n - \\bar{y}}\\right)^2}}\n",
        "$$ where $\\bar{y} = \\frac{1}{N} \\sum_{n=1}^{N} {y_n}$."
      ]
    },
    {
      "cell_type": "code",
      "metadata": {
        "scrolled": true,
        "id": "eIghkBcex2Rw",
        "outputId": "66d5b258-f394-486e-c5ba-0b2c368ab058"
      },
      "source": [
        "y_pred = X.dot(theta)\n",
        "ss_res = sum((y - y_pred)**2)\n",
        "ss_tot = sum((y - np.mean(y))**2)\n",
        "r2 = 1 - ss_res/ss_tot\n",
        "print('R2:', r2)"
      ],
      "execution_count": null,
      "outputs": [
        {
          "output_type": "stream",
          "text": [
            "R2: [0.98372634]\n"
          ],
          "name": "stdout"
        }
      ]
    },
    {
      "cell_type": "markdown",
      "metadata": {
        "id": "qh_BaXAw-6ke"
      },
      "source": [
        "### Linear regression with scikit-learn<a id=\"LR_scikitlearn\"></a>"
      ]
    },
    {
      "cell_type": "markdown",
      "metadata": {
        "id": "vefyiqCa-6ke"
      },
      "source": [
        "In this part, you can use linear regression implemented in linear model of sklearn package.\n",
        "\n",
        "&#x270d; Calculate the regression parameters including the linear regression intercept and the linear regression coefficient, and make predictions over the data."
      ]
    },
    {
      "cell_type": "code",
      "metadata": {
        "id": "mxzRMybr-6kf",
        "colab": {
          "base_uri": "https://localhost:8080/",
          "height": 85
        },
        "outputId": "729446bd-20d3-42d7-d174-93009fade949"
      },
      "source": [
        "from sklearn.linear_model import LinearRegression\n",
        "\n",
        "lin_reg = LinearRegression()\n",
        "lin_reg.fit(x, y)\n",
        "\n",
        "print('Intercept: \\n', lin_reg.intercept_)\n",
        "print('Coefficient(s): \\n', lin_reg.coef_)\n",
        "\n",
        "y_pred = lin_reg.predict(x)"
      ],
      "execution_count": null,
      "outputs": [
        {
          "output_type": "stream",
          "text": [
            "Intercept: \n",
            " [10.17183153]\n",
            "Coefficient(s): \n",
            " [[29.7646589]]\n"
          ],
          "name": "stdout"
        }
      ]
    },
    {
      "cell_type": "markdown",
      "metadata": {
        "id": "G_-VkfSN-6kh"
      },
      "source": [
        "&#x270d; Measure r2 score"
      ]
    },
    {
      "cell_type": "code",
      "metadata": {
        "id": "IaKwoIp_-6ki",
        "colab": {
          "base_uri": "https://localhost:8080/",
          "height": 51
        },
        "outputId": "859d8ad7-b4a9-4847-ac61-e4fbbe5e9d60"
      },
      "source": [
        "print('r2 score: \\n', lin_reg.score(x, y))"
      ],
      "execution_count": null,
      "outputs": [
        {
          "output_type": "stream",
          "text": [
            "r2 score: \n",
            " 0.9871377175737793\n"
          ],
          "name": "stdout"
        }
      ]
    },
    {
      "cell_type": "markdown",
      "metadata": {
        "id": "262XyUvl-6kl"
      },
      "source": [
        "## Polinomial Regression <a id=\"poly_reg\"></a>\n",
        "\n",
        "You can actually use a linear model to fit a nonlinear data. A simple way to do this is to add powers of each feature as new features, then train a linear model on this extended set of features. This technique is called Polynomial Regression."
      ]
    },
    {
      "cell_type": "markdown",
      "metadata": {
        "id": "jo2QLtCb-6kl"
      },
      "source": [
        "### Data example <a id=\"poly_data\"></a>\n",
        "\n",
        "Let's start with generating a sample data."
      ]
    },
    {
      "cell_type": "code",
      "metadata": {
        "id": "UkFCjppu-6km",
        "colab": {
          "base_uri": "https://localhost:8080/",
          "height": 287
        },
        "outputId": "818a8660-5bab-447c-d2c6-9a68b92a1f7d"
      },
      "source": [
        "N = 100\n",
        "X = 6 * np.random.rand(N, 1) - 3\n",
        "y = 0.5 * X**2 + X + 2 + np.random.randn(N, 1)\n",
        "\n",
        "plt.plot(X, y, \"b.\")\n",
        "plt.xlabel(\"$x$\", fontsize=14)\n",
        "plt.ylabel(\"$y$\", rotation=0, fontsize=14)\n",
        "plt.show()"
      ],
      "execution_count": null,
      "outputs": [
        {
          "output_type": "display_data",
          "data": {
            "image/png": "[encoded data removed]",
            "text/plain": [
              "<Figure size 432x288 with 1 Axes>"
            ]
          },
          "metadata": {
            "tags": []
          }
        }
      ]
    },
    {
      "cell_type": "markdown",
      "metadata": {
        "id": "3bhxZ-at-6kq"
      },
      "source": [
        "### Regression with polynomial features transformation <a id=\"reg_poly\"></a>\n",
        "\n",
        "We can use Scikit-Learn’s PolynomialFeatures class to transform our training data, adding the square (2nd-degree polynomial) of each feature in the training set as new features (see [here]( https://scikit-learn.org/stable/modules/generated/sklearn.preprocessing.PolynomialFeatures.html) for further information)."
      ]
    },
    {
      "cell_type": "code",
      "metadata": {
        "id": "SMzZwP91-6kr",
        "colab": {
          "base_uri": "https://localhost:8080/",
          "height": 34
        },
        "outputId": "a2bf6188-3530-449b-9c01-9b9a55079ddb"
      },
      "source": [
        "from sklearn.preprocessing import PolynomialFeatures\n",
        "\n",
        "poly = PolynomialFeatures(degree= 2, include_bias=False)\n",
        "X_poly = poly.fit_transform(X)\n",
        "\n",
        "print('X_poly shape:', X_poly.shape)"
      ],
      "execution_count": null,
      "outputs": [
        {
          "output_type": "stream",
          "text": [
            "X_poly shape: (100, 2)\n"
          ],
          "name": "stdout"
        }
      ]
    },
    {
      "cell_type": "markdown",
      "metadata": {
        "id": "QMh5U97a-6kv"
      },
      "source": [
        "$X_{poly}$ now contains the original feature of $X$ plus the square of this feature. \n",
        "\n",
        "&#x270d; Fit a linear regression model to this extended training data and display the intercept of linear regression and the coefficient."
      ]
    },
    {
      "cell_type": "code",
      "metadata": {
        "id": "hn2RDxdT-6ky",
        "colab": {
          "base_uri": "https://localhost:8080/",
          "height": 34
        },
        "outputId": "7db67087-208f-4de6-eb01-aa3aa77de047"
      },
      "source": [
        "lin_reg = LinearRegression()\n",
        "lin_reg.fit(X_poly, y)\n",
        "\n",
        "print(lin_reg.intercept_, lin_reg.coef_)"
      ],
      "execution_count": null,
      "outputs": [
        {
          "output_type": "stream",
          "text": [
            "[1.99282942] [[1.04850104 0.48466856]]\n"
          ],
          "name": "stdout"
        }
      ]
    },
    {
      "cell_type": "markdown",
      "metadata": {
        "id": "df8aUCKq-6k4"
      },
      "source": [
        "9) Plot the prediction along with data"
      ]
    },
    {
      "cell_type": "code",
      "metadata": {
        "id": "Waq_ZknB-6k5",
        "colab": {
          "base_uri": "https://localhost:8080/",
          "height": 287
        },
        "outputId": "5494ef08-0233-4aa2-f5fb-86f11fe311c7"
      },
      "source": [
        "X_new = np.linspace(-3, 3, 100).reshape(100, 1)\n",
        "X_new_poly = poly.transform(X_new)\n",
        "y_new = lin_reg.predict(X_new_poly)\n",
        "\n",
        "plt.plot(X, y, \"b.\", label = 'Actual')\n",
        "plt.plot(X_new, y_new, \"r-\", linewidth=2, label=\"Predictions\")\n",
        "plt.xlabel(\"$x$\", fontsize=14)\n",
        "plt.ylabel(\"$y$\", rotation=0, fontsize=14)\n",
        "plt.legend(loc=\"upper left\", fontsize=14)\n",
        "plt.show()"
      ],
      "execution_count": null,
      "outputs": [
        {
          "output_type": "display_data",
          "data": {
            "image/png": "[encoded data removed]",
            "text/plain": [
              "<Figure size 432x288 with 1 Axes>"
            ]
          },
          "metadata": {
            "tags": []
          }
        }
      ]
    },
    {
      "cell_type": "markdown",
      "metadata": {
        "id": "8Xaq2Hie-6k8"
      },
      "source": [
        "Note that, if you perform high-degree Polynomial Regression, you will likely fit the training data much better than\n",
        "with a plain Linear Regression. "
      ]
    },
    {
      "cell_type": "markdown",
      "metadata": {
        "id": "oKTkLWzQ-6k9"
      },
      "source": [
        "### Underfitting vs. Overfitting <a id=\"under_over_fitting\"></a>\n",
        "\n",
        "&#x270d; Applies a 200-degree polynomial model to the preceding training data, and compares the result with a pure linear model and a quadratic model (2nddegree polynomial).\n"
      ]
    },
    {
      "cell_type": "code",
      "metadata": {
        "id": "XjgpyXNT-6k9",
        "colab": {
          "base_uri": "https://localhost:8080/",
          "height": 288
        },
        "outputId": "bad22666-c1ef-4e6e-82d3-6d9880d45fa1"
      },
      "source": [
        "from sklearn.preprocessing import StandardScaler\n",
        "from sklearn.pipeline import Pipeline\n",
        "\n",
        "for degree, style in ((200, \"g-\"), (2, \"b--\"), (1, \"r-+\")):\n",
        "    polynomial_features = PolynomialFeatures(degree= degree, include_bias= False)\n",
        "    standard_scaler = StandardScaler()\n",
        "    linear_regression = LinearRegression()\n",
        "    \n",
        "    polynomial_regression = Pipeline([(\"poly_features\", polynomial_features),\n",
        "            (\"std_scaler\", standard_scaler),\n",
        "            (\"lin_reg\", linear_regression)])\n",
        "    \n",
        "    polynomial_regression.fit(X, y)\n",
        "    y_newbig = polynomial_regression.predict(X_new)\n",
        "    \n",
        "    plt.plot(X_new, y_newbig, style, label=str(degree))\n",
        "\n",
        "plt.plot(X, y, \"k.\", linewidth=3)\n",
        "plt.legend(loc=\"best\")\n",
        "plt.xlabel(\"$x$\", fontsize=16)\n",
        "plt.ylabel(\"$y$\", rotation=0, fontsize=16)\n",
        "plt.axis([-3, 3, -2, 15])\n",
        "plt.show()"
      ],
      "execution_count": null,
      "outputs": [
        {
          "output_type": "display_data",
          "data": {
            "image/png": "[encoded data removed]",
            "text/plain": [
              "<Figure size 432x288 with 1 Axes>"
            ]
          },
          "metadata": {
            "tags": []
          }
        }
      ]
    },
    {
      "cell_type": "markdown",
      "metadata": {
        "id": "_peJZevM-6lB"
      },
      "source": [
        "Notice how the 200-degree polynomial model moves to get as close as possible to training instances. Polynomial Regression model is severely overfitting the training data, while the linear model is underfitting it. The model that will generalize best in this case is the quadratic model."
      ]
    },
    {
      "cell_type": "markdown",
      "metadata": {
        "id": "H6eTrArO-6lF"
      },
      "source": [
        "## Summary <a id='summary'></a>"
      ]
    },
    {
      "cell_type": "markdown",
      "metadata": {
        "id": "hNwx9cHE-6lF"
      },
      "source": [
        "- In this project, we learned how to implement a linear regression model using:\n",
        "    - Analytical solution\n",
        "    - Gradient descent approach\n",
        "    - Scikit-learn\n",
        "- We also learned about polynomial regression model and how to use it along with a linear regression model for a non-linear data."
      ]
    },
    {
      "cell_type": "code",
      "metadata": {
        "id": "A8OtpPWGJ4z0"
      },
      "source": [
        ""
      ],
      "execution_count": null,
      "outputs": []
    }
  ]
}