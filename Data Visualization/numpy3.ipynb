{
 "cells": [
  {
   "cell_type": "code",
   "execution_count": 5,
   "metadata": {},
   "outputs": [],
   "source": [
    "import numpy as np"
   ]
  },
  {
   "cell_type": "code",
   "execution_count": 6,
   "metadata": {},
   "outputs": [],
   "source": [
    "age = np.random.normal(25,10,25)\n",
    "height= np.random.normal(30,5,25)\n",
    "wight= np.random.normal(3,2,25)\n",
    "f1 = np.random.normal(0,1,25)"
   ]
  },
  {
   "cell_type": "code",
   "execution_count": 29,
   "metadata": {},
   "outputs": [],
   "source": [
    "age = age.reshape((25,1))\n",
    "height = height.reshape((25,1))\n",
    "wight = wight.reshape((25,1))\n",
    "f1 = f1.reshape((25,1))"
   ]
  },
  {
   "cell_type": "code",
   "execution_count": 34,
   "metadata": {},
   "outputs": [],
   "source": [
    "data = np.concatenate((age,height,wight,f1),axis=1)"
   ]
  },
  {
   "cell_type": "code",
   "execution_count": 35,
   "metadata": {},
   "outputs": [
    {
     "data": {
      "text/plain": [
       "array([[ 1.66768108e+01,  3.75997431e+01,  3.81556109e+00,\n",
       "         8.82679810e-01],\n",
       "       [ 2.81221921e+01,  2.23710401e+01,  3.23444627e+00,\n",
       "        -1.16248596e+00],\n",
       "       [ 3.69488675e+01,  3.26170446e+01,  2.76184191e+00,\n",
       "         1.68237703e+00],\n",
       "       [ 1.71576655e+01,  2.42673428e+01,  2.39016460e+00,\n",
       "         1.90017060e+00],\n",
       "       [ 3.11999537e+01,  2.63665777e+01, -1.49757669e+00,\n",
       "         5.40533087e-01],\n",
       "       [ 3.81769489e+01,  3.00425778e+01,  5.06103231e+00,\n",
       "         3.13392561e-02],\n",
       "       [ 3.90683444e+01,  3.12737276e+01,  5.82029193e+00,\n",
       "         7.20642083e-01],\n",
       "       [ 3.19033709e+01,  2.39878341e+01,  4.28062124e+00,\n",
       "         1.92863089e+00],\n",
       "       [ 2.13721591e+01,  2.21471696e+01, -9.04589604e-01,\n",
       "         1.23941372e-01],\n",
       "       [ 3.81208851e+01,  3.10153196e+01,  3.59128755e+00,\n",
       "        -1.01817878e+00],\n",
       "       [ 3.38049114e+01,  2.62317518e+01,  4.02124882e+00,\n",
       "         1.04543740e+00],\n",
       "       [ 4.14860032e+01,  2.41355211e+01,  2.75095059e-01,\n",
       "        -8.98295824e-01],\n",
       "       [ 2.69086258e+01,  2.60118521e+01,  1.89866205e+00,\n",
       "        -1.17196422e+00],\n",
       "       [ 1.78947177e+01,  2.06636181e+01,  3.75448926e+00,\n",
       "        -1.05135445e+00],\n",
       "       [ 1.46119583e+01,  2.31482902e+01,  1.80439299e+00,\n",
       "        -3.01206919e-01],\n",
       "       [ 4.29083474e+01,  3.25371427e+01,  5.68835641e+00,\n",
       "         1.53567674e+00],\n",
       "       [ 2.45818716e+01,  1.74109030e+01,  2.84320603e+00,\n",
       "        -2.97702716e-01],\n",
       "       [ 2.68164190e+01,  2.63320764e+01,  6.13451715e+00,\n",
       "         3.55428777e-01],\n",
       "       [ 3.03313058e+01,  3.95022243e+01,  1.07919697e+00,\n",
       "        -3.05185602e-01],\n",
       "       [ 2.02443559e+01,  3.13045803e+01,  3.40028491e+00,\n",
       "        -7.33428529e-01],\n",
       "       [ 2.96989794e+01,  3.90468750e+01,  3.65332365e+00,\n",
       "        -2.18506699e+00],\n",
       "       [ 3.01782170e+01,  2.82318856e+01,  1.53707424e+00,\n",
       "         5.66882170e-01],\n",
       "       [ 2.17426872e+01,  3.01328468e+01,  3.74631976e+00,\n",
       "         1.34301814e+00],\n",
       "       [ 2.21085421e+01,  3.39302751e+01,  3.85762918e+00,\n",
       "        -2.68485171e-01],\n",
       "       [ 2.61783078e+01,  2.08007099e+01,  2.22774349e+00,\n",
       "         1.41047124e+00]])"
      ]
     },
     "execution_count": 35,
     "metadata": {},
     "output_type": "execute_result"
    }
   ],
   "source": [
    "data"
   ]
  },
  {
   "cell_type": "code",
   "execution_count": null,
   "metadata": {},
   "outputs": [],
   "source": []
  },
  {
   "cell_type": "code",
   "execution_count": 43,
   "metadata": {},
   "outputs": [
    {
     "data": {
      "text/plain": [
       "array([28.3296979 , 28.04435717,  2.97898482,  0.18695494])"
      ]
     },
     "execution_count": 43,
     "metadata": {},
     "output_type": "execute_result"
    }
   ],
   "source": [
    "data.sum(axis=0)/25"
   ]
  },
  {
   "cell_type": "code",
   "execution_count": 57,
   "metadata": {},
   "outputs": [],
   "source": [
    "data_mean = data.mean(axis=0)"
   ]
  },
  {
   "cell_type": "code",
   "execution_count": 49,
   "metadata": {},
   "outputs": [
    {
     "data": {
      "text/plain": [
       "(25, 4)"
      ]
     },
     "execution_count": 49,
     "metadata": {},
     "output_type": "execute_result"
    }
   ],
   "source": [
    "data.shape"
   ]
  },
  {
   "cell_type": "code",
   "execution_count": 58,
   "metadata": {},
   "outputs": [
    {
     "data": {
      "text/plain": [
       "(4,)"
      ]
     },
     "execution_count": 58,
     "metadata": {},
     "output_type": "execute_result"
    }
   ],
   "source": [
    "data_mean.shape"
   ]
  },
  {
   "cell_type": "code",
   "execution_count": 61,
   "metadata": {},
   "outputs": [],
   "source": [
    "x = data - data_mean"
   ]
  },
  {
   "cell_type": "code",
   "execution_count": 62,
   "metadata": {},
   "outputs": [
    {
     "data": {
      "text/plain": [
       "array([-7.10542736e-16,  6.25277607e-15, -7.72715225e-16,  7.10542736e-17])"
      ]
     },
     "execution_count": 62,
     "metadata": {},
     "output_type": "execute_result"
    }
   ],
   "source": [
    "x.mean(axis=0)"
   ]
  },
  {
   "cell_type": "code",
   "execution_count": 66,
   "metadata": {},
   "outputs": [
    {
     "data": {
      "text/plain": [
       "array([8.01229961, 5.75420219, 1.87473285, 1.09392377])"
      ]
     },
     "execution_count": 66,
     "metadata": {},
     "output_type": "execute_result"
    }
   ],
   "source": [
    "data.std(axis=0)"
   ]
  },
  {
   "cell_type": "code",
   "execution_count": 70,
   "metadata": {},
   "outputs": [
    {
     "data": {
      "text/plain": [
       "array([8.01229961, 5.75420219, 1.87473285, 1.09392377])"
      ]
     },
     "execution_count": 70,
     "metadata": {},
     "output_type": "execute_result"
    }
   ],
   "source": [
    "np.sqrt(np.sum(np.power(data-data.mean(axis=0), 2), axis=0)/25)"
   ]
  },
  {
   "cell_type": "code",
   "execution_count": 88,
   "metadata": {},
   "outputs": [],
   "source": [
    "x = np.arange(10000).reshape((10000,1)) + np.random.normal(0,5,10000).reshape((10000,1)) \n",
    "y = np.linspace(3, 20003, 10000)"
   ]
  },
  {
   "cell_type": "code",
   "execution_count": 89,
   "metadata": {},
   "outputs": [],
   "source": [
    "y_hat = np.linspace(3,20003,10000) + np.random.normal(0,5,10000)"
   ]
  },
  {
   "cell_type": "code",
   "execution_count": 90,
   "metadata": {},
   "outputs": [],
   "source": [
    "import matplotlib.pyplot as plt\n",
    "%matplotlib inline"
   ]
  },
  {
   "cell_type": "code",
   "execution_count": 91,
   "metadata": {},
   "outputs": [
    {
     "data": {
      "text/plain": [
       "<matplotlib.collections.PathCollection at 0x237ddbba240>"
      ]
     },
     "execution_count": 91,
     "metadata": {},
     "output_type": "execute_result"
    },
    {
     "data": {
      "image/png": "[encoded data removed]",
      "text/plain": [
       "<matplotlib.figure.Figure at 0x237dd52f908>"
      ]
     },
     "metadata": {},
     "output_type": "display_data"
    }
   ],
   "source": [
    "plt.scatter(x[:100], y[:100])"
   ]
  },
  {
   "cell_type": "code",
   "execution_count": 95,
   "metadata": {},
   "outputs": [
    {
     "data": {
      "text/plain": [
       "3.985985908258778"
      ]
     },
     "execution_count": 95,
     "metadata": {},
     "output_type": "execute_result"
    }
   ],
   "source": [
    "np.mean(np.abs(y_hat - y))"
   ]
  },
  {
   "cell_type": "code",
   "execution_count": null,
   "metadata": {},
   "outputs": [],
   "source": []
  }
 ],
 "metadata": {
  "kernelspec": {
   "display_name": "Python 3",
   "language": "python",
   "name": "python3"
  },
  "language_info": {
   "codemirror_mode": {
    "name": "ipython",
    "version": 3
   },
   "file_extension": ".py",
   "mimetype": "text/x-python",
   "name": "python",
   "nbconvert_exporter": "python",
   "pygments_lexer": "ipython3",
   "version": "3.6.4"
  }
 },
 "nbformat": 4,
 "nbformat_minor": 2
}
