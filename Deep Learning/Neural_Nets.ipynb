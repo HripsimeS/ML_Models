{
  "nbformat": 4,
  "nbformat_minor": 0,
  "metadata": {
    "colab": {
      "name": "Copy of B1.1.6_Neural_Nets_Teacher_Sheet_New.ipynb",
      "provenance": [],
      "collapsed_sections": [
        "XX4ZRyERgitX",
        "8D-8ZszJfcgk",
        "UPsbo86hg6hD",
        "0ccZQpe1iGAD",
        "EsnRNiAjjqHN",
        "MbsbuxmAu4I_",
        "SgwgA_BjwZ-I",
        "BSCFcbmO9gNH",
        "fOXE-8eL_qco",
        "NCE2ZpNzEDWt",
        "ZGEeH_y2EDWw",
        "vbKzcIsmEDXH"
      ]
    },
    "kernelspec": {
      "display_name": "Python 3",
      "language": "python",
      "name": "python3"
    },
    "language_info": {
      "codemirror_mode": {
        "name": "ipython",
        "version": 3
      },
      "file_extension": ".py",
      "mimetype": "text/x-python",
      "name": "python",
      "nbconvert_exporter": "python",
      "pygments_lexer": "ipython3",
      "version": "3.7.3"
    },
    "accelerator": "GPU"
  },
  "cells": [
    {
      "cell_type": "markdown",
      "metadata": {
        "id": "OOGE584Y-6j7"
      },
      "source": [
        "<h1 align=center><font size=5>Neural Networks</font></h1>"
      ]
    },
    {
      "cell_type": "markdown",
      "metadata": {
        "id": "ARyHHoq--6j9"
      },
      "source": [
        "### Table of contents\n",
        "\n",
        "- [Background](#background)\n",
        "- [Data Example](#data)\n",
        "- [Data Preparation](#data_prep)\n",
        "- [Neural Networks from Scratch](#LR_scratch)\n",
        "- [Neural Networks using Sklearn](#LR_sklearn)"
      ]
    },
    {
      "cell_type": "markdown",
      "metadata": {
        "id": "lgDRF3KQEDWV"
      },
      "source": [
        "### Background <a id=\"background\"></a>"
      ]
    },
    {
      "cell_type": "markdown",
      "metadata": {
        "id": "h5HbkeqYEDWW"
      },
      "source": [
        "Here are the summary of formulas from the lecture.\n",
        "\n",
        "1. Forward propagation"
      ]
    },
    {
      "cell_type": "markdown",
      "metadata": {
        "id": "C6biz24rEDWX"
      },
      "source": [
        "$$Z^{[1]} = W^{[1]}X + b^{[1]}$$\n",
        "\n",
        "$$A^{[1]} = g{(Z^{[1]})}$$\n",
        "\n",
        "$$Z^{[2]} = W^{[2]}A^{[1]} + b^{[2]}$$\n",
        "\n",
        "$$A^{[2]} = g{( Z^{[2]} )}$$\n",
        "\n",
        "where $X = [x_1, x_2, ..., x_N]$ is the data matrix with $N$ samples, and $g(.)$ is an activation function like sigmoid:\n",
        "\n",
        "$$g(x) = \\frac{1}{1 + exp(-x)}$$"
      ]
    },
    {
      "cell_type": "markdown",
      "metadata": {
        "id": "bDqGh810EDWY"
      },
      "source": [
        "2. Backward propagation (vectorized forms)"
      ]
    },
    {
      "cell_type": "markdown",
      "metadata": {
        "id": "cj3HcgiGEDWY"
      },
      "source": [
        "$$dZ^{[2]} = A^{[2]} - Y$$ \n",
        "\n",
        "$$dW^{[2]} = \\frac{1}{N} dZ^{[2]} {A^{[1]}}^T$$\n",
        "\n",
        "$$db^{[2]} = \\frac{1}{N} \\sum dZ^{[2]} $$\n",
        "\n",
        "$$dZ^{[1]} = ({W^{[2]}}^T  dZ^{[2]}) * {g^{[1]'}} (Z^{[1]})$$\n",
        "\n",
        "$$dW^{[1]} = \\frac{1}{N} dZ^{[1]} {X}^T$$\n",
        "\n",
        "$$db^{[1]} = \\frac{1}{N} \\sum dZ^{[1]} $$\n",
        "\n",
        "\n",
        "where \n",
        "\n",
        "\n",
        "$$ \\frac{dJ}{dZ^{[2]}} = \\frac{dJ}{dA^{[2]}} \\frac{dA^{[2]}}{dZ^{[2]}} \\implies {dZ^{[2]}} = dA^{[2]} {g^{[2]'}} (Z^{[2]}) = A^{[2]} - Y $$\n",
        "\n",
        "\n",
        "$$ \\frac{dJ}{dW^{[2]}}  = \\frac{dJ}{dZ^{[2]}} \\frac{dZ^{[2]}}{dW^{[2]}} \\implies {dW^{[2]}} = \\frac{1}{N} dZ^{[2]} {A^{[1]}}^T$$\n",
        "\n",
        "$$...$$\n",
        "\n",
        "where ${g'(z)} = \\frac{d}{dz} g(z)$. In the case of sigmoid fuction we have:\n",
        "\n",
        "$$\n",
        "{\\sigma}'(z) = \\sigma(z) (1 - \\sigma(z))\n",
        "$$"
      ]
    },
    {
      "cell_type": "markdown",
      "metadata": {
        "id": "xRiKSWOoEDWZ"
      },
      "source": [
        "3. Loss function (cross entropy)"
      ]
    },
    {
      "cell_type": "markdown",
      "metadata": {
        "id": "84U8U_xBEDWa"
      },
      "source": [
        "$$J = \\frac{1}{N} \\sum\\limits_{i = 0}^{N} \\large{(} \\small - y^{(i)}\\log\\left(a^{[2] (i)}\\right) - (1-y^{(i)})\\log\\left(1- a^{[2] (i)}\\right) \\large{)}$$"
      ]
    },
    {
      "cell_type": "markdown",
      "metadata": {
        "id": "py730qwnEDWb"
      },
      "source": [
        "### Data  Example <a id=\"data\"></a>"
      ]
    },
    {
      "cell_type": "code",
      "metadata": {
        "id": "R1lzM6AiEDWb",
        "colab": {
          "base_uri": "https://localhost:8080/",
          "height": 50
        },
        "outputId": "5c249b1c-05d0-4889-b02e-560f3539ed26"
      },
      "source": [
        "import numpy as np\n",
        "np.random.seed(123)\n",
        "\n",
        "# XOR dataset\n",
        "n_samples = 1000\n",
        "mu, sigma = 2, 3\n",
        "X = sigma * np.random.randn(n_samples, 2) + mu\n",
        "y = np.logical_xor(X[:, 0] > 0, X[:, 1] > 0).astype(int)\n",
        "\n",
        "print('X shape:', X.shape)\n",
        "print('y shape:', y.shape)"
      ],
      "execution_count": null,
      "outputs": [
        {
          "output_type": "stream",
          "text": [
            "X shape: (1000, 2)\n",
            "y shape: (1000,)\n"
          ],
          "name": "stdout"
        }
      ]
    },
    {
      "cell_type": "markdown",
      "metadata": {
        "id": "m1I0rqhzEDWf"
      },
      "source": [
        "&#x270d; Plot the data."
      ]
    },
    {
      "cell_type": "code",
      "metadata": {
        "id": "lz6kLBHzEDWf",
        "colab": {
          "base_uri": "https://localhost:8080/",
          "height": 300
        },
        "outputId": "bd9f7e17-312e-4b1c-b1a6-4e1d0b3ca695"
      },
      "source": [
        "import matplotlib.pyplot as plt\n",
        "%matplotlib inline\n",
        "\n",
        "plt.scatter(X[y == 0, 0], X[y == 0, 1], c= 'r', marker= 'x', label= 'Class 0') \n",
        "plt.scatter(X[y == 1, 0], X[y == 1, 1], c= 'b', marker= 'o', label= 'Class 1') \n",
        "plt.xlabel(\"$x_1$\", fontsize=14)\n",
        "plt.ylabel(\"$x_2$\", rotation=0, fontsize=14)\n",
        "plt.title('Scatter plot of data')\n",
        "plt.legend(loc=\"upper left\")\n",
        "plt.show()"
      ],
      "execution_count": null,
      "outputs": [
        {
          "output_type": "display_data",
          "data": {
            "image/png": "[encoded data removed]",
            "text/plain": [
              "<Figure size 432x288 with 1 Axes>"
            ]
          },
          "metadata": {
            "tags": [],
            "needs_background": "light"
          }
        }
      ]
    },
    {
      "cell_type": "markdown",
      "metadata": {
        "id": "h5WcXX-UEDWi"
      },
      "source": [
        "### Data Preparation <a id=\"data_prep\"></a>"
      ]
    },
    {
      "cell_type": "markdown",
      "metadata": {
        "id": "EkBfJr6IEDWi"
      },
      "source": [
        "&#x270d; 0.1) Split the data in a stratified fashion into training set with 80% of the samples and test set with the remaining 20%."
      ]
    },
    {
      "cell_type": "code",
      "metadata": {
        "id": "32cA4A-gEDWj",
        "colab": {
          "base_uri": "https://localhost:8080/",
          "height": 50
        },
        "outputId": "116a2a06-ddfb-4ae4-fb76-90dad9c0b827"
      },
      "source": [
        "from sklearn.model_selection import train_test_split\n",
        "\n",
        "X_train, X_test, y_train, y_test = train_test_split(X, y, \n",
        "                     test_size= 0.2, \n",
        "                     stratify= y,\n",
        "                     random_state= 123)\n",
        "\n",
        "print('X_train shape:', X_train.shape)\n",
        "print('X_test shape:', X_test.shape)"
      ],
      "execution_count": null,
      "outputs": [
        {
          "output_type": "stream",
          "text": [
            "X_train shape: (800, 2)\n",
            "X_test shape: (200, 2)\n"
          ],
          "name": "stdout"
        }
      ]
    },
    {
      "cell_type": "markdown",
      "metadata": {
        "id": "XGtdwkRzEDWl"
      },
      "source": [
        "&#x270d;0.2) Transform features by scaling each feature to the range of [0, 1]."
      ]
    },
    {
      "cell_type": "code",
      "metadata": {
        "id": "WTEAt-z5EDWm",
        "colab": {
          "base_uri": "https://localhost:8080/",
          "height": 33
        },
        "outputId": "fc0e6d4f-56c9-4c26-b6f8-61deb34a00b7"
      },
      "source": [
        "from sklearn.preprocessing import MinMaxScaler\n",
        "\n",
        "scaler = MinMaxScaler()\n",
        "print(scaler)\n",
        "\n",
        "X_train = scaler.fit_transform(X_train)\n",
        "X_test = scaler.transform(X_test)"
      ],
      "execution_count": null,
      "outputs": [
        {
          "output_type": "stream",
          "text": [
            "MinMaxScaler(copy=True, feature_range=(0, 1))\n"
          ],
          "name": "stdout"
        }
      ]
    },
    {
      "cell_type": "markdown",
      "metadata": {
        "id": "n9p9Z9Za-6j-"
      },
      "source": [
        "### Neural Networks from Scratch <a id=\"NN_scratch\"></a>"
      ]
    },
    {
      "cell_type": "code",
      "metadata": {
        "id": "hLTO2WAFfbKk"
      },
      "source": [
        ""
      ],
      "execution_count": null,
      "outputs": []
    },
    {
      "cell_type": "markdown",
      "metadata": {
        "id": "XX4ZRyERgitX"
      },
      "source": [
        "#### STEP BY STEP\n"
      ]
    },
    {
      "cell_type": "markdown",
      "metadata": {
        "id": "8D-8ZszJfcgk"
      },
      "source": [
        "#### 1)Implement the init function"
      ]
    },
    {
      "cell_type": "code",
      "metadata": {
        "id": "bufD54kGgH58",
        "colab": {
          "base_uri": "https://localhost:8080/",
          "height": 33
        },
        "outputId": "21fab186-7fcc-46d2-91b2-3a36e7144b81"
      },
      "source": [
        "class Neural_Network:   \n",
        "    def __init__(self, n_x = 2, n_h = 3, n_y = 1, lr= 0.01, num_iter= 100):    \n",
        "        self.W1 = np.random.randn(n_h, n_x) \n",
        "        self.b1 = np.random.randn(n_h, 1)\n",
        "        self.W2 = np.random.randn(n_y, n_h)\n",
        "        self.b2 = np.random.randn(n_y, 1)\n",
        "        self.lr = lr\n",
        "        self.num_iter = num_iter\n",
        "        print(self.W1.shape,self.b1.shape,self.W2.shape,self.b2.shape)\n",
        "g=Neural_Network()\n"
      ],
      "execution_count": null,
      "outputs": [
        {
          "output_type": "stream",
          "text": [
            "(3, 4) (3, 1) (1, 3) (1, 1)\n"
          ],
          "name": "stdout"
        }
      ]
    },
    {
      "cell_type": "markdown",
      "metadata": {
        "id": "0ccZQpe1iGAD"
      },
      "source": [
        "#### 2)Implement the sigmoid and its differential"
      ]
    },
    {
      "cell_type": "code",
      "metadata": {
        "id": "PBegrHMzhVZk",
        "colab": {
          "base_uri": "https://localhost:8080/",
          "height": 33
        },
        "outputId": "a471f191-1aed-4aa8-fa00-4aff20b314c1"
      },
      "source": [
        "class Neural_Network:\n",
        "    def __init__(self, n_x = 2, n_h = 3, n_y = 1, lr= 0.01, num_iter= 100):    \n",
        "        self.W1 = np.random.randn(n_h, n_x) \n",
        "        self.b1 = np.random.randn(n_h, 1)\n",
        "        self.W2 = np.random.randn(n_y, n_h)\n",
        "        self.b2 = np.random.randn(n_y, 1)\n",
        "        self.lr = lr\n",
        "        self.num_iter = num_iter\n",
        "        \n",
        "    def sigmoid(self, t):\n",
        "        return 1/(1+np.exp(-t))\n",
        "\n",
        "    def sigmoid_derivative(self, t):\n",
        "        return self.sigmoid(t)*(1 - self.sigmoid(t))\n",
        "g=Neural_Network()\n",
        "g.sigmoid_derivative(np.array([1,2,3]))"
      ],
      "execution_count": null,
      "outputs": [
        {
          "output_type": "execute_result",
          "data": {
            "text/plain": [
              "array([0.19661193, 0.10499359, 0.04517666])"
            ]
          },
          "metadata": {
            "tags": []
          },
          "execution_count": 9
        }
      ]
    },
    {
      "cell_type": "markdown",
      "metadata": {
        "id": "EsnRNiAjjqHN"
      },
      "source": [
        "#### 3) Implement the forward propergation"
      ]
    },
    {
      "cell_type": "code",
      "metadata": {
        "id": "jxVsST3Zm8Vu",
        "colab": {
          "base_uri": "https://localhost:8080/",
          "height": 34
        },
        "outputId": "eafe98e9-e66b-44fc-f80d-ab507dd3d18c"
      },
      "source": [
        "np.random.seed(123)\n",
        "class Neural_Network:\n",
        "    def __init__(self, n_x = 2, n_h = 3, n_y = 1, lr= 0.01, num_iter= 100):    \n",
        "        self.W1 = np.random.randn(n_h, n_x) \n",
        "        self.b1 = np.random.randn(n_h, 1)\n",
        "        self.W2 = np.random.randn(n_y, n_h)\n",
        "        self.b2 = np.random.randn(n_y, 1)\n",
        "        self.lr = lr\n",
        "        self.num_iter = num_iter\n",
        "        \n",
        "    def sigmoid(self, t):\n",
        "        return 1/(1+np.exp(-t))\n",
        "\n",
        "    def sigmoid_derivative(self, t):\n",
        "        return self.sigmoid(t)*(1 - self.sigmoid(t))    \n",
        "    \n",
        "    def feedforward(self, X):\n",
        "        \n",
        "        self.Z1 = np.dot(self.W1, X.T) + self.b1     # np.dot  , np.matmul() , @      \n",
        "        self.A1 = self.sigmoid(self.Z1)   \n",
        "                \n",
        "        self.Z2 = np.dot(self.W2, self.A1) + self.b2       \n",
        "        self.A2 = self.sigmoid(self.Z2)  \n",
        "        return self.A2\n",
        "\n",
        "g=Neural_Network()\n",
        "g.feedforward(np.random.randn(3,2))"
      ],
      "execution_count": null,
      "outputs": [
        {
          "output_type": "execute_result",
          "data": {
            "text/plain": [
              "array([[0.72833508, 0.71038019, 0.77730154]])"
            ]
          },
          "metadata": {
            "tags": []
          },
          "execution_count": 7
        }
      ]
    },
    {
      "cell_type": "markdown",
      "metadata": {
        "id": "SgwgA_BjwZ-I"
      },
      "source": [
        "#### 4) Implement the backward backpropagation "
      ]
    },
    {
      "cell_type": "code",
      "metadata": {
        "id": "ub9MXEmgywWi",
        "colab": {
          "base_uri": "https://localhost:8080/",
          "height": 200
        },
        "outputId": "91297da6-df30-4c6c-df5a-b97849c20c54"
      },
      "source": [
        "np.random.seed(123)\n",
        "class Neural_Network:\n",
        "    def __init__(self, n_x = 2, n_h = 3, n_y = 1, lr= 0.01, num_iter= 100):    \n",
        "        self.W1 = np.random.randn(n_h, n_x) \n",
        "        self.b1 = np.random.randn(n_h, 1)\n",
        "        self.W2 = np.random.randn(n_y, n_h)\n",
        "        self.b2 = np.random.randn(n_y, 1)\n",
        "        self.lr = lr\n",
        "        self.num_iter = num_iter\n",
        "        \n",
        "    def sigmoid(self, t):\n",
        "        return 1/(1+np.exp(-t))\n",
        "\n",
        "    def sigmoid_derivative(self, t):\n",
        "        return self.sigmoid(t)*(1 - self.sigmoid(t))    \n",
        "    \n",
        "    def feedforward(self, X):\n",
        "        \n",
        "        self.Z1 = np.dot(self.W1, X.T) + self.b1   \n",
        "        self.A1 = self.sigmoid(self.Z1)   \n",
        "                \n",
        "        self.Z2 = np.dot(self.W2, self.A1) + self.b2       \n",
        "        self.A2 = self.sigmoid(self.Z2)  \n",
        "        \n",
        "        return self.A2\n",
        "    \n",
        "    def backpropagation(self, X, y):\n",
        "        N = X.shape[0] # Number of example\n",
        "        dZ2 = self.A2 - y   #(1,1000) - (1,1) = (1,1000)\n",
        "        self.dW2 = (1/N) * np.dot(dZ2, self.A1.T) #(1,1000)*(1000,3) =(1,3)\n",
        "        self.db2 = (1/N) * np.sum(dZ2, axis =1, keepdims = True)  #db2   d=b2     w@X   -> 3x3  W@X+b    3X1-->  3\n",
        "        dZ1 = np.dot(self.W2.T, dZ2)*self.sigmoid_derivative(self.Z1)  \n",
        "        self.dW1 = (1/N) * np.dot(dZ1, X) # (3,1000)*(1000,2)\n",
        "        self.db1 = (1/N) * np.sum(dZ1, axis =1, keepdims = True)\n",
        "g=Neural_Network()\n",
        "g.feedforward(np.random.randn(3,2))\n",
        "g.backpropagation(np.random.randn(3,2),np.array([1,0,1]))\n",
        "print(g.dW2,'\\n\\n',g.db2,'\\n\\n',g.dW1,'\\n\\n',g.db1)"
      ],
      "execution_count": null,
      "outputs": [
        {
          "output_type": "stream",
          "text": [
            "[[ 0.1219683  -0.05741648  0.10865604]] \n",
            "\n",
            " [[0.0720056]] \n",
            "\n",
            " [[-0.07095792  0.05087465]\n",
            " [ 0.01099942  0.00382261]\n",
            " [ 0.00160083  0.00023303]] \n",
            "\n",
            " [[-0.04198442]\n",
            " [ 0.02052483]\n",
            " [ 0.00257793]]\n"
          ],
          "name": "stdout"
        }
      ]
    },
    {
      "cell_type": "markdown",
      "metadata": {
        "id": "BSCFcbmO9gNH"
      },
      "source": [
        "#### 5) Culculate the loss of the birnary classification:\n"
      ]
    },
    {
      "cell_type": "code",
      "metadata": {
        "id": "8u3RCUCp9w7z",
        "colab": {
          "base_uri": "https://localhost:8080/",
          "height": 33
        },
        "outputId": "71d20434-6c3b-4c25-9231-b68ed6c9607e"
      },
      "source": [
        "np.random.seed(123)\n",
        "def loss(y, y_hat):\n",
        "     return (-y * np.log(y_hat) - (1 - y) * np.log(1 - y_hat)).mean()\n",
        "y_test=np.random.rand(5,1)\n",
        "y_hat=np.random.rand(5,1)\n",
        "loss(y_test, y_hat)"
      ],
      "execution_count": null,
      "outputs": [
        {
          "output_type": "execute_result",
          "data": {
            "text/plain": [
              "1.2163243147764142"
            ]
          },
          "metadata": {
            "tags": []
          },
          "execution_count": 11
        }
      ]
    },
    {
      "cell_type": "markdown",
      "metadata": {
        "id": "pM35Aqb-EDWo"
      },
      "source": [
        "&#x270d; Implement a two layer neural network from scratch."
      ]
    },
    {
      "cell_type": "code",
      "metadata": {
        "id": "xtqxDNurEDWp"
      },
      "source": [
        "np.random.seed(123)\n",
        "class Neural_Network:\n",
        "    def __init__(self, n_x = 2, n_h = 3, n_y = 1, lr= 0.01, num_iter= 100):    \n",
        "        self.W1 = np.random.randn(n_h, n_x) \n",
        "        self.b1 = np.random.randn(n_h, 1)\n",
        "        self.W2 = np.random.randn(n_y, n_h)\n",
        "        self.b2 = np.random.randn(n_y, 1)\n",
        "        self.lr = lr\n",
        "        self.num_iter = num_iter\n",
        "        \n",
        "    def sigmoid(self, t):\n",
        "        return 1/(1+np.exp(-t))\n",
        "\n",
        "    def sigmoid_derivative(self, t):\n",
        "      #  return t*(1-t)    A1\n",
        "        return self.sigmoid(t)*(1 - self.sigmoid(t))     \n",
        "    \n",
        "    def feedforward(self, X):\n",
        "        \n",
        "        self.Z1 = np.dot(self.W1, X.T) + self.b1   \n",
        "        self.A1 = self.sigmoid(self.Z1)   \n",
        "                \n",
        "        self.Z2 = np.dot(self.W2, self.A1) + self.b2       \n",
        "        self.A2 = self.sigmoid(self.Z2)  \n",
        "        \n",
        "        return self.A2\n",
        "    \n",
        "    def backpropagation(self, X, y):\n",
        "        \n",
        "        N = X.shape[0] # Number of examples\n",
        "\n",
        "        dZ2 = self.A2 - y.T   #(1,1000) - (1,1) = (1,1000)\n",
        "        \n",
        "        self.dW2 = (1/N) * np.dot(dZ2, self.A1.T) #(1,1000)*(1000,3) =(1,3)\n",
        "        \n",
        "        self.db2 = (1/N) * np.sum(dZ2, axis =1, keepdims = True)\n",
        "        \n",
        "        dZ1 = np.dot(self.W2.T, dZ2)*self.sigmoid_derivative(self.Z1)  \n",
        "        \n",
        "        self.dW1 = (1/N) * np.dot(dZ1, X) # (3,1000)*(1000,2)\n",
        "        self.db1 = (1/N) * np.sum(dZ1, axis =1, keepdims = True)\n",
        "\n",
        "\n",
        "    def update_parameters(self):\n",
        "        self.W1 -= self.lr * self.dW1\n",
        "        self.b1 -= self.lr * self.db1\n",
        "        self.W2 -= self.lr * self.dW2\n",
        "        self.b2 -= self.lr * self.db2\n",
        "                \n",
        "    \n",
        "    # Define the cross entropy loss\n",
        "    def loss(self, y, y_hat):\n",
        "        return (-y * np.log(y_hat) - (1 - y) * np.log(1 - y_hat)).mean()\n",
        "    \n",
        "    \n",
        "    def fit(self, X, y):\n",
        "        \n",
        "        loss_history = []\n",
        "        for iter in range(self.num_iter):\n",
        "            \n",
        "            y_hat = self.feedforward(X)\n",
        "            \n",
        "            loss_history.append(self.loss(y, y_hat))\n",
        "            \n",
        "            self.backpropagation(X, y)\n",
        "            \n",
        "            self.update_parameters() \n",
        "            \n",
        "        return loss_history  \n",
        "            \n",
        "    # Calculate probability estimates\n",
        "    def predict_prob(self, X):\n",
        "        return self.feedforward(X)\n",
        "        #here we have number between 0 and 1, for example 0.6\n",
        "    \n",
        "    # Predict class labels for samples in X\n",
        "    def predict(self, X):\n",
        "        return self.predict_prob(X).round() \n",
        "        #here if we have 0.6 -> we return 1\n",
        "        #     if we have 0.4 -> we return 0"
      ],
      "execution_count": null,
      "outputs": []
    },
    {
      "cell_type": "code",
      "metadata": {
        "id": "rFCKgJJCEDWr",
        "colab": {
          "base_uri": "https://localhost:8080/",
          "height": 298
        },
        "outputId": "a8754760-c2e1-4473-928c-24742ea9788a"
      },
      "source": [
        "# Create an instance of the above class\n",
        "lr = Neural_Network(n_x = 2, n_h = 3, n_y = 1, lr= 0.1, num_iter= 10000)\n",
        "\n",
        "\n",
        "# Fit the model over training set\n",
        "J = lr.fit(X_train, y_train)\n",
        "\n",
        "plt.plot(J)\n",
        "# Make predictions over test set\n",
        "\n",
        "y_test_pred = lr.predict(X_test)\n",
        "print(y_test_pred.shape,X_test.shape)\n",
        "# Measure accuracy over test set\n",
        "accuracy = (y_test_pred == y_test).mean()\n",
        "print('Accuracy over test set:', accuracy)"
      ],
      "execution_count": null,
      "outputs": [
        {
          "output_type": "stream",
          "text": [
            "(1, 200) (200, 2)\n",
            "Accuracy over test set: 0.77\n"
          ],
          "name": "stdout"
        },
        {
          "output_type": "display_data",
          "data": {
            "image/png": "[encoded data removed]",
            "text/plain": [
              "<Figure size 432x288 with 1 Axes>"
            ]
          },
          "metadata": {
            "tags": [],
            "needs_background": "light"
          }
        }
      ]
    },
    {
      "cell_type": "markdown",
      "metadata": {
        "id": "uZJzO8fIEDWt"
      },
      "source": [
        "### Neural Networks using SKlearn <a id=\"NN_sklearn\"></a>"
      ]
    },
    {
      "cell_type": "markdown",
      "metadata": {
        "id": "NCE2ZpNzEDWt"
      },
      "source": [
        "#### Model Training"
      ]
    },
    {
      "cell_type": "code",
      "metadata": {
        "id": "UY1TXsj5EDWu",
        "colab": {
          "base_uri": "https://localhost:8080/",
          "height": 203
        },
        "outputId": "730127b2-82d8-430e-a326-b1456f337647"
      },
      "source": [
        "from sklearn.neural_network import MLPClassifier\n",
        "\n",
        "mlp = MLPClassifier()\n",
        "\n",
        "# Fit the data\n",
        "mlp.fit(X_train, y_train)"
      ],
      "execution_count": null,
      "outputs": [
        {
          "output_type": "stream",
          "text": [
            "/usr/local/lib/python3.6/dist-packages/sklearn/neural_network/_multilayer_perceptron.py:571: ConvergenceWarning: Stochastic Optimizer: Maximum iterations (200) reached and the optimization hasn't converged yet.\n",
            "  % self.max_iter, ConvergenceWarning)\n"
          ],
          "name": "stderr"
        },
        {
          "output_type": "execute_result",
          "data": {
            "text/plain": [
              "MLPClassifier(activation='relu', alpha=0.0001, batch_size='auto', beta_1=0.9,\n",
              "              beta_2=0.999, early_stopping=False, epsilon=1e-08,\n",
              "              hidden_layer_sizes=(100,), learning_rate='constant',\n",
              "              learning_rate_init=0.001, max_fun=15000, max_iter=200,\n",
              "              momentum=0.9, n_iter_no_change=10, nesterovs_momentum=True,\n",
              "              power_t=0.5, random_state=None, shuffle=True, solver='adam',\n",
              "              tol=0.0001, validation_fraction=0.1, verbose=False,\n",
              "              warm_start=False)"
            ]
          },
          "metadata": {
            "tags": []
          },
          "execution_count": 47
        }
      ]
    },
    {
      "cell_type": "markdown",
      "metadata": {
        "id": "ZGEeH_y2EDWw"
      },
      "source": [
        "#### Model Evaluation"
      ]
    },
    {
      "cell_type": "markdown",
      "metadata": {
        "id": "Oy7BN_YDEDWw"
      },
      "source": [
        "&#x270d; Plot loss over training iterations. "
      ]
    },
    {
      "cell_type": "markdown",
      "metadata": {
        "id": "j77ZgQ-PEDW6"
      },
      "source": [
        "&#x270d; Measure classification accuracy over the training/test sets."
      ]
    },
    {
      "cell_type": "code",
      "metadata": {
        "id": "cA1RfgcmEDW6",
        "colab": {
          "base_uri": "https://localhost:8080/",
          "height": 51
        },
        "outputId": "bec29652-7746-49de-bce1-7cdf94b4a53a"
      },
      "source": [
        "from sklearn.metrics import accuracy_score\n",
        "\n",
        "y_train_pred = mlp.predict(X_train)\n",
        "y_test_pred = mlp.predict(X_test)\n",
        "\n",
        "print(\"Training Accuracy: {0:.2f}\".format(accuracy_score(y_train, y_train_pred)))\n",
        "print(\"Testing Accuracy: {0:.2f}\".format(accuracy_score(y_test, y_test_pred)))"
      ],
      "execution_count": null,
      "outputs": [
        {
          "output_type": "stream",
          "text": [
            "Training Accuracy: 0.83\n",
            "Testing Accuracy: 0.82\n"
          ],
          "name": "stdout"
        }
      ]
    },
    {
      "cell_type": "markdown",
      "metadata": {
        "id": "SBesJ2LCEDW8"
      },
      "source": [
        "&#x270d; Build a text report showing the main classification metrics including precision, recall, f1-score, and accuracy."
      ]
    },
    {
      "cell_type": "code",
      "metadata": {
        "id": "4dZqF8uwEDW9",
        "colab": {
          "base_uri": "https://localhost:8080/",
          "height": 174
        },
        "outputId": "cf19e4dc-1c21-4456-912f-ccb86b3e24f6"
      },
      "source": [
        "from sklearn.metrics import classification_report\n",
        "\n",
        "report = classification_report(y_test, y_test_pred)\n",
        "print(report)"
      ],
      "execution_count": null,
      "outputs": [
        {
          "output_type": "stream",
          "text": [
            "              precision    recall  f1-score   support\n",
            "\n",
            "           0       0.84      0.87      0.86       125\n",
            "           1       0.77      0.73      0.75        75\n",
            "\n",
            "    accuracy                           0.82       200\n",
            "   macro avg       0.81      0.80      0.81       200\n",
            "weighted avg       0.82      0.82      0.82       200\n",
            "\n"
          ],
          "name": "stdout"
        }
      ]
    },
    {
      "cell_type": "markdown",
      "metadata": {
        "id": "J2bV7qmDEDW_"
      },
      "source": [
        "&#x270d; Compute and plot confusion matrix."
      ]
    },
    {
      "cell_type": "code",
      "metadata": {
        "id": "eADwmgwbEDW_",
        "colab": {
          "base_uri": "https://localhost:8080/",
          "height": 295
        },
        "outputId": "d79ae38f-ca66-4769-c628-09fca0edeb81"
      },
      "source": [
        "from sklearn.metrics import confusion_matrix\n",
        "import seaborn as sns\n",
        "plt.figure(figsize=(6,4))\n",
        "\n",
        "cm = confusion_matrix(y_test, y_test_pred)\n",
        "sns.heatmap(cm, annot = True, cbar = False, fmt = \"d\", linewidths = .5, cmap = \"Blues\")\n",
        "plt.xlabel(\"Predicted class\")\n",
        "plt.ylabel(\"Actual class\")\n",
        "plt.title(\"Confusion Matrix\");"
      ],
      "execution_count": null,
      "outputs": [
        {
          "output_type": "display_data",
          "data": {
            "image/png": "[encoded data removed]",
            "text/plain": [
              "<Figure size 432x288 with 1 Axes>"
            ]
          },
          "metadata": {
            "tags": []
          }
        }
      ]
    },
    {
      "cell_type": "markdown",
      "metadata": {
        "id": "vbKzcIsmEDXH"
      },
      "source": [
        "#### Hyper-parameters Tuning"
      ]
    },
    {
      "cell_type": "markdown",
      "metadata": {
        "id": "7uJ49CwuEDXH"
      },
      "source": [
        "&#x270d; Use GridSearchCV and find the best estimator."
      ]
    },
    {
      "cell_type": "code",
      "metadata": {
        "id": "ENnfB6MPEDXI",
        "colab": {
          "base_uri": "https://localhost:8080/",
          "height": 425
        },
        "outputId": "2d689c65-1e02-4ded-8349-9f6fb569d78e"
      },
      "source": [
        "import warnings; warnings.filterwarnings('ignore')\n",
        "from sklearn.model_selection import GridSearchCV\n",
        "\n",
        "param_grid = {'hidden_layer_sizes': [(10,), (50,), (10, 10)],\n",
        "             'activation': ['tanh', 'relu'],\n",
        "             'learning_rate': ['constant', 'adaptive'],\n",
        "             'max_iter': [500],\n",
        "              'random_state': [123]}\n",
        "\n",
        "mlp = MLPClassifier()\n",
        "gs = GridSearchCV(mlp, param_grid, cv = 5, verbose= 1)\n",
        "gs.fit(X_train, y_train)"
      ],
      "execution_count": null,
      "outputs": [
        {
          "output_type": "stream",
          "text": [
            "Fitting 5 folds for each of 12 candidates, totalling 60 fits\n"
          ],
          "name": "stdout"
        },
        {
          "output_type": "stream",
          "text": [
            "[Parallel(n_jobs=1)]: Using backend SequentialBackend with 1 concurrent workers.\n",
            "[Parallel(n_jobs=1)]: Done  60 out of  60 | elapsed:   50.0s finished\n"
          ],
          "name": "stderr"
        },
        {
          "output_type": "execute_result",
          "data": {
            "text/plain": [
              "GridSearchCV(cv=5, error_score=nan,\n",
              "             estimator=MLPClassifier(activation='relu', alpha=0.0001,\n",
              "                                     batch_size='auto', beta_1=0.9,\n",
              "                                     beta_2=0.999, early_stopping=False,\n",
              "                                     epsilon=1e-08, hidden_layer_sizes=(100,),\n",
              "                                     learning_rate='constant',\n",
              "                                     learning_rate_init=0.001, max_fun=15000,\n",
              "                                     max_iter=200, momentum=0.9,\n",
              "                                     n_iter_no_change=10,\n",
              "                                     nesterovs_momentum=True, power_t=0.5,\n",
              "                                     random_state...\n",
              "                                     solver='adam', tol=0.0001,\n",
              "                                     validation_fraction=0.1, verbose=False,\n",
              "                                     warm_start=False),\n",
              "             iid='deprecated', n_jobs=None,\n",
              "             param_grid={'activation': ['tanh', 'relu'],\n",
              "                         'hidden_layer_sizes': [(10,), (50,), (10, 10)],\n",
              "                         'learning_rate': ['constant', 'adaptive'],\n",
              "                         'max_iter': [500], 'random_state': [123]},\n",
              "             pre_dispatch='2*n_jobs', refit=True, return_train_score=False,\n",
              "             scoring=None, verbose=1)"
            ]
          },
          "metadata": {
            "tags": []
          },
          "execution_count": 53
        }
      ]
    },
    {
      "cell_type": "markdown",
      "metadata": {
        "id": "fEAqltOoEDXK"
      },
      "source": [
        "&#x270d; What are the best obtained parameters?"
      ]
    },
    {
      "cell_type": "code",
      "metadata": {
        "id": "WBvluNHKEDXL",
        "colab": {
          "base_uri": "https://localhost:8080/",
          "height": 51
        },
        "outputId": "71f2dcfe-c7e2-4799-8943-774cc3eb22fb"
      },
      "source": [
        "print(\"The best parameters are:\\n%s\" % (gs.best_params_)) "
      ],
      "execution_count": null,
      "outputs": [
        {
          "output_type": "stream",
          "text": [
            "The best parameters are:\n",
            "{'activation': 'relu', 'hidden_layer_sizes': (10, 10), 'learning_rate': 'constant', 'max_iter': 500, 'random_state': 123}\n"
          ],
          "name": "stdout"
        }
      ]
    },
    {
      "cell_type": "code",
      "metadata": {
        "id": "3stra06GEDXN",
        "colab": {
          "base_uri": "https://localhost:8080/",
          "height": 51
        },
        "outputId": "b66c2d3c-e310-4c66-83b8-659fe0497b22"
      },
      "source": [
        "y_train_pred = gs.predict(X_train)\n",
        "y_test_pred = gs.predict(X_test)\n",
        "\n",
        "print(\"Training Accuracy: {0:.2f}\".format(accuracy_score(y_train, y_train_pred)))\n",
        "print(\"Testing Accuracy: {0:.2f}\".format(accuracy_score(y_test, y_test_pred)))"
      ],
      "execution_count": null,
      "outputs": [
        {
          "output_type": "stream",
          "text": [
            "Training Accuracy: 0.93\n",
            "Testing Accuracy: 0.93\n"
          ],
          "name": "stdout"
        }
      ]
    },
    {
      "cell_type": "markdown",
      "metadata": {
        "id": "qZwz9tOXEDXQ"
      },
      "source": [
        "&#x270d; What is the difference between _StratifiedKFold_ and _GridSearchCV_ approaches?"
      ]
    },
    {
      "cell_type": "code",
      "metadata": {
        "id": "IQyeGex6USHZ",
        "colab": {
          "base_uri": "https://localhost:8080/",
          "height": 85
        },
        "outputId": "c5fdbdc2-a678-4ee5-ddcb-123a134114ac"
      },
      "source": [
        "import numpy as np\n",
        "from sklearn.model_selection import StratifiedKFold\n",
        "X = np.array([[1, 2], [3, 4], [1, 2], [3, 4],[4,5],[6,7]])\n",
        "y = np.array([1,1,0,0,1,0])\n",
        "kf = StratifiedKFold(n_splits=3)\n",
        "print(kf.get_n_splits(X))\n",
        "\n",
        "\n",
        "for train_index, test_index in kf.split(X,y):\n",
        "     print(\"TRAIN:\", train_index, \"TEST:\", test_index)\n",
        "     X_train, X_test = X[train_index], X[test_index]\n",
        "     y_train, y_test = y[train_index], y[test_index]"
      ],
      "execution_count": null,
      "outputs": [
        {
          "output_type": "stream",
          "text": [
            "3\n",
            "TRAIN: [1 3 4 5] TEST: [0 2]\n",
            "TRAIN: [0 2 4 5] TEST: [1 3]\n",
            "TRAIN: [0 1 2 3] TEST: [4 5]\n"
          ],
          "name": "stdout"
        }
      ]
    },
    {
      "cell_type": "code",
      "metadata": {
        "id": "pvP6XBAgUxcZ"
      },
      "source": [
        ""
      ],
      "execution_count": null,
      "outputs": []
    }
  ]
}