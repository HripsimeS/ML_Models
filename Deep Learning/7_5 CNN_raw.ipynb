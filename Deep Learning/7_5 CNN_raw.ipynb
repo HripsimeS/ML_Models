{
 "cells": [
  {
   "cell_type": "code",
   "execution_count": 3,
   "metadata": {},
   "outputs": [],
   "source": [
    "import numpy as np"
   ]
  },
  {
   "cell_type": "code",
   "execution_count": 5,
   "metadata": {},
   "outputs": [],
   "source": [
    "X_train = np.load('Fashion_MNIST/X_train.npy')\n",
    "X_test = np.load('Fashion_MNIST/X_test.npy')\n",
    "y_train = np.load('Fashion_MNIST/y_train.npy')\n",
    "y_test = np.load('Fashion_MNIST/y_test.npy')"
   ]
  },
  {
   "cell_type": "code",
   "execution_count": 6,
   "metadata": {},
   "outputs": [
    {
     "data": {
      "text/plain": [
       "(60000, 784)"
      ]
     },
     "execution_count": 6,
     "metadata": {},
     "output_type": "execute_result"
    }
   ],
   "source": [
    "X_train.shape"
   ]
  },
  {
   "cell_type": "code",
   "execution_count": 7,
   "metadata": {},
   "outputs": [
    {
     "data": {
      "text/plain": [
       "(60000,)"
      ]
     },
     "execution_count": 7,
     "metadata": {},
     "output_type": "execute_result"
    }
   ],
   "source": [
    "y_train.shape"
   ]
  },
  {
   "cell_type": "code",
   "execution_count": 8,
   "metadata": {},
   "outputs": [
    {
     "data": {
      "text/plain": [
       "(10000, 784)"
      ]
     },
     "execution_count": 8,
     "metadata": {},
     "output_type": "execute_result"
    }
   ],
   "source": [
    "X_test.shape"
   ]
  },
  {
   "cell_type": "code",
   "execution_count": 9,
   "metadata": {},
   "outputs": [
    {
     "data": {
      "text/plain": [
       "(10000,)"
      ]
     },
     "execution_count": 9,
     "metadata": {},
     "output_type": "execute_result"
    }
   ],
   "source": [
    "y_test.shape"
   ]
  },
  {
   "cell_type": "code",
   "execution_count": 10,
   "metadata": {},
   "outputs": [],
   "source": [
    "from sklearn.preprocessing import OneHotEncoder"
   ]
  },
  {
   "cell_type": "code",
   "execution_count": 11,
   "metadata": {},
   "outputs": [],
   "source": [
    "encoder = OneHotEncoder(sparse=False)"
   ]
  },
  {
   "cell_type": "code",
   "execution_count": 12,
   "metadata": {},
   "outputs": [
    {
     "data": {
      "text/plain": [
       "OneHotEncoder(categorical_features='all', dtype=<class 'numpy.float64'>,\n",
       "       handle_unknown='error', n_values='auto', sparse=False)"
      ]
     },
     "execution_count": 12,
     "metadata": {},
     "output_type": "execute_result"
    }
   ],
   "source": [
    "encoder.fit(y_train.reshape(-1, 1))"
   ]
  },
  {
   "cell_type": "code",
   "execution_count": 13,
   "metadata": {},
   "outputs": [],
   "source": [
    "y_train = encoder.transform(y_train.reshape(-1, 1))\n",
    "y_test = encoder.transform(y_test.reshape(-1, 1))"
   ]
  },
  {
   "cell_type": "code",
   "execution_count": 14,
   "metadata": {},
   "outputs": [
    {
     "data": {
      "text/plain": [
       "(60000, 10)"
      ]
     },
     "execution_count": 14,
     "metadata": {},
     "output_type": "execute_result"
    }
   ],
   "source": [
    "y_train.shape"
   ]
  },
  {
   "cell_type": "code",
   "execution_count": 15,
   "metadata": {},
   "outputs": [],
   "source": [
    "def get_next_batch(X, y, size):\n",
    "    m = X.shape[0]\n",
    "    index = np.random.permutation(np.arange(m))\n",
    "    for i in range(m//size):\n",
    "        batch_i = index[i*size: i*size+size]\n",
    "        yield X[batch_i], y[batch_i]"
   ]
  },
  {
   "cell_type": "markdown",
   "metadata": {},
   "source": [
    "Conv k=3x3, s=1x1, p=same\n",
    "\n",
    "MaxPool k=2x2, s=2x2 "
   ]
  },
  {
   "cell_type": "markdown",
   "metadata": {},
   "source": [
    "``` \n",
    "X -> Conv16 -> Maxpool -> Conv32 -> Conv64 -> Maxpool ->Flattening -> fc128 -> fc64 -> y_hat10\n",
    "\n",
    "X -> --W1-- -> ------- -> --W2-- -> --W3-- -> ------- ->Flattening -> --W4- -> -W5- -> --W6---\n",
    "```"
   ]
  },
  {
   "cell_type": "code",
   "execution_count": null,
   "metadata": {},
   "outputs": [],
   "source": [
    "import tensorflow as tf"
   ]
  },
  {
   "cell_type": "code",
   "execution_count": null,
   "metadata": {},
   "outputs": [],
   "source": [
    "X = tf.placeholder(tf.float32, shape=[None, 784])\n",
    "y = tf.placeholder(tf.float32, shape=[None, 10])"
   ]
  },
  {
   "cell_type": "code",
   "execution_count": null,
   "metadata": {},
   "outputs": [],
   "source": [
    "X = tf.reshape(X, [None, 28, 28, 1])"
   ]
  },
  {
   "cell_type": "code",
   "execution_count": null,
   "metadata": {},
   "outputs": [],
   "source": [
    "# None, 28, 28, 1\n",
    "W1 = tf.Variable(tf.random_normal(shape=[3, 3, 1, 16]))\n",
    "b1 = tf.Variable(tf.random_normal(shape=[16]))\n",
    "# None, 28, 28, 1\n",
    "# Pool -> None, 14, 14, 16\n",
    "W2 = tf.Variable(tf.random_normal(shape=[3, 3, 16, 32]))\n",
    "b2 = tf.Variable(tf.random_normal(shape=[32]))\n",
    "# None, 14, 14, 32\n",
    "W3 = tf.Variable(tf.random_normal(shape=[3, 3, 32, 64]))\n",
    "b3 = tf.Variable(tf.random_normal(shape=[64]))\n",
    "# None, 14, 14, 64\n",
    "# Pool -> None, 7, 7, 64\n",
    "W4 = tf.Variable(tf.random_normal(shape=[7*7*64, 128]))\n",
    "b4 = tf.Variable(tf.random_normal(shape=[128]))\n",
    "\n",
    "W5 = tf.Variable(tf.random_normal(shape=[128, 64]))\n",
    "b5 = tf.Variable(tf.random_normal(shape=[64]))\n",
    "\n",
    "W6 = tf.Variable(tf.random_normal(shape=[64, 10]))\n",
    "b6 = tf.Variable(tf.random_normal(shape=[10]))"
   ]
  },
  {
   "cell_type": "code",
   "execution_count": null,
   "metadata": {},
   "outputs": [],
   "source": [
    "Z1 = tf.nn.conv2d(X, W1, strides=[1, 1, 1, 1], padding=\"SAME\") + b1\n",
    "A1 = tf.nn.relu(Z1)\n",
    "pool1 = tf.nn.max_pool(A1, ksize=[1, 2, 2, 1], strides=[1, 2, 2, 1], padding=\"SAME\")\n",
    "\n",
    "Z2 = tf.nn.conv2d(pool1, W2, strides=[1, 1, 1, 1], padding=\"SAME\") + b2\n",
    "A2 = tf.nn.relu(Z2)\n",
    "Z3 = tf.nn.conv2d(A2, W3, strides=[1, 1, 1, 1], padding=\"SAME\") + b3\n",
    "A3 = tf.nn.relu(Z3)\n",
    "\n",
    "pool3 = tf.nn.max_pool(A3, ksize=[1, 2, 2, 1], strides=[1, 2, 2, 1], padding=\"SAME\")\n",
    "\n",
    "conv_out = tf.reshape(pool3, [None, 7*7*64])\n",
    "Z4 = tf.matmul(W4, conv_out) + b4\n",
    "A4 = tf.nn.relu(Z4)\n",
    "\n",
    "Z5 = tf.matmul(W5, A4) + b5\n",
    "A5 = tf.nn.relu(Z5)\n",
    "\n",
    "logits = tf.matmul(W5, A5) + b5 #The output of the network before the last activation is called Logits"
   ]
  },
  {
   "cell_type": "code",
   "execution_count": null,
   "metadata": {},
   "outputs": [],
   "source": [
    "loss = tf.nn.softmax_cross_entropy_with_logits_v2(logits=logits, labels=y)\n",
    "cost = tf.reduce_mean(loss)\n",
    "\n",
    "train_step = tf.train.AdamOptimizer(0.001).minimize(cost)\n",
    "\n",
    "correct_prediction = tf.equal(tf.argmax(logits, 1), tf.argmax(y, 1))\n",
    "accuracy = tf.reduce_mean(tf.cast(correct_prediction, tf.float32))"
   ]
  },
  {
   "cell_type": "code",
   "execution_count": null,
   "metadata": {},
   "outputs": [],
   "source": [
    "with tf.Session() as sess:\n",
    "    sess.run(tf.global_variables_initializer())\n",
    "    for epoch in range(1, 101):\n",
    "        \n",
    "        for batch in get_next_batch(X_train, y_train, 64):\n",
    "            sess.run(train_step, {X:batch[0], y:batch[1]})\n",
    "            \n",
    "        if epoch % 10 == 0:\n",
    "            test_acc, test_loss = sess.run([accuracy, cost], {X:X_test, y:y_test})\n",
    "            \n",
    "            batch = get_next_batch(X_train, y_train, 1000).__next__() #just getting 1000 random data from Train\n",
    "            train_acc, train_loss = sess.run([accuracy, cost], {X:batch[0], y:batch[1]})\n",
    "            print(\"Epoch\", epoch, \"Train Acc:\", np.round(train_acc, 5), \\\n",
    "                  \"Train Loss:\", np.round(train_loss, 5), \\\n",
    "                  \"Test Acc:\", np.round(test_acc, 5), \"Test Loss:\", np.round(test_loss, 5))"
   ]
  }
 ],
 "metadata": {
  "kernelspec": {
   "display_name": "Python 3",
   "language": "python",
   "name": "python3"
  },
  "language_info": {
   "codemirror_mode": {
    "name": "ipython",
    "version": 3
   },
   "file_extension": ".py",
   "mimetype": "text/x-python",
   "name": "python",
   "nbconvert_exporter": "python",
   "pygments_lexer": "ipython3",
   "version": "3.6.6"
  }
 },
 "nbformat": 4,
 "nbformat_minor": 2
}
