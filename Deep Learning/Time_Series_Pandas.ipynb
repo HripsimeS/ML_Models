{
  "nbformat": 4,
  "nbformat_minor": 0,
  "metadata": {
    "kernelspec": {
      "display_name": "Python 3",
      "language": "python",
      "name": "python3"
    },
    "language_info": {
      "codemirror_mode": {
        "name": "ipython",
        "version": 3
      },
      "file_extension": ".py",
      "mimetype": "text/x-python",
      "name": "python",
      "nbconvert_exporter": "python",
      "pygments_lexer": "ipython3",
      "version": "3.7.1"
    },
    "colab": {
      "name": "Time_Series_with_Pandas.ipynb",
      "provenance": []
    }
  },
  "cells": [
    {
      "cell_type": "markdown",
      "metadata": {
        "id": "DCcvBVGp3lxB"
      },
      "source": [
        "# Python Datetime Review"
      ]
    },
    {
      "cell_type": "code",
      "metadata": {
        "id": "7maomqNb3lxS"
      },
      "source": [
        "#import datetime library\n",
        "from datetime import datetime"
      ],
      "execution_count": null,
      "outputs": []
    },
    {
      "cell_type": "code",
      "metadata": {
        "id": "7CxvzJ1e3lxT"
      },
      "source": [
        "# To illustrate the order of arguments\n",
        "my_year = 2017\n",
        "my_month = 1\n",
        "my_day = 2\n",
        "my_hour = 13\n",
        "my_minute = 30\n",
        "my_second = 15"
      ],
      "execution_count": null,
      "outputs": []
    },
    {
      "cell_type": "code",
      "metadata": {
        "id": "JzBD9MKQ3lxU",
        "outputId": "baffd312-4ae3-4e28-89df-b288f47d4160"
      },
      "source": [
        "# January 2nd, 2017    # Defaults to 0:00\n",
        "my_date= datetime(my_year,my_month, my_day)\n",
        "my_date"
      ],
      "execution_count": null,
      "outputs": [
        {
          "output_type": "execute_result",
          "data": {
            "text/plain": [
              "datetime.datetime(2017, 1, 2, 0, 0)"
            ]
          },
          "metadata": {
            "tags": []
          },
          "execution_count": 3
        }
      ]
    },
    {
      "cell_type": "code",
      "metadata": {
        "id": "s29PfOK23l0t",
        "outputId": "20f77839-1fd5-45fa-8c0a-e74bf3abd479"
      },
      "source": [
        "# January 2nd, 2017 at 13:30:15\n",
        "my_date_time = datetime(my_year,my_month,my_day,my_hour,my_minute,my_second)\n",
        "my_date_time"
      ],
      "execution_count": null,
      "outputs": [
        {
          "output_type": "execute_result",
          "data": {
            "text/plain": [
              "datetime.datetime(2017, 1, 2, 13, 30, 15)"
            ]
          },
          "metadata": {
            "tags": []
          },
          "execution_count": 4
        }
      ]
    },
    {
      "cell_type": "code",
      "metadata": {
        "id": "ilM-u2yY3l0w",
        "outputId": "4e5f5d98-aad9-4492-ed03-8a951daf4584"
      },
      "source": [
        "#grab day from the my_date_time\n",
        "my_date.day"
      ],
      "execution_count": null,
      "outputs": [
        {
          "output_type": "execute_result",
          "data": {
            "text/plain": [
              "2"
            ]
          },
          "metadata": {
            "tags": []
          },
          "execution_count": 5
        }
      ]
    },
    {
      "cell_type": "code",
      "metadata": {
        "id": "xLv4ElcM3l0y",
        "outputId": "f629fc23-81f6-4fc6-d46c-162c98165028"
      },
      "source": [
        "#grab hour from the my_date_time\n",
        "my_date_time.hour"
      ],
      "execution_count": null,
      "outputs": [
        {
          "output_type": "execute_result",
          "data": {
            "text/plain": [
              "13"
            ]
          },
          "metadata": {
            "tags": []
          },
          "execution_count": 6
        }
      ]
    },
    {
      "cell_type": "markdown",
      "metadata": {
        "id": "mYH6qrNf3l0z"
      },
      "source": [
        "# NumPy Datetime Arrays"
      ]
    },
    {
      "cell_type": "markdown",
      "metadata": {
        "id": "UQU7VdJ93l01"
      },
      "source": [
        "NumPy handles dates more efficiently than Python's datetime format.\n",
        "The NumPy data type is called datetime64 to distinguish it from Python's datetime."
      ]
    },
    {
      "cell_type": "code",
      "metadata": {
        "id": "BmOgZ-ul3l02"
      },
      "source": [
        "#import numpy\n",
        "import numpy as np"
      ],
      "execution_count": null,
      "outputs": []
    },
    {
      "cell_type": "code",
      "metadata": {
        "id": "ZcYjCABn3l03",
        "outputId": "ac4c04f7-4ef4-4e4e-917c-a90ffa49ad93"
      },
      "source": [
        "#CREATE AN ARRAY FROM THREE DATES\n",
        "np.array(['2016-03-15', '2017-05-24', '2018-08-09'], dtype='datetime64')"
      ],
      "execution_count": null,
      "outputs": [
        {
          "output_type": "execute_result",
          "data": {
            "text/plain": [
              "array(['2016-03-15', '2017-05-24', '2018-08-09'], dtype='datetime64[D]')"
            ]
          },
          "metadata": {
            "tags": []
          },
          "execution_count": 8
        }
      ]
    },
    {
      "cell_type": "markdown",
      "metadata": {
        "id": "AhvVOFQB3l06"
      },
      "source": [
        "NOTE: We see the dtype listed as 'datetime64[D]'. This tells us that NumPy applied a day-level date precision.\n",
        "If we want we can pass in a different measurement, such as [h] for hour or [Y] for year."
      ]
    },
    {
      "cell_type": "code",
      "metadata": {
        "id": "DnzGS-BW3l07",
        "outputId": "98607436-b91c-47a5-c3c2-27a24d9fae2c"
      },
      "source": [
        "#creat array dtype=datetime64[Y]\n",
        "\n",
        "np.array(['2016-03-15', '2017-05-24', '2018-08-09'], dtype='datetime64[Y]')"
      ],
      "execution_count": null,
      "outputs": [
        {
          "output_type": "execute_result",
          "data": {
            "text/plain": [
              "array(['2016', '2017', '2018'], dtype='datetime64[Y]')"
            ]
          },
          "metadata": {
            "tags": []
          },
          "execution_count": 9
        }
      ]
    },
    {
      "cell_type": "markdown",
      "metadata": {
        "id": "ng8V49aX3l08"
      },
      "source": [
        "# NumPy Date Ranges\n",
        "Just as np.arange(start,stop,step) can be used to produce an array of evenly-spaced integers, we can pass a dtype argument to obtain an array of dates. Remember that the stop date is exclusive."
      ]
    },
    {
      "cell_type": "code",
      "metadata": {
        "id": "HbMdJ3p73l09",
        "outputId": "a4e8e14e-9bba-4199-9d34-c8d6ef6a2c70"
      },
      "source": [
        "# AN ARRAY OF DATES FROM 6/1/18 TO 6/22/18 SPACED ONE WEEK APART\n",
        "np.arange('2018-06-01', '2018-06-23', 7, dtype='datetime64[D]')\n"
      ],
      "execution_count": null,
      "outputs": [
        {
          "output_type": "execute_result",
          "data": {
            "text/plain": [
              "array(['2018-06-01', '2018-06-08', '2018-06-15', '2018-06-22'],\n",
              "      dtype='datetime64[D]')"
            ]
          },
          "metadata": {
            "tags": []
          },
          "execution_count": 10
        }
      ]
    },
    {
      "cell_type": "markdown",
      "metadata": {
        "id": "mkrbRnBr3l0_"
      },
      "source": [
        "# Pandas Datetime Index"
      ]
    },
    {
      "cell_type": "code",
      "metadata": {
        "id": "oA50TQFl3l0_"
      },
      "source": [
        "#THE WEEK OF JULY 8TH, 2018   #The simplest way to build a DatetimeIndex is with the pd.date_range() method\n",
        "import pandas as pd\n"
      ],
      "execution_count": null,
      "outputs": []
    },
    {
      "cell_type": "code",
      "metadata": {
        "id": "DaQK9SfW3l1A",
        "outputId": "4ef01459-aca2-432f-bae9-7a2143667ad0"
      },
      "source": [
        "#Convert to an index\n",
        "some_dates = np.array(['2016-03-15', '2017-05-24', '2018-08-09'], dtype='datetime64[D]')\n",
        "some_dates\n",
        "idx = pd.DatetimeIndex(some_dates)\n",
        "idx"
      ],
      "execution_count": null,
      "outputs": [
        {
          "output_type": "execute_result",
          "data": {
            "text/plain": [
              "DatetimeIndex(['2016-03-15', '2017-05-24', '2018-08-09'], dtype='datetime64[ns]', freq=None)"
            ]
          },
          "metadata": {
            "tags": []
          },
          "execution_count": 12
        }
      ]
    },
    {
      "cell_type": "code",
      "metadata": {
        "id": "YpXtGoEI3l1C"
      },
      "source": [
        "#Create some random data\n",
        "data = np.random.randn(3,2)\n",
        "cols = ['A','B']\n"
      ],
      "execution_count": null,
      "outputs": []
    },
    {
      "cell_type": "code",
      "metadata": {
        "id": "MMN_QrsY3l1D",
        "outputId": "b3c8823f-766d-4136-e0e6-28fda61d7877"
      },
      "source": [
        "#Create a DataFrame with our random data, our date index, and our columns\n",
        "df = pd.DataFrame(data,idx,cols)\n",
        "df\n",
        "#df.index"
      ],
      "execution_count": null,
      "outputs": [
        {
          "output_type": "execute_result",
          "data": {
            "text/html": [
              "<div>\n",
              "<style scoped>\n",
              "    .dataframe tbody tr th:only-of-type {\n",
              "        vertical-align: middle;\n",
              "    }\n",
              "\n",
              "    .dataframe tbody tr th {\n",
              "        vertical-align: top;\n",
              "    }\n",
              "\n",
              "    .dataframe thead th {\n",
              "        text-align: right;\n",
              "    }\n",
              "</style>\n",
              "<table border=\"1\" class=\"dataframe\">\n",
              "  <thead>\n",
              "    <tr style=\"text-align: right;\">\n",
              "      <th></th>\n",
              "      <th>A</th>\n",
              "      <th>B</th>\n",
              "    </tr>\n",
              "  </thead>\n",
              "  <tbody>\n",
              "    <tr>\n",
              "      <th>2016-03-15</th>\n",
              "      <td>-2.257399</td>\n",
              "      <td>0.741918</td>\n",
              "    </tr>\n",
              "    <tr>\n",
              "      <th>2017-05-24</th>\n",
              "      <td>-0.350886</td>\n",
              "      <td>0.856576</td>\n",
              "    </tr>\n",
              "    <tr>\n",
              "      <th>2018-08-09</th>\n",
              "      <td>-0.273411</td>\n",
              "      <td>-0.122197</td>\n",
              "    </tr>\n",
              "  </tbody>\n",
              "</table>\n",
              "</div>"
            ],
            "text/plain": [
              "                   A         B\n",
              "2016-03-15 -2.257399  0.741918\n",
              "2017-05-24 -0.350886  0.856576\n",
              "2018-08-09 -0.273411 -0.122197"
            ]
          },
          "metadata": {
            "tags": []
          },
          "execution_count": 14
        }
      ]
    },
    {
      "cell_type": "code",
      "metadata": {
        "id": "215Mejqa3l1H",
        "outputId": "c9c6ddcf-f593-4769-aa3d-f39fad9b8553"
      },
      "source": [
        "#Latest Date Value\n",
        "df.index.max()"
      ],
      "execution_count": null,
      "outputs": [
        {
          "output_type": "execute_result",
          "data": {
            "text/plain": [
              "Timestamp('2018-08-09 00:00:00')"
            ]
          },
          "metadata": {
            "tags": []
          },
          "execution_count": 15
        }
      ]
    },
    {
      "cell_type": "code",
      "metadata": {
        "id": "migV5-O-3l1J",
        "outputId": "cf61d7e3-cf8c-4dcd-d02f-f7cd013d343a"
      },
      "source": [
        "#Latest Date Index Location\n",
        "df.index.argmax()"
      ],
      "execution_count": null,
      "outputs": [
        {
          "output_type": "execute_result",
          "data": {
            "text/plain": [
              "2"
            ]
          },
          "metadata": {
            "tags": []
          },
          "execution_count": 16
        }
      ]
    },
    {
      "cell_type": "code",
      "metadata": {
        "id": "xc822aP53l1M",
        "outputId": "2b175759-2eac-4af0-850d-515ca7bde18d"
      },
      "source": [
        "#Earliest Date Value\n",
        "df.index.min()"
      ],
      "execution_count": null,
      "outputs": [
        {
          "output_type": "execute_result",
          "data": {
            "text/plain": [
              "Timestamp('2016-03-15 00:00:00')"
            ]
          },
          "metadata": {
            "tags": []
          },
          "execution_count": 17
        }
      ]
    },
    {
      "cell_type": "code",
      "metadata": {
        "id": "m1_AT3LE3l1N",
        "outputId": "82294b59-4c48-4494-ef40-020839502225"
      },
      "source": [
        "#Earliest Date Index Location\n",
        "df.index.argmin()"
      ],
      "execution_count": null,
      "outputs": [
        {
          "output_type": "execute_result",
          "data": {
            "text/plain": [
              "0"
            ]
          },
          "metadata": {
            "tags": []
          },
          "execution_count": 18
        }
      ]
    },
    {
      "cell_type": "markdown",
      "metadata": {
        "id": "gCnXt-Zo3l1N"
      },
      "source": [
        "# Time Resampling"
      ]
    },
    {
      "cell_type": "code",
      "metadata": {
        "id": "S9--nRqp3l1O"
      },
      "source": [
        "import pandas as pd\n",
        "%matplotlib inline"
      ],
      "execution_count": null,
      "outputs": []
    },
    {
      "cell_type": "code",
      "metadata": {
        "id": "7BETEZJM3l1O"
      },
      "source": [
        "#read Starbucks stock data from 2015 to 2018 which includes daily closing prices and trading volumes\n",
        "df= pd.read_csv('starbucks.csv', index_col='Date', parse_dates=True)"
      ],
      "execution_count": null,
      "outputs": []
    },
    {
      "cell_type": "code",
      "metadata": {
        "id": "S6j-ZFAS3l1O",
        "outputId": "76dd5e84-3d61-49dc-ee37-9bb8e7dc116f"
      },
      "source": [
        "#check the first few rows\n",
        "df.head()"
      ],
      "execution_count": null,
      "outputs": [
        {
          "output_type": "execute_result",
          "data": {
            "text/html": [
              "<div>\n",
              "<style scoped>\n",
              "    .dataframe tbody tr th:only-of-type {\n",
              "        vertical-align: middle;\n",
              "    }\n",
              "\n",
              "    .dataframe tbody tr th {\n",
              "        vertical-align: top;\n",
              "    }\n",
              "\n",
              "    .dataframe thead th {\n",
              "        text-align: right;\n",
              "    }\n",
              "</style>\n",
              "<table border=\"1\" class=\"dataframe\">\n",
              "  <thead>\n",
              "    <tr style=\"text-align: right;\">\n",
              "      <th></th>\n",
              "      <th>Close</th>\n",
              "      <th>Volume</th>\n",
              "    </tr>\n",
              "    <tr>\n",
              "      <th>Date</th>\n",
              "      <th></th>\n",
              "      <th></th>\n",
              "    </tr>\n",
              "  </thead>\n",
              "  <tbody>\n",
              "    <tr>\n",
              "      <th>2015-01-02</th>\n",
              "      <td>38.0061</td>\n",
              "      <td>6906098</td>\n",
              "    </tr>\n",
              "    <tr>\n",
              "      <th>2015-01-05</th>\n",
              "      <td>37.2781</td>\n",
              "      <td>11623796</td>\n",
              "    </tr>\n",
              "    <tr>\n",
              "      <th>2015-01-06</th>\n",
              "      <td>36.9748</td>\n",
              "      <td>7664340</td>\n",
              "    </tr>\n",
              "    <tr>\n",
              "      <th>2015-01-07</th>\n",
              "      <td>37.8848</td>\n",
              "      <td>9732554</td>\n",
              "    </tr>\n",
              "    <tr>\n",
              "      <th>2015-01-08</th>\n",
              "      <td>38.4961</td>\n",
              "      <td>13170548</td>\n",
              "    </tr>\n",
              "  </tbody>\n",
              "</table>\n",
              "</div>"
            ],
            "text/plain": [
              "              Close    Volume\n",
              "Date                         \n",
              "2015-01-02  38.0061   6906098\n",
              "2015-01-05  37.2781  11623796\n",
              "2015-01-06  36.9748   7664340\n",
              "2015-01-07  37.8848   9732554\n",
              "2015-01-08  38.4961  13170548"
            ]
          },
          "metadata": {
            "tags": []
          },
          "execution_count": 22
        }
      ]
    },
    {
      "cell_type": "markdown",
      "metadata": {
        "id": "jkiiZ8HI3l1P"
      },
      "source": [
        "A common operation with time series data is resampling based on the time series index"
      ]
    },
    {
      "cell_type": "code",
      "metadata": {
        "id": "YT7CTa-g3l1P",
        "outputId": "c6d5810d-5559-4ee8-cbe2-b4be2b4d669b"
      },
      "source": [
        "# Our index\n",
        "df.index"
      ],
      "execution_count": null,
      "outputs": [
        {
          "output_type": "execute_result",
          "data": {
            "text/plain": [
              "DatetimeIndex(['2015-01-02', '2015-01-05', '2015-01-06', '2015-01-07',\n",
              "               '2015-01-08', '2015-01-09', '2015-01-12', '2015-01-13',\n",
              "               '2015-01-14', '2015-01-15',\n",
              "               ...\n",
              "               '2018-12-17', '2018-12-18', '2018-12-19', '2018-12-20',\n",
              "               '2018-12-21', '2018-12-24', '2018-12-26', '2018-12-27',\n",
              "               '2018-12-28', '2018-12-31'],\n",
              "              dtype='datetime64[ns]', name='Date', length=1006, freq=None)"
            ]
          },
          "metadata": {
            "tags": []
          },
          "execution_count": 23
        }
      ]
    },
    {
      "cell_type": "markdown",
      "metadata": {
        "id": "X77fMuJo3l1Q"
      },
      "source": [
        "When calling `.resample()` you first need to pass in a **rule** parameter, then you need to call some sort of aggregation function.\n",
        "\n",
        "The **rule** parameter describes the frequency with which to apply the aggregation function (daily, monthly, yearly, etc.)<br>\n",
        "It is passed in using an \"offset alias\" - refer to the table below. [[reference](http://pandas.pydata.org/pandas-docs/stable/user_guide/timeseries.html#offset-aliases)]\n",
        "\n",
        "The aggregation function is needed because, due to resampling, we need some sort of mathematical rule to join the rows (mean, sum, count, etc.)"
      ]
    },
    {
      "cell_type": "markdown",
      "metadata": {
        "id": "0kLZXvwK3l1Q"
      },
      "source": [
        "<table style=\"display: inline-block\">\n",
        "    <caption style=\"text-align: center\"><strong>TIME SERIES OFFSET ALIASES</strong></caption>\n",
        "<tr><th>ALIAS</th><th>DESCRIPTION</th></tr>\n",
        "<tr><td>B</td><td>business day frequency</td></tr>\n",
        "<tr><td>C</td><td>custom business day frequency (experimental)</td></tr>\n",
        "<tr><td>D</td><td>calendar day frequency</td></tr>\n",
        "<tr><td>W</td><td>weekly frequency</td></tr>\n",
        "<tr><td>M</td><td>month end frequency</td></tr>\n",
        "<tr><td>SM</td><td>semi-month end frequency (15th and end of month)</td></tr>\n",
        "<tr><td>BM</td><td>business month end frequency</td></tr>\n",
        "<tr><td>CBM</td><td>custom business month end frequency</td></tr>\n",
        "<tr><td>MS</td><td>month start frequency</td></tr>\n",
        "<tr><td>SMS</td><td>semi-month start frequency (1st and 15th)</td></tr>\n",
        "<tr><td>BMS</td><td>business month start frequency</td></tr>\n",
        "<tr><td>CBMS</td><td>custom business month start frequency</td></tr>\n",
        "<tr><td>Q</td><td>quarter end frequency</td></tr>\n",
        "<tr><td></td><td><font color=white>intentionally left blank</font></td></tr></table>\n",
        "\n",
        "<table style=\"display: inline-block; margin-left: 40px\">\n",
        "<caption style=\"text-align: center\"></caption>\n",
        "<tr><th>ALIAS</th><th>DESCRIPTION</th></tr>\n",
        "<tr><td>BQ</td><td>business quarter endfrequency</td></tr>\n",
        "<tr><td>QS</td><td>quarter start frequency</td></tr>\n",
        "<tr><td>BQS</td><td>business quarter start frequency</td></tr>\n",
        "<tr><td>A</td><td>year end frequency</td></tr>\n",
        "<tr><td>BA</td><td>business year end frequency</td></tr>\n",
        "<tr><td>AS</td><td>year start frequency</td></tr>\n",
        "<tr><td>BAS</td><td>business year start frequency</td></tr>\n",
        "<tr><td>BH</td><td>business hour frequency</td></tr>\n",
        "<tr><td>H</td><td>hourly frequency</td></tr>\n",
        "<tr><td>T, min</td><td>minutely frequency</td></tr>\n",
        "<tr><td>S</td><td>secondly frequency</td></tr>\n",
        "<tr><td>L, ms</td><td>milliseconds</td></tr>\n",
        "<tr><td>U, us</td><td>microseconds</td></tr>\n",
        "<tr><td>N</td><td>nanoseconds</td></tr></table>"
      ]
    },
    {
      "cell_type": "code",
      "metadata": {
        "id": "M-QEKeYF3l1R",
        "outputId": "dba79a35-75af-4bd7-954f-09ae76cc88fa"
      },
      "source": [
        "#resample the data by mean\n",
        "df.resample(rule='A').mean()"
      ],
      "execution_count": null,
      "outputs": [
        {
          "output_type": "execute_result",
          "data": {
            "text/html": [
              "<div>\n",
              "<style scoped>\n",
              "    .dataframe tbody tr th:only-of-type {\n",
              "        vertical-align: middle;\n",
              "    }\n",
              "\n",
              "    .dataframe tbody tr th {\n",
              "        vertical-align: top;\n",
              "    }\n",
              "\n",
              "    .dataframe thead th {\n",
              "        text-align: right;\n",
              "    }\n",
              "</style>\n",
              "<table border=\"1\" class=\"dataframe\">\n",
              "  <thead>\n",
              "    <tr style=\"text-align: right;\">\n",
              "      <th></th>\n",
              "      <th>Close</th>\n",
              "      <th>Volume</th>\n",
              "    </tr>\n",
              "    <tr>\n",
              "      <th>Date</th>\n",
              "      <th></th>\n",
              "      <th></th>\n",
              "    </tr>\n",
              "  </thead>\n",
              "  <tbody>\n",
              "    <tr>\n",
              "      <th>2015-12-31</th>\n",
              "      <td>50.078100</td>\n",
              "      <td>8.649190e+06</td>\n",
              "    </tr>\n",
              "    <tr>\n",
              "      <th>2016-12-31</th>\n",
              "      <td>53.891732</td>\n",
              "      <td>9.300633e+06</td>\n",
              "    </tr>\n",
              "    <tr>\n",
              "      <th>2017-12-31</th>\n",
              "      <td>55.457310</td>\n",
              "      <td>9.296078e+06</td>\n",
              "    </tr>\n",
              "    <tr>\n",
              "      <th>2018-12-31</th>\n",
              "      <td>56.870005</td>\n",
              "      <td>1.122883e+07</td>\n",
              "    </tr>\n",
              "  </tbody>\n",
              "</table>\n",
              "</div>"
            ],
            "text/plain": [
              "                Close        Volume\n",
              "Date                               \n",
              "2015-12-31  50.078100  8.649190e+06\n",
              "2016-12-31  53.891732  9.300633e+06\n",
              "2017-12-31  55.457310  9.296078e+06\n",
              "2018-12-31  56.870005  1.122883e+07"
            ]
          },
          "metadata": {
            "tags": []
          },
          "execution_count": 24
        }
      ]
    },
    {
      "cell_type": "markdown",
      "metadata": {
        "id": "MjzolaHc3l1R"
      },
      "source": [
        "We're not limited to pandas built-in summary functions (min/max/mean etc.). We can define our own function"
      ]
    },
    {
      "cell_type": "code",
      "metadata": {
        "id": "ugB4-xQo3l1R",
        "outputId": "3c201f18-9fc2-4771-cb92-255789f62082"
      },
      "source": [
        "#use barplot to show the closing price of year end frequency. set the title as well.\n",
        "df['Close'].resample('A').mean().plot.bar(title='Yearly Mean Closing Price for Strarbucks')"
      ],
      "execution_count": null,
      "outputs": [
        {
          "output_type": "execute_result",
          "data": {
            "text/plain": [
              "<matplotlib.axes._subplots.AxesSubplot at 0x2139c209cf8>"
            ]
          },
          "metadata": {
            "tags": []
          },
          "execution_count": 27
        },
        {
          "output_type": "display_data",
          "data": {
            "image/png": "[encoded data removed]",
            "text/plain": [
              "<Figure size 432x288 with 1 Axes>"
            ]
          },
          "metadata": {
            "tags": [],
            "needs_background": "light"
          }
        }
      ]
    },
    {
      "cell_type": "code",
      "metadata": {
        "id": "1UHJttU83l1S",
        "outputId": "6fd16bd8-9bde-4e68-c841-80cf83357362"
      },
      "source": [
        "#use barplot to show the closing price of month end frequency. set the title as well.\n",
        "title ='Monthly Max Closing Price'\n",
        "df['Close'].resample('M').max().plot.bar(figsize=(16,6), title=title, color = '#1f77b4')"
      ],
      "execution_count": null,
      "outputs": [
        {
          "output_type": "execute_result",
          "data": {
            "text/plain": [
              "<matplotlib.axes._subplots.AxesSubplot at 0x2139e2b67f0>"
            ]
          },
          "metadata": {
            "tags": []
          },
          "execution_count": 28
        },
        {
          "output_type": "display_data",
          "data": {
            "image/png": "[encoded data removed]",
            "text/plain": [
              "<Figure size 1152x432 with 1 Axes>"
            ]
          },
          "metadata": {
            "tags": [],
            "needs_background": "light"
          }
        }
      ]
    },
    {
      "cell_type": "markdown",
      "metadata": {
        "id": "Ow3yXWEI3l1U"
      },
      "source": [
        "# Time_Shifting"
      ]
    },
    {
      "cell_type": "markdown",
      "metadata": {
        "id": "hSSpMsMg3l1U"
      },
      "source": [
        "Sometimes you may need to shift all your data up or down along the time series index."
      ]
    },
    {
      "cell_type": "code",
      "metadata": {
        "id": "LidN_fLF3l1V"
      },
      "source": [
        "import pandas as pd"
      ],
      "execution_count": null,
      "outputs": []
    },
    {
      "cell_type": "code",
      "metadata": {
        "id": "DgeKjGlz3l1V"
      },
      "source": [
        "#read Starbucks stock data from 2015 to 2018 which includes daily closing prices and trading volumes\n",
        "df= pd.read_csv('starbucks.csv', index_col='Date', parse_dates=True)"
      ],
      "execution_count": null,
      "outputs": []
    },
    {
      "cell_type": "code",
      "metadata": {
        "id": "n2tHTOO63l1W",
        "outputId": "0197789f-ef08-4bb7-8106-f2da15407c4c"
      },
      "source": [
        "#expelore first and last few rows\n",
        "df.head()"
      ],
      "execution_count": null,
      "outputs": [
        {
          "output_type": "execute_result",
          "data": {
            "text/html": [
              "<div>\n",
              "<style scoped>\n",
              "    .dataframe tbody tr th:only-of-type {\n",
              "        vertical-align: middle;\n",
              "    }\n",
              "\n",
              "    .dataframe tbody tr th {\n",
              "        vertical-align: top;\n",
              "    }\n",
              "\n",
              "    .dataframe thead th {\n",
              "        text-align: right;\n",
              "    }\n",
              "</style>\n",
              "<table border=\"1\" class=\"dataframe\">\n",
              "  <thead>\n",
              "    <tr style=\"text-align: right;\">\n",
              "      <th></th>\n",
              "      <th>Close</th>\n",
              "      <th>Volume</th>\n",
              "    </tr>\n",
              "    <tr>\n",
              "      <th>Date</th>\n",
              "      <th></th>\n",
              "      <th></th>\n",
              "    </tr>\n",
              "  </thead>\n",
              "  <tbody>\n",
              "    <tr>\n",
              "      <th>2015-01-02</th>\n",
              "      <td>38.0061</td>\n",
              "      <td>6906098</td>\n",
              "    </tr>\n",
              "    <tr>\n",
              "      <th>2015-01-05</th>\n",
              "      <td>37.2781</td>\n",
              "      <td>11623796</td>\n",
              "    </tr>\n",
              "    <tr>\n",
              "      <th>2015-01-06</th>\n",
              "      <td>36.9748</td>\n",
              "      <td>7664340</td>\n",
              "    </tr>\n",
              "    <tr>\n",
              "      <th>2015-01-07</th>\n",
              "      <td>37.8848</td>\n",
              "      <td>9732554</td>\n",
              "    </tr>\n",
              "    <tr>\n",
              "      <th>2015-01-08</th>\n",
              "      <td>38.4961</td>\n",
              "      <td>13170548</td>\n",
              "    </tr>\n",
              "  </tbody>\n",
              "</table>\n",
              "</div>"
            ],
            "text/plain": [
              "              Close    Volume\n",
              "Date                         \n",
              "2015-01-02  38.0061   6906098\n",
              "2015-01-05  37.2781  11623796\n",
              "2015-01-06  36.9748   7664340\n",
              "2015-01-07  37.8848   9732554\n",
              "2015-01-08  38.4961  13170548"
            ]
          },
          "metadata": {
            "tags": []
          },
          "execution_count": 7
        }
      ]
    },
    {
      "cell_type": "code",
      "metadata": {
        "id": "GzK95tGG3l1b",
        "outputId": "91e5e690-f79d-470a-da71-88e71dc6d0c9"
      },
      "source": [
        "df.tail()"
      ],
      "execution_count": null,
      "outputs": [
        {
          "output_type": "execute_result",
          "data": {
            "text/html": [
              "<div>\n",
              "<style scoped>\n",
              "    .dataframe tbody tr th:only-of-type {\n",
              "        vertical-align: middle;\n",
              "    }\n",
              "\n",
              "    .dataframe tbody tr th {\n",
              "        vertical-align: top;\n",
              "    }\n",
              "\n",
              "    .dataframe thead th {\n",
              "        text-align: right;\n",
              "    }\n",
              "</style>\n",
              "<table border=\"1\" class=\"dataframe\">\n",
              "  <thead>\n",
              "    <tr style=\"text-align: right;\">\n",
              "      <th></th>\n",
              "      <th>Close</th>\n",
              "      <th>Volume</th>\n",
              "    </tr>\n",
              "    <tr>\n",
              "      <th>Date</th>\n",
              "      <th></th>\n",
              "      <th></th>\n",
              "    </tr>\n",
              "  </thead>\n",
              "  <tbody>\n",
              "    <tr>\n",
              "      <th>2018-12-24</th>\n",
              "      <td>60.56</td>\n",
              "      <td>6323252</td>\n",
              "    </tr>\n",
              "    <tr>\n",
              "      <th>2018-12-26</th>\n",
              "      <td>63.08</td>\n",
              "      <td>16646238</td>\n",
              "    </tr>\n",
              "    <tr>\n",
              "      <th>2018-12-27</th>\n",
              "      <td>63.20</td>\n",
              "      <td>11308081</td>\n",
              "    </tr>\n",
              "    <tr>\n",
              "      <th>2018-12-28</th>\n",
              "      <td>63.39</td>\n",
              "      <td>7712127</td>\n",
              "    </tr>\n",
              "    <tr>\n",
              "      <th>2018-12-31</th>\n",
              "      <td>64.40</td>\n",
              "      <td>7690183</td>\n",
              "    </tr>\n",
              "  </tbody>\n",
              "</table>\n",
              "</div>"
            ],
            "text/plain": [
              "            Close    Volume\n",
              "Date                       \n",
              "2018-12-24  60.56   6323252\n",
              "2018-12-26  63.08  16646238\n",
              "2018-12-27  63.20  11308081\n",
              "2018-12-28  63.39   7712127\n",
              "2018-12-31  64.40   7690183"
            ]
          },
          "metadata": {
            "tags": []
          },
          "execution_count": 4
        }
      ]
    },
    {
      "cell_type": "code",
      "metadata": {
        "id": "pPGTH9m63l1c",
        "outputId": "083fd91b-565c-4fe5-ebf6-280b01f8d891"
      },
      "source": [
        "#shift forward by 1. entire your database\n",
        "#This method shifts the entire date index a given number of rows, without regard for time periods (months & years)\n",
        "#NOTE: You will lose that last piece of data that no longer has an index!\n",
        "df.shift(1).head()"
      ],
      "execution_count": null,
      "outputs": [
        {
          "output_type": "execute_result",
          "data": {
            "text/html": [
              "<div>\n",
              "<style scoped>\n",
              "    .dataframe tbody tr th:only-of-type {\n",
              "        vertical-align: middle;\n",
              "    }\n",
              "\n",
              "    .dataframe tbody tr th {\n",
              "        vertical-align: top;\n",
              "    }\n",
              "\n",
              "    .dataframe thead th {\n",
              "        text-align: right;\n",
              "    }\n",
              "</style>\n",
              "<table border=\"1\" class=\"dataframe\">\n",
              "  <thead>\n",
              "    <tr style=\"text-align: right;\">\n",
              "      <th></th>\n",
              "      <th>Close</th>\n",
              "      <th>Volume</th>\n",
              "    </tr>\n",
              "    <tr>\n",
              "      <th>Date</th>\n",
              "      <th></th>\n",
              "      <th></th>\n",
              "    </tr>\n",
              "  </thead>\n",
              "  <tbody>\n",
              "    <tr>\n",
              "      <th>2015-01-02</th>\n",
              "      <td>NaN</td>\n",
              "      <td>NaN</td>\n",
              "    </tr>\n",
              "    <tr>\n",
              "      <th>2015-01-05</th>\n",
              "      <td>38.0061</td>\n",
              "      <td>6906098.0</td>\n",
              "    </tr>\n",
              "    <tr>\n",
              "      <th>2015-01-06</th>\n",
              "      <td>37.2781</td>\n",
              "      <td>11623796.0</td>\n",
              "    </tr>\n",
              "    <tr>\n",
              "      <th>2015-01-07</th>\n",
              "      <td>36.9748</td>\n",
              "      <td>7664340.0</td>\n",
              "    </tr>\n",
              "    <tr>\n",
              "      <th>2015-01-08</th>\n",
              "      <td>37.8848</td>\n",
              "      <td>9732554.0</td>\n",
              "    </tr>\n",
              "  </tbody>\n",
              "</table>\n",
              "</div>"
            ],
            "text/plain": [
              "              Close      Volume\n",
              "Date                           \n",
              "2015-01-02      NaN         NaN\n",
              "2015-01-05  38.0061   6906098.0\n",
              "2015-01-06  37.2781  11623796.0\n",
              "2015-01-07  36.9748   7664340.0\n",
              "2015-01-08  37.8848   9732554.0"
            ]
          },
          "metadata": {
            "tags": []
          },
          "execution_count": 5
        }
      ]
    },
    {
      "cell_type": "code",
      "metadata": {
        "id": "MRzLKx423l1d",
        "outputId": "7d4d1f06-4402-40bd-8546-cd5f5866f4e8"
      },
      "source": [
        "df.tail()"
      ],
      "execution_count": null,
      "outputs": [
        {
          "output_type": "execute_result",
          "data": {
            "text/html": [
              "<div>\n",
              "<style scoped>\n",
              "    .dataframe tbody tr th:only-of-type {\n",
              "        vertical-align: middle;\n",
              "    }\n",
              "\n",
              "    .dataframe tbody tr th {\n",
              "        vertical-align: top;\n",
              "    }\n",
              "\n",
              "    .dataframe thead th {\n",
              "        text-align: right;\n",
              "    }\n",
              "</style>\n",
              "<table border=\"1\" class=\"dataframe\">\n",
              "  <thead>\n",
              "    <tr style=\"text-align: right;\">\n",
              "      <th></th>\n",
              "      <th>Close</th>\n",
              "      <th>Volume</th>\n",
              "    </tr>\n",
              "    <tr>\n",
              "      <th>Date</th>\n",
              "      <th></th>\n",
              "      <th></th>\n",
              "    </tr>\n",
              "  </thead>\n",
              "  <tbody>\n",
              "    <tr>\n",
              "      <th>2018-12-24</th>\n",
              "      <td>60.56</td>\n",
              "      <td>6323252</td>\n",
              "    </tr>\n",
              "    <tr>\n",
              "      <th>2018-12-26</th>\n",
              "      <td>63.08</td>\n",
              "      <td>16646238</td>\n",
              "    </tr>\n",
              "    <tr>\n",
              "      <th>2018-12-27</th>\n",
              "      <td>63.20</td>\n",
              "      <td>11308081</td>\n",
              "    </tr>\n",
              "    <tr>\n",
              "      <th>2018-12-28</th>\n",
              "      <td>63.39</td>\n",
              "      <td>7712127</td>\n",
              "    </tr>\n",
              "    <tr>\n",
              "      <th>2018-12-31</th>\n",
              "      <td>64.40</td>\n",
              "      <td>7690183</td>\n",
              "    </tr>\n",
              "  </tbody>\n",
              "</table>\n",
              "</div>"
            ],
            "text/plain": [
              "            Close    Volume\n",
              "Date                       \n",
              "2018-12-24  60.56   6323252\n",
              "2018-12-26  63.08  16646238\n",
              "2018-12-27  63.20  11308081\n",
              "2018-12-28  63.39   7712127\n",
              "2018-12-31  64.40   7690183"
            ]
          },
          "metadata": {
            "tags": []
          },
          "execution_count": 6
        }
      ]
    },
    {
      "cell_type": "code",
      "metadata": {
        "id": "DBeDzXPl3l1d",
        "outputId": "74ce4889-539f-42c0-e332-90afaa73a349"
      },
      "source": [
        "#shift backwards by 1. entire your database\n",
        "df.shift(-1).tail()"
      ],
      "execution_count": null,
      "outputs": [
        {
          "output_type": "execute_result",
          "data": {
            "text/html": [
              "<div>\n",
              "<style scoped>\n",
              "    .dataframe tbody tr th:only-of-type {\n",
              "        vertical-align: middle;\n",
              "    }\n",
              "\n",
              "    .dataframe tbody tr th {\n",
              "        vertical-align: top;\n",
              "    }\n",
              "\n",
              "    .dataframe thead th {\n",
              "        text-align: right;\n",
              "    }\n",
              "</style>\n",
              "<table border=\"1\" class=\"dataframe\">\n",
              "  <thead>\n",
              "    <tr style=\"text-align: right;\">\n",
              "      <th></th>\n",
              "      <th>Close</th>\n",
              "      <th>Volume</th>\n",
              "    </tr>\n",
              "    <tr>\n",
              "      <th>Date</th>\n",
              "      <th></th>\n",
              "      <th></th>\n",
              "    </tr>\n",
              "  </thead>\n",
              "  <tbody>\n",
              "    <tr>\n",
              "      <th>2018-12-24</th>\n",
              "      <td>63.08</td>\n",
              "      <td>16646238.0</td>\n",
              "    </tr>\n",
              "    <tr>\n",
              "      <th>2018-12-26</th>\n",
              "      <td>63.20</td>\n",
              "      <td>11308081.0</td>\n",
              "    </tr>\n",
              "    <tr>\n",
              "      <th>2018-12-27</th>\n",
              "      <td>63.39</td>\n",
              "      <td>7712127.0</td>\n",
              "    </tr>\n",
              "    <tr>\n",
              "      <th>2018-12-28</th>\n",
              "      <td>64.40</td>\n",
              "      <td>7690183.0</td>\n",
              "    </tr>\n",
              "    <tr>\n",
              "      <th>2018-12-31</th>\n",
              "      <td>NaN</td>\n",
              "      <td>NaN</td>\n",
              "    </tr>\n",
              "  </tbody>\n",
              "</table>\n",
              "</div>"
            ],
            "text/plain": [
              "            Close      Volume\n",
              "Date                         \n",
              "2018-12-24  63.08  16646238.0\n",
              "2018-12-26  63.20  11308081.0\n",
              "2018-12-27  63.39   7712127.0\n",
              "2018-12-28  64.40   7690183.0\n",
              "2018-12-31    NaN         NaN"
            ]
          },
          "metadata": {
            "tags": []
          },
          "execution_count": 62
        }
      ]
    },
    {
      "cell_type": "markdown",
      "metadata": {
        "id": "D6uDZrQH3l1e"
      },
      "source": [
        "# Shifting based on Time Series Frequency Code"
      ]
    },
    {
      "cell_type": "markdown",
      "metadata": {
        "id": "TwsyJrKx3l1e"
      },
      "source": [
        "We can choose to shift index values up or down without realigning the data by passing in a freq argument.\n",
        "This method shifts dates to the next period based on a frequency code. Common codes are 'M' for month-end and 'A' for year-end."
      ]
    },
    {
      "cell_type": "code",
      "metadata": {
        "id": "9a2Mu29d3l1e",
        "outputId": "4df801c2-e5bd-4aa2-ef31-c351bef2bff6"
      },
      "source": [
        "## Shift everything forward one month\n",
        "df.shift(periods=1, freq='M').head(40)"
      ],
      "execution_count": null,
      "outputs": [
        {
          "output_type": "execute_result",
          "data": {
            "text/html": [
              "<div>\n",
              "<style scoped>\n",
              "    .dataframe tbody tr th:only-of-type {\n",
              "        vertical-align: middle;\n",
              "    }\n",
              "\n",
              "    .dataframe tbody tr th {\n",
              "        vertical-align: top;\n",
              "    }\n",
              "\n",
              "    .dataframe thead th {\n",
              "        text-align: right;\n",
              "    }\n",
              "</style>\n",
              "<table border=\"1\" class=\"dataframe\">\n",
              "  <thead>\n",
              "    <tr style=\"text-align: right;\">\n",
              "      <th></th>\n",
              "      <th>Close</th>\n",
              "      <th>Volume</th>\n",
              "    </tr>\n",
              "    <tr>\n",
              "      <th>Date</th>\n",
              "      <th></th>\n",
              "      <th></th>\n",
              "    </tr>\n",
              "  </thead>\n",
              "  <tbody>\n",
              "    <tr>\n",
              "      <th>2015-01-31</th>\n",
              "      <td>38.0061</td>\n",
              "      <td>6906098</td>\n",
              "    </tr>\n",
              "    <tr>\n",
              "      <th>2015-01-31</th>\n",
              "      <td>37.2781</td>\n",
              "      <td>11623796</td>\n",
              "    </tr>\n",
              "    <tr>\n",
              "      <th>2015-01-31</th>\n",
              "      <td>36.9748</td>\n",
              "      <td>7664340</td>\n",
              "    </tr>\n",
              "    <tr>\n",
              "      <th>2015-01-31</th>\n",
              "      <td>37.8848</td>\n",
              "      <td>9732554</td>\n",
              "    </tr>\n",
              "    <tr>\n",
              "      <th>2015-01-31</th>\n",
              "      <td>38.4961</td>\n",
              "      <td>13170548</td>\n",
              "    </tr>\n",
              "    <tr>\n",
              "      <th>2015-01-31</th>\n",
              "      <td>37.2361</td>\n",
              "      <td>27556706</td>\n",
              "    </tr>\n",
              "    <tr>\n",
              "      <th>2015-01-31</th>\n",
              "      <td>37.4415</td>\n",
              "      <td>10021486</td>\n",
              "    </tr>\n",
              "    <tr>\n",
              "      <th>2015-01-31</th>\n",
              "      <td>37.7401</td>\n",
              "      <td>11040702</td>\n",
              "    </tr>\n",
              "    <tr>\n",
              "      <th>2015-01-31</th>\n",
              "      <td>37.5301</td>\n",
              "      <td>9295084</td>\n",
              "    </tr>\n",
              "    <tr>\n",
              "      <th>2015-01-31</th>\n",
              "      <td>37.1381</td>\n",
              "      <td>8126602</td>\n",
              "    </tr>\n",
              "    <tr>\n",
              "      <th>2015-01-31</th>\n",
              "      <td>37.6188</td>\n",
              "      <td>9015502</td>\n",
              "    </tr>\n",
              "    <tr>\n",
              "      <th>2015-01-31</th>\n",
              "      <td>37.9058</td>\n",
              "      <td>10738304</td>\n",
              "    </tr>\n",
              "    <tr>\n",
              "      <th>2015-01-31</th>\n",
              "      <td>37.9361</td>\n",
              "      <td>10844182</td>\n",
              "    </tr>\n",
              "    <tr>\n",
              "      <th>2015-01-31</th>\n",
              "      <td>38.6128</td>\n",
              "      <td>23913056</td>\n",
              "    </tr>\n",
              "    <tr>\n",
              "      <th>2015-01-31</th>\n",
              "      <td>41.1702</td>\n",
              "      <td>38107194</td>\n",
              "    </tr>\n",
              "    <tr>\n",
              "      <th>2015-01-31</th>\n",
              "      <td>41.1235</td>\n",
              "      <td>14098574</td>\n",
              "    </tr>\n",
              "    <tr>\n",
              "      <th>2015-01-31</th>\n",
              "      <td>41.2262</td>\n",
              "      <td>10995808</td>\n",
              "    </tr>\n",
              "    <tr>\n",
              "      <th>2015-01-31</th>\n",
              "      <td>40.8645</td>\n",
              "      <td>11963202</td>\n",
              "    </tr>\n",
              "    <tr>\n",
              "      <th>2015-01-31</th>\n",
              "      <td>41.5575</td>\n",
              "      <td>12475860</td>\n",
              "    </tr>\n",
              "    <tr>\n",
              "      <th>2015-01-31</th>\n",
              "      <td>40.8482</td>\n",
              "      <td>10070456</td>\n",
              "    </tr>\n",
              "    <tr>\n",
              "      <th>2015-02-28</th>\n",
              "      <td>41.0629</td>\n",
              "      <td>13638832</td>\n",
              "    </tr>\n",
              "    <tr>\n",
              "      <th>2015-02-28</th>\n",
              "      <td>41.4469</td>\n",
              "      <td>9252426</td>\n",
              "    </tr>\n",
              "    <tr>\n",
              "      <th>2015-02-28</th>\n",
              "      <td>41.5453</td>\n",
              "      <td>11496698</td>\n",
              "    </tr>\n",
              "    <tr>\n",
              "      <th>2015-02-28</th>\n",
              "      <td>41.9856</td>\n",
              "      <td>7598672</td>\n",
              "    </tr>\n",
              "    <tr>\n",
              "      <th>2015-02-28</th>\n",
              "      <td>41.6858</td>\n",
              "      <td>7835332</td>\n",
              "    </tr>\n",
              "    <tr>\n",
              "      <th>2015-02-28</th>\n",
              "      <td>41.6015</td>\n",
              "      <td>6911614</td>\n",
              "    </tr>\n",
              "    <tr>\n",
              "      <th>2015-02-28</th>\n",
              "      <td>42.7069</td>\n",
              "      <td>12469500</td>\n",
              "    </tr>\n",
              "    <tr>\n",
              "      <th>2015-02-28</th>\n",
              "      <td>42.5242</td>\n",
              "      <td>6466910</td>\n",
              "    </tr>\n",
              "    <tr>\n",
              "      <th>2015-02-28</th>\n",
              "      <td>43.0090</td>\n",
              "      <td>7197558</td>\n",
              "    </tr>\n",
              "    <tr>\n",
              "      <th>2015-02-28</th>\n",
              "      <td>42.8942</td>\n",
              "      <td>6109522</td>\n",
              "    </tr>\n",
              "    <tr>\n",
              "      <th>2015-02-28</th>\n",
              "      <td>43.1050</td>\n",
              "      <td>6386900</td>\n",
              "    </tr>\n",
              "    <tr>\n",
              "      <th>2015-02-28</th>\n",
              "      <td>43.5593</td>\n",
              "      <td>6541986</td>\n",
              "    </tr>\n",
              "    <tr>\n",
              "      <th>2015-02-28</th>\n",
              "      <td>43.6390</td>\n",
              "      <td>6109176</td>\n",
              "    </tr>\n",
              "    <tr>\n",
              "      <th>2015-02-28</th>\n",
              "      <td>43.7982</td>\n",
              "      <td>6462662</td>\n",
              "    </tr>\n",
              "    <tr>\n",
              "      <th>2015-02-28</th>\n",
              "      <td>43.8310</td>\n",
              "      <td>5854572</td>\n",
              "    </tr>\n",
              "    <tr>\n",
              "      <th>2015-02-28</th>\n",
              "      <td>43.7701</td>\n",
              "      <td>6337888</td>\n",
              "    </tr>\n",
              "    <tr>\n",
              "      <th>2015-02-28</th>\n",
              "      <td>44.1495</td>\n",
              "      <td>8120660</td>\n",
              "    </tr>\n",
              "    <tr>\n",
              "      <th>2015-02-28</th>\n",
              "      <td>44.2853</td>\n",
              "      <td>6816352</td>\n",
              "    </tr>\n",
              "    <tr>\n",
              "      <th>2015-02-28</th>\n",
              "      <td>43.7865</td>\n",
              "      <td>8658404</td>\n",
              "    </tr>\n",
              "    <tr>\n",
              "      <th>2015-03-31</th>\n",
              "      <td>44.1331</td>\n",
              "      <td>7947018</td>\n",
              "    </tr>\n",
              "  </tbody>\n",
              "</table>\n",
              "</div>"
            ],
            "text/plain": [
              "              Close    Volume\n",
              "Date                         \n",
              "2015-01-31  38.0061   6906098\n",
              "2015-01-31  37.2781  11623796\n",
              "2015-01-31  36.9748   7664340\n",
              "2015-01-31  37.8848   9732554\n",
              "2015-01-31  38.4961  13170548\n",
              "2015-01-31  37.2361  27556706\n",
              "2015-01-31  37.4415  10021486\n",
              "2015-01-31  37.7401  11040702\n",
              "2015-01-31  37.5301   9295084\n",
              "2015-01-31  37.1381   8126602\n",
              "2015-01-31  37.6188   9015502\n",
              "2015-01-31  37.9058  10738304\n",
              "2015-01-31  37.9361  10844182\n",
              "2015-01-31  38.6128  23913056\n",
              "2015-01-31  41.1702  38107194\n",
              "2015-01-31  41.1235  14098574\n",
              "2015-01-31  41.2262  10995808\n",
              "2015-01-31  40.8645  11963202\n",
              "2015-01-31  41.5575  12475860\n",
              "2015-01-31  40.8482  10070456\n",
              "2015-02-28  41.0629  13638832\n",
              "2015-02-28  41.4469   9252426\n",
              "2015-02-28  41.5453  11496698\n",
              "2015-02-28  41.9856   7598672\n",
              "2015-02-28  41.6858   7835332\n",
              "2015-02-28  41.6015   6911614\n",
              "2015-02-28  42.7069  12469500\n",
              "2015-02-28  42.5242   6466910\n",
              "2015-02-28  43.0090   7197558\n",
              "2015-02-28  42.8942   6109522\n",
              "2015-02-28  43.1050   6386900\n",
              "2015-02-28  43.5593   6541986\n",
              "2015-02-28  43.6390   6109176\n",
              "2015-02-28  43.7982   6462662\n",
              "2015-02-28  43.8310   5854572\n",
              "2015-02-28  43.7701   6337888\n",
              "2015-02-28  44.1495   8120660\n",
              "2015-02-28  44.2853   6816352\n",
              "2015-02-28  43.7865   8658404\n",
              "2015-03-31  44.1331   7947018"
            ]
          },
          "metadata": {
            "tags": []
          },
          "execution_count": 63
        }
      ]
    },
    {
      "cell_type": "markdown",
      "metadata": {
        "id": "lqz01RN33l1f"
      },
      "source": [
        "# Rolling and Expanding"
      ]
    },
    {
      "cell_type": "markdown",
      "metadata": {
        "id": "dbgJUDIt3l1f"
      },
      "source": [
        "A common process with time series is to create data based off of a rolling mean. The idea is to divide the data into \"windows\" of time, and then calculate an aggregate function for each window. In this way we obtain a simple moving average."
      ]
    },
    {
      "cell_type": "markdown",
      "metadata": {
        "id": "NPaw2BU83l1f"
      },
      "source": [
        "########If I use the expanding window with initial size 1, I will create a window that in the first step contains only the first row. In the second step, it contains both the first and the second row. In every step, one additional row is added to the window, and the aggregating function is being recalculated################"
      ]
    },
    {
      "cell_type": "markdown",
      "metadata": {
        "id": "H3oYpqxX3l1g"
      },
      "source": [
        "Rolling windows are totally different. In this case, we specify the size of the window which is moving. What happens when I set the rolling window size to 2?\n",
        "\n",
        "In the first step, it is going to contain the first row and one undefined row, so I am going to get NaN as a result.\n",
        "\n",
        "In the second step, the window moves and now contains the first and the second row. Now it is possible to calculate the aggregate function. In the case of this example, the sum of both rows.\n",
        "\n",
        "In the third step, the window moves again and no longer contains the first row. Instead of that now it calculates the sum of the second and the third row."
      ]
    },
    {
      "cell_type": "code",
      "metadata": {
        "id": "Cr2vZrys3l1g"
      },
      "source": [
        "#import numpy as np\n",
        "numpy_data = np.array([[1, 2], [3, 4], [5, 6], [7, 8], [9, 10], [11,12]])\n",
        "df = pd.DataFrame(data=numpy_data, index=[\"row1\", \"row2\", \"row3\", \"row4\", \"row5\", \"row6\"], columns=[\"column1\", \"column2\"])"
      ],
      "execution_count": null,
      "outputs": []
    },
    {
      "cell_type": "code",
      "metadata": {
        "id": "S7TVuZzo3l1g",
        "outputId": "ae52fec1-ab2f-4129-91e0-b5a466745269"
      },
      "source": [
        "df"
      ],
      "execution_count": null,
      "outputs": [
        {
          "output_type": "execute_result",
          "data": {
            "text/html": [
              "<div>\n",
              "<style scoped>\n",
              "    .dataframe tbody tr th:only-of-type {\n",
              "        vertical-align: middle;\n",
              "    }\n",
              "\n",
              "    .dataframe tbody tr th {\n",
              "        vertical-align: top;\n",
              "    }\n",
              "\n",
              "    .dataframe thead th {\n",
              "        text-align: right;\n",
              "    }\n",
              "</style>\n",
              "<table border=\"1\" class=\"dataframe\">\n",
              "  <thead>\n",
              "    <tr style=\"text-align: right;\">\n",
              "      <th></th>\n",
              "      <th>column1</th>\n",
              "      <th>column2</th>\n",
              "    </tr>\n",
              "  </thead>\n",
              "  <tbody>\n",
              "    <tr>\n",
              "      <th>row1</th>\n",
              "      <td>1</td>\n",
              "      <td>2</td>\n",
              "    </tr>\n",
              "    <tr>\n",
              "      <th>row2</th>\n",
              "      <td>3</td>\n",
              "      <td>4</td>\n",
              "    </tr>\n",
              "    <tr>\n",
              "      <th>row3</th>\n",
              "      <td>5</td>\n",
              "      <td>6</td>\n",
              "    </tr>\n",
              "    <tr>\n",
              "      <th>row4</th>\n",
              "      <td>7</td>\n",
              "      <td>8</td>\n",
              "    </tr>\n",
              "    <tr>\n",
              "      <th>row5</th>\n",
              "      <td>9</td>\n",
              "      <td>10</td>\n",
              "    </tr>\n",
              "    <tr>\n",
              "      <th>row6</th>\n",
              "      <td>11</td>\n",
              "      <td>12</td>\n",
              "    </tr>\n",
              "  </tbody>\n",
              "</table>\n",
              "</div>"
            ],
            "text/plain": [
              "      column1  column2\n",
              "row1        1        2\n",
              "row2        3        4\n",
              "row3        5        6\n",
              "row4        7        8\n",
              "row5        9       10\n",
              "row6       11       12"
            ]
          },
          "metadata": {
            "tags": []
          },
          "execution_count": 54
        }
      ]
    },
    {
      "cell_type": "code",
      "metadata": {
        "id": "FbcdcrzX3l1h",
        "outputId": "733a00a7-08ff-4308-a74c-d0e7c620e375"
      },
      "source": [
        "df.rolling(window=3).mean().head()"
      ],
      "execution_count": null,
      "outputs": [
        {
          "output_type": "execute_result",
          "data": {
            "text/html": [
              "<div>\n",
              "<style scoped>\n",
              "    .dataframe tbody tr th:only-of-type {\n",
              "        vertical-align: middle;\n",
              "    }\n",
              "\n",
              "    .dataframe tbody tr th {\n",
              "        vertical-align: top;\n",
              "    }\n",
              "\n",
              "    .dataframe thead th {\n",
              "        text-align: right;\n",
              "    }\n",
              "</style>\n",
              "<table border=\"1\" class=\"dataframe\">\n",
              "  <thead>\n",
              "    <tr style=\"text-align: right;\">\n",
              "      <th></th>\n",
              "      <th>column1</th>\n",
              "      <th>column2</th>\n",
              "    </tr>\n",
              "  </thead>\n",
              "  <tbody>\n",
              "    <tr>\n",
              "      <th>row1</th>\n",
              "      <td>NaN</td>\n",
              "      <td>NaN</td>\n",
              "    </tr>\n",
              "    <tr>\n",
              "      <th>row2</th>\n",
              "      <td>NaN</td>\n",
              "      <td>NaN</td>\n",
              "    </tr>\n",
              "    <tr>\n",
              "      <th>row3</th>\n",
              "      <td>3.0</td>\n",
              "      <td>4.0</td>\n",
              "    </tr>\n",
              "    <tr>\n",
              "      <th>row4</th>\n",
              "      <td>5.0</td>\n",
              "      <td>6.0</td>\n",
              "    </tr>\n",
              "    <tr>\n",
              "      <th>row5</th>\n",
              "      <td>7.0</td>\n",
              "      <td>8.0</td>\n",
              "    </tr>\n",
              "  </tbody>\n",
              "</table>\n",
              "</div>"
            ],
            "text/plain": [
              "      column1  column2\n",
              "row1      NaN      NaN\n",
              "row2      NaN      NaN\n",
              "row3      3.0      4.0\n",
              "row4      5.0      6.0\n",
              "row5      7.0      8.0"
            ]
          },
          "metadata": {
            "tags": []
          },
          "execution_count": 55
        }
      ]
    },
    {
      "cell_type": "code",
      "metadata": {
        "id": "L892ZOEo3l1h"
      },
      "source": [
        "import pandas as pd\n",
        "%matplotlib inline"
      ],
      "execution_count": null,
      "outputs": []
    },
    {
      "cell_type": "code",
      "metadata": {
        "id": "hsjrk4yT3l1i"
      },
      "source": [
        "#read the same database (Starbucks)\n",
        "df= pd.read_csv('starbucks.csv', index_col='Date', parse_dates=True)"
      ],
      "execution_count": null,
      "outputs": []
    },
    {
      "cell_type": "code",
      "metadata": {
        "id": "Slgzvi-_3l1i",
        "outputId": "57452755-fbe0-41cf-a615-786a34877d73"
      },
      "source": [
        "#visualize the closing price for entire database with line plot\n",
        "df['Close'].plot(figsize=(12,5)).autoscale(axis='x',tight=True);"
      ],
      "execution_count": null,
      "outputs": [
        {
          "output_type": "display_data",
          "data": {
            "image/png": "[encoded data removed]",
            "text/plain": [
              "<Figure size 864x360 with 1 Axes>"
            ]
          },
          "metadata": {
            "tags": [],
            "needs_background": "light"
          }
        }
      ]
    },
    {
      "cell_type": "markdown",
      "metadata": {
        "id": "jM7-z4uC3l1n"
      },
      "source": [
        "Now let's add in a rolling mean! This rolling method provides row entries, where every entry is then representative of the window"
      ]
    },
    {
      "cell_type": "code",
      "metadata": {
        "id": "rNDWKUbN3l1o",
        "outputId": "17478e09-c22c-4bf9-84bb-777bc3e41d83"
      },
      "source": [
        "# 7 day rolling mean\n",
        "df.rolling(window=7).mean().head(15)"
      ],
      "execution_count": null,
      "outputs": [
        {
          "output_type": "execute_result",
          "data": {
            "text/html": [
              "<div>\n",
              "<style scoped>\n",
              "    .dataframe tbody tr th:only-of-type {\n",
              "        vertical-align: middle;\n",
              "    }\n",
              "\n",
              "    .dataframe tbody tr th {\n",
              "        vertical-align: top;\n",
              "    }\n",
              "\n",
              "    .dataframe thead th {\n",
              "        text-align: right;\n",
              "    }\n",
              "</style>\n",
              "<table border=\"1\" class=\"dataframe\">\n",
              "  <thead>\n",
              "    <tr style=\"text-align: right;\">\n",
              "      <th></th>\n",
              "      <th>Close</th>\n",
              "      <th>Volume</th>\n",
              "    </tr>\n",
              "    <tr>\n",
              "      <th>Date</th>\n",
              "      <th></th>\n",
              "      <th></th>\n",
              "    </tr>\n",
              "  </thead>\n",
              "  <tbody>\n",
              "    <tr>\n",
              "      <th>2015-01-02</th>\n",
              "      <td>NaN</td>\n",
              "      <td>NaN</td>\n",
              "    </tr>\n",
              "    <tr>\n",
              "      <th>2015-01-05</th>\n",
              "      <td>NaN</td>\n",
              "      <td>NaN</td>\n",
              "    </tr>\n",
              "    <tr>\n",
              "      <th>2015-01-06</th>\n",
              "      <td>NaN</td>\n",
              "      <td>NaN</td>\n",
              "    </tr>\n",
              "    <tr>\n",
              "      <th>2015-01-07</th>\n",
              "      <td>NaN</td>\n",
              "      <td>NaN</td>\n",
              "    </tr>\n",
              "    <tr>\n",
              "      <th>2015-01-08</th>\n",
              "      <td>NaN</td>\n",
              "      <td>NaN</td>\n",
              "    </tr>\n",
              "    <tr>\n",
              "      <th>2015-01-09</th>\n",
              "      <td>NaN</td>\n",
              "      <td>NaN</td>\n",
              "    </tr>\n",
              "    <tr>\n",
              "      <th>2015-01-12</th>\n",
              "      <td>37.616786</td>\n",
              "      <td>1.238222e+07</td>\n",
              "    </tr>\n",
              "    <tr>\n",
              "      <th>2015-01-13</th>\n",
              "      <td>37.578786</td>\n",
              "      <td>1.297288e+07</td>\n",
              "    </tr>\n",
              "    <tr>\n",
              "      <th>2015-01-14</th>\n",
              "      <td>37.614786</td>\n",
              "      <td>1.264020e+07</td>\n",
              "    </tr>\n",
              "    <tr>\n",
              "      <th>2015-01-15</th>\n",
              "      <td>37.638114</td>\n",
              "      <td>1.270624e+07</td>\n",
              "    </tr>\n",
              "    <tr>\n",
              "      <th>2015-01-16</th>\n",
              "      <td>37.600114</td>\n",
              "      <td>1.260380e+07</td>\n",
              "    </tr>\n",
              "    <tr>\n",
              "      <th>2015-01-20</th>\n",
              "      <td>37.515786</td>\n",
              "      <td>1.225634e+07</td>\n",
              "    </tr>\n",
              "    <tr>\n",
              "      <th>2015-01-21</th>\n",
              "      <td>37.615786</td>\n",
              "      <td>9.868837e+06</td>\n",
              "    </tr>\n",
              "    <tr>\n",
              "      <th>2015-01-22</th>\n",
              "      <td>37.783114</td>\n",
              "      <td>1.185335e+07</td>\n",
              "    </tr>\n",
              "    <tr>\n",
              "      <th>2015-01-23</th>\n",
              "      <td>38.273129</td>\n",
              "      <td>1.571999e+07</td>\n",
              "    </tr>\n",
              "  </tbody>\n",
              "</table>\n",
              "</div>"
            ],
            "text/plain": [
              "                Close        Volume\n",
              "Date                               \n",
              "2015-01-02        NaN           NaN\n",
              "2015-01-05        NaN           NaN\n",
              "2015-01-06        NaN           NaN\n",
              "2015-01-07        NaN           NaN\n",
              "2015-01-08        NaN           NaN\n",
              "2015-01-09        NaN           NaN\n",
              "2015-01-12  37.616786  1.238222e+07\n",
              "2015-01-13  37.578786  1.297288e+07\n",
              "2015-01-14  37.614786  1.264020e+07\n",
              "2015-01-15  37.638114  1.270624e+07\n",
              "2015-01-16  37.600114  1.260380e+07\n",
              "2015-01-20  37.515786  1.225634e+07\n",
              "2015-01-21  37.615786  9.868837e+06\n",
              "2015-01-22  37.783114  1.185335e+07\n",
              "2015-01-23  38.273129  1.571999e+07"
            ]
          },
          "metadata": {
            "tags": []
          },
          "execution_count": 71
        }
      ]
    },
    {
      "cell_type": "code",
      "metadata": {
        "id": "pnKOYhra3l1o",
        "outputId": "4c4a326a-e4c3-406b-971f-79e80993f316"
      },
      "source": [
        "#visualize the closing price for entire database with line plot over rolling database\n",
        "df['Close'].plot(figsize=(12,5)).autoscale(axis='x',tight=True)\n",
        "df.rolling(window=30).mean()['Close'].plot()"
      ],
      "execution_count": null,
      "outputs": [
        {
          "output_type": "execute_result",
          "data": {
            "text/plain": [
              "<matplotlib.axes._subplots.AxesSubplot at 0x16855c0fa58>"
            ]
          },
          "metadata": {
            "tags": []
          },
          "execution_count": 72
        },
        {
          "output_type": "display_data",
          "data": {
            "image/png": "[encoded data removed]",
            "text/plain": [
              "<matplotlib.figure.Figure at 0x168551bde80>"
            ]
          },
          "metadata": {
            "tags": []
          }
        }
      ]
    },
    {
      "cell_type": "code",
      "metadata": {
        "id": "AYCsBzd-3l1o",
        "outputId": "6b9797a9-7f19-4ee0-8441-af7f07108f6a"
      },
      "source": [
        "#add legend to your plot\n",
        "#The easiest way to add a legend is to make the rolling value a new column, then pandas does it automatically!\n",
        "df['Close: 30 Day Mean'] = df['Close'].rolling(window=30).mean()\n",
        "df[['Close','Close: 30 Day Mean']].plot(figsize=(12,5)).autoscale(axis='x',tight=True);"
      ],
      "execution_count": null,
      "outputs": [
        {
          "output_type": "display_data",
          "data": {
            "image/png": "[encoded data removed]",
            "text/plain": [
              "<matplotlib.figure.Figure at 0x16855959b38>"
            ]
          },
          "metadata": {
            "tags": []
          }
        }
      ]
    },
    {
      "cell_type": "markdown",
      "metadata": {
        "id": "g2v8w9zv3l1p"
      },
      "source": [
        "# Expanding\n",
        "Instead of calculating values for a rolling window of dates, what if you wanted to take into account everything from the start of the time series up to each point in time? For example, instead of considering the average over the last 7 days, we would consider all prior data in our expanding set of averages."
      ]
    },
    {
      "cell_type": "code",
      "metadata": {
        "id": "hwq-v-8K3l1p",
        "outputId": "599461df-b6f9-4e45-c438-12266a865d84"
      },
      "source": [
        "#import numpy as np\n",
        "numpy_data = np.array([[1, 2], [3, 4], [5, 6], [7, 8], [9, 10], [11,12]])\n",
        "df = pd.DataFrame(data=numpy_data, index=[\"row1\", \"row2\", \"row3\", \"row4\", \"row5\", \"row6\"], columns=[\"column1\", \"column2\"])\n",
        "df"
      ],
      "execution_count": null,
      "outputs": [
        {
          "output_type": "execute_result",
          "data": {
            "text/html": [
              "<div>\n",
              "<style scoped>\n",
              "    .dataframe tbody tr th:only-of-type {\n",
              "        vertical-align: middle;\n",
              "    }\n",
              "\n",
              "    .dataframe tbody tr th {\n",
              "        vertical-align: top;\n",
              "    }\n",
              "\n",
              "    .dataframe thead th {\n",
              "        text-align: right;\n",
              "    }\n",
              "</style>\n",
              "<table border=\"1\" class=\"dataframe\">\n",
              "  <thead>\n",
              "    <tr style=\"text-align: right;\">\n",
              "      <th></th>\n",
              "      <th>column1</th>\n",
              "      <th>column2</th>\n",
              "    </tr>\n",
              "  </thead>\n",
              "  <tbody>\n",
              "    <tr>\n",
              "      <th>row1</th>\n",
              "      <td>1</td>\n",
              "      <td>2</td>\n",
              "    </tr>\n",
              "    <tr>\n",
              "      <th>row2</th>\n",
              "      <td>3</td>\n",
              "      <td>4</td>\n",
              "    </tr>\n",
              "    <tr>\n",
              "      <th>row3</th>\n",
              "      <td>5</td>\n",
              "      <td>6</td>\n",
              "    </tr>\n",
              "    <tr>\n",
              "      <th>row4</th>\n",
              "      <td>7</td>\n",
              "      <td>8</td>\n",
              "    </tr>\n",
              "    <tr>\n",
              "      <th>row5</th>\n",
              "      <td>9</td>\n",
              "      <td>10</td>\n",
              "    </tr>\n",
              "    <tr>\n",
              "      <th>row6</th>\n",
              "      <td>11</td>\n",
              "      <td>12</td>\n",
              "    </tr>\n",
              "  </tbody>\n",
              "</table>\n",
              "</div>"
            ],
            "text/plain": [
              "      column1  column2\n",
              "row1        1        2\n",
              "row2        3        4\n",
              "row3        5        6\n",
              "row4        7        8\n",
              "row5        9       10\n",
              "row6       11       12"
            ]
          },
          "metadata": {
            "tags": []
          },
          "execution_count": 56
        }
      ]
    },
    {
      "cell_type": "code",
      "metadata": {
        "id": "M_WWphGm3l1q",
        "outputId": "cf34a48d-1f2c-4bc4-a307-53a9762793e6"
      },
      "source": [
        "df.expanding(min_periods=2).mean().head()"
      ],
      "execution_count": null,
      "outputs": [
        {
          "output_type": "execute_result",
          "data": {
            "text/html": [
              "<div>\n",
              "<style scoped>\n",
              "    .dataframe tbody tr th:only-of-type {\n",
              "        vertical-align: middle;\n",
              "    }\n",
              "\n",
              "    .dataframe tbody tr th {\n",
              "        vertical-align: top;\n",
              "    }\n",
              "\n",
              "    .dataframe thead th {\n",
              "        text-align: right;\n",
              "    }\n",
              "</style>\n",
              "<table border=\"1\" class=\"dataframe\">\n",
              "  <thead>\n",
              "    <tr style=\"text-align: right;\">\n",
              "      <th></th>\n",
              "      <th>column1</th>\n",
              "      <th>column2</th>\n",
              "    </tr>\n",
              "  </thead>\n",
              "  <tbody>\n",
              "    <tr>\n",
              "      <th>row1</th>\n",
              "      <td>NaN</td>\n",
              "      <td>NaN</td>\n",
              "    </tr>\n",
              "    <tr>\n",
              "      <th>row2</th>\n",
              "      <td>2.0</td>\n",
              "      <td>3.0</td>\n",
              "    </tr>\n",
              "    <tr>\n",
              "      <th>row3</th>\n",
              "      <td>3.0</td>\n",
              "      <td>4.0</td>\n",
              "    </tr>\n",
              "    <tr>\n",
              "      <th>row4</th>\n",
              "      <td>4.0</td>\n",
              "      <td>5.0</td>\n",
              "    </tr>\n",
              "    <tr>\n",
              "      <th>row5</th>\n",
              "      <td>5.0</td>\n",
              "      <td>6.0</td>\n",
              "    </tr>\n",
              "  </tbody>\n",
              "</table>\n",
              "</div>"
            ],
            "text/plain": [
              "      column1  column2\n",
              "row1      NaN      NaN\n",
              "row2      2.0      3.0\n",
              "row3      3.0      4.0\n",
              "row4      4.0      5.0\n",
              "row5      5.0      6.0"
            ]
          },
          "metadata": {
            "tags": []
          },
          "execution_count": 57
        }
      ]
    },
    {
      "cell_type": "code",
      "metadata": {
        "id": "T8Ni791p3l1q",
        "outputId": "1af705c1-8f90-41e4-9af5-7a28f63ba76e"
      },
      "source": [
        "#visualize the closing price for entire database with line plot over expanding database\n",
        "df['Close'].plot(figsize=(12,5)).autoscale(axis='x',tight=True)\n",
        "df['Close'].expanding(min_periods=30).mean().plot(figsize=(12,5));"
      ],
      "execution_count": null,
      "outputs": [
        {
          "output_type": "display_data",
          "data": {
            "image/png": "[encoded data removed]",
            "text/plain": [
              "<matplotlib.figure.Figure at 0x16855ad4b38>"
            ]
          },
          "metadata": {
            "tags": []
          }
        }
      ]
    },
    {
      "cell_type": "markdown",
      "metadata": {
        "id": "VhWSFL-s3l1r"
      },
      "source": [
        "# Visualizing Time Series Data"
      ]
    },
    {
      "cell_type": "code",
      "metadata": {
        "collapsed": true,
        "id": "l4l4FSmq3l1s"
      },
      "source": [
        "import pandas as pd\n",
        "%matplotlib inline"
      ],
      "execution_count": null,
      "outputs": []
    },
    {
      "cell_type": "code",
      "metadata": {
        "id": "I0gB0On53l1s",
        "outputId": "9da09635-af06-4898-c969-16f337b9cf88"
      },
      "source": [
        "#show that dates are already parsed\n",
        "df= pd.read_csv('starbucks.csv', index_col='Date', parse_dates=True)\n",
        "df.head()"
      ],
      "execution_count": null,
      "outputs": [
        {
          "output_type": "execute_result",
          "data": {
            "text/html": [
              "<div>\n",
              "<style scoped>\n",
              "    .dataframe tbody tr th:only-of-type {\n",
              "        vertical-align: middle;\n",
              "    }\n",
              "\n",
              "    .dataframe tbody tr th {\n",
              "        vertical-align: top;\n",
              "    }\n",
              "\n",
              "    .dataframe thead th {\n",
              "        text-align: right;\n",
              "    }\n",
              "</style>\n",
              "<table border=\"1\" class=\"dataframe\">\n",
              "  <thead>\n",
              "    <tr style=\"text-align: right;\">\n",
              "      <th></th>\n",
              "      <th>Close</th>\n",
              "      <th>Volume</th>\n",
              "    </tr>\n",
              "    <tr>\n",
              "      <th>Date</th>\n",
              "      <th></th>\n",
              "      <th></th>\n",
              "    </tr>\n",
              "  </thead>\n",
              "  <tbody>\n",
              "    <tr>\n",
              "      <th>2015-01-02</th>\n",
              "      <td>38.0061</td>\n",
              "      <td>6906098</td>\n",
              "    </tr>\n",
              "    <tr>\n",
              "      <th>2015-01-05</th>\n",
              "      <td>37.2781</td>\n",
              "      <td>11623796</td>\n",
              "    </tr>\n",
              "    <tr>\n",
              "      <th>2015-01-06</th>\n",
              "      <td>36.9748</td>\n",
              "      <td>7664340</td>\n",
              "    </tr>\n",
              "    <tr>\n",
              "      <th>2015-01-07</th>\n",
              "      <td>37.8848</td>\n",
              "      <td>9732554</td>\n",
              "    </tr>\n",
              "    <tr>\n",
              "      <th>2015-01-08</th>\n",
              "      <td>38.4961</td>\n",
              "      <td>13170548</td>\n",
              "    </tr>\n",
              "  </tbody>\n",
              "</table>\n",
              "</div>"
            ],
            "text/plain": [
              "              Close    Volume\n",
              "Date                         \n",
              "2015-01-02  38.0061   6906098\n",
              "2015-01-05  37.2781  11623796\n",
              "2015-01-06  36.9748   7664340\n",
              "2015-01-07  37.8848   9732554\n",
              "2015-01-08  38.4961  13170548"
            ]
          },
          "metadata": {
            "tags": []
          },
          "execution_count": 79
        }
      ]
    },
    {
      "cell_type": "code",
      "metadata": {
        "id": "u-GoVIiq3l1u",
        "outputId": "052935be-4622-4752-cb62-9f4a730b71d7"
      },
      "source": [
        "df.index"
      ],
      "execution_count": null,
      "outputs": [
        {
          "output_type": "execute_result",
          "data": {
            "text/plain": [
              "DatetimeIndex(['2015-01-02', '2015-01-05', '2015-01-06', '2015-01-07',\n",
              "               '2015-01-08', '2015-01-09', '2015-01-12', '2015-01-13',\n",
              "               '2015-01-14', '2015-01-15',\n",
              "               ...\n",
              "               '2018-12-17', '2018-12-18', '2018-12-19', '2018-12-20',\n",
              "               '2018-12-21', '2018-12-24', '2018-12-26', '2018-12-27',\n",
              "               '2018-12-28', '2018-12-31'],\n",
              "              dtype='datetime64[ns]', name='Date', length=1006, freq=None)"
            ]
          },
          "metadata": {
            "tags": []
          },
          "execution_count": 80
        }
      ]
    },
    {
      "cell_type": "code",
      "metadata": {
        "id": "2nlVchGW3l1u",
        "outputId": "c5e4255b-2ab8-484c-eb44-3785c46e0eb9"
      },
      "source": [
        "#create a line plot that puts both 'Close' and 'Volume' on the same graph\n",
        "df.plot()"
      ],
      "execution_count": null,
      "outputs": [
        {
          "output_type": "execute_result",
          "data": {
            "text/plain": [
              "<matplotlib.axes._subplots.AxesSubplot at 0x16856dfac50>"
            ]
          },
          "metadata": {
            "tags": []
          },
          "execution_count": 81
        },
        {
          "output_type": "display_data",
          "data": {
            "image/png": "[encoded data removed]",
            "text/plain": [
              "<matplotlib.figure.Figure at 0x16855bce518>"
            ]
          },
          "metadata": {
            "tags": []
          }
        }
      ]
    },
    {
      "cell_type": "code",
      "metadata": {
        "id": "CYeKbw9J3l1u",
        "outputId": "e86041e7-1bc1-416f-c28b-66d7ebc52064"
      },
      "source": [
        "#As you can see this isn't very helpful due to the difference in y-values, so we'll split them up.\n",
        "#visualize the closing price only\n",
        "df['Close'].plot()"
      ],
      "execution_count": null,
      "outputs": [
        {
          "output_type": "execute_result",
          "data": {
            "text/plain": [
              "<matplotlib.axes._subplots.AxesSubplot at 0x16855bbe9b0>"
            ]
          },
          "metadata": {
            "tags": []
          },
          "execution_count": 82
        },
        {
          "output_type": "display_data",
          "data": {
            "image/png": "[encoded data removed]",
            "text/plain": [
              "<matplotlib.figure.Figure at 0x16855b35908>"
            ]
          },
          "metadata": {
            "tags": []
          }
        }
      ]
    },
    {
      "cell_type": "code",
      "metadata": {
        "id": "-2SRPbUp3l1v",
        "outputId": "dc478ac4-b04a-4377-e116-c1f147f1aa86"
      },
      "source": [
        "#visualize the volume only\n",
        "df['Volume'].plot()"
      ],
      "execution_count": null,
      "outputs": [
        {
          "output_type": "execute_result",
          "data": {
            "text/plain": [
              "<matplotlib.axes._subplots.AxesSubplot at 0x16855ab9cf8>"
            ]
          },
          "metadata": {
            "tags": []
          },
          "execution_count": 83
        },
        {
          "output_type": "display_data",
          "data": {
            "image/png": "[encoded data removed]",
            "text/plain": [
              "<matplotlib.figure.Figure at 0x16855b40d30>"
            ]
          },
          "metadata": {
            "tags": []
          }
        }
      ]
    },
    {
      "cell_type": "markdown",
      "metadata": {
        "id": "hHFTtsaa3l1v"
      },
      "source": [
        "There are two ways we can set a specific span of time as an x-axis limit. We can plot a slice of the dataset, or we can pass x-limit values as an argument into df.plot().\n",
        "\n",
        "The advantage of using a slice is that pandas automatically adjusts the y-limits accordingly.\n",
        "\n",
        "The advantage of passing in arguments is that pandas automatically tightens the x-axis. Plus, if we're also setting y-limits this can improve readability."
      ]
    },
    {
      "cell_type": "code",
      "metadata": {
        "id": "Yd-KfvSD3l1w",
        "outputId": "8cb69b26-024c-4371-a436-34cdc4a7d50b"
      },
      "source": [
        "title='Starbucks Closing Stock Prices'\n",
        "ylabel='Closing Price (USD)'\n",
        "xlabel='Closing Date'\n",
        "\n",
        "ax = df['Close'].plot(figsize=(12,6),title=title)\n",
        "ax.autoscale(axis='x',tight=True)\n",
        "ax.set(xlabel=xlabel, ylabel=ylabel);"
      ],
      "execution_count": null,
      "outputs": [
        {
          "output_type": "display_data",
          "data": {
            "image/png": "[encoded data removed]",
            "text/plain": [
              "<matplotlib.figure.Figure at 0x16855aa9400>"
            ]
          },
          "metadata": {
            "tags": []
          }
        }
      ]
    },
    {
      "cell_type": "markdown",
      "metadata": {
        "id": "gRPbNDTT3l1w"
      },
      "source": [
        "# X Limits"
      ]
    },
    {
      "cell_type": "code",
      "metadata": {
        "id": "vFZSrq5v3l1w",
        "outputId": "0c9078c8-6e12-4dca-ad8d-23204515df62"
      },
      "source": [
        "#choosing Xlimits by slice, Dates are separated by a colon\n",
        "df['Close']['2017-01-01':'2017-03-01'].plot(figsize=(12,4)).autoscale(axis='x', tight=True)"
      ],
      "execution_count": null,
      "outputs": [
        {
          "output_type": "display_data",
          "data": {
            "image/png": "[encoded data removed]",
            "text/plain": [
              "<matplotlib.figure.Figure at 0x16856e11b70>"
            ]
          },
          "metadata": {
            "tags": []
          }
        }
      ]
    },
    {
      "cell_type": "code",
      "metadata": {
        "id": "p8shPQm23l1x",
        "outputId": "224a6545-cde4-478c-8ac9-d11b66a214a1"
      },
      "source": [
        "#Choosing X Limits by Argument\n",
        "df['Close'].plot(figsize=(12,4),xlim=['2017-01-01','2017-03-01']);"
      ],
      "execution_count": null,
      "outputs": [
        {
          "output_type": "display_data",
          "data": {
            "image/png": "[encoded data removed]",
            "text/plain": [
              "<matplotlib.figure.Figure at 0x16856eaf048>"
            ]
          },
          "metadata": {
            "tags": []
          }
        }
      ]
    },
    {
      "cell_type": "code",
      "metadata": {
        "id": "ATHPLyxe3l1x",
        "outputId": "279791f8-36a6-4882-b006-c26bcd25eb80"
      },
      "source": [
        "#FIND THE MINIMUM VALUE IN THE RANGE\n",
        "df.loc['2017-01-01': '2017-03-01']['Close'].min()"
      ],
      "execution_count": null,
      "outputs": [
        {
          "output_type": "execute_result",
          "data": {
            "text/plain": [
              "51.689900000000002"
            ]
          },
          "metadata": {
            "tags": []
          },
          "execution_count": 88
        }
      ]
    },
    {
      "cell_type": "code",
      "metadata": {
        "id": "hm28vUMH3l1x",
        "outputId": "538e2a3d-b493-42a2-9110-484af690e0cc"
      },
      "source": [
        "#FIND THE MAXIMUM VALUE IN THE RANGE\n",
        "df.loc['2017-01-01': '2017-03-01']['Close'].max()"
      ],
      "execution_count": null,
      "outputs": [
        {
          "output_type": "execute_result",
          "data": {
            "text/plain": [
              "56.324399999999997"
            ]
          },
          "metadata": {
            "tags": []
          },
          "execution_count": 89
        }
      ]
    },
    {
      "cell_type": "code",
      "metadata": {
        "id": "BqFmHVKp3l1y",
        "outputId": "6d5559e6-7b25-4023-8e18-4c0ce9869d7a"
      },
      "source": [
        "#PLUG THESE IN AS Y-LIMIT VALUES (set the y-limit)\n",
        "df['Close'].plot(figsize=(12,4),xlim=['2017-01-01','2017-03-01'], ylim=[51,57])"
      ],
      "execution_count": null,
      "outputs": [
        {
          "output_type": "execute_result",
          "data": {
            "text/plain": [
              "<matplotlib.axes._subplots.AxesSubplot at 0x16856f212e8>"
            ]
          },
          "metadata": {
            "tags": []
          },
          "execution_count": 90
        },
        {
          "output_type": "display_data",
          "data": {
            "image/png": "[encoded data removed]",
            "text/plain": [
              "<matplotlib.figure.Figure at 0x16855adc198>"
            ]
          },
          "metadata": {
            "tags": []
          }
        }
      ]
    },
    {
      "cell_type": "markdown",
      "metadata": {
        "id": "hQCsf6Oo3l1y"
      },
      "source": [
        "# X Ticks\n",
        "\n",
        "In this section we'll look at how to change the format and appearance of dates along the x-axis. To do this,\n",
        "we'll borrow a tool from matplotlib called dates."
      ]
    },
    {
      "cell_type": "code",
      "metadata": {
        "collapsed": true,
        "id": "RZZkEMsz3l1y"
      },
      "source": [
        "from matplotlib import dates"
      ],
      "execution_count": null,
      "outputs": []
    },
    {
      "cell_type": "code",
      "metadata": {
        "id": "CL5l2s8D3l1z",
        "outputId": "21ab6380-e4e4-4634-db91-4338a502b948"
      },
      "source": [
        "#CREATE OUR AXIS OBJECT\n",
        "ax = df['Close'].plot(xlim=['2017-01-01','2017-03-01'],ylim=[51,57])"
      ],
      "execution_count": null,
      "outputs": [
        {
          "output_type": "display_data",
          "data": {
            "image/png": "[encoded data removed]",
            "text/plain": [
              "<matplotlib.figure.Figure at 0x16856eb75c0>"
            ]
          },
          "metadata": {
            "tags": []
          }
        }
      ]
    },
    {
      "cell_type": "code",
      "metadata": {
        "collapsed": true,
        "id": "SzYww3WA3l1z"
      },
      "source": [
        "#REMOVE PANDAS DEFAULT \"Date\" LABEL\n",
        "ax.set(xlabel='')"
      ],
      "execution_count": null,
      "outputs": []
    },
    {
      "cell_type": "code",
      "metadata": {
        "id": "kZ4xmjHO3l1z",
        "outputId": "92f0aef5-6f1a-409d-b2a6-3ddce53237cb"
      },
      "source": [
        "ax = df['Close'].plot(xlim=['2017-01-01','2017-03-01'],ylim=[51,57],title='2017 Starbucks Closing Stock Prices')\n",
        "ax.set(xlabel='')\n",
        "\n",
        "ax.xaxis.set_major_locator(dates.WeekdayLocator(byweekday=0))\n",
        "ax.xaxis.set_major_formatter(dates.DateFormatter(\"%a-%B-%d\"))"
      ],
      "execution_count": null,
      "outputs": [
        {
          "output_type": "display_data",
          "data": {
            "image/png": "[encoded data removed]",
            "text/plain": [
              "<matplotlib.figure.Figure at 0x16856fdf550>"
            ]
          },
          "metadata": {
            "tags": []
          }
        }
      ]
    },
    {
      "cell_type": "markdown",
      "metadata": {
        "id": "c2MuyrIU3l10"
      },
      "source": [
        "Notice that dates are spaced one week apart. The dates themselves correspond with byweekday=0, or Mondays.\n",
        "For a full list of locator options available from matplotlib.dates visit https://matplotlib.org/api/dates_api.html#date-tickers"
      ]
    },
    {
      "cell_type": "code",
      "metadata": {
        "collapsed": true,
        "id": "lJBCHR5j3l10"
      },
      "source": [
        "# USE THIS SPACE TO EXPERIMENT WITH DIFFERENT FORMATS\n",
        "#You can find out all the formatting option from this link https://strftime.org/\n"
      ],
      "execution_count": null,
      "outputs": []
    },
    {
      "cell_type": "markdown",
      "metadata": {
        "id": "KqZt0UNj3l11"
      },
      "source": [
        "All of the tick marks we've used so far have belonged to the major axis. We can assign another level called the minor axis, perhaps to separate month names from days of the month."
      ]
    },
    {
      "cell_type": "code",
      "metadata": {
        "collapsed": true,
        "id": "W_liNR4A3l19"
      },
      "source": [
        ""
      ],
      "execution_count": null,
      "outputs": []
    }
  ]
}