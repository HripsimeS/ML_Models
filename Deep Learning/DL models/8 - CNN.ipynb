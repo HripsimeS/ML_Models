{
 "cells": [
  {
   "cell_type": "code",
   "execution_count": 1,
   "metadata": {},
   "outputs": [],
   "source": [
    "import h5py"
   ]
  },
  {
   "cell_type": "code",
   "execution_count": 12,
   "metadata": {},
   "outputs": [],
   "source": [
    "with h5py.File('Datasets/MNIST/train.hdf5') as f:\n",
    "    X_train = f['X'][:]\n",
    "    y_train = f['y'][:]\n",
    "with h5py.File('Datasets/MNIST/test.hdf5') as f:\n",
    "    X_test = f['X'][:]\n",
    "    y_test = f['y'][:]"
   ]
  },
  {
   "cell_type": "code",
   "execution_count": 10,
   "metadata": {},
   "outputs": [
    {
     "data": {
      "text/plain": [
       "(55000, 784)"
      ]
     },
     "execution_count": 10,
     "metadata": {},
     "output_type": "execute_result"
    }
   ],
   "source": [
    "X_train.shape"
   ]
  },
  {
   "cell_type": "code",
   "execution_count": 11,
   "metadata": {},
   "outputs": [
    {
     "data": {
      "text/plain": [
       "(55000, 10)"
      ]
     },
     "execution_count": 11,
     "metadata": {},
     "output_type": "execute_result"
    }
   ],
   "source": [
    "y_train.shape"
   ]
  },
  {
   "cell_type": "code",
   "execution_count": 14,
   "metadata": {},
   "outputs": [
    {
     "data": {
      "text/plain": [
       "(10000, 784)"
      ]
     },
     "execution_count": 14,
     "metadata": {},
     "output_type": "execute_result"
    }
   ],
   "source": [
    "X_test.shape"
   ]
  },
  {
   "cell_type": "code",
   "execution_count": 15,
   "metadata": {},
   "outputs": [
    {
     "data": {
      "text/plain": [
       "(10000, 10)"
      ]
     },
     "execution_count": 15,
     "metadata": {},
     "output_type": "execute_result"
    }
   ],
   "source": [
    "y_test.shape"
   ]
  },
  {
   "cell_type": "code",
   "execution_count": 49,
   "metadata": {},
   "outputs": [],
   "source": [
    "import numpy as np"
   ]
  },
  {
   "cell_type": "code",
   "execution_count": 47,
   "metadata": {},
   "outputs": [],
   "source": [
    "def get_next_batch(X, y, size):\n",
    "    m = X.shape[0]\n",
    "    index = np.random.permutation(np.arange(m))\n",
    "    for i in range(m//size):\n",
    "        batch_i = index[i*size: i*size+size]\n",
    "        yield X[batch_i], y[batch_i]"
   ]
  },
  {
   "cell_type": "code",
   "execution_count": 26,
   "metadata": {},
   "outputs": [],
   "source": [
    "import tensorflow as tf"
   ]
  },
  {
   "cell_type": "code",
   "execution_count": 34,
   "metadata": {},
   "outputs": [],
   "source": [
    "Learning_Rate = 0.001"
   ]
  },
  {
   "cell_type": "code",
   "execution_count": 52,
   "metadata": {},
   "outputs": [],
   "source": [
    "tf.reset_default_graph()"
   ]
  },
  {
   "cell_type": "code",
   "execution_count": 53,
   "metadata": {},
   "outputs": [],
   "source": [
    "def conv_layer(input, size_in, size_out):\n",
    "    initializer = tf.contrib.layers.xavier_initializer()\n",
    "    w = tf.Variable(initializer([5, 5, size_in, size_out]))\n",
    "    b = tf.Variable(tf.constant(0.1, shape=[size_out]))\n",
    "    \n",
    "    conv = tf.nn.conv2d(input, w, strides=[1, 1, 1, 1], padding=\"SAME\")\n",
    "    act = tf.nn.relu(conv + b)\n",
    "    \n",
    "    pooled = tf.nn.max_pool(act, ksize=[1, 2, 2, 1], strides=[1, 2, 2, 1], padding=\"SAME\")\n",
    "\n",
    "    return pooled"
   ]
  },
  {
   "cell_type": "code",
   "execution_count": 54,
   "metadata": {},
   "outputs": [],
   "source": [
    "def fc_layer(input, size_in, size_out):\n",
    "    initializer = tf.contrib.layers.xavier_initializer()\n",
    "    w = tf.Variable(initializer([size_in, size_out]))\n",
    "    b = tf.Variable(tf.constant(0.1, shape=[size_out]))\n",
    "    \n",
    "    act = tf.matmul(input, w) + b\n",
    "\n",
    "    return act"
   ]
  },
  {
   "cell_type": "code",
   "execution_count": 55,
   "metadata": {},
   "outputs": [],
   "source": [
    "X = tf.placeholder(tf.float32, shape=[None, 784])\n",
    "y = tf.placeholder(tf.float32, shape=[None, 10])"
   ]
  },
  {
   "cell_type": "code",
   "execution_count": 56,
   "metadata": {},
   "outputs": [],
   "source": [
    "X_reshape = tf.reshape(X, shape=[-1, 28, 28, 1])"
   ]
  },
  {
   "cell_type": "code",
   "execution_count": 57,
   "metadata": {},
   "outputs": [],
   "source": [
    "conv1 = conv_layer(X_reshape, 1, 32)\n",
    "conv_out = conv_layer(conv1, 32, 64)"
   ]
  },
  {
   "cell_type": "code",
   "execution_count": 58,
   "metadata": {},
   "outputs": [],
   "source": [
    "flattened = tf.reshape(conv_out, [-1, 7 * 7 * 64])\n",
    "\n",
    "fc1 = fc_layer(flattened, 7 * 7 * 64, 1024)\n",
    "relu = tf.nn.relu(fc1)\n",
    "logits = fc_layer(relu, 1024, 10)"
   ]
  },
  {
   "cell_type": "code",
   "execution_count": 59,
   "metadata": {},
   "outputs": [],
   "source": [
    "loss = tf.reduce_mean(tf.nn.softmax_cross_entropy_with_logits_v2(logits=logits, labels=y))\n",
    "\n",
    "train_step = tf.train.AdamOptimizer(Learning_Rate).minimize(loss)\n",
    "\n",
    "correct_prediction = tf.equal(tf.argmax(logits, 1), tf.argmax(y, 1))\n",
    "accuracy = tf.reduce_mean(tf.cast(correct_prediction, tf.float32))"
   ]
  },
  {
   "cell_type": "code",
   "execution_count": 62,
   "metadata": {},
   "outputs": [
    {
     "name": "stdout",
     "output_type": "stream",
     "text": [
      "Epoch 1 Train Acc: 0.979 Train Loss: 0.07407 Test Acc: 0.9767 Test Loss: 0.07228\n",
      "Epoch 11 Train Acc: 1.0 Train Loss: 0.00287 Test Acc: 0.9889 Test Loss: 0.03965\n",
      "Epoch 21 Train Acc: 1.0 Train Loss: 0.00074 Test Acc: 0.989 Test Loss: 0.04618\n",
      "Epoch 31 Train Acc: 0.999 Train Loss: 0.00132 Test Acc: 0.9895 Test Loss: 0.05119\n",
      "Epoch 41 Train Acc: 0.999 Train Loss: 0.00214 Test Acc: 0.9903 Test Loss: 0.06044\n",
      "Epoch 51 Train Acc: 1.0 Train Loss: 0.0 Test Acc: 0.9896 Test Loss: 0.07561\n",
      "Epoch 61 Train Acc: 0.996 Train Loss: 0.02094 Test Acc: 0.9868 Test Loss: 0.11478\n",
      "Epoch 71 Train Acc: 0.999 Train Loss: 0.00112 Test Acc: 0.99 Test Loss: 0.08779\n",
      "Epoch 81 Train Acc: 1.0 Train Loss: 0.00074 Test Acc: 0.989 Test Loss: 0.11636\n",
      "Epoch 91 Train Acc: 0.999 Train Loss: 0.001 Test Acc: 0.99 Test Loss: 0.12093\n"
     ]
    }
   ],
   "source": [
    "with tf.Session() as sess:\n",
    "    sess.run(tf.global_variables_initializer())\n",
    "    for epoch in range(1, 101):\n",
    "        for batch in get_next_batch(X_train, y_train, 64):\n",
    "            _ = sess.run(train_step, {X:batch[0], y:batch[1]})\n",
    "        if epoch % 10 == 0:\n",
    "            test_acc, test_loss = sess.run([accuracy, loss], {X:X_test, y:y_test})\n",
    "            batch = get_next_batch(X_train, y_train, 1000).__next__()\n",
    "            train_acc, train_loss = sess.run([accuracy, loss], {X:batch[0], y:batch[1]})\n",
    "            print(\"Epoch\", epoch, \"Train Acc:\", np.round(train_acc, 5), \\\n",
    "                  \"Train Loss:\", np.round(train_loss, 5), \\\n",
    "                  \"Test Acc:\", np.round(test_acc, 5), \"Test Loss:\", np.round(test_loss, 5))"
   ]
  },
  {
   "cell_type": "code",
   "execution_count": null,
   "metadata": {},
   "outputs": [],
   "source": []
  }
 ],
 "metadata": {
  "kernelspec": {
   "display_name": "Python 3",
   "language": "python",
   "name": "python3"
  },
  "language_info": {
   "codemirror_mode": {
    "name": "ipython",
    "version": 3
   },
   "file_extension": ".py",
   "mimetype": "text/x-python",
   "name": "python",
   "nbconvert_exporter": "python",
   "pygments_lexer": "ipython3",
   "version": "3.6.6"
  }
 },
 "nbformat": 4,
 "nbformat_minor": 2
}
