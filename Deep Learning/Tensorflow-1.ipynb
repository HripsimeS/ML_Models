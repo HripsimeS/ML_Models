{
  "nbformat": 4,
  "nbformat_minor": 0,
  "metadata": {
    "kernelspec": {
      "display_name": "Python 3",
      "language": "python",
      "name": "python3"
    },
    "language_info": {
      "codemirror_mode": {
        "name": "ipython",
        "version": 3
      },
      "file_extension": ".py",
      "mimetype": "text/x-python",
      "name": "python",
      "nbconvert_exporter": "python",
      "pygments_lexer": "ipython3",
      "version": "3.7.3"
    },
    "colab": {
      "name": "B1.3.2 - tensorflow discovery, part1, teachers' sheet.ipynb",
      "provenance": [],
      "collapsed_sections": []
    }
  },
  "cells": [
    {
      "cell_type": "code",
      "metadata": {
        "id": "h_kjrDZz3Q6O"
      },
      "source": [
        "%tensorflow_version 1.x"
      ],
      "execution_count": null,
      "outputs": []
    },
    {
      "cell_type": "markdown",
      "metadata": {
        "id": "siIHnxp4ANgu"
      },
      "source": [
        "<h1 align=center><font size=5>Introduction to Tensorflow</font></h1>"
      ]
    },
    {
      "cell_type": "markdown",
      "metadata": {
        "id": "2xc8rRFPANg0"
      },
      "source": [
        "## Table of contents\n",
        "\n",
        "- [Introduction](#intro)\n",
        "- [Getting started with Tensorflow](#start-TF)\n",
        "- [Tensorflow vs Numpy](#TF-np)\n",
        "- [Linear regression with Tensorflow](#TF-LR)\n",
        "- [Logistic regression with Tensorflow](#TF-LogiR)\n",
        "- [Summary](#summary)"
      ]
    },
    {
      "cell_type": "markdown",
      "metadata": {
        "id": "7pPmVlWnANg2"
      },
      "source": [
        "## Introduction <a id='intro'></a>"
      ]
    },
    {
      "cell_type": "markdown",
      "metadata": {
        "id": "cE6UFhUIANg4"
      },
      "source": [
        "\n",
        "As you learned from the course, the big idea of tensorflow is to express a numeric computation as a graph. It basically consists of two phases:\n",
        "- __Construction phase__: here, you need to define graph of computations;\n",
        "- __Execution phase__: In this step, you evaluate the computational graph.\n",
        "\n",
        "Note that in the exection phase, you need to follow the following steps, respectively:\n",
        "- Open a tensorflow session (placing the operations onto devices like CPUs or GPUs);\n",
        "- Initialize all the variables;\n",
        "- Evaluate the session;\n",
        "- Close the session to free up resources."
      ]
    },
    {
      "cell_type": "markdown",
      "metadata": {
        "id": "I_p7VCO0ANg6"
      },
      "source": [
        "## Getting started with Tensorflow <a id='start-TF'></a>"
      ]
    },
    {
      "cell_type": "markdown",
      "metadata": {
        "id": "o4NXs-_lANg8"
      },
      "source": [
        "Let us start with importing the tensorflow and check its version."
      ]
    },
    {
      "cell_type": "code",
      "metadata": {
        "id": "uHzbwPFKANg-",
        "colab": {
          "base_uri": "https://localhost:8080/",
          "height": 108
        },
        "outputId": "45824a30-80c9-4599-c475-eac6a493ba09"
      },
      "source": [
        "import tensorflow.compat.v1 as tf\n",
        "tf.disable_v2_behavior()\n",
        "\n",
        "print(tf.__version__)"
      ],
      "execution_count": null,
      "outputs": [
        {
          "output_type": "stream",
          "text": [
            "WARNING:tensorflow:From /usr/local/lib/python3.6/dist-packages/tensorflow/python/compat/v2_compat.py:96: disable_resource_variables (from tensorflow.python.ops.variable_scope) is deprecated and will be removed in a future version.\n",
            "Instructions for updating:\n",
            "non-resource variables are not supported in the long term\n",
            "2.3.0\n"
          ],
          "name": "stdout"
        }
      ]
    },
    {
      "cell_type": "markdown",
      "metadata": {
        "id": "eRogaaRiANhH"
      },
      "source": [
        "In this course, we consider first version of tensorflow."
      ]
    },
    {
      "cell_type": "markdown",
      "metadata": {
        "id": "SRqdQtR2ANhJ"
      },
      "source": [
        "#### Construction phase"
      ]
    },
    {
      "cell_type": "code",
      "metadata": {
        "id": "aObI6KWDANhK",
        "colab": {
          "base_uri": "https://localhost:8080/",
          "height": 35
        },
        "outputId": "bd6ebf4b-5013-4fb4-df00-0ab8d85b2289"
      },
      "source": [
        "x = tf.Variable(3)\n",
        "y = tf.Variable(4)\n",
        "\n",
        "z = x + y\n",
        "\n",
        "print(z)"
      ],
      "execution_count": null,
      "outputs": [
        {
          "output_type": "stream",
          "text": [
            "Tensor(\"add_3:0\", shape=(), dtype=int32)\n"
          ],
          "name": "stdout"
        }
      ]
    },
    {
      "cell_type": "markdown",
      "metadata": {
        "id": "f-4zLb2QANhO"
      },
      "source": [
        "As you can see, the above code doesn't perform any computation. It just creates the computation graph."
      ]
    },
    {
      "cell_type": "markdown",
      "metadata": {
        "id": "7CBwKLQaANhP"
      },
      "source": [
        "#### Execution phase"
      ]
    },
    {
      "cell_type": "markdown",
      "metadata": {
        "id": "UL5Y54rHANhQ"
      },
      "source": [
        "1. Create a session"
      ]
    },
    {
      "cell_type": "code",
      "metadata": {
        "id": "u6r52BhOANhR"
      },
      "source": [
        "sess = tf.Session()"
      ],
      "execution_count": null,
      "outputs": []
    },
    {
      "cell_type": "markdown",
      "metadata": {
        "id": "Unj1dt21ANhV"
      },
      "source": [
        "2. Initialize all the variables"
      ]
    },
    {
      "cell_type": "code",
      "metadata": {
        "id": "YzYZ0S-ZANhW"
      },
      "source": [
        "sess.run(x.initializer)\n",
        "sess.run(y.initializer)"
      ],
      "execution_count": null,
      "outputs": []
    },
    {
      "cell_type": "markdown",
      "metadata": {
        "id": "q6YayUrTANhb"
      },
      "source": [
        "3. Evaluate the session"
      ]
    },
    {
      "cell_type": "code",
      "metadata": {
        "id": "n1jttW_5ANhc",
        "colab": {
          "base_uri": "https://localhost:8080/",
          "height": 35
        },
        "outputId": "b7755907-4524-466e-c758-c92bcd1d006f"
      },
      "source": [
        "result = sess.run(z)\n",
        "\n",
        "print(result)"
      ],
      "execution_count": null,
      "outputs": [
        {
          "output_type": "stream",
          "text": [
            "7\n"
          ],
          "name": "stdout"
        }
      ]
    },
    {
      "cell_type": "markdown",
      "metadata": {
        "id": "Ar_yTCoaANhg"
      },
      "source": [
        "4. Close the session"
      ]
    },
    {
      "cell_type": "code",
      "metadata": {
        "id": "H6dU09DKANhi"
      },
      "source": [
        "sess.close()"
      ],
      "execution_count": null,
      "outputs": []
    },
    {
      "cell_type": "markdown",
      "metadata": {
        "id": "4zzklcziANhm"
      },
      "source": [
        "Note that, we can initialize all the variables with only one syntax. Plus, we can automatically close tensorflow session as the following."
      ]
    },
    {
      "cell_type": "code",
      "metadata": {
        "id": "70Ey3C2HANhn",
        "colab": {
          "base_uri": "https://localhost:8080/",
          "height": 35
        },
        "outputId": "82d787b6-ba40-42bb-a56f-ad96285b716d"
      },
      "source": [
        "x = tf.Variable(3)\n",
        "y = tf.Variable(4)\n",
        "\n",
        "z = x + y\n",
        "\n",
        "init = tf.global_variables_initializer()\n",
        "\n",
        "with tf.Session() as sess:\n",
        "    init.run()    \n",
        "    print(z.eval())"
      ],
      "execution_count": null,
      "outputs": [
        {
          "output_type": "stream",
          "text": [
            "7\n"
          ],
          "name": "stdout"
        }
      ]
    },
    {
      "cell_type": "markdown",
      "metadata": {
        "id": "pFklEKHnANhq"
      },
      "source": [
        "Tensorflow also has __Eager mode__ that makes it easier to try out things, but is not recommended for production code. Note that, Eager mode must be called at program startup."
      ]
    },
    {
      "cell_type": "code",
      "metadata": {
        "id": "_S5itlAkANhr",
        "colab": {
          "base_uri": "https://localhost:8080/",
          "height": 55
        },
        "outputId": "4cc9c213-ad80-4611-d9c6-3a717a1db704"
      },
      "source": [
        "# You need to run this code at program startup!\n",
        "import tensorflow as tf\n",
        "'''from tensorflow.contrib.eager.python import tfe\n",
        "tfe.enable_eager_execution()\n",
        "\n",
        "x = tf.Variable(3)\n",
        "y = tf.Variable(4)\n",
        "\n",
        "z = x + y\n",
        "\n",
        "print(z)'''"
      ],
      "execution_count": null,
      "outputs": [
        {
          "output_type": "execute_result",
          "data": {
            "text/plain": [
              "'from tensorflow.contrib.eager.python import tfe\\ntfe.enable_eager_execution()\\n\\nx = tf.Variable(3)\\ny = tf.Variable(4)\\n\\nz = x + y\\n\\nprint(z)'"
            ]
          },
          "metadata": {
            "tags": []
          },
          "execution_count": 29
        }
      ]
    },
    {
      "cell_type": "markdown",
      "metadata": {
        "id": "fvqgv5h2ANhv"
      },
      "source": [
        "## Tensorflow vs  Numpy <a id='TF-np'></a>\n",
        "\n",
        "In this part, we compare some basic functions like shape, sum and reshape in tensorflow and numpy."
      ]
    },
    {
      "cell_type": "code",
      "metadata": {
        "id": "Fu2kM387ANhw",
        "colab": {
          "base_uri": "https://localhost:8080/",
          "height": 69
        },
        "outputId": "d1ed0b86-13e1-4125-f3a6-8676fe96a838"
      },
      "source": [
        "import numpy as np\n",
        "\n",
        "a = np.array([[1, 2, 3], [4, 5, 6]])\n",
        "\n",
        "print(a.shape)\n",
        "\n",
        "print(np.sum(a, axis=1))\n",
        "\n",
        "print(np.reshape(a, (1, 6)))"
      ],
      "execution_count": null,
      "outputs": [
        {
          "output_type": "stream",
          "text": [
            "(2, 3)\n",
            "[ 6 15]\n",
            "[[1 2 3 4 5 6]]\n"
          ],
          "name": "stdout"
        }
      ]
    },
    {
      "cell_type": "code",
      "metadata": {
        "id": "2woQXdz1ANh0",
        "colab": {
          "base_uri": "https://localhost:8080/",
          "height": 124
        },
        "outputId": "94b992ff-da7f-4169-c1c8-7cfd2e68dfda"
      },
      "source": [
        "tf.InteractiveSession()\n",
        "\n",
        "a = tf.constant([[1, 2, 3], [4, 5, 6]])\n",
        "\n",
        "print(a.get_shape())\n",
        "\n",
        "print(tf.reduce_sum(a, reduction_indices= 1).eval())\n",
        "\n",
        "print(tf.reshape(a, (1, 6)).eval())\n",
        "\n",
        "tf.InteractiveSession().close()"
      ],
      "execution_count": null,
      "outputs": [
        {
          "output_type": "stream",
          "text": [
            "(2, 3)\n",
            "[ 6 15]\n",
            "[[1 2 3 4 5 6]]\n"
          ],
          "name": "stdout"
        },
        {
          "output_type": "stream",
          "text": [
            "/tensorflow-1.15.2/python3.6/tensorflow_core/python/client/session.py:1750: UserWarning: An interactive session is already active. This can cause out-of-memory errors in some cases. You must explicitly call `InteractiveSession.close()` to release resources held by the other session(s).\n",
            "  warnings.warn('An interactive session is already active. This can '\n"
          ],
          "name": "stderr"
        }
      ]
    },
    {
      "cell_type": "markdown",
      "metadata": {
        "id": "_vZ-JvtkANh3"
      },
      "source": [
        "## Linear regression with Tensorflow <a id='TF-LR'></a>\n",
        "\n",
        "Let us consider the following data:"
      ]
    },
    {
      "cell_type": "code",
      "metadata": {
        "id": "ARc9lUJfANh4",
        "colab": {
          "base_uri": "https://localhost:8080/",
          "height": 283
        },
        "outputId": "ff5da04d-f40e-47bf-dc8d-49bc95a45b08"
      },
      "source": [
        "import numpy as np\n",
        "import matplotlib.pyplot as plt\n",
        "%matplotlib inline\n",
        "\n",
        "N = 100 # Number of samples\n",
        "\n",
        "x = np.random.rand(N, 1)\n",
        "y = 3 - 5 * x + 0.1*np.random.randn(N, 1)\n",
        "\n",
        "plt.plot(x, y, \"b.\")\n",
        "plt.xlabel(\"$x$\", fontsize=14)\n",
        "plt.ylabel(\"$y$\", rotation=0, fontsize=14)\n",
        "plt.show()"
      ],
      "execution_count": null,
      "outputs": [
        {
          "output_type": "display_data",
          "data": {
            "image/png": "[encoded data removed]",
            "text/plain": [
              "<Figure size 432x288 with 1 Axes>"
            ]
          },
          "metadata": {
            "tags": [],
            "needs_background": "light"
          }
        }
      ]
    },
    {
      "cell_type": "markdown",
      "metadata": {
        "id": "bPlZ5rSRANh8"
      },
      "source": [
        "&#x270d; 1) Compute the model parameters usig sklearn."
      ]
    },
    {
      "cell_type": "code",
      "metadata": {
        "id": "m3aT-RcJANh9",
        "colab": {
          "base_uri": "https://localhost:8080/",
          "height": 52
        },
        "outputId": "1892c4cf-029c-4d90-90a8-184c2abcea50"
      },
      "source": [
        "from sklearn.linear_model import LinearRegression\n",
        "\n",
        "lin_reg = LinearRegression()\n",
        "lin_reg.fit(x, y)\n",
        "\n",
        "print('Estimated parameters:\\n', lin_reg.intercept_, lin_reg.coef_)"
      ],
      "execution_count": null,
      "outputs": [
        {
          "output_type": "stream",
          "text": [
            "Estimated parameters:\n",
            " [3.00521525] [[-5.03397025]]\n"
          ],
          "name": "stdout"
        }
      ]
    },
    {
      "cell_type": "markdown",
      "metadata": {
        "id": "7dnM8ekbANiB"
      },
      "source": [
        "&#x270d; 2) Compute the model parameters with analytical approach using numpy.\n",
        "\n",
        "$\\theta = (X^\\top X)^{-1}X^\\top y$"
      ]
    },
    {
      "cell_type": "code",
      "metadata": {
        "id": "_LqfBNzuANiC",
        "colab": {
          "base_uri": "https://localhost:8080/",
          "height": 70
        },
        "outputId": "fd8198d4-04fa-4ba0-e0cc-aea11ab3e55f"
      },
      "source": [
        "X = np.hstack((np.ones((N, 1)), x)) \n",
        "print('Estimated parameters:\\n', np.linalg.inv(X.T.dot(X)).dot(X.T.dot(y)) )"
      ],
      "execution_count": null,
      "outputs": [
        {
          "output_type": "stream",
          "text": [
            "Estimated parameters:\n",
            " [[ 3.00521525]\n",
            " [-5.03397025]]\n"
          ],
          "name": "stdout"
        }
      ]
    },
    {
      "cell_type": "code",
      "metadata": {
        "id": "LxKMFyd-Mkyf"
      },
      "source": [
        "X"
      ],
      "execution_count": null,
      "outputs": []
    },
    {
      "cell_type": "code",
      "metadata": {
        "id": "v-Q3YtiZSfUF"
      },
      "source": [
        "y"
      ],
      "execution_count": null,
      "outputs": []
    },
    {
      "cell_type": "markdown",
      "metadata": {
        "id": "7LoNNEaMANiF"
      },
      "source": [
        "&#x270d; 3) Compute the model parameters using tensorflow. \n",
        "\n",
        "Hints: For matrix multiplication, matrix transpose and matrix inversion, you can use *tf.matmul()*, *tf.transpose()*, and *tf.matrix_inverse()*, respectively."
      ]
    },
    {
      "cell_type": "code",
      "metadata": {
        "id": "nVyg_JU5VRil",
        "colab": {
          "base_uri": "https://localhost:8080/",
          "height": 35
        },
        "outputId": "1d820095-06d4-4a97-abdb-f431946f8f98"
      },
      "source": [
        "tf.matmul(tf.transpose(X), X)"
      ],
      "execution_count": null,
      "outputs": [
        {
          "output_type": "execute_result",
          "data": {
            "text/plain": [
              "<tf.Tensor 'MatMul_13:0' shape=(2, 2) dtype=float64>"
            ]
          },
          "metadata": {
            "tags": []
          },
          "execution_count": 31
        }
      ]
    },
    {
      "cell_type": "code",
      "metadata": {
        "id": "tl5ENYHYANiG",
        "colab": {
          "base_uri": "https://localhost:8080/",
          "height": 70
        },
        "outputId": "9ecdcf43-ffc2-464f-de6a-a55e96b5c146"
      },
      "source": [
        "X_transpose = tf.transpose(X)\n",
        "\n",
        "theta_best = tf.matmul(tf.matrix_inverse(tf.matmul(X_transpose, X)), tf.matmul(X_transpose, y))\n",
        "\n",
        "with tf.Session() as sess:\n",
        "    theta_best = theta_best.eval()\n",
        "\n",
        "print('Estimated parameters:\\n', theta_best)"
      ],
      "execution_count": null,
      "outputs": [
        {
          "output_type": "stream",
          "text": [
            "Estimated parameters:\n",
            " [[ 3.00521525]\n",
            " [-5.03397025]]\n"
          ],
          "name": "stdout"
        }
      ]
    },
    {
      "cell_type": "markdown",
      "metadata": {
        "id": "eJZ6KZIzANiL"
      },
      "source": [
        "## Logistic regression with Tensorflow <a id='TF-LogiR'></a>\n",
        "\n",
        "Consider the following data example:"
      ]
    },
    {
      "cell_type": "code",
      "metadata": {
        "id": "yXFMVLBtANiM",
        "colab": {
          "base_uri": "https://localhost:8080/",
          "height": 300
        },
        "outputId": "9e878cef-05cc-4546-d059-8ea742a93f27"
      },
      "source": [
        "from sklearn.datasets import make_moons\n",
        "\n",
        "N = 100\n",
        "x, y = make_moons(n_samples= N, noise= .05)\n",
        "\n",
        "plt.scatter(x[:,0], x[:,1], c = y)\n",
        "plt.xlabel('$x_1$', fontsize = 14)\n",
        "plt.ylabel('$x_2$', rotation = 0, fontsize = 14)\n",
        "plt.title('Scatter plot of data');\n",
        "#print(x)"
      ],
      "execution_count": null,
      "outputs": [
        {
          "output_type": "display_data",
          "data": {
            "image/png": "[encoded data removed]",
            "text/plain": [
              "<Figure size 432x288 with 1 Axes>"
            ]
          },
          "metadata": {
            "tags": [],
            "needs_background": "light"
          }
        }
      ]
    },
    {
      "cell_type": "markdown",
      "metadata": {
        "id": "Yz1jXjVxANiW"
      },
      "source": [
        "&#x270d; 4) Classify the data using sklearn."
      ]
    },
    {
      "cell_type": "code",
      "metadata": {
        "id": "GClu34JuANiX",
        "colab": {
          "base_uri": "https://localhost:8080/",
          "height": 52
        },
        "outputId": "4ee4e735-69ee-4c5d-b42b-50c487feef44"
      },
      "source": [
        "from sklearn.linear_model import LogisticRegression\n",
        "from sklearn.metrics import accuracy_score \n",
        "\n",
        "model = LogisticRegression(solver='lbfgs').fit(x, y)\n",
        "y_pred = model.predict(x)\n",
        "\n",
        "accuracy = accuracy_score(y, y_pred)\n",
        "print('Accuracy:', accuracy)\n",
        "\n",
        "print('Estimated parameters:', model.intercept_, model.coef_)"
      ],
      "execution_count": null,
      "outputs": [
        {
          "output_type": "stream",
          "text": [
            "Accuracy: 0.87\n",
            "Estimated parameters: [0.21344744] [[ 1.06062994 -3.00936947]]\n"
          ],
          "name": "stdout"
        }
      ]
    },
    {
      "cell_type": "markdown",
      "metadata": {
        "id": "N_vf_yRcANif"
      },
      "source": [
        "&#x270d; 5) Classify the data using tensorflow.\n",
        "\n",
        "Hints: \n",
        "1. Use *tf.placeholder* and *tf.Variable* for feeding data and trainable parameters, respectively.\n",
        "2. The backpropagation and optimization can be done automatically by running the session on the \"optimizer\" object."
      ]
    },
    {
      "cell_type": "code",
      "metadata": {
        "id": "8JTt192OANig",
        "colab": {
          "base_uri": "https://localhost:8080/",
          "height": 441
        },
        "outputId": "9ef4a2a3-5178-4501-cbe7-b4e563fa81b2"
      },
      "source": [
        "n_itr = 1000 # number of iterations\n",
        "eta = 0.1    # learning rate\n",
        "# ----------------------------------------------------------------\n",
        "X_train = np.hstack((np.ones((N, 1)), x))\n",
        "Y_train = y[:, np.newaxis]\n",
        "\n",
        "print('X_train shape', X_train.shape)\n",
        "print('Y_train shape', Y_train.shape)\n",
        "# ----------------------------------------------------------------\n",
        "X = tf.placeholder('float', [N, X_train.shape[1]])  \n",
        "Y = tf.placeholder('float', [N, 1]) \n",
        "\n",
        "print('X shape', X.get_shape())\n",
        "print('Y shape', Y.get_shape())\n",
        "# ----------------------------------------------------------------\n",
        "# Trainable parameters\n",
        "theta = tf.Variable(tf.random_normal([X_train.shape[1], 1], mean= 0, stddev= 1))\n",
        "print('theta shape', theta.get_shape())\n",
        "# ----------------------------------------------------------------\n",
        "Y_prob = tf.nn.sigmoid(tf.matmul(X, theta))      \n",
        "\n",
        "# Sigmoid cross entropy cost function \n",
        "cost = -(1/N)*tf.reduce_sum(Y*tf.log(Y_prob)+(1-Y)*tf.log(1-Y_prob))\n",
        "\n",
        "# Gradient descent optimizer \n",
        "optimizer = tf.train.GradientDescentOptimizer(learning_rate = eta).minimize(cost) \n",
        "  \n",
        "# Accuracy\n",
        "correct_pred = tf.equal(tf.round(Y_prob), Y) \n",
        "accuracy = tf.reduce_mean(tf.cast(correct_pred, 'float'))     \n",
        "     \n",
        "# Global variables initializer \n",
        "init = tf.global_variables_initializer() \n",
        "# ----------------------------------------------------------------\n",
        "# Starting the Tensorflow Session \n",
        "with tf.Session() as sess: \n",
        "      \n",
        "    # Initializing the Variables \n",
        "    init.run()  \n",
        "    \n",
        "    cost_history, accuracy_history = [], [] \n",
        "    for itr in range(n_itr): \n",
        "         \n",
        "        # Running the optimizer \n",
        "        sess.run(optimizer, feed_dict={X: X_train, Y: Y_train}) \n",
        "                 \n",
        "        # Calculating cost & accuracy on current epoch \n",
        "        c, acc = sess.run([cost, accuracy], feed_dict = {X: X_train, Y: Y_train}) \n",
        "  \n",
        "        # Storing cost & accuracy to the history \n",
        "        cost_history.append(c) \n",
        "        accuracy_history.append(acc)\n",
        "# ----------------------------------------------------------------\n",
        "print('Classification accuracy:', accuracy_history[-1]) \n",
        "# ----------------------------------------------------------------\n",
        "plt.figure(figsize=(15, 5))\n",
        "plt.subplot(1,2,1)\n",
        "plt.plot(np.arange(1, n_itr+1), cost_history) \n",
        "plt.xlabel('Training iterations')\n",
        "plt.ylabel('Cost')\n",
        "\n",
        "plt.subplot(1,2,2)\n",
        "plt.plot(np.arange(1, n_itr+1), accuracy_history) \n",
        "plt.xlabel('Training iterations')\n",
        "plt.ylabel('Accuracy');"
      ],
      "execution_count": null,
      "outputs": [
        {
          "output_type": "stream",
          "text": [
            "X_train shape (100, 3)\n",
            "Y_train shape (100, 1)\n",
            "X shape (100, 3)\n",
            "Y shape (100, 1)\n",
            "theta shape (3, 1)\n",
            "Classification accuracy: 0.88\n"
          ],
          "name": "stdout"
        },
        {
          "output_type": "display_data",
          "data": {
            "image/png": "[encoded data removed]",
            "text/plain": [
              "<Figure size 1080x360 with 2 Axes>"
            ]
          },
          "metadata": {
            "tags": [],
            "needs_background": "light"
          }
        }
      ]
    },
    {
      "cell_type": "markdown",
      "metadata": {
        "id": "QnJ-X27FANik"
      },
      "source": [
        "## Summary <a id='summary'></a>\n",
        "\n",
        "- We learned how to code in tensorflow by taking the following steps:\n",
        "    - Building a computation graph containing Tensors and Operations;\n",
        "    - Creating a session;\n",
        "    - Initializing the session;\n",
        "    - Running the session to execute the graph.\n",
        "- We learned how to use Eager mode for evaluating operations immediately, without building graphs.   \n",
        "- We explored some differences between tensorflow and numpy.\n",
        "- We implemented linear regression and logistic regression from scratch in both numpy and tensorflow."
      ]
    }
  ]
}