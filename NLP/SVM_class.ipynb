{
 "cells": [
  {
   "cell_type": "code",
   "execution_count": 1,
   "metadata": {},
   "outputs": [],
   "source": [
    "import pandas as pd\n",
    "import numpy as np\n",
    "import matplotlib.pyplot as plt\n",
    "import seaborn as sns\n",
    "%matplotlib inline\n",
    "sns.set_context('notebook')\n",
    "sns.set_style('darkgrid')\n",
    "from matplotlib import style\n",
    "style.use('dark_background')"
   ]
  },
  {
   "cell_type": "code",
   "execution_count": 2,
   "metadata": {},
   "outputs": [],
   "source": [
    "from sklearn.datasets import load_breast_cancer"
   ]
  },
  {
   "cell_type": "code",
   "execution_count": 3,
   "metadata": {},
   "outputs": [],
   "source": [
    "cancer = load_breast_cancer()"
   ]
  },
  {
   "cell_type": "code",
   "execution_count": 4,
   "metadata": {},
   "outputs": [
    {
     "name": "stdout",
     "output_type": "stream",
     "text": [
      "Breast Cancer Wisconsin (Diagnostic) Database\n",
      "=============================================\n",
      "\n",
      "Notes\n",
      "-----\n",
      "Data Set Characteristics:\n",
      "    :Number of Instances: 569\n",
      "\n",
      "    :Number of Attributes: 30 numeric, predictive attributes and the class\n",
      "\n",
      "    :Attribute Information:\n",
      "        - radius (mean of distances from center to points on the perimeter)\n",
      "        - texture (standard deviation of gray-scale values)\n",
      "        - perimeter\n",
      "        - area\n",
      "        - smoothness (local variation in radius lengths)\n",
      "        - compactness (perimeter^2 / area - 1.0)\n",
      "        - concavity (severity of concave portions of the contour)\n",
      "        - concave points (number of concave portions of the contour)\n",
      "        - symmetry \n",
      "        - fractal dimension (\"coastline approximation\" - 1)\n",
      "\n",
      "        The mean, standard error, and \"worst\" or largest (mean of the three\n",
      "        largest values) of these features were computed for each image,\n",
      "        resulting in 30 features.  For instance, field 3 is Mean Radius, field\n",
      "        13 is Radius SE, field 23 is Worst Radius.\n",
      "\n",
      "        - class:\n",
      "                - WDBC-Malignant\n",
      "                - WDBC-Benign\n",
      "\n",
      "    :Summary Statistics:\n",
      "\n",
      "    ===================================== ====== ======\n",
      "                                           Min    Max\n",
      "    ===================================== ====== ======\n",
      "    radius (mean):                        6.981  28.11\n",
      "    texture (mean):                       9.71   39.28\n",
      "    perimeter (mean):                     43.79  188.5\n",
      "    area (mean):                          143.5  2501.0\n",
      "    smoothness (mean):                    0.053  0.163\n",
      "    compactness (mean):                   0.019  0.345\n",
      "    concavity (mean):                     0.0    0.427\n",
      "    concave points (mean):                0.0    0.201\n",
      "    symmetry (mean):                      0.106  0.304\n",
      "    fractal dimension (mean):             0.05   0.097\n",
      "    radius (standard error):              0.112  2.873\n",
      "    texture (standard error):             0.36   4.885\n",
      "    perimeter (standard error):           0.757  21.98\n",
      "    area (standard error):                6.802  542.2\n",
      "    smoothness (standard error):          0.002  0.031\n",
      "    compactness (standard error):         0.002  0.135\n",
      "    concavity (standard error):           0.0    0.396\n",
      "    concave points (standard error):      0.0    0.053\n",
      "    symmetry (standard error):            0.008  0.079\n",
      "    fractal dimension (standard error):   0.001  0.03\n",
      "    radius (worst):                       7.93   36.04\n",
      "    texture (worst):                      12.02  49.54\n",
      "    perimeter (worst):                    50.41  251.2\n",
      "    area (worst):                         185.2  4254.0\n",
      "    smoothness (worst):                   0.071  0.223\n",
      "    compactness (worst):                  0.027  1.058\n",
      "    concavity (worst):                    0.0    1.252\n",
      "    concave points (worst):               0.0    0.291\n",
      "    symmetry (worst):                     0.156  0.664\n",
      "    fractal dimension (worst):            0.055  0.208\n",
      "    ===================================== ====== ======\n",
      "\n",
      "    :Missing Attribute Values: None\n",
      "\n",
      "    :Class Distribution: 212 - Malignant, 357 - Benign\n",
      "\n",
      "    :Creator:  Dr. William H. Wolberg, W. Nick Street, Olvi L. Mangasarian\n",
      "\n",
      "    :Donor: Nick Street\n",
      "\n",
      "    :Date: November, 1995\n",
      "\n",
      "This is a copy of UCI ML Breast Cancer Wisconsin (Diagnostic) datasets.\n",
      "https://goo.gl/U2Uwz2\n",
      "\n",
      "Features are computed from a digitized image of a fine needle\n",
      "aspirate (FNA) of a breast mass.  They describe\n",
      "characteristics of the cell nuclei present in the image.\n",
      "\n",
      "Separating plane described above was obtained using\n",
      "Multisurface Method-Tree (MSM-T) [K. P. Bennett, \"Decision Tree\n",
      "Construction Via Linear Programming.\" Proceedings of the 4th\n",
      "Midwest Artificial Intelligence and Cognitive Science Society,\n",
      "pp. 97-101, 1992], a classification method which uses linear\n",
      "programming to construct a decision tree.  Relevant features\n",
      "were selected using an exhaustive search in the space of 1-4\n",
      "features and 1-3 separating planes.\n",
      "\n",
      "The actual linear program used to obtain the separating plane\n",
      "in the 3-dimensional space is that described in:\n",
      "[K. P. Bennett and O. L. Mangasarian: \"Robust Linear\n",
      "Programming Discrimination of Two Linearly Inseparable Sets\",\n",
      "Optimization Methods and Software 1, 1992, 23-34].\n",
      "\n",
      "This database is also available through the UW CS ftp server:\n",
      "\n",
      "ftp ftp.cs.wisc.edu\n",
      "cd math-prog/cpo-dataset/machine-learn/WDBC/\n",
      "\n",
      "References\n",
      "----------\n",
      "   - W.N. Street, W.H. Wolberg and O.L. Mangasarian. Nuclear feature extraction \n",
      "     for breast tumor diagnosis. IS&T/SPIE 1993 International Symposium on \n",
      "     Electronic Imaging: Science and Technology, volume 1905, pages 861-870,\n",
      "     San Jose, CA, 1993.\n",
      "   - O.L. Mangasarian, W.N. Street and W.H. Wolberg. Breast cancer diagnosis and \n",
      "     prognosis via linear programming. Operations Research, 43(4), pages 570-577, \n",
      "     July-August 1995.\n",
      "   - W.H. Wolberg, W.N. Street, and O.L. Mangasarian. Machine learning techniques\n",
      "     to diagnose breast cancer from fine-needle aspirates. Cancer Letters 77 (1994) \n",
      "     163-171.\n",
      "\n"
     ]
    }
   ],
   "source": [
    "print(cancer.DESCR)"
   ]
  },
  {
   "cell_type": "code",
   "execution_count": 17,
   "metadata": {},
   "outputs": [
    {
     "data": {
      "text/plain": [
       "sklearn.utils.Bunch"
      ]
     },
     "execution_count": 17,
     "metadata": {},
     "output_type": "execute_result"
    }
   ],
   "source": [
    "type(cancer)"
   ]
  },
  {
   "cell_type": "code",
   "execution_count": 15,
   "metadata": {},
   "outputs": [
    {
     "data": {
      "text/plain": [
       "(569, 30)"
      ]
     },
     "execution_count": 15,
     "metadata": {},
     "output_type": "execute_result"
    }
   ],
   "source": [
    "cancer['data'].shape"
   ]
  },
  {
   "cell_type": "code",
   "execution_count": 16,
   "metadata": {},
   "outputs": [
    {
     "data": {
      "text/plain": [
       "array(['mean radius', 'mean texture', 'mean perimeter', 'mean area',\n",
       "       'mean smoothness', 'mean compactness', 'mean concavity',\n",
       "       'mean concave points', 'mean symmetry', 'mean fractal dimension',\n",
       "       'radius error', 'texture error', 'perimeter error', 'area error',\n",
       "       'smoothness error', 'compactness error', 'concavity error',\n",
       "       'concave points error', 'symmetry error',\n",
       "       'fractal dimension error', 'worst radius', 'worst texture',\n",
       "       'worst perimeter', 'worst area', 'worst smoothness',\n",
       "       'worst compactness', 'worst concavity', 'worst concave points',\n",
       "       'worst symmetry', 'worst fractal dimension'], dtype='<U23')"
      ]
     },
     "execution_count": 16,
     "metadata": {},
     "output_type": "execute_result"
    }
   ],
   "source": [
    "cancer['feature_names']"
   ]
  },
  {
   "cell_type": "code",
   "execution_count": 18,
   "metadata": {},
   "outputs": [],
   "source": [
    "X = pd.DataFrame(data=cancer['data'], columns=cancer['feature_names'])"
   ]
  },
  {
   "cell_type": "code",
   "execution_count": 19,
   "metadata": {},
   "outputs": [
    {
     "data": {
      "text/html": [
       "<div>\n",
       "<style scoped>\n",
       "    .dataframe tbody tr th:only-of-type {\n",
       "        vertical-align: middle;\n",
       "    }\n",
       "\n",
       "    .dataframe tbody tr th {\n",
       "        vertical-align: top;\n",
       "    }\n",
       "\n",
       "    .dataframe thead th {\n",
       "        text-align: right;\n",
       "    }\n",
       "</style>\n",
       "<table border=\"1\" class=\"dataframe\">\n",
       "  <thead>\n",
       "    <tr style=\"text-align: right;\">\n",
       "      <th></th>\n",
       "      <th>mean radius</th>\n",
       "      <th>mean texture</th>\n",
       "      <th>mean perimeter</th>\n",
       "      <th>mean area</th>\n",
       "      <th>mean smoothness</th>\n",
       "      <th>mean compactness</th>\n",
       "      <th>mean concavity</th>\n",
       "      <th>mean concave points</th>\n",
       "      <th>mean symmetry</th>\n",
       "      <th>mean fractal dimension</th>\n",
       "      <th>...</th>\n",
       "      <th>worst radius</th>\n",
       "      <th>worst texture</th>\n",
       "      <th>worst perimeter</th>\n",
       "      <th>worst area</th>\n",
       "      <th>worst smoothness</th>\n",
       "      <th>worst compactness</th>\n",
       "      <th>worst concavity</th>\n",
       "      <th>worst concave points</th>\n",
       "      <th>worst symmetry</th>\n",
       "      <th>worst fractal dimension</th>\n",
       "    </tr>\n",
       "  </thead>\n",
       "  <tbody>\n",
       "    <tr>\n",
       "      <th>0</th>\n",
       "      <td>17.99</td>\n",
       "      <td>10.38</td>\n",
       "      <td>122.80</td>\n",
       "      <td>1001.0</td>\n",
       "      <td>0.11840</td>\n",
       "      <td>0.27760</td>\n",
       "      <td>0.3001</td>\n",
       "      <td>0.14710</td>\n",
       "      <td>0.2419</td>\n",
       "      <td>0.07871</td>\n",
       "      <td>...</td>\n",
       "      <td>25.38</td>\n",
       "      <td>17.33</td>\n",
       "      <td>184.60</td>\n",
       "      <td>2019.0</td>\n",
       "      <td>0.1622</td>\n",
       "      <td>0.6656</td>\n",
       "      <td>0.7119</td>\n",
       "      <td>0.2654</td>\n",
       "      <td>0.4601</td>\n",
       "      <td>0.11890</td>\n",
       "    </tr>\n",
       "    <tr>\n",
       "      <th>1</th>\n",
       "      <td>20.57</td>\n",
       "      <td>17.77</td>\n",
       "      <td>132.90</td>\n",
       "      <td>1326.0</td>\n",
       "      <td>0.08474</td>\n",
       "      <td>0.07864</td>\n",
       "      <td>0.0869</td>\n",
       "      <td>0.07017</td>\n",
       "      <td>0.1812</td>\n",
       "      <td>0.05667</td>\n",
       "      <td>...</td>\n",
       "      <td>24.99</td>\n",
       "      <td>23.41</td>\n",
       "      <td>158.80</td>\n",
       "      <td>1956.0</td>\n",
       "      <td>0.1238</td>\n",
       "      <td>0.1866</td>\n",
       "      <td>0.2416</td>\n",
       "      <td>0.1860</td>\n",
       "      <td>0.2750</td>\n",
       "      <td>0.08902</td>\n",
       "    </tr>\n",
       "    <tr>\n",
       "      <th>2</th>\n",
       "      <td>19.69</td>\n",
       "      <td>21.25</td>\n",
       "      <td>130.00</td>\n",
       "      <td>1203.0</td>\n",
       "      <td>0.10960</td>\n",
       "      <td>0.15990</td>\n",
       "      <td>0.1974</td>\n",
       "      <td>0.12790</td>\n",
       "      <td>0.2069</td>\n",
       "      <td>0.05999</td>\n",
       "      <td>...</td>\n",
       "      <td>23.57</td>\n",
       "      <td>25.53</td>\n",
       "      <td>152.50</td>\n",
       "      <td>1709.0</td>\n",
       "      <td>0.1444</td>\n",
       "      <td>0.4245</td>\n",
       "      <td>0.4504</td>\n",
       "      <td>0.2430</td>\n",
       "      <td>0.3613</td>\n",
       "      <td>0.08758</td>\n",
       "    </tr>\n",
       "    <tr>\n",
       "      <th>3</th>\n",
       "      <td>11.42</td>\n",
       "      <td>20.38</td>\n",
       "      <td>77.58</td>\n",
       "      <td>386.1</td>\n",
       "      <td>0.14250</td>\n",
       "      <td>0.28390</td>\n",
       "      <td>0.2414</td>\n",
       "      <td>0.10520</td>\n",
       "      <td>0.2597</td>\n",
       "      <td>0.09744</td>\n",
       "      <td>...</td>\n",
       "      <td>14.91</td>\n",
       "      <td>26.50</td>\n",
       "      <td>98.87</td>\n",
       "      <td>567.7</td>\n",
       "      <td>0.2098</td>\n",
       "      <td>0.8663</td>\n",
       "      <td>0.6869</td>\n",
       "      <td>0.2575</td>\n",
       "      <td>0.6638</td>\n",
       "      <td>0.17300</td>\n",
       "    </tr>\n",
       "    <tr>\n",
       "      <th>4</th>\n",
       "      <td>20.29</td>\n",
       "      <td>14.34</td>\n",
       "      <td>135.10</td>\n",
       "      <td>1297.0</td>\n",
       "      <td>0.10030</td>\n",
       "      <td>0.13280</td>\n",
       "      <td>0.1980</td>\n",
       "      <td>0.10430</td>\n",
       "      <td>0.1809</td>\n",
       "      <td>0.05883</td>\n",
       "      <td>...</td>\n",
       "      <td>22.54</td>\n",
       "      <td>16.67</td>\n",
       "      <td>152.20</td>\n",
       "      <td>1575.0</td>\n",
       "      <td>0.1374</td>\n",
       "      <td>0.2050</td>\n",
       "      <td>0.4000</td>\n",
       "      <td>0.1625</td>\n",
       "      <td>0.2364</td>\n",
       "      <td>0.07678</td>\n",
       "    </tr>\n",
       "  </tbody>\n",
       "</table>\n",
       "<p>5 rows × 30 columns</p>\n",
       "</div>"
      ],
      "text/plain": [
       "   mean radius  mean texture  mean perimeter  mean area  mean smoothness  \\\n",
       "0        17.99         10.38          122.80     1001.0          0.11840   \n",
       "1        20.57         17.77          132.90     1326.0          0.08474   \n",
       "2        19.69         21.25          130.00     1203.0          0.10960   \n",
       "3        11.42         20.38           77.58      386.1          0.14250   \n",
       "4        20.29         14.34          135.10     1297.0          0.10030   \n",
       "\n",
       "   mean compactness  mean concavity  mean concave points  mean symmetry  \\\n",
       "0           0.27760          0.3001              0.14710         0.2419   \n",
       "1           0.07864          0.0869              0.07017         0.1812   \n",
       "2           0.15990          0.1974              0.12790         0.2069   \n",
       "3           0.28390          0.2414              0.10520         0.2597   \n",
       "4           0.13280          0.1980              0.10430         0.1809   \n",
       "\n",
       "   mean fractal dimension           ...             worst radius  \\\n",
       "0                 0.07871           ...                    25.38   \n",
       "1                 0.05667           ...                    24.99   \n",
       "2                 0.05999           ...                    23.57   \n",
       "3                 0.09744           ...                    14.91   \n",
       "4                 0.05883           ...                    22.54   \n",
       "\n",
       "   worst texture  worst perimeter  worst area  worst smoothness  \\\n",
       "0          17.33           184.60      2019.0            0.1622   \n",
       "1          23.41           158.80      1956.0            0.1238   \n",
       "2          25.53           152.50      1709.0            0.1444   \n",
       "3          26.50            98.87       567.7            0.2098   \n",
       "4          16.67           152.20      1575.0            0.1374   \n",
       "\n",
       "   worst compactness  worst concavity  worst concave points  worst symmetry  \\\n",
       "0             0.6656           0.7119                0.2654          0.4601   \n",
       "1             0.1866           0.2416                0.1860          0.2750   \n",
       "2             0.4245           0.4504                0.2430          0.3613   \n",
       "3             0.8663           0.6869                0.2575          0.6638   \n",
       "4             0.2050           0.4000                0.1625          0.2364   \n",
       "\n",
       "   worst fractal dimension  \n",
       "0                  0.11890  \n",
       "1                  0.08902  \n",
       "2                  0.08758  \n",
       "3                  0.17300  \n",
       "4                  0.07678  \n",
       "\n",
       "[5 rows x 30 columns]"
      ]
     },
     "execution_count": 19,
     "metadata": {},
     "output_type": "execute_result"
    }
   ],
   "source": [
    "X.head()"
   ]
  },
  {
   "cell_type": "code",
   "execution_count": 24,
   "metadata": {},
   "outputs": [
    {
     "data": {
      "text/plain": [
       "array(['malignant', 'benign'], dtype='<U9')"
      ]
     },
     "execution_count": 24,
     "metadata": {},
     "output_type": "execute_result"
    }
   ],
   "source": [
    "cancer['target_names']"
   ]
  },
  {
   "cell_type": "code",
   "execution_count": 25,
   "metadata": {},
   "outputs": [],
   "source": [
    "y = pd.DataFrame(data=cancer['target'], columns=['malignant'])"
   ]
  },
  {
   "cell_type": "code",
   "execution_count": 28,
   "metadata": {},
   "outputs": [
    {
     "data": {
      "text/html": [
       "<div>\n",
       "<style scoped>\n",
       "    .dataframe tbody tr th:only-of-type {\n",
       "        vertical-align: middle;\n",
       "    }\n",
       "\n",
       "    .dataframe tbody tr th {\n",
       "        vertical-align: top;\n",
       "    }\n",
       "\n",
       "    .dataframe thead th {\n",
       "        text-align: right;\n",
       "    }\n",
       "</style>\n",
       "<table border=\"1\" class=\"dataframe\">\n",
       "  <thead>\n",
       "    <tr style=\"text-align: right;\">\n",
       "      <th></th>\n",
       "      <th>malignant</th>\n",
       "    </tr>\n",
       "  </thead>\n",
       "  <tbody>\n",
       "    <tr>\n",
       "      <th>50</th>\n",
       "      <td>1</td>\n",
       "    </tr>\n",
       "    <tr>\n",
       "      <th>270</th>\n",
       "      <td>1</td>\n",
       "    </tr>\n",
       "    <tr>\n",
       "      <th>45</th>\n",
       "      <td>0</td>\n",
       "    </tr>\n",
       "    <tr>\n",
       "      <th>543</th>\n",
       "      <td>1</td>\n",
       "    </tr>\n",
       "    <tr>\n",
       "      <th>459</th>\n",
       "      <td>1</td>\n",
       "    </tr>\n",
       "  </tbody>\n",
       "</table>\n",
       "</div>"
      ],
      "text/plain": [
       "     malignant\n",
       "50           1\n",
       "270          1\n",
       "45           0\n",
       "543          1\n",
       "459          1"
      ]
     },
     "execution_count": 28,
     "metadata": {},
     "output_type": "execute_result"
    }
   ],
   "source": [
    "y.sample(5)"
   ]
  },
  {
   "cell_type": "code",
   "execution_count": 35,
   "metadata": {},
   "outputs": [
    {
     "data": {
      "text/plain": [
       "<matplotlib.axes._subplots.AxesSubplot at 0x151a2516438>"
      ]
     },
     "execution_count": 35,
     "metadata": {},
     "output_type": "execute_result"
    },
    {
     "data": {
      "image/png": "[encoded data removed]",
      "text/plain": [
       "<Figure size 1080x1080 with 2 Axes>"
      ]
     },
     "metadata": {},
     "output_type": "display_data"
    }
   ],
   "source": [
    "plt.figure(figsize=(15,15))\n",
    "sns.heatmap(X.corr(), annot=False, cmap='BrBG', vmin=-1, vmax=1)"
   ]
  },
  {
   "cell_type": "code",
   "execution_count": 36,
   "metadata": {},
   "outputs": [],
   "source": [
    "from sklearn.model_selection import train_test_split"
   ]
  },
  {
   "cell_type": "code",
   "execution_count": 52,
   "metadata": {},
   "outputs": [],
   "source": [
    "X_train, X_test, y_train, y_test = train_test_split(X, y, test_size=0.25, random_state=42)"
   ]
  },
  {
   "cell_type": "code",
   "execution_count": 53,
   "metadata": {},
   "outputs": [],
   "source": [
    "from sklearn.svm import SVC"
   ]
  },
  {
   "cell_type": "code",
   "execution_count": 54,
   "metadata": {},
   "outputs": [],
   "source": [
    "clf = SVC()"
   ]
  },
  {
   "cell_type": "code",
   "execution_count": 55,
   "metadata": {},
   "outputs": [
    {
     "data": {
      "text/plain": [
       "SVC(C=1.0, cache_size=200, class_weight=None, coef0=0.0,\n",
       "  decision_function_shape='ovr', degree=3, gamma='auto', kernel='rbf',\n",
       "  max_iter=-1, probability=False, random_state=None, shrinking=True,\n",
       "  tol=0.001, verbose=False)"
      ]
     },
     "execution_count": 55,
     "metadata": {},
     "output_type": "execute_result"
    }
   ],
   "source": [
    "clf.fit(X_train, np.ravel(y_train))"
   ]
  },
  {
   "cell_type": "code",
   "execution_count": 56,
   "metadata": {},
   "outputs": [],
   "source": [
    "from sklearn.metrics import classification_report"
   ]
  },
  {
   "cell_type": "code",
   "execution_count": 57,
   "metadata": {},
   "outputs": [],
   "source": [
    "test_predictions = clf.predict(X_test)"
   ]
  },
  {
   "cell_type": "code",
   "execution_count": 58,
   "metadata": {},
   "outputs": [
    {
     "name": "stdout",
     "output_type": "stream",
     "text": [
      "             precision    recall  f1-score   support\n",
      "\n",
      "          0       0.00      0.00      0.00        54\n",
      "          1       0.62      1.00      0.77        89\n",
      "\n",
      "avg / total       0.39      0.62      0.48       143\n",
      "\n"
     ]
    },
    {
     "name": "stderr",
     "output_type": "stream",
     "text": [
      "C:\\ProgramData\\Anaconda3\\lib\\site-packages\\sklearn\\metrics\\classification.py:1135: UndefinedMetricWarning: Precision and F-score are ill-defined and being set to 0.0 in labels with no predicted samples.\n",
      "  'precision', 'predicted', average, warn_for)\n"
     ]
    }
   ],
   "source": [
    "print(classification_report(y_test, test_predictions))"
   ]
  },
  {
   "cell_type": "code",
   "execution_count": 59,
   "metadata": {},
   "outputs": [],
   "source": [
    "from sklearn.model_selection import GridSearchCV"
   ]
  },
  {
   "cell_type": "code",
   "execution_count": 67,
   "metadata": {},
   "outputs": [],
   "source": [
    "params = {'C':[0.1, 1, 10, 100, 1000, 10000, 100000], 'gamma':[1, 0.1, 0.001, 0.0001, 0.00001, 0.000001, 0.0000001]}"
   ]
  },
  {
   "cell_type": "code",
   "execution_count": 68,
   "metadata": {},
   "outputs": [],
   "source": [
    "svm_gs = GridSearchCV(estimator=SVC(), param_grid=params, \n",
    "                      cv=5, verbose=2,\n",
    "                      scoring='f1')"
   ]
  },
  {
   "cell_type": "code",
   "execution_count": 69,
   "metadata": {},
   "outputs": [
    {
     "name": "stdout",
     "output_type": "stream",
     "text": [
      "Fitting 5 folds for each of 49 candidates, totalling 245 fits\n",
      "[CV] C=0.1, gamma=1 ..................................................\n",
      "[CV] ................................... C=0.1, gamma=1, total=   0.0s\n",
      "[CV] C=0.1, gamma=1 ..................................................\n",
      "[CV] ................................... C=0.1, gamma=1, total=   0.0s\n",
      "[CV] C=0.1, gamma=1 ..................................................\n",
      "[CV] ................................... C=0.1, gamma=1, total=   0.0s\n",
      "[CV] C=0.1, gamma=1 ..................................................\n",
      "[CV] ................................... C=0.1, gamma=1, total=   0.0s\n",
      "[CV] C=0.1, gamma=1 ..................................................\n",
      "[CV] ................................... C=0.1, gamma=1, total=   0.0s\n",
      "[CV] C=0.1, gamma=0.1 ................................................\n"
     ]
    },
    {
     "name": "stderr",
     "output_type": "stream",
     "text": [
      "[Parallel(n_jobs=1)]: Done   1 out of   1 | elapsed:    0.0s remaining:    0.0s\n"
     ]
    },
    {
     "name": "stdout",
     "output_type": "stream",
     "text": [
      "[CV] ................................. C=0.1, gamma=0.1, total=   0.0s\n",
      "[CV] C=0.1, gamma=0.1 ................................................\n",
      "[CV] ................................. C=0.1, gamma=0.1, total=   0.0s\n",
      "[CV] C=0.1, gamma=0.1 ................................................\n",
      "[CV] ................................. C=0.1, gamma=0.1, total=   0.0s\n",
      "[CV] C=0.1, gamma=0.1 ................................................\n",
      "[CV] ................................. C=0.1, gamma=0.1, total=   0.0s\n",
      "[CV] C=0.1, gamma=0.1 ................................................\n",
      "[CV] ................................. C=0.1, gamma=0.1, total=   0.0s\n",
      "[CV] C=0.1, gamma=0.001 ..............................................\n",
      "[CV] ............................... C=0.1, gamma=0.001, total=   0.0s\n",
      "[CV] C=0.1, gamma=0.001 ..............................................\n",
      "[CV] ............................... C=0.1, gamma=0.001, total=   0.0s\n",
      "[CV] C=0.1, gamma=0.001 ..............................................\n",
      "[CV] ............................... C=0.1, gamma=0.001, total=   0.0s\n",
      "[CV] C=0.1, gamma=0.001 ..............................................\n",
      "[CV] ............................... C=0.1, gamma=0.001, total=   0.0s\n",
      "[CV] C=0.1, gamma=0.001 ..............................................\n",
      "[CV] ............................... C=0.1, gamma=0.001, total=   0.0s\n",
      "[CV] C=0.1, gamma=0.0001 .............................................\n",
      "[CV] .............................. C=0.1, gamma=0.0001, total=   0.0s\n",
      "[CV] C=0.1, gamma=0.0001 .............................................\n",
      "[CV] .............................. C=0.1, gamma=0.0001, total=   0.0s\n",
      "[CV] C=0.1, gamma=0.0001 .............................................\n",
      "[CV] .............................. C=0.1, gamma=0.0001, total=   0.0s\n",
      "[CV] C=0.1, gamma=0.0001 .............................................\n",
      "[CV] .............................. C=0.1, gamma=0.0001, total=   0.0s\n",
      "[CV] C=0.1, gamma=0.0001 .............................................\n",
      "[CV] .............................. C=0.1, gamma=0.0001, total=   0.0s\n",
      "[CV] C=0.1, gamma=1e-05 ..............................................\n",
      "[CV] ............................... C=0.1, gamma=1e-05, total=   0.0s\n",
      "[CV] C=0.1, gamma=1e-05 ..............................................\n",
      "[CV] ............................... C=0.1, gamma=1e-05, total=   0.0s\n",
      "[CV] C=0.1, gamma=1e-05 ..............................................\n",
      "[CV] ............................... C=0.1, gamma=1e-05, total=   0.0s\n",
      "[CV] C=0.1, gamma=1e-05 ..............................................\n",
      "[CV] ............................... C=0.1, gamma=1e-05, total=   0.0s\n",
      "[CV] C=0.1, gamma=1e-05 ..............................................\n",
      "[CV] ............................... C=0.1, gamma=1e-05, total=   0.0s\n",
      "[CV] C=0.1, gamma=1e-06 ..............................................\n",
      "[CV] ............................... C=0.1, gamma=1e-06, total=   0.0s\n",
      "[CV] C=0.1, gamma=1e-06 ..............................................\n",
      "[CV] ............................... C=0.1, gamma=1e-06, total=   0.0s\n",
      "[CV] C=0.1, gamma=1e-06 ..............................................\n",
      "[CV] ............................... C=0.1, gamma=1e-06, total=   0.0s\n",
      "[CV] C=0.1, gamma=1e-06 ..............................................\n",
      "[CV] ............................... C=0.1, gamma=1e-06, total=   0.0s\n",
      "[CV] C=0.1, gamma=1e-06 ..............................................\n",
      "[CV] ............................... C=0.1, gamma=1e-06, total=   0.0s\n",
      "[CV] C=0.1, gamma=1e-07 ..............................................\n",
      "[CV] ............................... C=0.1, gamma=1e-07, total=   0.0s\n",
      "[CV] C=0.1, gamma=1e-07 ..............................................\n",
      "[CV] ............................... C=0.1, gamma=1e-07, total=   0.0s\n",
      "[CV] C=0.1, gamma=1e-07 ..............................................\n",
      "[CV] ............................... C=0.1, gamma=1e-07, total=   0.0s\n",
      "[CV] C=0.1, gamma=1e-07 ..............................................\n",
      "[CV] ............................... C=0.1, gamma=1e-07, total=   0.0s\n",
      "[CV] C=0.1, gamma=1e-07 ..............................................\n",
      "[CV] ............................... C=0.1, gamma=1e-07, total=   0.0s\n",
      "[CV] C=1, gamma=1 ....................................................\n",
      "[CV] ..................................... C=1, gamma=1, total=   0.0s\n",
      "[CV] C=1, gamma=1 ....................................................\n",
      "[CV] ..................................... C=1, gamma=1, total=   0.0s\n",
      "[CV] C=1, gamma=1 ....................................................\n",
      "[CV] ..................................... C=1, gamma=1, total=   0.0s\n",
      "[CV] C=1, gamma=1 ....................................................\n",
      "[CV] ..................................... C=1, gamma=1, total=   0.0s\n",
      "[CV] C=1, gamma=1 ....................................................\n",
      "[CV] ..................................... C=1, gamma=1, total=   0.0s\n",
      "[CV] C=1, gamma=0.1 ..................................................\n",
      "[CV] ................................... C=1, gamma=0.1, total=   0.0s\n",
      "[CV] C=1, gamma=0.1 ..................................................\n",
      "[CV] ................................... C=1, gamma=0.1, total=   0.0s\n",
      "[CV] C=1, gamma=0.1 ..................................................\n",
      "[CV] ................................... C=1, gamma=0.1, total=   0.0s\n",
      "[CV] C=1, gamma=0.1 ..................................................\n",
      "[CV] ................................... C=1, gamma=0.1, total=   0.0s\n",
      "[CV] C=1, gamma=0.1 ..................................................\n",
      "[CV] ................................... C=1, gamma=0.1, total=   0.0s\n",
      "[CV] C=1, gamma=0.001 ................................................\n",
      "[CV] ................................. C=1, gamma=0.001, total=   0.0s\n",
      "[CV] C=1, gamma=0.001 ................................................\n",
      "[CV] ................................. C=1, gamma=0.001, total=   0.0s\n",
      "[CV] C=1, gamma=0.001 ................................................\n",
      "[CV] ................................. C=1, gamma=0.001, total=   0.0s\n",
      "[CV] C=1, gamma=0.001 ................................................\n",
      "[CV] ................................. C=1, gamma=0.001, total=   0.0s\n",
      "[CV] C=1, gamma=0.001 ................................................\n",
      "[CV] ................................. C=1, gamma=0.001, total=   0.0s\n",
      "[CV] C=1, gamma=0.0001 ...............................................\n",
      "[CV] ................................ C=1, gamma=0.0001, total=   0.0s\n",
      "[CV] C=1, gamma=0.0001 ...............................................\n",
      "[CV] ................................ C=1, gamma=0.0001, total=   0.0s\n",
      "[CV] C=1, gamma=0.0001 ...............................................\n",
      "[CV] ................................ C=1, gamma=0.0001, total=   0.0s\n",
      "[CV] C=1, gamma=0.0001 ...............................................\n",
      "[CV] ................................ C=1, gamma=0.0001, total=   0.0s\n",
      "[CV] C=1, gamma=0.0001 ...............................................\n",
      "[CV] ................................ C=1, gamma=0.0001, total=   0.0s\n",
      "[CV] C=1, gamma=1e-05 ................................................\n",
      "[CV] ................................. C=1, gamma=1e-05, total=   0.0s\n",
      "[CV] C=1, gamma=1e-05 ................................................\n",
      "[CV] ................................. C=1, gamma=1e-05, total=   0.0s\n",
      "[CV] C=1, gamma=1e-05 ................................................\n",
      "[CV] ................................. C=1, gamma=1e-05, total=   0.0s\n",
      "[CV] C=1, gamma=1e-05 ................................................\n",
      "[CV] ................................. C=1, gamma=1e-05, total=   0.0s\n",
      "[CV] C=1, gamma=1e-05 ................................................\n",
      "[CV] ................................. C=1, gamma=1e-05, total=   0.0s\n",
      "[CV] C=1, gamma=1e-06 ................................................\n",
      "[CV] ................................. C=1, gamma=1e-06, total=   0.0s\n",
      "[CV] C=1, gamma=1e-06 ................................................\n",
      "[CV] ................................. C=1, gamma=1e-06, total=   0.0s\n",
      "[CV] C=1, gamma=1e-06 ................................................\n",
      "[CV] ................................. C=1, gamma=1e-06, total=   0.0s\n",
      "[CV] C=1, gamma=1e-06 ................................................\n",
      "[CV] ................................. C=1, gamma=1e-06, total=   0.0s\n",
      "[CV] C=1, gamma=1e-06 ................................................\n",
      "[CV] ................................. C=1, gamma=1e-06, total=   0.0s\n",
      "[CV] C=1, gamma=1e-07 ................................................\n",
      "[CV] ................................. C=1, gamma=1e-07, total=   0.0s\n",
      "[CV] C=1, gamma=1e-07 ................................................\n",
      "[CV] ................................. C=1, gamma=1e-07, total=   0.0s\n",
      "[CV] C=1, gamma=1e-07 ................................................\n",
      "[CV] ................................. C=1, gamma=1e-07, total=   0.0s\n",
      "[CV] C=1, gamma=1e-07 ................................................\n",
      "[CV] ................................. C=1, gamma=1e-07, total=   0.0s\n",
      "[CV] C=1, gamma=1e-07 ................................................\n",
      "[CV] ................................. C=1, gamma=1e-07, total=   0.0s\n",
      "[CV] C=10, gamma=1 ...................................................\n",
      "[CV] .................................... C=10, gamma=1, total=   0.0s\n",
      "[CV] C=10, gamma=1 ...................................................\n",
      "[CV] .................................... C=10, gamma=1, total=   0.0s\n",
      "[CV] C=10, gamma=1 ...................................................\n",
      "[CV] .................................... C=10, gamma=1, total=   0.0s\n",
      "[CV] C=10, gamma=1 ...................................................\n",
      "[CV] .................................... C=10, gamma=1, total=   0.0s\n",
      "[CV] C=10, gamma=1 ...................................................\n",
      "[CV] .................................... C=10, gamma=1, total=   0.0s\n",
      "[CV] C=10, gamma=0.1 .................................................\n",
      "[CV] .................................. C=10, gamma=0.1, total=   0.0s\n",
      "[CV] C=10, gamma=0.1 .................................................\n",
      "[CV] .................................. C=10, gamma=0.1, total=   0.0s\n",
      "[CV] C=10, gamma=0.1 .................................................\n",
      "[CV] .................................. C=10, gamma=0.1, total=   0.0s\n",
      "[CV] C=10, gamma=0.1 .................................................\n",
      "[CV] .................................. C=10, gamma=0.1, total=   0.0s\n",
      "[CV] C=10, gamma=0.1 .................................................\n",
      "[CV] .................................. C=10, gamma=0.1, total=   0.0s\n",
      "[CV] C=10, gamma=0.001 ...............................................\n",
      "[CV] ................................ C=10, gamma=0.001, total=   0.0s\n",
      "[CV] C=10, gamma=0.001 ...............................................\n",
      "[CV] ................................ C=10, gamma=0.001, total=   0.0s\n",
      "[CV] C=10, gamma=0.001 ...............................................\n",
      "[CV] ................................ C=10, gamma=0.001, total=   0.0s\n",
      "[CV] C=10, gamma=0.001 ...............................................\n",
      "[CV] ................................ C=10, gamma=0.001, total=   0.0s\n",
      "[CV] C=10, gamma=0.001 ...............................................\n",
      "[CV] ................................ C=10, gamma=0.001, total=   0.0s\n",
      "[CV] C=10, gamma=0.0001 ..............................................\n",
      "[CV] ............................... C=10, gamma=0.0001, total=   0.0s\n",
      "[CV] C=10, gamma=0.0001 ..............................................\n",
      "[CV] ............................... C=10, gamma=0.0001, total=   0.0s\n",
      "[CV] C=10, gamma=0.0001 ..............................................\n",
      "[CV] ............................... C=10, gamma=0.0001, total=   0.0s\n",
      "[CV] C=10, gamma=0.0001 ..............................................\n",
      "[CV] ............................... C=10, gamma=0.0001, total=   0.0s\n",
      "[CV] C=10, gamma=0.0001 ..............................................\n",
      "[CV] ............................... C=10, gamma=0.0001, total=   0.0s\n",
      "[CV] C=10, gamma=1e-05 ...............................................\n",
      "[CV] ................................ C=10, gamma=1e-05, total=   0.0s\n",
      "[CV] C=10, gamma=1e-05 ...............................................\n",
      "[CV] ................................ C=10, gamma=1e-05, total=   0.0s\n",
      "[CV] C=10, gamma=1e-05 ...............................................\n",
      "[CV] ................................ C=10, gamma=1e-05, total=   0.0s\n",
      "[CV] C=10, gamma=1e-05 ...............................................\n",
      "[CV] ................................ C=10, gamma=1e-05, total=   0.0s\n",
      "[CV] C=10, gamma=1e-05 ...............................................\n",
      "[CV] ................................ C=10, gamma=1e-05, total=   0.0s\n",
      "[CV] C=10, gamma=1e-06 ...............................................\n",
      "[CV] ................................ C=10, gamma=1e-06, total=   0.0s\n",
      "[CV] C=10, gamma=1e-06 ...............................................\n",
      "[CV] ................................ C=10, gamma=1e-06, total=   0.0s\n",
      "[CV] C=10, gamma=1e-06 ...............................................\n",
      "[CV] ................................ C=10, gamma=1e-06, total=   0.0s\n",
      "[CV] C=10, gamma=1e-06 ...............................................\n",
      "[CV] ................................ C=10, gamma=1e-06, total=   0.0s\n",
      "[CV] C=10, gamma=1e-06 ...............................................\n",
      "[CV] ................................ C=10, gamma=1e-06, total=   0.0s\n",
      "[CV] C=10, gamma=1e-07 ...............................................\n",
      "[CV] ................................ C=10, gamma=1e-07, total=   0.0s\n",
      "[CV] C=10, gamma=1e-07 ...............................................\n",
      "[CV] ................................ C=10, gamma=1e-07, total=   0.0s\n",
      "[CV] C=10, gamma=1e-07 ...............................................\n",
      "[CV] ................................ C=10, gamma=1e-07, total=   0.0s\n",
      "[CV] C=10, gamma=1e-07 ...............................................\n",
      "[CV] ................................ C=10, gamma=1e-07, total=   0.0s\n",
      "[CV] C=10, gamma=1e-07 ...............................................\n",
      "[CV] ................................ C=10, gamma=1e-07, total=   0.0s\n",
      "[CV] C=100, gamma=1 ..................................................\n",
      "[CV] ................................... C=100, gamma=1, total=   0.0s\n",
      "[CV] C=100, gamma=1 ..................................................\n",
      "[CV] ................................... C=100, gamma=1, total=   0.0s\n",
      "[CV] C=100, gamma=1 ..................................................\n",
      "[CV] ................................... C=100, gamma=1, total=   0.0s\n",
      "[CV] C=100, gamma=1 ..................................................\n",
      "[CV] ................................... C=100, gamma=1, total=   0.0s\n",
      "[CV] C=100, gamma=1 ..................................................\n",
      "[CV] ................................... C=100, gamma=1, total=   0.0s\n",
      "[CV] C=100, gamma=0.1 ................................................\n",
      "[CV] ................................. C=100, gamma=0.1, total=   0.0s\n",
      "[CV] C=100, gamma=0.1 ................................................\n",
      "[CV] ................................. C=100, gamma=0.1, total=   0.0s\n",
      "[CV] C=100, gamma=0.1 ................................................\n",
      "[CV] ................................. C=100, gamma=0.1, total=   0.0s\n",
      "[CV] C=100, gamma=0.1 ................................................\n",
      "[CV] ................................. C=100, gamma=0.1, total=   0.0s\n",
      "[CV] C=100, gamma=0.1 ................................................\n",
      "[CV] ................................. C=100, gamma=0.1, total=   0.0s\n",
      "[CV] C=100, gamma=0.001 ..............................................\n",
      "[CV] ............................... C=100, gamma=0.001, total=   0.0s\n",
      "[CV] C=100, gamma=0.001 ..............................................\n",
      "[CV] ............................... C=100, gamma=0.001, total=   0.0s\n",
      "[CV] C=100, gamma=0.001 ..............................................\n",
      "[CV] ............................... C=100, gamma=0.001, total=   0.0s\n",
      "[CV] C=100, gamma=0.001 ..............................................\n",
      "[CV] ............................... C=100, gamma=0.001, total=   0.0s\n",
      "[CV] C=100, gamma=0.001 ..............................................\n",
      "[CV] ............................... C=100, gamma=0.001, total=   0.0s\n",
      "[CV] C=100, gamma=0.0001 .............................................\n",
      "[CV] .............................. C=100, gamma=0.0001, total=   0.0s\n",
      "[CV] C=100, gamma=0.0001 .............................................\n",
      "[CV] .............................. C=100, gamma=0.0001, total=   0.0s\n",
      "[CV] C=100, gamma=0.0001 .............................................\n",
      "[CV] .............................. C=100, gamma=0.0001, total=   0.0s\n",
      "[CV] C=100, gamma=0.0001 .............................................\n",
      "[CV] .............................. C=100, gamma=0.0001, total=   0.0s\n",
      "[CV] C=100, gamma=0.0001 .............................................\n",
      "[CV] .............................. C=100, gamma=0.0001, total=   0.0s\n",
      "[CV] C=100, gamma=1e-05 ..............................................\n",
      "[CV] ............................... C=100, gamma=1e-05, total=   0.0s\n",
      "[CV] C=100, gamma=1e-05 ..............................................\n",
      "[CV] ............................... C=100, gamma=1e-05, total=   0.0s\n",
      "[CV] C=100, gamma=1e-05 ..............................................\n",
      "[CV] ............................... C=100, gamma=1e-05, total=   0.0s\n",
      "[CV] C=100, gamma=1e-05 ..............................................\n",
      "[CV] ............................... C=100, gamma=1e-05, total=   0.0s\n",
      "[CV] C=100, gamma=1e-05 ..............................................\n",
      "[CV] ............................... C=100, gamma=1e-05, total=   0.0s\n",
      "[CV] C=100, gamma=1e-06 ..............................................\n",
      "[CV] ............................... C=100, gamma=1e-06, total=   0.0s\n",
      "[CV] C=100, gamma=1e-06 ..............................................\n",
      "[CV] ............................... C=100, gamma=1e-06, total=   0.0s\n",
      "[CV] C=100, gamma=1e-06 ..............................................\n",
      "[CV] ............................... C=100, gamma=1e-06, total=   0.0s\n",
      "[CV] C=100, gamma=1e-06 ..............................................\n",
      "[CV] ............................... C=100, gamma=1e-06, total=   0.0s\n",
      "[CV] C=100, gamma=1e-06 ..............................................\n",
      "[CV] ............................... C=100, gamma=1e-06, total=   0.0s\n",
      "[CV] C=100, gamma=1e-07 ..............................................\n",
      "[CV] ............................... C=100, gamma=1e-07, total=   0.0s\n",
      "[CV] C=100, gamma=1e-07 ..............................................\n",
      "[CV] ............................... C=100, gamma=1e-07, total=   0.0s\n",
      "[CV] C=100, gamma=1e-07 ..............................................\n",
      "[CV] ............................... C=100, gamma=1e-07, total=   0.0s\n",
      "[CV] C=100, gamma=1e-07 ..............................................\n",
      "[CV] ............................... C=100, gamma=1e-07, total=   0.0s\n",
      "[CV] C=100, gamma=1e-07 ..............................................\n",
      "[CV] ............................... C=100, gamma=1e-07, total=   0.0s\n",
      "[CV] C=1000, gamma=1 .................................................\n",
      "[CV] .................................. C=1000, gamma=1, total=   0.0s\n",
      "[CV] C=1000, gamma=1 .................................................\n",
      "[CV] .................................. C=1000, gamma=1, total=   0.0s\n",
      "[CV] C=1000, gamma=1 .................................................\n",
      "[CV] .................................. C=1000, gamma=1, total=   0.0s\n",
      "[CV] C=1000, gamma=1 .................................................\n",
      "[CV] .................................. C=1000, gamma=1, total=   0.0s\n",
      "[CV] C=1000, gamma=1 .................................................\n",
      "[CV] .................................. C=1000, gamma=1, total=   0.0s\n",
      "[CV] C=1000, gamma=0.1 ...............................................\n",
      "[CV] ................................ C=1000, gamma=0.1, total=   0.0s\n",
      "[CV] C=1000, gamma=0.1 ...............................................\n",
      "[CV] ................................ C=1000, gamma=0.1, total=   0.0s\n",
      "[CV] C=1000, gamma=0.1 ...............................................\n",
      "[CV] ................................ C=1000, gamma=0.1, total=   0.0s\n",
      "[CV] C=1000, gamma=0.1 ...............................................\n",
      "[CV] ................................ C=1000, gamma=0.1, total=   0.0s\n",
      "[CV] C=1000, gamma=0.1 ...............................................\n",
      "[CV] ................................ C=1000, gamma=0.1, total=   0.0s\n",
      "[CV] C=1000, gamma=0.001 .............................................\n",
      "[CV] .............................. C=1000, gamma=0.001, total=   0.0s\n",
      "[CV] C=1000, gamma=0.001 .............................................\n",
      "[CV] .............................. C=1000, gamma=0.001, total=   0.0s\n",
      "[CV] C=1000, gamma=0.001 .............................................\n",
      "[CV] .............................. C=1000, gamma=0.001, total=   0.0s\n",
      "[CV] C=1000, gamma=0.001 .............................................\n",
      "[CV] .............................. C=1000, gamma=0.001, total=   0.0s\n",
      "[CV] C=1000, gamma=0.001 .............................................\n",
      "[CV] .............................. C=1000, gamma=0.001, total=   0.0s\n",
      "[CV] C=1000, gamma=0.0001 ............................................\n",
      "[CV] ............................. C=1000, gamma=0.0001, total=   0.0s\n",
      "[CV] C=1000, gamma=0.0001 ............................................\n",
      "[CV] ............................. C=1000, gamma=0.0001, total=   0.0s\n",
      "[CV] C=1000, gamma=0.0001 ............................................\n",
      "[CV] ............................. C=1000, gamma=0.0001, total=   0.0s\n",
      "[CV] C=1000, gamma=0.0001 ............................................\n",
      "[CV] ............................. C=1000, gamma=0.0001, total=   0.0s\n",
      "[CV] C=1000, gamma=0.0001 ............................................\n",
      "[CV] ............................. C=1000, gamma=0.0001, total=   0.0s\n",
      "[CV] C=1000, gamma=1e-05 .............................................\n",
      "[CV] .............................. C=1000, gamma=1e-05, total=   0.0s\n",
      "[CV] C=1000, gamma=1e-05 .............................................\n",
      "[CV] .............................. C=1000, gamma=1e-05, total=   0.0s\n",
      "[CV] C=1000, gamma=1e-05 .............................................\n",
      "[CV] .............................. C=1000, gamma=1e-05, total=   0.0s\n",
      "[CV] C=1000, gamma=1e-05 .............................................\n",
      "[CV] .............................. C=1000, gamma=1e-05, total=   0.0s\n",
      "[CV] C=1000, gamma=1e-05 .............................................\n",
      "[CV] .............................. C=1000, gamma=1e-05, total=   0.0s\n",
      "[CV] C=1000, gamma=1e-06 .............................................\n",
      "[CV] .............................. C=1000, gamma=1e-06, total=   0.0s\n",
      "[CV] C=1000, gamma=1e-06 .............................................\n",
      "[CV] .............................. C=1000, gamma=1e-06, total=   0.0s\n",
      "[CV] C=1000, gamma=1e-06 .............................................\n",
      "[CV] .............................. C=1000, gamma=1e-06, total=   0.0s\n",
      "[CV] C=1000, gamma=1e-06 .............................................\n",
      "[CV] .............................. C=1000, gamma=1e-06, total=   0.0s\n",
      "[CV] C=1000, gamma=1e-06 .............................................\n",
      "[CV] .............................. C=1000, gamma=1e-06, total=   0.0s\n",
      "[CV] C=1000, gamma=1e-07 .............................................\n",
      "[CV] .............................. C=1000, gamma=1e-07, total=   0.0s\n",
      "[CV] C=1000, gamma=1e-07 .............................................\n",
      "[CV] .............................. C=1000, gamma=1e-07, total=   0.0s\n",
      "[CV] C=1000, gamma=1e-07 .............................................\n",
      "[CV] .............................. C=1000, gamma=1e-07, total=   0.0s\n",
      "[CV] C=1000, gamma=1e-07 .............................................\n",
      "[CV] .............................. C=1000, gamma=1e-07, total=   0.0s\n",
      "[CV] C=1000, gamma=1e-07 .............................................\n",
      "[CV] .............................. C=1000, gamma=1e-07, total=   0.0s\n",
      "[CV] C=10000, gamma=1 ................................................\n",
      "[CV] ................................. C=10000, gamma=1, total=   0.0s\n",
      "[CV] C=10000, gamma=1 ................................................\n",
      "[CV] ................................. C=10000, gamma=1, total=   0.0s\n",
      "[CV] C=10000, gamma=1 ................................................\n",
      "[CV] ................................. C=10000, gamma=1, total=   0.0s\n",
      "[CV] C=10000, gamma=1 ................................................\n",
      "[CV] ................................. C=10000, gamma=1, total=   0.0s\n",
      "[CV] C=10000, gamma=1 ................................................\n",
      "[CV] ................................. C=10000, gamma=1, total=   0.0s\n",
      "[CV] C=10000, gamma=0.1 ..............................................\n",
      "[CV] ............................... C=10000, gamma=0.1, total=   0.0s\n",
      "[CV] C=10000, gamma=0.1 ..............................................\n",
      "[CV] ............................... C=10000, gamma=0.1, total=   0.0s\n",
      "[CV] C=10000, gamma=0.1 ..............................................\n",
      "[CV] ............................... C=10000, gamma=0.1, total=   0.0s\n",
      "[CV] C=10000, gamma=0.1 ..............................................\n",
      "[CV] ............................... C=10000, gamma=0.1, total=   0.0s\n",
      "[CV] C=10000, gamma=0.1 ..............................................\n",
      "[CV] ............................... C=10000, gamma=0.1, total=   0.0s\n",
      "[CV] C=10000, gamma=0.001 ............................................\n",
      "[CV] ............................. C=10000, gamma=0.001, total=   0.0s\n",
      "[CV] C=10000, gamma=0.001 ............................................\n",
      "[CV] ............................. C=10000, gamma=0.001, total=   0.0s\n",
      "[CV] C=10000, gamma=0.001 ............................................\n",
      "[CV] ............................. C=10000, gamma=0.001, total=   0.0s\n",
      "[CV] C=10000, gamma=0.001 ............................................\n",
      "[CV] ............................. C=10000, gamma=0.001, total=   0.0s\n",
      "[CV] C=10000, gamma=0.001 ............................................\n",
      "[CV] ............................. C=10000, gamma=0.001, total=   0.0s\n",
      "[CV] C=10000, gamma=0.0001 ...........................................\n",
      "[CV] ............................ C=10000, gamma=0.0001, total=   0.0s\n",
      "[CV] C=10000, gamma=0.0001 ...........................................\n",
      "[CV] ............................ C=10000, gamma=0.0001, total=   0.0s\n",
      "[CV] C=10000, gamma=0.0001 ...........................................\n",
      "[CV] ............................ C=10000, gamma=0.0001, total=   0.0s\n",
      "[CV] C=10000, gamma=0.0001 ...........................................\n",
      "[CV] ............................ C=10000, gamma=0.0001, total=   0.0s\n",
      "[CV] C=10000, gamma=0.0001 ...........................................\n",
      "[CV] ............................ C=10000, gamma=0.0001, total=   0.0s\n",
      "[CV] C=10000, gamma=1e-05 ............................................\n",
      "[CV] ............................. C=10000, gamma=1e-05, total=   0.0s\n",
      "[CV] C=10000, gamma=1e-05 ............................................\n",
      "[CV] ............................. C=10000, gamma=1e-05, total=   0.0s\n",
      "[CV] C=10000, gamma=1e-05 ............................................\n",
      "[CV] ............................. C=10000, gamma=1e-05, total=   0.0s\n",
      "[CV] C=10000, gamma=1e-05 ............................................\n",
      "[CV] ............................. C=10000, gamma=1e-05, total=   0.0s\n",
      "[CV] C=10000, gamma=1e-05 ............................................\n",
      "[CV] ............................. C=10000, gamma=1e-05, total=   0.0s\n",
      "[CV] C=10000, gamma=1e-06 ............................................\n",
      "[CV] ............................. C=10000, gamma=1e-06, total=   0.0s\n",
      "[CV] C=10000, gamma=1e-06 ............................................\n",
      "[CV] ............................. C=10000, gamma=1e-06, total=   0.0s\n",
      "[CV] C=10000, gamma=1e-06 ............................................\n",
      "[CV] ............................. C=10000, gamma=1e-06, total=   0.0s\n",
      "[CV] C=10000, gamma=1e-06 ............................................\n",
      "[CV] ............................. C=10000, gamma=1e-06, total=   0.0s\n",
      "[CV] C=10000, gamma=1e-06 ............................................\n",
      "[CV] ............................. C=10000, gamma=1e-06, total=   0.0s\n",
      "[CV] C=10000, gamma=1e-07 ............................................\n",
      "[CV] ............................. C=10000, gamma=1e-07, total=   0.0s\n",
      "[CV] C=10000, gamma=1e-07 ............................................\n",
      "[CV] ............................. C=10000, gamma=1e-07, total=   0.0s\n",
      "[CV] C=10000, gamma=1e-07 ............................................\n",
      "[CV] ............................. C=10000, gamma=1e-07, total=   0.0s\n",
      "[CV] C=10000, gamma=1e-07 ............................................\n",
      "[CV] ............................. C=10000, gamma=1e-07, total=   0.0s\n",
      "[CV] C=10000, gamma=1e-07 ............................................\n",
      "[CV] ............................. C=10000, gamma=1e-07, total=   0.0s\n",
      "[CV] C=100000, gamma=1 ...............................................\n",
      "[CV] ................................ C=100000, gamma=1, total=   0.0s\n",
      "[CV] C=100000, gamma=1 ...............................................\n",
      "[CV] ................................ C=100000, gamma=1, total=   0.0s\n",
      "[CV] C=100000, gamma=1 ...............................................\n",
      "[CV] ................................ C=100000, gamma=1, total=   0.0s\n",
      "[CV] C=100000, gamma=1 ...............................................\n",
      "[CV] ................................ C=100000, gamma=1, total=   0.0s\n",
      "[CV] C=100000, gamma=1 ...............................................\n",
      "[CV] ................................ C=100000, gamma=1, total=   0.0s\n",
      "[CV] C=100000, gamma=0.1 .............................................\n",
      "[CV] .............................. C=100000, gamma=0.1, total=   0.0s\n",
      "[CV] C=100000, gamma=0.1 .............................................\n",
      "[CV] .............................. C=100000, gamma=0.1, total=   0.0s\n",
      "[CV] C=100000, gamma=0.1 .............................................\n",
      "[CV] .............................. C=100000, gamma=0.1, total=   0.0s\n",
      "[CV] C=100000, gamma=0.1 .............................................\n",
      "[CV] .............................. C=100000, gamma=0.1, total=   0.0s\n",
      "[CV] C=100000, gamma=0.1 .............................................\n",
      "[CV] .............................. C=100000, gamma=0.1, total=   0.0s\n",
      "[CV] C=100000, gamma=0.001 ...........................................\n",
      "[CV] ............................ C=100000, gamma=0.001, total=   0.0s\n",
      "[CV] C=100000, gamma=0.001 ...........................................\n",
      "[CV] ............................ C=100000, gamma=0.001, total=   0.0s\n",
      "[CV] C=100000, gamma=0.001 ...........................................\n",
      "[CV] ............................ C=100000, gamma=0.001, total=   0.0s\n",
      "[CV] C=100000, gamma=0.001 ...........................................\n",
      "[CV] ............................ C=100000, gamma=0.001, total=   0.0s\n",
      "[CV] C=100000, gamma=0.001 ...........................................\n",
      "[CV] ............................ C=100000, gamma=0.001, total=   0.0s\n",
      "[CV] C=100000, gamma=0.0001 ..........................................\n",
      "[CV] ........................... C=100000, gamma=0.0001, total=   0.0s\n",
      "[CV] C=100000, gamma=0.0001 ..........................................\n",
      "[CV] ........................... C=100000, gamma=0.0001, total=   0.0s\n",
      "[CV] C=100000, gamma=0.0001 ..........................................\n",
      "[CV] ........................... C=100000, gamma=0.0001, total=   0.0s\n",
      "[CV] C=100000, gamma=0.0001 ..........................................\n",
      "[CV] ........................... C=100000, gamma=0.0001, total=   0.0s\n",
      "[CV] C=100000, gamma=0.0001 ..........................................\n",
      "[CV] ........................... C=100000, gamma=0.0001, total=   0.0s\n",
      "[CV] C=100000, gamma=1e-05 ...........................................\n",
      "[CV] ............................ C=100000, gamma=1e-05, total=   0.0s\n",
      "[CV] C=100000, gamma=1e-05 ...........................................\n",
      "[CV] ............................ C=100000, gamma=1e-05, total=   0.0s\n",
      "[CV] C=100000, gamma=1e-05 ...........................................\n",
      "[CV] ............................ C=100000, gamma=1e-05, total=   0.0s\n",
      "[CV] C=100000, gamma=1e-05 ...........................................\n",
      "[CV] ............................ C=100000, gamma=1e-05, total=   0.0s\n",
      "[CV] C=100000, gamma=1e-05 ...........................................\n",
      "[CV] ............................ C=100000, gamma=1e-05, total=   0.0s\n",
      "[CV] C=100000, gamma=1e-06 ...........................................\n",
      "[CV] ............................ C=100000, gamma=1e-06, total=   0.0s\n",
      "[CV] C=100000, gamma=1e-06 ...........................................\n",
      "[CV] ............................ C=100000, gamma=1e-06, total=   0.0s\n",
      "[CV] C=100000, gamma=1e-06 ...........................................\n",
      "[CV] ............................ C=100000, gamma=1e-06, total=   0.0s\n",
      "[CV] C=100000, gamma=1e-06 ...........................................\n",
      "[CV] ............................ C=100000, gamma=1e-06, total=   0.0s\n",
      "[CV] C=100000, gamma=1e-06 ...........................................\n",
      "[CV] ............................ C=100000, gamma=1e-06, total=   0.1s\n",
      "[CV] C=100000, gamma=1e-07 ...........................................\n",
      "[CV] ............................ C=100000, gamma=1e-07, total=   0.0s\n",
      "[CV] C=100000, gamma=1e-07 ...........................................\n",
      "[CV] ............................ C=100000, gamma=1e-07, total=   0.0s\n",
      "[CV] C=100000, gamma=1e-07 ...........................................\n",
      "[CV] ............................ C=100000, gamma=1e-07, total=   0.0s\n",
      "[CV] C=100000, gamma=1e-07 ...........................................\n",
      "[CV] ............................ C=100000, gamma=1e-07, total=   0.0s\n",
      "[CV] C=100000, gamma=1e-07 ...........................................\n",
      "[CV] ............................ C=100000, gamma=1e-07, total=   0.0s\n"
     ]
    },
    {
     "name": "stderr",
     "output_type": "stream",
     "text": [
      "[Parallel(n_jobs=1)]: Done 245 out of 245 | elapsed:    7.4s finished\n"
     ]
    },
    {
     "data": {
      "text/plain": [
       "GridSearchCV(cv=5, error_score='raise',\n",
       "       estimator=SVC(C=1.0, cache_size=200, class_weight=None, coef0=0.0,\n",
       "  decision_function_shape='ovr', degree=3, gamma='auto', kernel='rbf',\n",
       "  max_iter=-1, probability=False, random_state=None, shrinking=True,\n",
       "  tol=0.001, verbose=False),\n",
       "       fit_params=None, iid=True, n_jobs=1,\n",
       "       param_grid={'C': [0.1, 1, 10, 100, 1000, 10000, 100000], 'gamma': [1, 0.1, 0.001, 0.0001, 1e-05, 1e-06, 1e-07]},\n",
       "       pre_dispatch='2*n_jobs', refit=True, return_train_score='warn',\n",
       "       scoring='f1', verbose=2)"
      ]
     },
     "execution_count": 69,
     "metadata": {},
     "output_type": "execute_result"
    }
   ],
   "source": [
    "svm_gs.fit(X_train, np.ravel(y_train))"
   ]
  },
  {
   "cell_type": "code",
   "execution_count": 70,
   "metadata": {},
   "outputs": [],
   "source": [
    "gs_predictions = svm_gs.predict(X_test)"
   ]
  },
  {
   "cell_type": "code",
   "execution_count": 72,
   "metadata": {},
   "outputs": [
    {
     "name": "stdout",
     "output_type": "stream",
     "text": [
      "             precision    recall  f1-score   support\n",
      "\n",
      "          0       0.98      0.93      0.95        54\n",
      "          1       0.96      0.99      0.97        89\n",
      "\n",
      "avg / total       0.97      0.97      0.96       143\n",
      "\n"
     ]
    }
   ],
   "source": [
    "print(classification_report(y_test, gs_predictions))"
   ]
  },
  {
   "cell_type": "code",
   "execution_count": 73,
   "metadata": {},
   "outputs": [
    {
     "data": {
      "text/plain": [
       "{'C': 100000, 'gamma': 1e-07}"
      ]
     },
     "execution_count": 73,
     "metadata": {},
     "output_type": "execute_result"
    }
   ],
   "source": [
    "svm_gs.best_params_"
   ]
  },
  {
   "cell_type": "code",
   "execution_count": 74,
   "metadata": {},
   "outputs": [],
   "source": [
    "lin_svm = SVC(kernel='linear')"
   ]
  },
  {
   "cell_type": "code",
   "execution_count": 78,
   "metadata": {},
   "outputs": [],
   "source": [
    "linsvm_gs = GridSearchCV(lin_svm, param_grid={'C':[0.1,1,10,100,1000,10000]},\n",
    "                        cv=5, scoring='f1', verbose=3)"
   ]
  },
  {
   "cell_type": "code",
   "execution_count": 79,
   "metadata": {},
   "outputs": [
    {
     "name": "stdout",
     "output_type": "stream",
     "text": [
      "Fitting 5 folds for each of 6 candidates, totalling 30 fits\n",
      "[CV] C=0.1 ...........................................................\n",
      "[CV] .................. C=0.1, score=0.9629629629629629, total=   0.4s\n",
      "[CV] C=0.1 ...........................................................\n",
      "[CV] .................. C=0.1, score=0.9454545454545454, total=   0.0s\n",
      "[CV] C=0.1 ...........................................................\n"
     ]
    },
    {
     "name": "stderr",
     "output_type": "stream",
     "text": [
      "[Parallel(n_jobs=1)]: Done   1 out of   1 | elapsed:    0.4s remaining:    0.0s\n",
      "[Parallel(n_jobs=1)]: Done   2 out of   2 | elapsed:    0.5s remaining:    0.0s\n"
     ]
    },
    {
     "name": "stdout",
     "output_type": "stream",
     "text": [
      "[CV] .................. C=0.1, score=0.9906542056074767, total=   0.1s\n",
      "[CV] C=0.1 ...........................................................\n",
      "[CV] .................. C=0.1, score=0.9464285714285715, total=   0.0s\n",
      "[CV] C=0.1 ...........................................................\n",
      "[CV] .................. C=0.1, score=0.9345794392523364, total=   0.0s\n",
      "[CV] C=1 .............................................................\n",
      "[CV] .................... C=1, score=0.9719626168224299, total=   1.8s\n",
      "[CV] C=1 .............................................................\n",
      "[CV] .................... C=1, score=0.9464285714285714, total=   2.0s\n",
      "[CV] C=1 .............................................................\n",
      "[CV] .................... C=1, score=0.9814814814814815, total=   1.6s\n",
      "[CV] C=1 .............................................................\n",
      "[CV] .................... C=1, score=0.9724770642201834, total=   2.5s\n",
      "[CV] C=1 .............................................................\n",
      "[CV] .................... C=1, score=0.9345794392523364, total=   0.7s\n",
      "[CV] C=10 ............................................................\n",
      "[CV] ................... C=10, score=0.9719626168224299, total=   3.3s\n",
      "[CV] C=10 ............................................................\n",
      "[CV] .................... C=10, score=0.972972972972973, total=   4.5s\n",
      "[CV] C=10 ............................................................\n",
      "[CV] ................... C=10, score=0.9814814814814815, total=   5.1s\n",
      "[CV] C=10 ............................................................\n",
      "[CV] ................... C=10, score=0.9906542056074767, total=   3.5s\n",
      "[CV] C=10 ............................................................\n",
      "[CV] ................... C=10, score=0.9423076923076923, total=   1.4s\n",
      "[CV] C=100 ...........................................................\n",
      "[CV] .................. C=100, score=0.9814814814814815, total=   3.7s\n",
      "[CV] C=100 ...........................................................\n",
      "[CV] .................. C=100, score=0.9642857142857143, total=   9.7s\n",
      "[CV] C=100 ...........................................................\n",
      "[CV] .................. C=100, score=0.9814814814814815, total=   5.0s\n",
      "[CV] C=100 ...........................................................\n",
      "[CV] .................. C=100, score=0.9724770642201834, total=   8.2s\n",
      "[CV] C=100 ...........................................................\n",
      "[CV] ................... C=100, score=0.923076923076923, total=  14.7s\n",
      "[CV] C=1000 ..........................................................\n",
      "[CV] ................. C=1000, score=0.9814814814814815, total=  11.8s\n",
      "[CV] C=1000 ..........................................................\n",
      "[CV] .................. C=1000, score=0.972972972972973, total=  10.6s\n",
      "[CV] C=1000 ..........................................................\n",
      "[CV] ................. C=1000, score=0.9622641509433962, total=  20.0s\n",
      "[CV] C=1000 ..........................................................\n",
      "[CV] ................. C=1000, score=0.9724770642201834, total=  12.7s\n",
      "[CV] C=1000 ..........................................................\n",
      "[CV] ................. C=1000, score=0.9333333333333333, total=   9.7s\n",
      "[CV] C=10000 .........................................................\n",
      "[CV] ................ C=10000, score=0.9814814814814815, total=   9.5s\n",
      "[CV] C=10000 .........................................................\n",
      "[CV] ................. C=10000, score=0.972972972972973, total=  13.7s\n",
      "[CV] C=10000 .........................................................\n",
      "[CV] ................ C=10000, score=0.9908256880733944, total=  10.8s\n",
      "[CV] C=10000 .........................................................\n",
      "[CV] ................ C=10000, score=0.9724770642201834, total=  11.8s\n",
      "[CV] C=10000 .........................................................\n",
      "[CV] ................ C=10000, score=0.9333333333333333, total=  17.6s\n"
     ]
    },
    {
     "name": "stderr",
     "output_type": "stream",
     "text": [
      "[Parallel(n_jobs=1)]: Done  30 out of  30 | elapsed:  3.3min finished\n"
     ]
    },
    {
     "data": {
      "text/plain": [
       "GridSearchCV(cv=5, error_score='raise',\n",
       "       estimator=SVC(C=1.0, cache_size=200, class_weight=None, coef0=0.0,\n",
       "  decision_function_shape='ovr', degree=3, gamma='auto', kernel='linear',\n",
       "  max_iter=-1, probability=False, random_state=None, shrinking=True,\n",
       "  tol=0.001, verbose=False),\n",
       "       fit_params=None, iid=True, n_jobs=1,\n",
       "       param_grid={'C': [0.1, 1, 10, 100, 1000, 10000]},\n",
       "       pre_dispatch='2*n_jobs', refit=True, return_train_score='warn',\n",
       "       scoring='f1', verbose=3)"
      ]
     },
     "execution_count": 79,
     "metadata": {},
     "output_type": "execute_result"
    }
   ],
   "source": [
    "linsvm_gs.fit(X_train, y_train['malignant'])"
   ]
  },
  {
   "cell_type": "code",
   "execution_count": 81,
   "metadata": {},
   "outputs": [],
   "source": [
    "lin_predictions = linsvm_gs.predict(X_test)"
   ]
  },
  {
   "cell_type": "code",
   "execution_count": 82,
   "metadata": {},
   "outputs": [
    {
     "name": "stdout",
     "output_type": "stream",
     "text": [
      "             precision    recall  f1-score   support\n",
      "\n",
      "          0       0.95      0.96      0.95        54\n",
      "          1       0.98      0.97      0.97        89\n",
      "\n",
      "avg / total       0.97      0.97      0.97       143\n",
      "\n"
     ]
    }
   ],
   "source": [
    "print(classification_report(y_test, lin_predictions))"
   ]
  },
  {
   "cell_type": "code",
   "execution_count": 83,
   "metadata": {},
   "outputs": [
    {
     "data": {
      "text/plain": [
       "{'C': 10}"
      ]
     },
     "execution_count": 83,
     "metadata": {},
     "output_type": "execute_result"
    }
   ],
   "source": [
    "linsvm_gs.best_params_"
   ]
  },
  {
   "cell_type": "code",
   "execution_count": 84,
   "metadata": {},
   "outputs": [],
   "source": [
    "from sklearn.linear_model import LogisticRegression"
   ]
  },
  {
   "cell_type": "code",
   "execution_count": 86,
   "metadata": {},
   "outputs": [],
   "source": [
    "lr_gs = GridSearchCV(LogisticRegression(), \n",
    "                     param_grid={'C':[0.1,1,10,100,1000,10000]},\n",
    "                     cv=5, scoring='f1', verbose=3)"
   ]
  },
  {
   "cell_type": "code",
   "execution_count": 88,
   "metadata": {},
   "outputs": [
    {
     "name": "stdout",
     "output_type": "stream",
     "text": [
      "Fitting 5 folds for each of 6 candidates, totalling 30 fits\n",
      "[CV] C=0.1 ...........................................................\n",
      "[CV] .................. C=0.1, score=0.9724770642201834, total=   0.0s\n",
      "[CV] C=0.1 ...........................................................\n",
      "[CV] .................. C=0.1, score=0.9272727272727271, total=   0.0s\n",
      "[CV] C=0.1 ...........................................................\n",
      "[CV] .................. C=0.1, score=0.9541284403669724, total=   0.0s\n",
      "[CV] C=0.1 ...........................................................\n",
      "[CV] .................. C=0.1, score=0.9380530973451328, total=   0.0s\n",
      "[CV] C=0.1 ...........................................................\n",
      "[CV] .................. C=0.1, score=0.9333333333333333, total=   0.0s\n",
      "[CV] C=1 .............................................................\n",
      "[CV] .................... C=1, score=0.9814814814814815, total=   0.0s\n",
      "[CV] C=1 .............................................................\n",
      "[CV] .................... C=1, score=0.9369369369369369, total=   0.0s\n",
      "[CV] C=1 .............................................................\n",
      "[CV] .................... C=1, score=0.9814814814814815, total=   0.0s\n",
      "[CV] C=1 .............................................................\n",
      "[CV] .................... C=1, score=0.9636363636363636, total=   0.0s\n",
      "[CV] C=1 .............................................................\n",
      "[CV] .................... C=1, score=0.9333333333333333, total=   0.0s\n",
      "[CV] C=10 ............................................................\n",
      "[CV] ................... C=10, score=0.9719626168224299, total=   0.0s\n",
      "[CV] C=10 ............................................................\n",
      "[CV] .................... C=10, score=0.972972972972973, total=   0.0s\n",
      "[CV] C=10 ............................................................\n",
      "[CV] ................... C=10, score=0.9814814814814815, total=   0.0s\n",
      "[CV] C=10 ............................................................\n",
      "[CV] ................... C=10, score=0.9724770642201834, total=   0.0s"
     ]
    },
    {
     "name": "stderr",
     "output_type": "stream",
     "text": [
      "[Parallel(n_jobs=1)]: Done   1 out of   1 | elapsed:    0.0s remaining:    0.0s\n",
      "[Parallel(n_jobs=1)]: Done   2 out of   2 | elapsed:    0.0s remaining:    0.0s\n"
     ]
    },
    {
     "name": "stdout",
     "output_type": "stream",
     "text": [
      "\n",
      "[CV] C=10 ............................................................\n",
      "[CV] ................... C=10, score=0.9333333333333333, total=   0.0s\n",
      "[CV] C=100 ...........................................................\n",
      "[CV] .................. C=100, score=0.9719626168224299, total=   0.0s\n",
      "[CV] C=100 ...........................................................\n",
      "[CV] ................... C=100, score=0.972972972972973, total=   0.0s\n",
      "[CV] C=100 ...........................................................\n",
      "[CV] .................. C=100, score=0.9906542056074767, total=   0.0s\n",
      "[CV] C=100 ...........................................................\n",
      "[CV] .................. C=100, score=0.9724770642201834, total=   0.0s\n",
      "[CV] C=100 ...........................................................\n",
      "[CV] .................. C=100, score=0.9433962264150944, total=   0.0s\n",
      "[CV] C=1000 ..........................................................\n",
      "[CV] ................. C=1000, score=0.9719626168224299, total=   0.0s\n",
      "[CV] C=1000 ..........................................................\n",
      "[CV] ................. C=1000, score=0.9636363636363636, total=   0.0s\n",
      "[CV] C=1000 ..........................................................\n",
      "[CV] ................................ C=1000, score=1.0, total=   0.0s\n",
      "[CV] C=1000 ..........................................................\n",
      "[CV] ................. C=1000, score=0.9724770642201834, total=   0.0s\n",
      "[CV] C=1000 ..........................................................\n",
      "[CV] ................. C=1000, score=0.9523809523809524, total=   0.0s\n",
      "[CV] C=10000 .........................................................\n",
      "[CV] ................ C=10000, score=0.9719626168224299, total=   0.0s\n",
      "[CV] C=10000 .........................................................\n",
      "[CV] ................. C=10000, score=0.972972972972973, total=   0.0s\n",
      "[CV] C=10000 .........................................................\n",
      "[CV] ................ C=10000, score=0.9906542056074767, total=   0.0s\n",
      "[CV] C=10000 .........................................................\n",
      "[CV] ................ C=10000, score=0.9724770642201834, total=   0.0s\n",
      "[CV] C=10000 .........................................................\n",
      "[CV] ................ C=10000, score=0.9433962264150944, total=   0.0s\n"
     ]
    },
    {
     "name": "stderr",
     "output_type": "stream",
     "text": [
      "[Parallel(n_jobs=1)]: Done  30 out of  30 | elapsed:    0.3s finished\n"
     ]
    },
    {
     "data": {
      "text/plain": [
       "GridSearchCV(cv=5, error_score='raise',\n",
       "       estimator=LogisticRegression(C=1.0, class_weight=None, dual=False, fit_intercept=True,\n",
       "          intercept_scaling=1, max_iter=100, multi_class='ovr', n_jobs=1,\n",
       "          penalty='l2', random_state=None, solver='liblinear', tol=0.0001,\n",
       "          verbose=0, warm_start=False),\n",
       "       fit_params=None, iid=True, n_jobs=1,\n",
       "       param_grid={'C': [0.1, 1, 10, 100, 1000, 10000]},\n",
       "       pre_dispatch='2*n_jobs', refit=True, return_train_score='warn',\n",
       "       scoring='f1', verbose=3)"
      ]
     },
     "execution_count": 88,
     "metadata": {},
     "output_type": "execute_result"
    }
   ],
   "source": [
    "lr_gs.fit(X_train, y_train['malignant'])"
   ]
  },
  {
   "cell_type": "code",
   "execution_count": 89,
   "metadata": {},
   "outputs": [],
   "source": [
    "lr_predictions = lr_gs.predict(X_test)"
   ]
  },
  {
   "cell_type": "code",
   "execution_count": 90,
   "metadata": {},
   "outputs": [
    {
     "name": "stdout",
     "output_type": "stream",
     "text": [
      "             precision    recall  f1-score   support\n",
      "\n",
      "          0       0.94      0.94      0.94        54\n",
      "          1       0.97      0.97      0.97        89\n",
      "\n",
      "avg / total       0.96      0.96      0.96       143\n",
      "\n"
     ]
    }
   ],
   "source": [
    "print(classification_report(y_test, lr_predictions))"
   ]
  },
  {
   "cell_type": "code",
   "execution_count": 91,
   "metadata": {},
   "outputs": [
    {
     "data": {
      "text/plain": [
       "{'C': 1000}"
      ]
     },
     "execution_count": 91,
     "metadata": {},
     "output_type": "execute_result"
    }
   ],
   "source": [
    "lr_gs.best_params_"
   ]
  },
  {
   "cell_type": "code",
   "execution_count": null,
   "metadata": {},
   "outputs": [],
   "source": []
  }
 ],
 "metadata": {
  "kernelspec": {
   "display_name": "Python 3",
   "language": "python",
   "name": "python3"
  },
  "language_info": {
   "codemirror_mode": {
    "name": "ipython",
    "version": 3
   },
   "file_extension": ".py",
   "mimetype": "text/x-python",
   "name": "python",
   "nbconvert_exporter": "python",
   "pygments_lexer": "ipython3",
   "version": "3.6.5"
  }
 },
 "nbformat": 4,
 "nbformat_minor": 2
}
