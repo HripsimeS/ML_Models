{
  "nbformat": 4,
  "nbformat_minor": 0,
  "metadata": {
    "kernelspec": {
      "display_name": "Python 3",
      "language": "python",
      "name": "python3"
    },
    "language_info": {
      "codemirror_mode": {
        "name": "ipython",
        "version": 3
      },
      "file_extension": ".py",
      "mimetype": "text/x-python",
      "name": "python",
      "nbconvert_exporter": "python",
      "pygments_lexer": "ipython3",
      "version": "3.6.8"
    },
    "colab": {
      "name": "B1.1.10 Unsupervised + dim reduction 1, teachers' sheet.ipynb",
      "provenance": [],
      "collapsed_sections": []
    }
  },
  "cells": [
    {
      "cell_type": "markdown",
      "metadata": {
        "id": "C4qjsKJ0-Ty-"
      },
      "source": [
        "Load the MNIST dataset and split it into a training set and a test set (take the first 60,000 instances for training, and the remaining 10,000 for testing). Train a Random Forest classifier on the dataset and time how long it takes, then evaluate the resulting model on the test set. Next, use PCA to reduce the dataset’s dimensionality, with an explained variance ratio of 95%. Train a new Random Forest classifier on the reduced dataset and see how long it takes. Was training much faster? Next evaluate the classifier on the test set: how does it compare to the previous classifier?"
      ]
    },
    {
      "cell_type": "markdown",
      "metadata": {
        "id": "7CpcQZdx-TzD"
      },
      "source": [
        "### 1) Load the MNIST dataset"
      ]
    },
    {
      "cell_type": "code",
      "metadata": {
        "id": "HCFl96iT-TzG",
        "colab": {
          "base_uri": "https://localhost:8080/",
          "height": 50
        },
        "outputId": "4b040105-e09e-4bd2-98b6-e97424ffc2b6"
      },
      "source": [
        "from keras.datasets import mnist\n",
        "import numpy as np\n",
        "import matplotlib.pyplot as plt\n",
        "\n",
        "(X_train, Y_train), (X_test, Y_test) = mnist.load_data()"
      ],
      "execution_count": null,
      "outputs": [
        {
          "output_type": "stream",
          "text": [
            "Downloading data from https://storage.googleapis.com/tensorflow/tf-keras-datasets/mnist.npz\n",
            "11493376/11490434 [==============================] - 0s 0us/step\n"
          ],
          "name": "stdout"
        }
      ]
    },
    {
      "cell_type": "markdown",
      "metadata": {
        "id": "29ri5ZCI-TzT"
      },
      "source": [
        "### 2) Investigate the shapes of your data"
      ]
    },
    {
      "cell_type": "code",
      "metadata": {
        "id": "sLxp7ivn-TzX",
        "colab": {
          "base_uri": "https://localhost:8080/",
          "height": 117
        },
        "outputId": "4b4840a3-755c-40c1-a8b9-3eefcff54493"
      },
      "source": [
        "num_classes = np.unique(Y_train).shape[0]\n",
        "print(\"Shape of training dataset:\", X_train.shape)\n",
        "print(\"Number of training examples:\", X_train.shape[0])\n",
        "print(\"Number of testing examples:\", X_test.shape[0])\n",
        "print(\"Number of classes:\", num_classes)\n",
        "print(\"Image shape:\", X_train[0].shape)\n",
        "print(\"Image data type:\", X_train.dtype)"
      ],
      "execution_count": null,
      "outputs": [
        {
          "output_type": "stream",
          "text": [
            "Shape of training dataset: (60000, 28, 28)\n",
            "Number of training examples: 60000\n",
            "Number of testing examples: 10000\n",
            "Number of classes: 10\n",
            "Image shape: (28, 28)\n",
            "Image data type: uint8\n"
          ],
          "name": "stdout"
        }
      ]
    },
    {
      "cell_type": "code",
      "metadata": {
        "id": "YL8DXcg8vzvm"
      },
      "source": [
        "#[[1,2],[3,4]] -> [1,2,3,4]"
      ],
      "execution_count": null,
      "outputs": []
    },
    {
      "cell_type": "markdown",
      "metadata": {
        "id": "fJC5c4Rl-Tzf"
      },
      "source": [
        "### 3) Train a Random Forest classifier on the dataset and time how long it takes, then evaluate the resulting model on the test set."
      ]
    },
    {
      "cell_type": "code",
      "metadata": {
        "id": "M6l834hl-Tzg",
        "colab": {
          "base_uri": "https://localhost:8080/",
          "height": 67
        },
        "outputId": "be69c68e-4702-4189-bfc7-238c730f34e4"
      },
      "source": [
        "from sklearn.ensemble import RandomForestClassifier\n",
        "from sklearn.metrics import accuracy_score\n",
        "import time\n",
        "\n",
        "rd_model = RandomForestClassifier()\n",
        "nsamples, nx, ny = X_train.shape\n",
        "nsamples2, _, _ = X_test.shape\n",
        "X_train_2d = X_train.reshape((nsamples,nx*ny))\n",
        "X_test_2d = X_test.reshape((nsamples2,nx*ny))\n",
        "\n",
        "start_time=time.time()\n",
        "rd_model.fit(X_train_2d,Y_train)\n",
        "end_time=time.time()\n",
        "diff_time=(end_time-start_time)\n",
        "print(\"It took %.2f ms to train the model.\" % diff_time)\n",
        "\n",
        "Y_train_pred = rd_model.predict(X_train_2d)\n",
        "Y_test_pred = rd_model.predict(X_test_2d)\n",
        "print(\"Training accuracy is:\", accuracy_score(y_pred=Y_train_pred, y_true=Y_train))\n",
        "print(\"Testing accuracy is:\", accuracy_score(y_pred=Y_test_pred, y_true=Y_test))"
      ],
      "execution_count": null,
      "outputs": [
        {
          "output_type": "stream",
          "text": [
            "It took 44.18 ms to train the model.\n",
            "Training accuracy is: 1.0\n",
            "Testing accuracy is: 0.9701\n"
          ],
          "name": "stdout"
        }
      ]
    },
    {
      "cell_type": "code",
      "metadata": {
        "id": "nwAsRgSXrvbu",
        "colab": {
          "base_uri": "https://localhost:8080/",
          "height": 33
        },
        "outputId": "a3d20713-3fa1-4d61-f7f0-d28d4c7f9838"
      },
      "source": [
        "Y_train.shape"
      ],
      "execution_count": null,
      "outputs": [
        {
          "output_type": "execute_result",
          "data": {
            "text/plain": [
              "(60000,)"
            ]
          },
          "metadata": {
            "tags": []
          },
          "execution_count": 4
        }
      ]
    },
    {
      "cell_type": "code",
      "metadata": {
        "id": "InRF5GEHsDUl",
        "colab": {
          "base_uri": "https://localhost:8080/",
          "height": 33
        },
        "outputId": "c801bdae-6fd2-4da7-b9e6-50695ed0be04"
      },
      "source": [
        "X_train.shape"
      ],
      "execution_count": null,
      "outputs": [
        {
          "output_type": "execute_result",
          "data": {
            "text/plain": [
              "(60000, 28, 28)"
            ]
          },
          "metadata": {
            "tags": []
          },
          "execution_count": 5
        }
      ]
    },
    {
      "cell_type": "markdown",
      "metadata": {
        "id": "pXNhWf2x-Tzt"
      },
      "source": [
        "### 4) Use PCA to reduce the dataset’s dimensionality, with an explained variance ratio of 95%."
      ]
    },
    {
      "cell_type": "code",
      "metadata": {
        "id": "zgjQGstu-Tzu",
        "colab": {
          "base_uri": "https://localhost:8080/",
          "height": 83
        },
        "outputId": "6d48c8c6-1329-487c-952b-59bd885a2e53"
      },
      "source": [
        "from sklearn.decomposition import PCA\n",
        "\n",
        "pca = PCA(n_components=0.95)\n",
        "\n",
        "X_train_pca = pca.fit_transform(X_train_2d)\n",
        "X_test_pca = pca.transform(X_test_2d)\n",
        "print(\"Total explained variance ratio is: %.2f\" % (sum(pca.explained_variance_ratio_)*100))\n",
        "\n",
        "\n",
        "print(X_train_2d.shape)\n",
        "print(X_train_pca.shape)\n",
        "print(X_test_pca.shape)"
      ],
      "execution_count": null,
      "outputs": [
        {
          "output_type": "stream",
          "text": [
            "Total explained variance ratio is: 95.02\n",
            "(60000, 784)\n",
            "(60000, 154)\n",
            "(10000, 154)\n"
          ],
          "name": "stdout"
        }
      ]
    },
    {
      "cell_type": "code",
      "metadata": {
        "id": "9vQEqEaq0bp7"
      },
      "source": [
        "? PCA"
      ],
      "execution_count": null,
      "outputs": []
    },
    {
      "cell_type": "markdown",
      "metadata": {
        "id": "gYFBXaXj-Tzx"
      },
      "source": [
        "### 5) Train a new Random Forest classifier on the reduced dataset and see how long it takes."
      ]
    },
    {
      "cell_type": "code",
      "metadata": {
        "id": "cokP2rOK-Tzy",
        "colab": {
          "base_uri": "https://localhost:8080/",
          "height": 67
        },
        "outputId": "4fc6ecd7-760f-4e16-b6e5-aa7e0b0da2b5"
      },
      "source": [
        "rd_model_with_pca = RandomForestClassifier() #min_impurity_decrease=0.0001)\n",
        "\n",
        "start_time=time.time()\n",
        "rd_model_with_pca.fit(X_train_pca,Y_train)\n",
        "end_time=time.time()\n",
        "diff=(end_time-start_time)\n",
        "print(\"It took %.2f ms to train the model.\" % diff)\n",
        "\n",
        "Y_train_pca_pred = rd_model_with_pca.predict(X_train_pca)\n",
        "print(\"Training accuracy is:\", accuracy_score(y_pred=Y_train_pca_pred, y_true=Y_train))\n",
        "Y_test_pca_pred = rd_model_with_pca.predict(X_test_pca)\n",
        "print(\"Testing accuracy is:\", accuracy_score(y_pred=Y_test_pca_pred, y_true=Y_test))"
      ],
      "execution_count": null,
      "outputs": [
        {
          "output_type": "stream",
          "text": [
            "It took 56263.25 ms to train the model.\n",
            "Training accuracy is: 1.0\n",
            "Training accuracy is: 0.954\n"
          ],
          "name": "stdout"
        }
      ]
    },
    {
      "cell_type": "markdown",
      "metadata": {
        "id": "RbS8_iDH-Tz0"
      },
      "source": [
        "### 6) Was training much faster?"
      ]
    },
    {
      "cell_type": "markdown",
      "metadata": {
        "id": "L7MtkYMB-Tz1"
      },
      "source": [
        "dimensionality reduction does not always lead to faster training time: it depends on the dataset, the model and the training algorithm."
      ]
    },
    {
      "cell_type": "markdown",
      "metadata": {
        "id": "F5nRIhKq-Tz2"
      },
      "source": [
        "### 7) Next evaluate the classifier on the test set: how does it compare to the previous classifier?"
      ]
    },
    {
      "cell_type": "code",
      "metadata": {
        "id": "NbU_jGUH-Tz3",
        "colab": {
          "base_uri": "https://localhost:8080/",
          "height": 33
        },
        "outputId": "dd2ce2f4-7651-4734-fc16-499a458d9cf2"
      },
      "source": [
        "Y_test_pca_pred = rd_model_with_pca.predict(X_test_pca)\n",
        "print(\"Testing accuracy is:\", accuracy_score(y_pred=Y_test_pca_pred, y_true=Y_test))"
      ],
      "execution_count": null,
      "outputs": [
        {
          "output_type": "stream",
          "text": [
            "Testing accuracy is: 0.9501\n"
          ],
          "name": "stdout"
        }
      ]
    },
    {
      "cell_type": "markdown",
      "metadata": {
        "id": "Q9Bygfso-Tz8"
      },
      "source": [
        "It is common for performance to drop slightly when reducing dimensionality, because we do lose some useful signal in the process. However, the performance drop is rather severe in this case. So PCA really did not help: it slowed down training and reduced performance."
      ]
    },
    {
      "cell_type": "markdown",
      "metadata": {
        "id": "Snmu-w7oP54O"
      },
      "source": [
        "### 8) Choose different number of features between 1 and 784 and plot:\n",
        "1. Variance explained with PCA\n",
        "2. Train & test accuracies"
      ]
    },
    {
      "cell_type": "code",
      "metadata": {
        "id": "LYuZCV6cycwz",
        "colab": {
          "base_uri": "https://localhost:8080/",
          "height": 400
        },
        "outputId": "31f0f29a-39cf-42c7-9f66-a18bf75f4aa1"
      },
      "source": [
        "train_acc_score=[]\n",
        "test_acc_score=[]\n",
        "from tqdm import tqdm\n",
        "\n",
        "for i in tqdm(list(range(10,500,50))):\n",
        "  pca = PCA(n_components = i)\n",
        "  X_train_pca = pca.fit_transform(X_train_2d)\n",
        "  X_test_pca = pca.transform(X_test_2d)\n",
        " \n",
        "  model_pca=RandomForestClassifier(random_state=0)\n",
        "  model_pca.fit(X_train_pca,Y_train)\n",
        "  y_train_pca_pred=model_pca.predict(X_train_pca)\n",
        "  train_acc_score.append(accuracy_score(Y_train,y_train_pca_pred))\n",
        "  y_test_pca_pred=model_pca.predict(X_test_pca)\n",
        "  test_acc_score.append(accuracy_score(Y_test,y_test_pca_pred))"
      ],
      "execution_count": null,
      "outputs": [
        {
          "output_type": "stream",
          "text": [
            "\n",
            "\n",
            "  0%|          | 0/10 [00:00<?, ?it/s]\u001b[A\u001b[A\n",
            "\n",
            " 10%|█         | 1/10 [00:33<04:59, 33.33s/it]\u001b[A\u001b[A\n",
            "\n",
            " 20%|██        | 2/10 [01:53<06:18, 47.32s/it]\u001b[A\u001b[A\n",
            "\n",
            " 30%|███       | 3/10 [03:40<07:37, 65.42s/it]\u001b[A\u001b[A\n",
            "\n",
            " 40%|████      | 4/10 [05:51<08:29, 84.93s/it]\u001b[A\u001b[A\n",
            "\n",
            " 50%|█████     | 5/10 [08:28<08:52, 106.58s/it]\u001b[A\u001b[A\n",
            "\n",
            " 60%|██████    | 6/10 [11:22<08:27, 126.94s/it]\u001b[A\u001b[A\n",
            "\n",
            " 70%|███████   | 7/10 [14:32<07:17, 145.82s/it]\u001b[A\u001b[A\n",
            "\n",
            " 80%|████████  | 8/10 [17:55<05:25, 162.77s/it]\u001b[A\u001b[A\n",
            "\n",
            " 90%|█████████ | 9/10 [21:46<03:03, 183.35s/it]\u001b[A\u001b[A\n",
            "\n",
            "100%|██████████| 10/10 [25:58<00:00, 155.84s/it]\n"
          ],
          "name": "stderr"
        }
      ]
    },
    {
      "cell_type": "code",
      "metadata": {
        "id": "PMSFy6KDC6wV",
        "colab": {
          "base_uri": "https://localhost:8080/",
          "height": 282
        },
        "outputId": "fd0bdacf-80f9-4b57-f180-49f2c394b9c6"
      },
      "source": [
        "#print(train_acc_score)\n",
        "#print(test_acc_score)\n",
        "plt.plot(train_acc_score)\n",
        "plt.plot(test_acc_score)\n"
      ],
      "execution_count": null,
      "outputs": [
        {
          "output_type": "execute_result",
          "data": {
            "text/plain": [
              "[<matplotlib.lines.Line2D at 0x7f468495a8d0>]"
            ]
          },
          "metadata": {
            "tags": []
          },
          "execution_count": 9
        },
        {
          "output_type": "display_data",
          "data": {
            "image/png": "[encoded data removed]",
            "text/plain": [
              "<Figure size 432x288 with 1 Axes>"
            ]
          },
          "metadata": {
            "tags": [],
            "needs_background": "light"
          }
        }
      ]
    },
    {
      "cell_type": "markdown",
      "metadata": {
        "id": "uGGXFQJlJ8Mx"
      },
      "source": [
        "### 1) Implement PCA from scratch: \n",
        "You have input data $(x_1,\\dots, x_n)$ which is $d$-dimensional and number of projections $k$, return new data and percentage of you data explained. Test your function on different data."
      ]
    },
    {
      "cell_type": "code",
      "metadata": {
        "id": "h_UZcKt9hI37"
      },
      "source": [
        "def pca_from_scratch(X,k):\n",
        "  print(\"PCA method from scratch\")\n",
        "  print(\"number of projections k:\", k)\n",
        "  X=X-np.mean(X,axis=0)\n",
        "  s, w = np.linalg.eig(X.T.dot(X))\n",
        "  idx = s.argsort()[::-1]  \n",
        "  s = s[idx]\n",
        "  w = w[:,idx]\n",
        "  X_new = X.dot(w[:,:k])\n",
        "  s=np.array(sorted(s,reverse=True))\n",
        "  explained_data=sum(abs(s[:k]))/sum(abs(s))\n",
        "  return (X_new, explained_data)"
      ],
      "execution_count": null,
      "outputs": []
    },
    {
      "cell_type": "code",
      "metadata": {
        "id": "2bqjZz0DLvdi",
        "colab": {
          "base_uri": "https://localhost:8080/",
          "height": 87
        },
        "outputId": "7744a8cd-5653-4c5e-c2c3-a6773fac7194"
      },
      "source": [
        "X = np.array([[1, 2], [1.5, 1.8], [5, 8 ], [8, 8],[1, 0.6],[9,11],[1,3],[8,9],[0,3], [5,4],[6,4]])\n",
        "x_new, explained_data = pca_from_scratch(X,1) #X_train_2d[:1000],154)\n",
        "print(X_train_2d.shape,x_new.shape,explained_data)"
      ],
      "execution_count": null,
      "outputs": [
        {
          "output_type": "stream",
          "text": [
            "PCA method from scratch\n",
            "number of projections k: 1\n",
            "[ 13.72385581 674.12614419]\n",
            "(60000, 784) (11, 1) 0.019951814798384815\n"
          ],
          "name": "stdout"
        }
      ]
    },
    {
      "cell_type": "markdown",
      "metadata": {
        "id": "MPrkOlYoKP7_"
      },
      "source": [
        "### 2) Implement K-means from scratch: \n",
        "You have input data $(x_1,\\dots, x_n)$ which is $d$-dimensional and number of clusters $k$, return clustered data. Test your function on different data."
      ]
    },
    {
      "cell_type": "code",
      "metadata": {
        "id": "adxVGei4KQxR"
      },
      "source": [
        "class K_Means:\n",
        "    def __init__(self, k=2, tol=0.001, max_iter=300):\n",
        "        self.k = k\n",
        "        self.tol = tol\n",
        "        self.max_iter = max_iter\n",
        "\n",
        "    def fit(self,data):\n",
        "\n",
        "        self.centroids = {}\n",
        "\n",
        "        for i in range(self.k):\n",
        "            self.centroids[i] = data[i]\n",
        "\n",
        "        for i in range(self.max_iter):\n",
        "            self.classifications = {}\n",
        "\n",
        "            for i in range(self.k):\n",
        "                self.classifications[i] = []\n",
        "\n",
        "            for featureset in data:\n",
        "                distances = [np.linalg.norm(featureset-self.centroids[centroid]) for centroid in self.centroids]\n",
        "                classification = distances.index(min(distances))\n",
        "                self.classifications[classification].append(featureset)\n",
        "\n",
        "            prev_centroids = dict(self.centroids)\n",
        "\n",
        "            for classification in self.classifications:\n",
        "                self.centroids[classification] = np.average(self.classifications[classification],axis=0)\n",
        "\n",
        "            optimized = True\n",
        "\n",
        "            for c in self.centroids:\n",
        "                original_centroid = prev_centroids[c]\n",
        "                current_centroid = self.centroids[c]\n",
        "                if np.sum((current_centroid-original_centroid)/original_centroid*100.0) > self.tol:\n",
        "                    print(np.sum((current_centroid-original_centroid)/original_centroid*100.0))\n",
        "                    optimized = False\n",
        "\n",
        "            if optimized:\n",
        "                break\n",
        "\n",
        "    def predict(self,data):\n",
        "        distances = [np.linalg.norm(data-self.centroids[centroid]) for centroid in self.centroids]\n",
        "        classification = distances.index(min(distances))\n",
        "        return classification"
      ],
      "execution_count": null,
      "outputs": []
    },
    {
      "cell_type": "code",
      "metadata": {
        "id": "aGXwV6YoNjhK",
        "colab": {
          "base_uri": "https://localhost:8080/",
          "height": 317
        },
        "outputId": "44a6fee4-6021-40f6-eaef-15d9a1de17a3"
      },
      "source": [
        "X = np.array([[1, 2], [1.5, 1.8], [5, 8 ], [8, 8],[1, 0.6],[9,11],[1,3],[8,9],[0,3], [5,4],[6,4]])\n",
        "colors = ['red','blue']\n",
        "clf = K_Means()\n",
        "clf.fit(X)\n",
        "\n",
        "for centroid in clf.centroids:\n",
        "    plt.scatter(clf.centroids[centroid][0], clf.centroids[centroid][1],\n",
        "                marker=\"o\", color=\"k\", s=50, linewidths=5)\n",
        "\n",
        "for classification in clf.classifications:\n",
        "    color = colors[classification]\n",
        "    for featureset in clf.classifications[classification]:\n",
        "        plt.scatter(featureset[0], featureset[1], marker=\"x\", color=color, s=50, linewidths=5)\n",
        "        \n",
        "plt.show()"
      ],
      "execution_count": null,
      "outputs": [
        {
          "output_type": "stream",
          "text": [
            "484.7222222222223\n",
            "13.0\n",
            "52.10727969348656\n"
          ],
          "name": "stdout"
        },
        {
          "output_type": "display_data",
          "data": {
            "image/png": "[encoded data removed]",
            "text/plain": [
              "<Figure size 432x288 with 1 Axes>"
            ]
          },
          "metadata": {
            "tags": []
          }
        }
      ]
    },
    {
      "cell_type": "code",
      "metadata": {
        "id": "M2eb5uu8cY2_"
      },
      "source": [
        ""
      ],
      "execution_count": null,
      "outputs": []
    }
  ]
}